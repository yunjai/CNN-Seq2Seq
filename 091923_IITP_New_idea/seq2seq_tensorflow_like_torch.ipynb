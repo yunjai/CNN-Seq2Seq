{
 "cells": [
  {
   "cell_type": "code",
   "execution_count": 1,
   "metadata": {},
   "outputs": [],
   "source": [
    "from tqdm.notebook import tqdm\n",
    "import pandas as pd\n",
    "import numpy as np\n",
    "import matplotlib.pyplot as plt\n",
    "import tqdm\n",
    "from sklearn.preprocessing import MinMaxScaler\n",
    "from sklearn.model_selection import train_test_split\n",
    "import time\n",
    "import tensorflow as tf\n",
    "from keras.callbacks import EarlyStopping, ModelCheckpoint\n",
    "from keras.models import load_model"
   ]
  },
  {
   "cell_type": "code",
   "execution_count": 2,
   "metadata": {},
   "outputs": [],
   "source": [
    "dhw_merge = pd.read_csv('dhw_merge.csv')\n",
    "elec_merge  = pd.read_csv('elec_merge.csv')\n",
    "\n",
    "dhw_merge = dhw_merge.drop(['YEAR'], axis=1)\n",
    "elec_merge = elec_merge.drop(['YEAR'], axis=1)"
   ]
  },
  {
   "attachments": {},
   "cell_type": "markdown",
   "metadata": {},
   "source": [
    "##  For Scaling"
   ]
  },
  {
   "cell_type": "code",
   "execution_count": 3,
   "metadata": {},
   "outputs": [],
   "source": [
    "dhw_X = dhw_merge.drop(['DHW'], axis=1)\n",
    "dhw_Y = dhw_merge[['DHW']]\n",
    "\n",
    "scaler_dhw = MinMaxScaler()\n",
    "scaler_dhw.fit(dhw_X)\n",
    "scaled_dhw_X = scaler_dhw.transform(dhw_X)\n",
    "\n",
    "new_dhw_X = pd.DataFrame(scaled_dhw_X, index=dhw_X.index, columns=dhw_X.columns)\n",
    "new_dhw = pd.concat([new_dhw_X, dhw_Y], axis=1)"
   ]
  },
  {
   "cell_type": "code",
   "execution_count": 4,
   "metadata": {},
   "outputs": [],
   "source": [
    "elec_X = elec_merge.drop(['ELEC'], axis=1)\n",
    "elec_Y = elec_merge[['ELEC']]\n",
    "\n",
    "scaler_elec = MinMaxScaler()\n",
    "scaler_elec.fit(elec_X)\n",
    "scaled_elec_X = scaler_elec.transform(elec_X)\n",
    "\n",
    "new_elec_X = pd.DataFrame(scaled_elec_X, index=elec_X.index, columns=elec_X.columns)\n",
    "new_elec = pd.concat([new_elec_X, elec_Y], axis=1)"
   ]
  },
  {
   "cell_type": "code",
   "execution_count": 5,
   "metadata": {},
   "outputs": [],
   "source": [
    "input_dhw = new_dhw.iloc[:-1,]\n",
    "target_dhw = new_dhw[['DHW']].iloc[1:]\n",
    "\n",
    "trainX_dhw, testX_dhw, trainY_dhw, testY_dhw = train_test_split(input_dhw,target_dhw,test_size=0.3,shuffle=False,random_state=0)"
   ]
  },
  {
   "cell_type": "code",
   "execution_count": 6,
   "metadata": {},
   "outputs": [],
   "source": [
    "input_elec = new_elec.iloc[:-1,]\n",
    "target_elec = new_elec[['ELEC']].iloc[1:]\n",
    "\n",
    "trainX_elec, testX_elec, trainY_elec, testY_elec = train_test_split(input_elec,target_elec,test_size=0.3,shuffle=False,random_state=0)"
   ]
  },
  {
   "cell_type": "code",
   "execution_count": 7,
   "metadata": {},
   "outputs": [],
   "source": [
    "def buildDataSet(input, target, seqLength):\n",
    "    xdata = []\n",
    "    ydata = []\n",
    "    for i in range(len(input) - seqLength):\n",
    "        tx = input.iloc[i:i+seqLength]\n",
    "        ty = target.iloc[i+seqLength-1]\n",
    "        xdata.append(tx)\n",
    "        ydata.append(ty)\n",
    "    return np.array(xdata), np.array(ydata)"
   ]
  },
  {
   "cell_type": "code",
   "execution_count": 8,
   "metadata": {},
   "outputs": [],
   "source": [
    "trainx_dhw, trainy_dhw = buildDataSet(trainX_dhw, trainY_dhw, 24)\n",
    "testx_dhw, testy_dhw = buildDataSet(testX_dhw, testY_dhw, 24)\n",
    "trainx_elec, trainy_elec = buildDataSet(trainX_elec, trainY_elec, 24)\n",
    "testx_elec, testy_elec = buildDataSet(testX_elec, testY_elec, 24)"
   ]
  },
  {
   "cell_type": "code",
   "execution_count": 22,
   "metadata": {},
   "outputs": [],
   "source": [
    "class Seq2SeqModel(tf.keras.models.Model):\n",
    "    def __init__(self):\n",
    "        super(Seq2SeqModel, self).__init__()\n",
    "        \n",
    "        # for feature extracting\n",
    "        self.conv1 = tf.keras.layers.Conv1D(64, 1)\n",
    "        self.pool1 = tf.keras.layers.MaxPool1D(pool_size=2, strides=1, padding='same')\n",
    "        self.conv2 = tf.keras.layers.Conv1D(32, 1)\n",
    "        self.pool2 = tf.keras.layers.MaxPool1D(pool_size=2, strides=1, padding='same')\n",
    "        self.conv3 = tf.keras.layers.Conv1D(128, 1)\n",
    "        self.pool3 = tf.keras.layers.MaxPool1D(pool_size=2, strides=1, padding='same')\n",
    "        \n",
    "        # Encoder\n",
    "        self.encoder1 = tf.keras.layers.LSTM(64, return_sequences=True, activation='tanh')\n",
    "        self.encoder2 = tf.keras.layers.LSTM(32, return_sequences=True, activation='tanh')\n",
    "        self.encoder3 = tf.keras.layers.LSTM(128, return_sequences=True, return_state=True, activation='tanh')\n",
    "        \n",
    "        # Decoder\n",
    "        self.decoder1 = tf.keras.layers.LSTM(128, return_sequences=True, activation='tanh')\n",
    "        self.decoder2 = tf.keras.layers.LSTM(32, return_sequences=True, activation='tanh')\n",
    "        self.decoder3 = tf.keras.layers.LSTM(64, return_sequences=True, activation='tanh')\n",
    "        \n",
    "        self.flatten = tf.keras.layers.Flatten()\n",
    "        self.dense = tf.keras.layers.Dense(1)\n",
    "        self.tanh = tf.keras.layers.Activation('tanh')\n",
    "        self.swish = tf.keras.layers.Activation('swish')\n",
    "\n",
    "    def call(self, x):\n",
    "        x = self.conv1(x)\n",
    "        x = self.swish(x)\n",
    "        x = self.pool1(x)\n",
    "        \n",
    "        x = self.conv2(x)\n",
    "        x = self.swish(x)\n",
    "        x = self.pool2(x)\n",
    "        \n",
    "        x = self.conv3(x)\n",
    "        x = self.swish(x)\n",
    "        x = self.pool3(x)\n",
    "        \n",
    "        x = self.encoder1(x)\n",
    "        x = self.encoder2(x)\n",
    "        x, h, c = self.encoder3(x)\n",
    "        \n",
    "        x = self.decoder1(x, initial_state=[h, c])\n",
    "        x = self.decoder2(x)\n",
    "        x = self.decoder3(x)\n",
    "        x = self.flatten(x)\n",
    "        x = self.dense(x)\n",
    "        x = self.swish(x)\n",
    "        return x"
   ]
  },
  {
   "cell_type": "code",
   "execution_count": 23,
   "metadata": {},
   "outputs": [
    {
     "name": "stdout",
     "output_type": "stream",
     "text": [
      "Model: \"seq2_seq_model_3\"\n",
      "_________________________________________________________________\n",
      " Layer (type)                Output Shape              Param #   \n",
      "=================================================================\n",
      " conv1d_9 (Conv1D)           multiple                  832       \n",
      "                                                                 \n",
      " max_pooling1d_9 (MaxPooling  multiple                 0         \n",
      " 1D)                                                             \n",
      "                                                                 \n",
      " conv1d_10 (Conv1D)          multiple                  2080      \n",
      "                                                                 \n",
      " max_pooling1d_10 (MaxPoolin  multiple                 0         \n",
      " g1D)                                                            \n",
      "                                                                 \n",
      " conv1d_11 (Conv1D)          multiple                  4224      \n",
      "                                                                 \n",
      " max_pooling1d_11 (MaxPoolin  multiple                 0         \n",
      " g1D)                                                            \n",
      "                                                                 \n",
      " lstm_18 (LSTM)              multiple                  49408     \n",
      "                                                                 \n",
      " lstm_19 (LSTM)              multiple                  12416     \n",
      "                                                                 \n",
      " lstm_20 (LSTM)              multiple                  82432     \n",
      "                                                                 \n",
      " lstm_21 (LSTM)              multiple                  131584    \n",
      "                                                                 \n",
      " lstm_22 (LSTM)              multiple                  20608     \n",
      "                                                                 \n",
      " lstm_23 (LSTM)              multiple                  24832     \n",
      "                                                                 \n",
      " flatten_3 (Flatten)         multiple                  0         \n",
      "                                                                 \n",
      " dense_3 (Dense)             multiple                  1537      \n",
      "                                                                 \n",
      " activation_5 (Activation)   multiple                  0 (unused)\n",
      "                                                                 \n",
      " activation_6 (Activation)   multiple                  0         \n",
      "                                                                 \n",
      "=================================================================\n",
      "Total params: 329,953\n",
      "Trainable params: 329,953\n",
      "Non-trainable params: 0\n",
      "_________________________________________________________________\n"
     ]
    }
   ],
   "source": [
    "model = Seq2SeqModel()\n",
    "model.build(input_shape=(1024, 24, 12))\n",
    "model.summary()"
   ]
  },
  {
   "cell_type": "code",
   "execution_count": 25,
   "metadata": {},
   "outputs": [
    {
     "name": "stdout",
     "output_type": "stream",
     "text": [
      "Epoch 1/1000\n"
     ]
    },
    {
     "name": "stdout",
     "output_type": "stream",
     "text": [
      "3/3 [==============================] - ETA: 0s - loss: 0.5906 - mae: 0.5906WARNING:tensorflow:Skipping full serialization of Keras layer <keras.layers.core.activation.Activation object at 0x000001F54945FE80>, because it is not built.\n"
     ]
    },
    {
     "name": "stderr",
     "output_type": "stream",
     "text": [
      "WARNING:absl:Found untraced functions such as _jit_compiled_convolution_op, _jit_compiled_convolution_op, _jit_compiled_convolution_op, lstm_cell_18_layer_call_fn, lstm_cell_18_layer_call_and_return_conditional_losses while saving (showing 5 of 15). These functions will not be directly callable after loading.\n"
     ]
    },
    {
     "name": "stdout",
     "output_type": "stream",
     "text": [
      "INFO:tensorflow:Assets written to: 0920_seq2seq_tensorflow\\assets\n"
     ]
    },
    {
     "name": "stderr",
     "output_type": "stream",
     "text": [
      "INFO:tensorflow:Assets written to: 0920_seq2seq_tensorflow\\assets\n"
     ]
    },
    {
     "name": "stdout",
     "output_type": "stream",
     "text": [
      "3/3 [==============================] - 12s 4s/step - loss: 0.5906 - mae: 0.5906\n",
      "Epoch 2/1000\n",
      "3/3 [==============================] - ETA: 0s - loss: 0.5612 - mae: 0.5612WARNING:tensorflow:Skipping full serialization of Keras layer <keras.layers.core.activation.Activation object at 0x000001F54945FE80>, because it is not built.\n"
     ]
    },
    {
     "name": "stderr",
     "output_type": "stream",
     "text": [
      "WARNING:tensorflow:Skipping full serialization of Keras layer <keras.layers.core.activation.Activation object at 0x000001F54945FE80>, because it is not built.\n",
      "WARNING:absl:Found untraced functions such as _jit_compiled_convolution_op, _jit_compiled_convolution_op, _jit_compiled_convolution_op, lstm_cell_18_layer_call_fn, lstm_cell_18_layer_call_and_return_conditional_losses while saving (showing 5 of 15). These functions will not be directly callable after loading.\n"
     ]
    },
    {
     "name": "stdout",
     "output_type": "stream",
     "text": [
      "INFO:tensorflow:Assets written to: 0920_seq2seq_tensorflow\\assets\n"
     ]
    },
    {
     "name": "stderr",
     "output_type": "stream",
     "text": [
      "INFO:tensorflow:Assets written to: 0920_seq2seq_tensorflow\\assets\n"
     ]
    },
    {
     "name": "stdout",
     "output_type": "stream",
     "text": [
      "3/3 [==============================] - 9s 5s/step - loss: 0.5612 - mae: 0.5612\n",
      "Epoch 3/1000\n",
      "3/3 [==============================] - ETA: 0s - loss: 0.5167 - mae: 0.5167WARNING:tensorflow:Skipping full serialization of Keras layer <keras.layers.core.activation.Activation object at 0x000001F54945FE80>, because it is not built.\n"
     ]
    },
    {
     "name": "stderr",
     "output_type": "stream",
     "text": [
      "WARNING:tensorflow:Skipping full serialization of Keras layer <keras.layers.core.activation.Activation object at 0x000001F54945FE80>, because it is not built.\n",
      "WARNING:absl:Found untraced functions such as _jit_compiled_convolution_op, _jit_compiled_convolution_op, _jit_compiled_convolution_op, lstm_cell_18_layer_call_fn, lstm_cell_18_layer_call_and_return_conditional_losses while saving (showing 5 of 15). These functions will not be directly callable after loading.\n"
     ]
    },
    {
     "name": "stdout",
     "output_type": "stream",
     "text": [
      "INFO:tensorflow:Assets written to: 0920_seq2seq_tensorflow\\assets\n"
     ]
    },
    {
     "name": "stderr",
     "output_type": "stream",
     "text": [
      "INFO:tensorflow:Assets written to: 0920_seq2seq_tensorflow\\assets\n"
     ]
    },
    {
     "name": "stdout",
     "output_type": "stream",
     "text": [
      "3/3 [==============================] - 9s 4s/step - loss: 0.5167 - mae: 0.5167\n",
      "Epoch 4/1000\n",
      "3/3 [==============================] - ETA: 0s - loss: 0.4498 - mae: 0.4498WARNING:tensorflow:Skipping full serialization of Keras layer <keras.layers.core.activation.Activation object at 0x000001F54945FE80>, because it is not built.\n"
     ]
    },
    {
     "name": "stderr",
     "output_type": "stream",
     "text": [
      "WARNING:tensorflow:Skipping full serialization of Keras layer <keras.layers.core.activation.Activation object at 0x000001F54945FE80>, because it is not built.\n",
      "WARNING:absl:Found untraced functions such as _jit_compiled_convolution_op, _jit_compiled_convolution_op, _jit_compiled_convolution_op, lstm_cell_18_layer_call_fn, lstm_cell_18_layer_call_and_return_conditional_losses while saving (showing 5 of 15). These functions will not be directly callable after loading.\n"
     ]
    },
    {
     "name": "stdout",
     "output_type": "stream",
     "text": [
      "INFO:tensorflow:Assets written to: 0920_seq2seq_tensorflow\\assets\n"
     ]
    },
    {
     "name": "stderr",
     "output_type": "stream",
     "text": [
      "INFO:tensorflow:Assets written to: 0920_seq2seq_tensorflow\\assets\n"
     ]
    },
    {
     "name": "stdout",
     "output_type": "stream",
     "text": [
      "3/3 [==============================] - 9s 4s/step - loss: 0.4498 - mae: 0.4498\n",
      "Epoch 5/1000\n",
      "3/3 [==============================] - ETA: 0s - loss: 0.3605 - mae: 0.3605WARNING:tensorflow:Skipping full serialization of Keras layer <keras.layers.core.activation.Activation object at 0x000001F54945FE80>, because it is not built.\n"
     ]
    },
    {
     "name": "stderr",
     "output_type": "stream",
     "text": [
      "WARNING:tensorflow:Skipping full serialization of Keras layer <keras.layers.core.activation.Activation object at 0x000001F54945FE80>, because it is not built.\n",
      "WARNING:absl:Found untraced functions such as _jit_compiled_convolution_op, _jit_compiled_convolution_op, _jit_compiled_convolution_op, lstm_cell_18_layer_call_fn, lstm_cell_18_layer_call_and_return_conditional_losses while saving (showing 5 of 15). These functions will not be directly callable after loading.\n"
     ]
    },
    {
     "name": "stdout",
     "output_type": "stream",
     "text": [
      "INFO:tensorflow:Assets written to: 0920_seq2seq_tensorflow\\assets\n"
     ]
    },
    {
     "name": "stderr",
     "output_type": "stream",
     "text": [
      "INFO:tensorflow:Assets written to: 0920_seq2seq_tensorflow\\assets\n"
     ]
    },
    {
     "name": "stdout",
     "output_type": "stream",
     "text": [
      "3/3 [==============================] - 9s 4s/step - loss: 0.3605 - mae: 0.3605\n",
      "Epoch 6/1000\n",
      "3/3 [==============================] - ETA: 0s - loss: 0.2923 - mae: 0.2923WARNING:tensorflow:Skipping full serialization of Keras layer <keras.layers.core.activation.Activation object at 0x000001F54945FE80>, because it is not built.\n"
     ]
    },
    {
     "name": "stderr",
     "output_type": "stream",
     "text": [
      "WARNING:tensorflow:Skipping full serialization of Keras layer <keras.layers.core.activation.Activation object at 0x000001F54945FE80>, because it is not built.\n",
      "WARNING:absl:Found untraced functions such as _jit_compiled_convolution_op, _jit_compiled_convolution_op, _jit_compiled_convolution_op, lstm_cell_18_layer_call_fn, lstm_cell_18_layer_call_and_return_conditional_losses while saving (showing 5 of 15). These functions will not be directly callable after loading.\n"
     ]
    },
    {
     "name": "stdout",
     "output_type": "stream",
     "text": [
      "INFO:tensorflow:Assets written to: 0920_seq2seq_tensorflow\\assets\n"
     ]
    },
    {
     "name": "stderr",
     "output_type": "stream",
     "text": [
      "INFO:tensorflow:Assets written to: 0920_seq2seq_tensorflow\\assets\n"
     ]
    },
    {
     "name": "stdout",
     "output_type": "stream",
     "text": [
      "3/3 [==============================] - 9s 4s/step - loss: 0.2923 - mae: 0.2923\n",
      "Epoch 7/1000\n",
      "3/3 [==============================] - 0s 60ms/step - loss: 0.3332 - mae: 0.3332\n",
      "Epoch 8/1000\n",
      "3/3 [==============================] - 0s 59ms/step - loss: 0.3070 - mae: 0.3070\n",
      "Epoch 9/1000\n",
      "3/3 [==============================] - ETA: 0s - loss: 0.2858 - mae: 0.2858WARNING:tensorflow:Skipping full serialization of Keras layer <keras.layers.core.activation.Activation object at 0x000001F54945FE80>, because it is not built.\n"
     ]
    },
    {
     "name": "stderr",
     "output_type": "stream",
     "text": [
      "WARNING:tensorflow:Skipping full serialization of Keras layer <keras.layers.core.activation.Activation object at 0x000001F54945FE80>, because it is not built.\n",
      "WARNING:absl:Found untraced functions such as _jit_compiled_convolution_op, _jit_compiled_convolution_op, _jit_compiled_convolution_op, lstm_cell_18_layer_call_fn, lstm_cell_18_layer_call_and_return_conditional_losses while saving (showing 5 of 15). These functions will not be directly callable after loading.\n"
     ]
    },
    {
     "name": "stdout",
     "output_type": "stream",
     "text": [
      "INFO:tensorflow:Assets written to: 0920_seq2seq_tensorflow\\assets\n"
     ]
    },
    {
     "name": "stderr",
     "output_type": "stream",
     "text": [
      "INFO:tensorflow:Assets written to: 0920_seq2seq_tensorflow\\assets\n"
     ]
    },
    {
     "name": "stdout",
     "output_type": "stream",
     "text": [
      "3/3 [==============================] - 9s 5s/step - loss: 0.2858 - mae: 0.2858\n",
      "Epoch 10/1000\n",
      "3/3 [==============================] - 0s 59ms/step - loss: 0.2928 - mae: 0.2928\n",
      "Epoch 11/1000\n",
      "3/3 [==============================] - 0s 63ms/step - loss: 0.2964 - mae: 0.2964\n",
      "Epoch 12/1000\n",
      "3/3 [==============================] - 0s 57ms/step - loss: 0.2906 - mae: 0.2906\n",
      "Epoch 13/1000\n",
      "3/3 [==============================] - ETA: 0s - loss: 0.2825 - mae: 0.2825WARNING:tensorflow:Skipping full serialization of Keras layer <keras.layers.core.activation.Activation object at 0x000001F54945FE80>, because it is not built.\n"
     ]
    },
    {
     "name": "stderr",
     "output_type": "stream",
     "text": [
      "WARNING:tensorflow:Skipping full serialization of Keras layer <keras.layers.core.activation.Activation object at 0x000001F54945FE80>, because it is not built.\n",
      "WARNING:absl:Found untraced functions such as _jit_compiled_convolution_op, _jit_compiled_convolution_op, _jit_compiled_convolution_op, lstm_cell_18_layer_call_fn, lstm_cell_18_layer_call_and_return_conditional_losses while saving (showing 5 of 15). These functions will not be directly callable after loading.\n"
     ]
    },
    {
     "name": "stdout",
     "output_type": "stream",
     "text": [
      "INFO:tensorflow:Assets written to: 0920_seq2seq_tensorflow\\assets\n"
     ]
    },
    {
     "name": "stderr",
     "output_type": "stream",
     "text": [
      "INFO:tensorflow:Assets written to: 0920_seq2seq_tensorflow\\assets\n"
     ]
    },
    {
     "name": "stdout",
     "output_type": "stream",
     "text": [
      "3/3 [==============================] - 9s 4s/step - loss: 0.2825 - mae: 0.2825\n",
      "Epoch 14/1000\n",
      "3/3 [==============================] - ETA: 0s - loss: 0.2802 - mae: 0.2802WARNING:tensorflow:Skipping full serialization of Keras layer <keras.layers.core.activation.Activation object at 0x000001F54945FE80>, because it is not built.\n"
     ]
    },
    {
     "name": "stderr",
     "output_type": "stream",
     "text": [
      "WARNING:tensorflow:Skipping full serialization of Keras layer <keras.layers.core.activation.Activation object at 0x000001F54945FE80>, because it is not built.\n",
      "WARNING:absl:Found untraced functions such as _jit_compiled_convolution_op, _jit_compiled_convolution_op, _jit_compiled_convolution_op, lstm_cell_18_layer_call_fn, lstm_cell_18_layer_call_and_return_conditional_losses while saving (showing 5 of 15). These functions will not be directly callable after loading.\n"
     ]
    },
    {
     "name": "stdout",
     "output_type": "stream",
     "text": [
      "INFO:tensorflow:Assets written to: 0920_seq2seq_tensorflow\\assets\n"
     ]
    },
    {
     "name": "stderr",
     "output_type": "stream",
     "text": [
      "INFO:tensorflow:Assets written to: 0920_seq2seq_tensorflow\\assets\n"
     ]
    },
    {
     "name": "stdout",
     "output_type": "stream",
     "text": [
      "3/3 [==============================] - 9s 5s/step - loss: 0.2802 - mae: 0.2802\n",
      "Epoch 15/1000\n",
      "3/3 [==============================] - 0s 60ms/step - loss: 0.2822 - mae: 0.2822\n",
      "Epoch 16/1000\n",
      "3/3 [==============================] - 0s 60ms/step - loss: 0.2802 - mae: 0.2802\n",
      "Epoch 17/1000\n",
      "3/3 [==============================] - ETA: 0s - loss: 0.2768 - mae: 0.2768WARNING:tensorflow:Skipping full serialization of Keras layer <keras.layers.core.activation.Activation object at 0x000001F54945FE80>, because it is not built.\n"
     ]
    },
    {
     "name": "stderr",
     "output_type": "stream",
     "text": [
      "WARNING:tensorflow:Skipping full serialization of Keras layer <keras.layers.core.activation.Activation object at 0x000001F54945FE80>, because it is not built.\n",
      "WARNING:absl:Found untraced functions such as _jit_compiled_convolution_op, _jit_compiled_convolution_op, _jit_compiled_convolution_op, lstm_cell_18_layer_call_fn, lstm_cell_18_layer_call_and_return_conditional_losses while saving (showing 5 of 15). These functions will not be directly callable after loading.\n"
     ]
    },
    {
     "name": "stdout",
     "output_type": "stream",
     "text": [
      "INFO:tensorflow:Assets written to: 0920_seq2seq_tensorflow\\assets\n"
     ]
    },
    {
     "name": "stderr",
     "output_type": "stream",
     "text": [
      "INFO:tensorflow:Assets written to: 0920_seq2seq_tensorflow\\assets\n"
     ]
    },
    {
     "name": "stdout",
     "output_type": "stream",
     "text": [
      "3/3 [==============================] - 9s 4s/step - loss: 0.2768 - mae: 0.2768\n",
      "Epoch 18/1000\n",
      "3/3 [==============================] - ETA: 0s - loss: 0.2761 - mae: 0.2761WARNING:tensorflow:Skipping full serialization of Keras layer <keras.layers.core.activation.Activation object at 0x000001F54945FE80>, because it is not built.\n"
     ]
    },
    {
     "name": "stderr",
     "output_type": "stream",
     "text": [
      "WARNING:tensorflow:Skipping full serialization of Keras layer <keras.layers.core.activation.Activation object at 0x000001F54945FE80>, because it is not built.\n",
      "WARNING:absl:Found untraced functions such as _jit_compiled_convolution_op, _jit_compiled_convolution_op, _jit_compiled_convolution_op, lstm_cell_18_layer_call_fn, lstm_cell_18_layer_call_and_return_conditional_losses while saving (showing 5 of 15). These functions will not be directly callable after loading.\n"
     ]
    },
    {
     "name": "stdout",
     "output_type": "stream",
     "text": [
      "INFO:tensorflow:Assets written to: 0920_seq2seq_tensorflow\\assets\n"
     ]
    },
    {
     "name": "stderr",
     "output_type": "stream",
     "text": [
      "INFO:tensorflow:Assets written to: 0920_seq2seq_tensorflow\\assets\n"
     ]
    },
    {
     "name": "stdout",
     "output_type": "stream",
     "text": [
      "3/3 [==============================] - 9s 4s/step - loss: 0.2761 - mae: 0.2761\n",
      "Epoch 19/1000\n",
      "3/3 [==============================] - ETA: 0s - loss: 0.2754 - mae: 0.2754WARNING:tensorflow:Skipping full serialization of Keras layer <keras.layers.core.activation.Activation object at 0x000001F54945FE80>, because it is not built.\n"
     ]
    },
    {
     "name": "stderr",
     "output_type": "stream",
     "text": [
      "WARNING:tensorflow:Skipping full serialization of Keras layer <keras.layers.core.activation.Activation object at 0x000001F54945FE80>, because it is not built.\n",
      "WARNING:absl:Found untraced functions such as _jit_compiled_convolution_op, _jit_compiled_convolution_op, _jit_compiled_convolution_op, lstm_cell_18_layer_call_fn, lstm_cell_18_layer_call_and_return_conditional_losses while saving (showing 5 of 15). These functions will not be directly callable after loading.\n"
     ]
    },
    {
     "name": "stdout",
     "output_type": "stream",
     "text": [
      "INFO:tensorflow:Assets written to: 0920_seq2seq_tensorflow\\assets\n"
     ]
    },
    {
     "name": "stderr",
     "output_type": "stream",
     "text": [
      "INFO:tensorflow:Assets written to: 0920_seq2seq_tensorflow\\assets\n"
     ]
    },
    {
     "name": "stdout",
     "output_type": "stream",
     "text": [
      "3/3 [==============================] - 9s 5s/step - loss: 0.2754 - mae: 0.2754\n",
      "Epoch 20/1000\n",
      "3/3 [==============================] - ETA: 0s - loss: 0.2734 - mae: 0.2734WARNING:tensorflow:Skipping full serialization of Keras layer <keras.layers.core.activation.Activation object at 0x000001F54945FE80>, because it is not built.\n"
     ]
    },
    {
     "name": "stderr",
     "output_type": "stream",
     "text": [
      "WARNING:tensorflow:Skipping full serialization of Keras layer <keras.layers.core.activation.Activation object at 0x000001F54945FE80>, because it is not built.\n",
      "WARNING:absl:Found untraced functions such as _jit_compiled_convolution_op, _jit_compiled_convolution_op, _jit_compiled_convolution_op, lstm_cell_18_layer_call_fn, lstm_cell_18_layer_call_and_return_conditional_losses while saving (showing 5 of 15). These functions will not be directly callable after loading.\n"
     ]
    },
    {
     "name": "stdout",
     "output_type": "stream",
     "text": [
      "INFO:tensorflow:Assets written to: 0920_seq2seq_tensorflow\\assets\n"
     ]
    },
    {
     "name": "stderr",
     "output_type": "stream",
     "text": [
      "INFO:tensorflow:Assets written to: 0920_seq2seq_tensorflow\\assets\n"
     ]
    },
    {
     "name": "stdout",
     "output_type": "stream",
     "text": [
      "3/3 [==============================] - 10s 5s/step - loss: 0.2734 - mae: 0.2734\n",
      "Epoch 21/1000\n",
      "3/3 [==============================] - ETA: 0s - loss: 0.2711 - mae: 0.2711WARNING:tensorflow:Skipping full serialization of Keras layer <keras.layers.core.activation.Activation object at 0x000001F54945FE80>, because it is not built.\n"
     ]
    },
    {
     "name": "stderr",
     "output_type": "stream",
     "text": [
      "WARNING:tensorflow:Skipping full serialization of Keras layer <keras.layers.core.activation.Activation object at 0x000001F54945FE80>, because it is not built.\n",
      "WARNING:absl:Found untraced functions such as _jit_compiled_convolution_op, _jit_compiled_convolution_op, _jit_compiled_convolution_op, lstm_cell_18_layer_call_fn, lstm_cell_18_layer_call_and_return_conditional_losses while saving (showing 5 of 15). These functions will not be directly callable after loading.\n"
     ]
    },
    {
     "name": "stdout",
     "output_type": "stream",
     "text": [
      "INFO:tensorflow:Assets written to: 0920_seq2seq_tensorflow\\assets\n"
     ]
    },
    {
     "name": "stderr",
     "output_type": "stream",
     "text": [
      "INFO:tensorflow:Assets written to: 0920_seq2seq_tensorflow\\assets\n"
     ]
    },
    {
     "name": "stdout",
     "output_type": "stream",
     "text": [
      "3/3 [==============================] - 9s 4s/step - loss: 0.2711 - mae: 0.2711\n",
      "Epoch 22/1000\n",
      "3/3 [==============================] - ETA: 0s - loss: 0.2699 - mae: 0.2699WARNING:tensorflow:Skipping full serialization of Keras layer <keras.layers.core.activation.Activation object at 0x000001F54945FE80>, because it is not built.\n"
     ]
    },
    {
     "name": "stderr",
     "output_type": "stream",
     "text": [
      "WARNING:tensorflow:Skipping full serialization of Keras layer <keras.layers.core.activation.Activation object at 0x000001F54945FE80>, because it is not built.\n",
      "WARNING:absl:Found untraced functions such as _jit_compiled_convolution_op, _jit_compiled_convolution_op, _jit_compiled_convolution_op, lstm_cell_18_layer_call_fn, lstm_cell_18_layer_call_and_return_conditional_losses while saving (showing 5 of 15). These functions will not be directly callable after loading.\n"
     ]
    },
    {
     "name": "stdout",
     "output_type": "stream",
     "text": [
      "INFO:tensorflow:Assets written to: 0920_seq2seq_tensorflow\\assets\n"
     ]
    },
    {
     "name": "stderr",
     "output_type": "stream",
     "text": [
      "INFO:tensorflow:Assets written to: 0920_seq2seq_tensorflow\\assets\n"
     ]
    },
    {
     "name": "stdout",
     "output_type": "stream",
     "text": [
      "3/3 [==============================] - 9s 5s/step - loss: 0.2699 - mae: 0.2699\n",
      "Epoch 23/1000\n",
      "3/3 [==============================] - ETA: 0s - loss: 0.2680 - mae: 0.2680WARNING:tensorflow:Skipping full serialization of Keras layer <keras.layers.core.activation.Activation object at 0x000001F54945FE80>, because it is not built.\n"
     ]
    },
    {
     "name": "stderr",
     "output_type": "stream",
     "text": [
      "WARNING:tensorflow:Skipping full serialization of Keras layer <keras.layers.core.activation.Activation object at 0x000001F54945FE80>, because it is not built.\n",
      "WARNING:absl:Found untraced functions such as _jit_compiled_convolution_op, _jit_compiled_convolution_op, _jit_compiled_convolution_op, lstm_cell_18_layer_call_fn, lstm_cell_18_layer_call_and_return_conditional_losses while saving (showing 5 of 15). These functions will not be directly callable after loading.\n"
     ]
    },
    {
     "name": "stdout",
     "output_type": "stream",
     "text": [
      "INFO:tensorflow:Assets written to: 0920_seq2seq_tensorflow\\assets\n"
     ]
    },
    {
     "name": "stderr",
     "output_type": "stream",
     "text": [
      "INFO:tensorflow:Assets written to: 0920_seq2seq_tensorflow\\assets\n"
     ]
    },
    {
     "name": "stdout",
     "output_type": "stream",
     "text": [
      "3/3 [==============================] - 9s 5s/step - loss: 0.2680 - mae: 0.2680\n",
      "Epoch 24/1000\n",
      "3/3 [==============================] - ETA: 0s - loss: 0.2658 - mae: 0.2658WARNING:tensorflow:Skipping full serialization of Keras layer <keras.layers.core.activation.Activation object at 0x000001F54945FE80>, because it is not built.\n"
     ]
    },
    {
     "name": "stderr",
     "output_type": "stream",
     "text": [
      "WARNING:tensorflow:Skipping full serialization of Keras layer <keras.layers.core.activation.Activation object at 0x000001F54945FE80>, because it is not built.\n",
      "WARNING:absl:Found untraced functions such as _jit_compiled_convolution_op, _jit_compiled_convolution_op, _jit_compiled_convolution_op, lstm_cell_18_layer_call_fn, lstm_cell_18_layer_call_and_return_conditional_losses while saving (showing 5 of 15). These functions will not be directly callable after loading.\n"
     ]
    },
    {
     "name": "stdout",
     "output_type": "stream",
     "text": [
      "INFO:tensorflow:Assets written to: 0920_seq2seq_tensorflow\\assets\n"
     ]
    },
    {
     "name": "stderr",
     "output_type": "stream",
     "text": [
      "INFO:tensorflow:Assets written to: 0920_seq2seq_tensorflow\\assets\n"
     ]
    },
    {
     "name": "stdout",
     "output_type": "stream",
     "text": [
      "3/3 [==============================] - 9s 4s/step - loss: 0.2658 - mae: 0.2658\n",
      "Epoch 25/1000\n",
      "3/3 [==============================] - ETA: 0s - loss: 0.2638 - mae: 0.2638WARNING:tensorflow:Skipping full serialization of Keras layer <keras.layers.core.activation.Activation object at 0x000001F54945FE80>, because it is not built.\n"
     ]
    },
    {
     "name": "stderr",
     "output_type": "stream",
     "text": [
      "WARNING:tensorflow:Skipping full serialization of Keras layer <keras.layers.core.activation.Activation object at 0x000001F54945FE80>, because it is not built.\n",
      "WARNING:absl:Found untraced functions such as _jit_compiled_convolution_op, _jit_compiled_convolution_op, _jit_compiled_convolution_op, lstm_cell_18_layer_call_fn, lstm_cell_18_layer_call_and_return_conditional_losses while saving (showing 5 of 15). These functions will not be directly callable after loading.\n"
     ]
    },
    {
     "name": "stdout",
     "output_type": "stream",
     "text": [
      "INFO:tensorflow:Assets written to: 0920_seq2seq_tensorflow\\assets\n"
     ]
    },
    {
     "name": "stderr",
     "output_type": "stream",
     "text": [
      "INFO:tensorflow:Assets written to: 0920_seq2seq_tensorflow\\assets\n"
     ]
    },
    {
     "name": "stdout",
     "output_type": "stream",
     "text": [
      "3/3 [==============================] - 10s 5s/step - loss: 0.2638 - mae: 0.2638\n",
      "Epoch 26/1000\n",
      "3/3 [==============================] - ETA: 0s - loss: 0.2617 - mae: 0.2617WARNING:tensorflow:Skipping full serialization of Keras layer <keras.layers.core.activation.Activation object at 0x000001F54945FE80>, because it is not built.\n"
     ]
    },
    {
     "name": "stderr",
     "output_type": "stream",
     "text": [
      "WARNING:tensorflow:Skipping full serialization of Keras layer <keras.layers.core.activation.Activation object at 0x000001F54945FE80>, because it is not built.\n",
      "WARNING:absl:Found untraced functions such as _jit_compiled_convolution_op, _jit_compiled_convolution_op, _jit_compiled_convolution_op, lstm_cell_18_layer_call_fn, lstm_cell_18_layer_call_and_return_conditional_losses while saving (showing 5 of 15). These functions will not be directly callable after loading.\n"
     ]
    },
    {
     "name": "stdout",
     "output_type": "stream",
     "text": [
      "INFO:tensorflow:Assets written to: 0920_seq2seq_tensorflow\\assets\n"
     ]
    },
    {
     "name": "stderr",
     "output_type": "stream",
     "text": [
      "INFO:tensorflow:Assets written to: 0920_seq2seq_tensorflow\\assets\n"
     ]
    },
    {
     "name": "stdout",
     "output_type": "stream",
     "text": [
      "3/3 [==============================] - 9s 4s/step - loss: 0.2617 - mae: 0.2617\n",
      "Epoch 27/1000\n",
      "3/3 [==============================] - ETA: 0s - loss: 0.2591 - mae: 0.2591WARNING:tensorflow:Skipping full serialization of Keras layer <keras.layers.core.activation.Activation object at 0x000001F54945FE80>, because it is not built.\n"
     ]
    },
    {
     "name": "stderr",
     "output_type": "stream",
     "text": [
      "WARNING:tensorflow:Skipping full serialization of Keras layer <keras.layers.core.activation.Activation object at 0x000001F54945FE80>, because it is not built.\n",
      "WARNING:absl:Found untraced functions such as _jit_compiled_convolution_op, _jit_compiled_convolution_op, _jit_compiled_convolution_op, lstm_cell_18_layer_call_fn, lstm_cell_18_layer_call_and_return_conditional_losses while saving (showing 5 of 15). These functions will not be directly callable after loading.\n"
     ]
    },
    {
     "name": "stdout",
     "output_type": "stream",
     "text": [
      "INFO:tensorflow:Assets written to: 0920_seq2seq_tensorflow\\assets\n"
     ]
    },
    {
     "name": "stderr",
     "output_type": "stream",
     "text": [
      "INFO:tensorflow:Assets written to: 0920_seq2seq_tensorflow\\assets\n"
     ]
    },
    {
     "name": "stdout",
     "output_type": "stream",
     "text": [
      "3/3 [==============================] - 9s 5s/step - loss: 0.2591 - mae: 0.2591\n",
      "Epoch 28/1000\n",
      "3/3 [==============================] - ETA: 0s - loss: 0.2565 - mae: 0.2565WARNING:tensorflow:Skipping full serialization of Keras layer <keras.layers.core.activation.Activation object at 0x000001F54945FE80>, because it is not built.\n"
     ]
    },
    {
     "name": "stderr",
     "output_type": "stream",
     "text": [
      "WARNING:tensorflow:Skipping full serialization of Keras layer <keras.layers.core.activation.Activation object at 0x000001F54945FE80>, because it is not built.\n",
      "WARNING:absl:Found untraced functions such as _jit_compiled_convolution_op, _jit_compiled_convolution_op, _jit_compiled_convolution_op, lstm_cell_18_layer_call_fn, lstm_cell_18_layer_call_and_return_conditional_losses while saving (showing 5 of 15). These functions will not be directly callable after loading.\n"
     ]
    },
    {
     "name": "stdout",
     "output_type": "stream",
     "text": [
      "INFO:tensorflow:Assets written to: 0920_seq2seq_tensorflow\\assets\n"
     ]
    },
    {
     "name": "stderr",
     "output_type": "stream",
     "text": [
      "INFO:tensorflow:Assets written to: 0920_seq2seq_tensorflow\\assets\n"
     ]
    },
    {
     "name": "stdout",
     "output_type": "stream",
     "text": [
      "3/3 [==============================] - 9s 5s/step - loss: 0.2565 - mae: 0.2565\n",
      "Epoch 29/1000\n",
      "3/3 [==============================] - ETA: 0s - loss: 0.2534 - mae: 0.2534WARNING:tensorflow:Skipping full serialization of Keras layer <keras.layers.core.activation.Activation object at 0x000001F54945FE80>, because it is not built.\n"
     ]
    },
    {
     "name": "stderr",
     "output_type": "stream",
     "text": [
      "WARNING:tensorflow:Skipping full serialization of Keras layer <keras.layers.core.activation.Activation object at 0x000001F54945FE80>, because it is not built.\n",
      "WARNING:absl:Found untraced functions such as _jit_compiled_convolution_op, _jit_compiled_convolution_op, _jit_compiled_convolution_op, lstm_cell_18_layer_call_fn, lstm_cell_18_layer_call_and_return_conditional_losses while saving (showing 5 of 15). These functions will not be directly callable after loading.\n"
     ]
    },
    {
     "name": "stdout",
     "output_type": "stream",
     "text": [
      "INFO:tensorflow:Assets written to: 0920_seq2seq_tensorflow\\assets\n"
     ]
    },
    {
     "name": "stderr",
     "output_type": "stream",
     "text": [
      "INFO:tensorflow:Assets written to: 0920_seq2seq_tensorflow\\assets\n"
     ]
    },
    {
     "name": "stdout",
     "output_type": "stream",
     "text": [
      "3/3 [==============================] - 8s 4s/step - loss: 0.2534 - mae: 0.2534\n",
      "Epoch 30/1000\n",
      "3/3 [==============================] - ETA: 0s - loss: 0.2504 - mae: 0.2504WARNING:tensorflow:Skipping full serialization of Keras layer <keras.layers.core.activation.Activation object at 0x000001F54945FE80>, because it is not built.\n"
     ]
    },
    {
     "name": "stderr",
     "output_type": "stream",
     "text": [
      "WARNING:tensorflow:Skipping full serialization of Keras layer <keras.layers.core.activation.Activation object at 0x000001F54945FE80>, because it is not built.\n",
      "WARNING:absl:Found untraced functions such as _jit_compiled_convolution_op, _jit_compiled_convolution_op, _jit_compiled_convolution_op, lstm_cell_18_layer_call_fn, lstm_cell_18_layer_call_and_return_conditional_losses while saving (showing 5 of 15). These functions will not be directly callable after loading.\n"
     ]
    },
    {
     "name": "stdout",
     "output_type": "stream",
     "text": [
      "INFO:tensorflow:Assets written to: 0920_seq2seq_tensorflow\\assets\n"
     ]
    },
    {
     "name": "stderr",
     "output_type": "stream",
     "text": [
      "INFO:tensorflow:Assets written to: 0920_seq2seq_tensorflow\\assets\n"
     ]
    },
    {
     "name": "stdout",
     "output_type": "stream",
     "text": [
      "3/3 [==============================] - 10s 5s/step - loss: 0.2504 - mae: 0.2504\n",
      "Epoch 31/1000\n",
      "3/3 [==============================] - ETA: 0s - loss: 0.2471 - mae: 0.2471WARNING:tensorflow:Skipping full serialization of Keras layer <keras.layers.core.activation.Activation object at 0x000001F54945FE80>, because it is not built.\n"
     ]
    },
    {
     "name": "stderr",
     "output_type": "stream",
     "text": [
      "WARNING:tensorflow:Skipping full serialization of Keras layer <keras.layers.core.activation.Activation object at 0x000001F54945FE80>, because it is not built.\n",
      "WARNING:absl:Found untraced functions such as _jit_compiled_convolution_op, _jit_compiled_convolution_op, _jit_compiled_convolution_op, lstm_cell_18_layer_call_fn, lstm_cell_18_layer_call_and_return_conditional_losses while saving (showing 5 of 15). These functions will not be directly callable after loading.\n"
     ]
    },
    {
     "name": "stdout",
     "output_type": "stream",
     "text": [
      "INFO:tensorflow:Assets written to: 0920_seq2seq_tensorflow\\assets\n"
     ]
    },
    {
     "name": "stderr",
     "output_type": "stream",
     "text": [
      "INFO:tensorflow:Assets written to: 0920_seq2seq_tensorflow\\assets\n"
     ]
    },
    {
     "name": "stdout",
     "output_type": "stream",
     "text": [
      "3/3 [==============================] - 8s 4s/step - loss: 0.2471 - mae: 0.2471\n",
      "Epoch 32/1000\n",
      "3/3 [==============================] - ETA: 0s - loss: 0.2435 - mae: 0.2435WARNING:tensorflow:Skipping full serialization of Keras layer <keras.layers.core.activation.Activation object at 0x000001F54945FE80>, because it is not built.\n"
     ]
    },
    {
     "name": "stderr",
     "output_type": "stream",
     "text": [
      "WARNING:tensorflow:Skipping full serialization of Keras layer <keras.layers.core.activation.Activation object at 0x000001F54945FE80>, because it is not built.\n",
      "WARNING:absl:Found untraced functions such as _jit_compiled_convolution_op, _jit_compiled_convolution_op, _jit_compiled_convolution_op, lstm_cell_18_layer_call_fn, lstm_cell_18_layer_call_and_return_conditional_losses while saving (showing 5 of 15). These functions will not be directly callable after loading.\n"
     ]
    },
    {
     "name": "stdout",
     "output_type": "stream",
     "text": [
      "INFO:tensorflow:Assets written to: 0920_seq2seq_tensorflow\\assets\n"
     ]
    },
    {
     "name": "stderr",
     "output_type": "stream",
     "text": [
      "INFO:tensorflow:Assets written to: 0920_seq2seq_tensorflow\\assets\n"
     ]
    },
    {
     "name": "stdout",
     "output_type": "stream",
     "text": [
      "3/3 [==============================] - 10s 5s/step - loss: 0.2435 - mae: 0.2435\n",
      "Epoch 33/1000\n",
      "3/3 [==============================] - ETA: 0s - loss: 0.2398 - mae: 0.2398WARNING:tensorflow:Skipping full serialization of Keras layer <keras.layers.core.activation.Activation object at 0x000001F54945FE80>, because it is not built.\n"
     ]
    },
    {
     "name": "stderr",
     "output_type": "stream",
     "text": [
      "WARNING:tensorflow:Skipping full serialization of Keras layer <keras.layers.core.activation.Activation object at 0x000001F54945FE80>, because it is not built.\n",
      "WARNING:absl:Found untraced functions such as _jit_compiled_convolution_op, _jit_compiled_convolution_op, _jit_compiled_convolution_op, lstm_cell_18_layer_call_fn, lstm_cell_18_layer_call_and_return_conditional_losses while saving (showing 5 of 15). These functions will not be directly callable after loading.\n"
     ]
    },
    {
     "name": "stdout",
     "output_type": "stream",
     "text": [
      "INFO:tensorflow:Assets written to: 0920_seq2seq_tensorflow\\assets\n"
     ]
    },
    {
     "name": "stderr",
     "output_type": "stream",
     "text": [
      "INFO:tensorflow:Assets written to: 0920_seq2seq_tensorflow\\assets\n"
     ]
    },
    {
     "name": "stdout",
     "output_type": "stream",
     "text": [
      "3/3 [==============================] - 8s 4s/step - loss: 0.2398 - mae: 0.2398\n",
      "Epoch 34/1000\n",
      "3/3 [==============================] - ETA: 0s - loss: 0.2368 - mae: 0.2368WARNING:tensorflow:Skipping full serialization of Keras layer <keras.layers.core.activation.Activation object at 0x000001F54945FE80>, because it is not built.\n"
     ]
    },
    {
     "name": "stderr",
     "output_type": "stream",
     "text": [
      "WARNING:tensorflow:Skipping full serialization of Keras layer <keras.layers.core.activation.Activation object at 0x000001F54945FE80>, because it is not built.\n",
      "WARNING:absl:Found untraced functions such as _jit_compiled_convolution_op, _jit_compiled_convolution_op, _jit_compiled_convolution_op, lstm_cell_18_layer_call_fn, lstm_cell_18_layer_call_and_return_conditional_losses while saving (showing 5 of 15). These functions will not be directly callable after loading.\n"
     ]
    },
    {
     "name": "stdout",
     "output_type": "stream",
     "text": [
      "INFO:tensorflow:Assets written to: 0920_seq2seq_tensorflow\\assets\n"
     ]
    },
    {
     "name": "stderr",
     "output_type": "stream",
     "text": [
      "INFO:tensorflow:Assets written to: 0920_seq2seq_tensorflow\\assets\n"
     ]
    },
    {
     "name": "stdout",
     "output_type": "stream",
     "text": [
      "3/3 [==============================] - 10s 5s/step - loss: 0.2368 - mae: 0.2368\n",
      "Epoch 35/1000\n",
      "3/3 [==============================] - ETA: 0s - loss: 0.2337 - mae: 0.2337WARNING:tensorflow:Skipping full serialization of Keras layer <keras.layers.core.activation.Activation object at 0x000001F54945FE80>, because it is not built.\n"
     ]
    },
    {
     "name": "stderr",
     "output_type": "stream",
     "text": [
      "WARNING:tensorflow:Skipping full serialization of Keras layer <keras.layers.core.activation.Activation object at 0x000001F54945FE80>, because it is not built.\n",
      "WARNING:absl:Found untraced functions such as _jit_compiled_convolution_op, _jit_compiled_convolution_op, _jit_compiled_convolution_op, lstm_cell_18_layer_call_fn, lstm_cell_18_layer_call_and_return_conditional_losses while saving (showing 5 of 15). These functions will not be directly callable after loading.\n"
     ]
    },
    {
     "name": "stdout",
     "output_type": "stream",
     "text": [
      "INFO:tensorflow:Assets written to: 0920_seq2seq_tensorflow\\assets\n"
     ]
    },
    {
     "name": "stderr",
     "output_type": "stream",
     "text": [
      "INFO:tensorflow:Assets written to: 0920_seq2seq_tensorflow\\assets\n"
     ]
    },
    {
     "name": "stdout",
     "output_type": "stream",
     "text": [
      "3/3 [==============================] - 8s 4s/step - loss: 0.2337 - mae: 0.2337\n",
      "Epoch 36/1000\n",
      "3/3 [==============================] - ETA: 0s - loss: 0.2316 - mae: 0.2316WARNING:tensorflow:Skipping full serialization of Keras layer <keras.layers.core.activation.Activation object at 0x000001F54945FE80>, because it is not built.\n"
     ]
    },
    {
     "name": "stderr",
     "output_type": "stream",
     "text": [
      "WARNING:tensorflow:Skipping full serialization of Keras layer <keras.layers.core.activation.Activation object at 0x000001F54945FE80>, because it is not built.\n",
      "WARNING:absl:Found untraced functions such as _jit_compiled_convolution_op, _jit_compiled_convolution_op, _jit_compiled_convolution_op, lstm_cell_18_layer_call_fn, lstm_cell_18_layer_call_and_return_conditional_losses while saving (showing 5 of 15). These functions will not be directly callable after loading.\n"
     ]
    },
    {
     "name": "stdout",
     "output_type": "stream",
     "text": [
      "INFO:tensorflow:Assets written to: 0920_seq2seq_tensorflow\\assets\n"
     ]
    },
    {
     "name": "stderr",
     "output_type": "stream",
     "text": [
      "INFO:tensorflow:Assets written to: 0920_seq2seq_tensorflow\\assets\n"
     ]
    },
    {
     "name": "stdout",
     "output_type": "stream",
     "text": [
      "3/3 [==============================] - 9s 4s/step - loss: 0.2316 - mae: 0.2316\n",
      "Epoch 37/1000\n",
      "3/3 [==============================] - ETA: 0s - loss: 0.2300 - mae: 0.2300WARNING:tensorflow:Skipping full serialization of Keras layer <keras.layers.core.activation.Activation object at 0x000001F54945FE80>, because it is not built.\n"
     ]
    },
    {
     "name": "stderr",
     "output_type": "stream",
     "text": [
      "WARNING:tensorflow:Skipping full serialization of Keras layer <keras.layers.core.activation.Activation object at 0x000001F54945FE80>, because it is not built.\n",
      "WARNING:absl:Found untraced functions such as _jit_compiled_convolution_op, _jit_compiled_convolution_op, _jit_compiled_convolution_op, lstm_cell_18_layer_call_fn, lstm_cell_18_layer_call_and_return_conditional_losses while saving (showing 5 of 15). These functions will not be directly callable after loading.\n"
     ]
    },
    {
     "name": "stdout",
     "output_type": "stream",
     "text": [
      "INFO:tensorflow:Assets written to: 0920_seq2seq_tensorflow\\assets\n"
     ]
    },
    {
     "name": "stderr",
     "output_type": "stream",
     "text": [
      "INFO:tensorflow:Assets written to: 0920_seq2seq_tensorflow\\assets\n"
     ]
    },
    {
     "name": "stdout",
     "output_type": "stream",
     "text": [
      "3/3 [==============================] - 10s 5s/step - loss: 0.2300 - mae: 0.2300\n",
      "Epoch 38/1000\n",
      "3/3 [==============================] - ETA: 0s - loss: 0.2287 - mae: 0.2287WARNING:tensorflow:Skipping full serialization of Keras layer <keras.layers.core.activation.Activation object at 0x000001F54945FE80>, because it is not built.\n"
     ]
    },
    {
     "name": "stderr",
     "output_type": "stream",
     "text": [
      "WARNING:tensorflow:Skipping full serialization of Keras layer <keras.layers.core.activation.Activation object at 0x000001F54945FE80>, because it is not built.\n",
      "WARNING:absl:Found untraced functions such as _jit_compiled_convolution_op, _jit_compiled_convolution_op, _jit_compiled_convolution_op, lstm_cell_18_layer_call_fn, lstm_cell_18_layer_call_and_return_conditional_losses while saving (showing 5 of 15). These functions will not be directly callable after loading.\n"
     ]
    },
    {
     "name": "stdout",
     "output_type": "stream",
     "text": [
      "INFO:tensorflow:Assets written to: 0920_seq2seq_tensorflow\\assets\n"
     ]
    },
    {
     "name": "stderr",
     "output_type": "stream",
     "text": [
      "INFO:tensorflow:Assets written to: 0920_seq2seq_tensorflow\\assets\n"
     ]
    },
    {
     "name": "stdout",
     "output_type": "stream",
     "text": [
      "3/3 [==============================] - 8s 4s/step - loss: 0.2287 - mae: 0.2287\n",
      "Epoch 39/1000\n",
      "3/3 [==============================] - ETA: 0s - loss: 0.2277 - mae: 0.2277WARNING:tensorflow:Skipping full serialization of Keras layer <keras.layers.core.activation.Activation object at 0x000001F54945FE80>, because it is not built.\n"
     ]
    },
    {
     "name": "stderr",
     "output_type": "stream",
     "text": [
      "WARNING:tensorflow:Skipping full serialization of Keras layer <keras.layers.core.activation.Activation object at 0x000001F54945FE80>, because it is not built.\n",
      "WARNING:absl:Found untraced functions such as _jit_compiled_convolution_op, _jit_compiled_convolution_op, _jit_compiled_convolution_op, lstm_cell_18_layer_call_fn, lstm_cell_18_layer_call_and_return_conditional_losses while saving (showing 5 of 15). These functions will not be directly callable after loading.\n"
     ]
    },
    {
     "name": "stdout",
     "output_type": "stream",
     "text": [
      "INFO:tensorflow:Assets written to: 0920_seq2seq_tensorflow\\assets\n"
     ]
    },
    {
     "name": "stderr",
     "output_type": "stream",
     "text": [
      "INFO:tensorflow:Assets written to: 0920_seq2seq_tensorflow\\assets\n"
     ]
    },
    {
     "name": "stdout",
     "output_type": "stream",
     "text": [
      "3/3 [==============================] - 10s 5s/step - loss: 0.2277 - mae: 0.2277\n",
      "Epoch 40/1000\n",
      "3/3 [==============================] - ETA: 0s - loss: 0.2269 - mae: 0.2269WARNING:tensorflow:Skipping full serialization of Keras layer <keras.layers.core.activation.Activation object at 0x000001F54945FE80>, because it is not built.\n"
     ]
    },
    {
     "name": "stderr",
     "output_type": "stream",
     "text": [
      "WARNING:tensorflow:Skipping full serialization of Keras layer <keras.layers.core.activation.Activation object at 0x000001F54945FE80>, because it is not built.\n",
      "WARNING:absl:Found untraced functions such as _jit_compiled_convolution_op, _jit_compiled_convolution_op, _jit_compiled_convolution_op, lstm_cell_18_layer_call_fn, lstm_cell_18_layer_call_and_return_conditional_losses while saving (showing 5 of 15). These functions will not be directly callable after loading.\n"
     ]
    },
    {
     "name": "stdout",
     "output_type": "stream",
     "text": [
      "INFO:tensorflow:Assets written to: 0920_seq2seq_tensorflow\\assets\n"
     ]
    },
    {
     "name": "stderr",
     "output_type": "stream",
     "text": [
      "INFO:tensorflow:Assets written to: 0920_seq2seq_tensorflow\\assets\n"
     ]
    },
    {
     "name": "stdout",
     "output_type": "stream",
     "text": [
      "3/3 [==============================] - 8s 4s/step - loss: 0.2269 - mae: 0.2269\n",
      "Epoch 41/1000\n",
      "3/3 [==============================] - ETA: 0s - loss: 0.2262 - mae: 0.2262WARNING:tensorflow:Skipping full serialization of Keras layer <keras.layers.core.activation.Activation object at 0x000001F54945FE80>, because it is not built.\n"
     ]
    },
    {
     "name": "stderr",
     "output_type": "stream",
     "text": [
      "WARNING:tensorflow:Skipping full serialization of Keras layer <keras.layers.core.activation.Activation object at 0x000001F54945FE80>, because it is not built.\n",
      "WARNING:absl:Found untraced functions such as _jit_compiled_convolution_op, _jit_compiled_convolution_op, _jit_compiled_convolution_op, lstm_cell_18_layer_call_fn, lstm_cell_18_layer_call_and_return_conditional_losses while saving (showing 5 of 15). These functions will not be directly callable after loading.\n"
     ]
    },
    {
     "name": "stdout",
     "output_type": "stream",
     "text": [
      "INFO:tensorflow:Assets written to: 0920_seq2seq_tensorflow\\assets\n"
     ]
    },
    {
     "name": "stderr",
     "output_type": "stream",
     "text": [
      "INFO:tensorflow:Assets written to: 0920_seq2seq_tensorflow\\assets\n"
     ]
    },
    {
     "name": "stdout",
     "output_type": "stream",
     "text": [
      "3/3 [==============================] - 11s 5s/step - loss: 0.2262 - mae: 0.2262\n",
      "Epoch 42/1000\n",
      "3/3 [==============================] - ETA: 0s - loss: 0.2252 - mae: 0.2252WARNING:tensorflow:Skipping full serialization of Keras layer <keras.layers.core.activation.Activation object at 0x000001F54945FE80>, because it is not built.\n"
     ]
    },
    {
     "name": "stderr",
     "output_type": "stream",
     "text": [
      "WARNING:tensorflow:Skipping full serialization of Keras layer <keras.layers.core.activation.Activation object at 0x000001F54945FE80>, because it is not built.\n",
      "WARNING:absl:Found untraced functions such as _jit_compiled_convolution_op, _jit_compiled_convolution_op, _jit_compiled_convolution_op, lstm_cell_18_layer_call_fn, lstm_cell_18_layer_call_and_return_conditional_losses while saving (showing 5 of 15). These functions will not be directly callable after loading.\n"
     ]
    },
    {
     "name": "stdout",
     "output_type": "stream",
     "text": [
      "INFO:tensorflow:Assets written to: 0920_seq2seq_tensorflow\\assets\n"
     ]
    },
    {
     "name": "stderr",
     "output_type": "stream",
     "text": [
      "INFO:tensorflow:Assets written to: 0920_seq2seq_tensorflow\\assets\n"
     ]
    },
    {
     "name": "stdout",
     "output_type": "stream",
     "text": [
      "3/3 [==============================] - 8s 4s/step - loss: 0.2252 - mae: 0.2252\n",
      "Epoch 43/1000\n",
      "3/3 [==============================] - ETA: 0s - loss: 0.2245 - mae: 0.2245WARNING:tensorflow:Skipping full serialization of Keras layer <keras.layers.core.activation.Activation object at 0x000001F54945FE80>, because it is not built.\n"
     ]
    },
    {
     "name": "stderr",
     "output_type": "stream",
     "text": [
      "WARNING:tensorflow:Skipping full serialization of Keras layer <keras.layers.core.activation.Activation object at 0x000001F54945FE80>, because it is not built.\n",
      "WARNING:absl:Found untraced functions such as _jit_compiled_convolution_op, _jit_compiled_convolution_op, _jit_compiled_convolution_op, lstm_cell_18_layer_call_fn, lstm_cell_18_layer_call_and_return_conditional_losses while saving (showing 5 of 15). These functions will not be directly callable after loading.\n"
     ]
    },
    {
     "name": "stdout",
     "output_type": "stream",
     "text": [
      "INFO:tensorflow:Assets written to: 0920_seq2seq_tensorflow\\assets\n"
     ]
    },
    {
     "name": "stderr",
     "output_type": "stream",
     "text": [
      "INFO:tensorflow:Assets written to: 0920_seq2seq_tensorflow\\assets\n"
     ]
    },
    {
     "name": "stdout",
     "output_type": "stream",
     "text": [
      "3/3 [==============================] - 9s 4s/step - loss: 0.2245 - mae: 0.2245\n",
      "Epoch 44/1000\n",
      "3/3 [==============================] - ETA: 0s - loss: 0.2238 - mae: 0.2238WARNING:tensorflow:Skipping full serialization of Keras layer <keras.layers.core.activation.Activation object at 0x000001F54945FE80>, because it is not built.\n"
     ]
    },
    {
     "name": "stderr",
     "output_type": "stream",
     "text": [
      "WARNING:tensorflow:Skipping full serialization of Keras layer <keras.layers.core.activation.Activation object at 0x000001F54945FE80>, because it is not built.\n",
      "WARNING:absl:Found untraced functions such as _jit_compiled_convolution_op, _jit_compiled_convolution_op, _jit_compiled_convolution_op, lstm_cell_18_layer_call_fn, lstm_cell_18_layer_call_and_return_conditional_losses while saving (showing 5 of 15). These functions will not be directly callable after loading.\n"
     ]
    },
    {
     "name": "stdout",
     "output_type": "stream",
     "text": [
      "INFO:tensorflow:Assets written to: 0920_seq2seq_tensorflow\\assets\n"
     ]
    },
    {
     "name": "stderr",
     "output_type": "stream",
     "text": [
      "INFO:tensorflow:Assets written to: 0920_seq2seq_tensorflow\\assets\n"
     ]
    },
    {
     "name": "stdout",
     "output_type": "stream",
     "text": [
      "3/3 [==============================] - 10s 5s/step - loss: 0.2238 - mae: 0.2238\n",
      "Epoch 45/1000\n",
      "3/3 [==============================] - ETA: 0s - loss: 0.2233 - mae: 0.2233WARNING:tensorflow:Skipping full serialization of Keras layer <keras.layers.core.activation.Activation object at 0x000001F54945FE80>, because it is not built.\n"
     ]
    },
    {
     "name": "stderr",
     "output_type": "stream",
     "text": [
      "WARNING:tensorflow:Skipping full serialization of Keras layer <keras.layers.core.activation.Activation object at 0x000001F54945FE80>, because it is not built.\n",
      "WARNING:absl:Found untraced functions such as _jit_compiled_convolution_op, _jit_compiled_convolution_op, _jit_compiled_convolution_op, lstm_cell_18_layer_call_fn, lstm_cell_18_layer_call_and_return_conditional_losses while saving (showing 5 of 15). These functions will not be directly callable after loading.\n"
     ]
    },
    {
     "name": "stdout",
     "output_type": "stream",
     "text": [
      "INFO:tensorflow:Assets written to: 0920_seq2seq_tensorflow\\assets\n"
     ]
    },
    {
     "name": "stderr",
     "output_type": "stream",
     "text": [
      "INFO:tensorflow:Assets written to: 0920_seq2seq_tensorflow\\assets\n"
     ]
    },
    {
     "name": "stdout",
     "output_type": "stream",
     "text": [
      "3/3 [==============================] - 8s 4s/step - loss: 0.2233 - mae: 0.2233\n",
      "Epoch 46/1000\n",
      "3/3 [==============================] - ETA: 0s - loss: 0.2229 - mae: 0.2229WARNING:tensorflow:Skipping full serialization of Keras layer <keras.layers.core.activation.Activation object at 0x000001F54945FE80>, because it is not built.\n"
     ]
    },
    {
     "name": "stderr",
     "output_type": "stream",
     "text": [
      "WARNING:tensorflow:Skipping full serialization of Keras layer <keras.layers.core.activation.Activation object at 0x000001F54945FE80>, because it is not built.\n",
      "WARNING:absl:Found untraced functions such as _jit_compiled_convolution_op, _jit_compiled_convolution_op, _jit_compiled_convolution_op, lstm_cell_18_layer_call_fn, lstm_cell_18_layer_call_and_return_conditional_losses while saving (showing 5 of 15). These functions will not be directly callable after loading.\n"
     ]
    },
    {
     "name": "stdout",
     "output_type": "stream",
     "text": [
      "INFO:tensorflow:Assets written to: 0920_seq2seq_tensorflow\\assets\n"
     ]
    },
    {
     "name": "stderr",
     "output_type": "stream",
     "text": [
      "INFO:tensorflow:Assets written to: 0920_seq2seq_tensorflow\\assets\n"
     ]
    },
    {
     "name": "stdout",
     "output_type": "stream",
     "text": [
      "3/3 [==============================] - 9s 4s/step - loss: 0.2229 - mae: 0.2229\n",
      "Epoch 47/1000\n",
      "3/3 [==============================] - ETA: 0s - loss: 0.2226 - mae: 0.2226WARNING:tensorflow:Skipping full serialization of Keras layer <keras.layers.core.activation.Activation object at 0x000001F54945FE80>, because it is not built.\n"
     ]
    },
    {
     "name": "stderr",
     "output_type": "stream",
     "text": [
      "WARNING:tensorflow:Skipping full serialization of Keras layer <keras.layers.core.activation.Activation object at 0x000001F54945FE80>, because it is not built.\n",
      "WARNING:absl:Found untraced functions such as _jit_compiled_convolution_op, _jit_compiled_convolution_op, _jit_compiled_convolution_op, lstm_cell_18_layer_call_fn, lstm_cell_18_layer_call_and_return_conditional_losses while saving (showing 5 of 15). These functions will not be directly callable after loading.\n"
     ]
    },
    {
     "name": "stdout",
     "output_type": "stream",
     "text": [
      "INFO:tensorflow:Assets written to: 0920_seq2seq_tensorflow\\assets\n"
     ]
    },
    {
     "name": "stderr",
     "output_type": "stream",
     "text": [
      "INFO:tensorflow:Assets written to: 0920_seq2seq_tensorflow\\assets\n"
     ]
    },
    {
     "name": "stdout",
     "output_type": "stream",
     "text": [
      "3/3 [==============================] - 10s 5s/step - loss: 0.2226 - mae: 0.2226\n",
      "Epoch 48/1000\n",
      "3/3 [==============================] - ETA: 0s - loss: 0.2225 - mae: 0.2225WARNING:tensorflow:Skipping full serialization of Keras layer <keras.layers.core.activation.Activation object at 0x000001F54945FE80>, because it is not built.\n"
     ]
    },
    {
     "name": "stderr",
     "output_type": "stream",
     "text": [
      "WARNING:tensorflow:Skipping full serialization of Keras layer <keras.layers.core.activation.Activation object at 0x000001F54945FE80>, because it is not built.\n",
      "WARNING:absl:Found untraced functions such as _jit_compiled_convolution_op, _jit_compiled_convolution_op, _jit_compiled_convolution_op, lstm_cell_18_layer_call_fn, lstm_cell_18_layer_call_and_return_conditional_losses while saving (showing 5 of 15). These functions will not be directly callable after loading.\n"
     ]
    },
    {
     "name": "stdout",
     "output_type": "stream",
     "text": [
      "INFO:tensorflow:Assets written to: 0920_seq2seq_tensorflow\\assets\n"
     ]
    },
    {
     "name": "stderr",
     "output_type": "stream",
     "text": [
      "INFO:tensorflow:Assets written to: 0920_seq2seq_tensorflow\\assets\n"
     ]
    },
    {
     "name": "stdout",
     "output_type": "stream",
     "text": [
      "3/3 [==============================] - 8s 4s/step - loss: 0.2225 - mae: 0.2225\n",
      "Epoch 49/1000\n",
      "3/3 [==============================] - ETA: 0s - loss: 0.2220 - mae: 0.2220WARNING:tensorflow:Skipping full serialization of Keras layer <keras.layers.core.activation.Activation object at 0x000001F54945FE80>, because it is not built.\n"
     ]
    },
    {
     "name": "stderr",
     "output_type": "stream",
     "text": [
      "WARNING:tensorflow:Skipping full serialization of Keras layer <keras.layers.core.activation.Activation object at 0x000001F54945FE80>, because it is not built.\n",
      "WARNING:absl:Found untraced functions such as _jit_compiled_convolution_op, _jit_compiled_convolution_op, _jit_compiled_convolution_op, lstm_cell_18_layer_call_fn, lstm_cell_18_layer_call_and_return_conditional_losses while saving (showing 5 of 15). These functions will not be directly callable after loading.\n"
     ]
    },
    {
     "name": "stdout",
     "output_type": "stream",
     "text": [
      "INFO:tensorflow:Assets written to: 0920_seq2seq_tensorflow\\assets\n"
     ]
    },
    {
     "name": "stderr",
     "output_type": "stream",
     "text": [
      "INFO:tensorflow:Assets written to: 0920_seq2seq_tensorflow\\assets\n"
     ]
    },
    {
     "name": "stdout",
     "output_type": "stream",
     "text": [
      "3/3 [==============================] - 10s 5s/step - loss: 0.2220 - mae: 0.2220\n",
      "Epoch 50/1000\n",
      "3/3 [==============================] - ETA: 0s - loss: 0.2219 - mae: 0.2219WARNING:tensorflow:Skipping full serialization of Keras layer <keras.layers.core.activation.Activation object at 0x000001F54945FE80>, because it is not built.\n"
     ]
    },
    {
     "name": "stderr",
     "output_type": "stream",
     "text": [
      "WARNING:tensorflow:Skipping full serialization of Keras layer <keras.layers.core.activation.Activation object at 0x000001F54945FE80>, because it is not built.\n",
      "WARNING:absl:Found untraced functions such as _jit_compiled_convolution_op, _jit_compiled_convolution_op, _jit_compiled_convolution_op, lstm_cell_18_layer_call_fn, lstm_cell_18_layer_call_and_return_conditional_losses while saving (showing 5 of 15). These functions will not be directly callable after loading.\n"
     ]
    },
    {
     "name": "stdout",
     "output_type": "stream",
     "text": [
      "INFO:tensorflow:Assets written to: 0920_seq2seq_tensorflow\\assets\n"
     ]
    },
    {
     "name": "stderr",
     "output_type": "stream",
     "text": [
      "INFO:tensorflow:Assets written to: 0920_seq2seq_tensorflow\\assets\n"
     ]
    },
    {
     "name": "stdout",
     "output_type": "stream",
     "text": [
      "3/3 [==============================] - 8s 4s/step - loss: 0.2219 - mae: 0.2219\n",
      "Epoch 51/1000\n",
      "3/3 [==============================] - ETA: 0s - loss: 0.2216 - mae: 0.2216WARNING:tensorflow:Skipping full serialization of Keras layer <keras.layers.core.activation.Activation object at 0x000001F54945FE80>, because it is not built.\n"
     ]
    },
    {
     "name": "stderr",
     "output_type": "stream",
     "text": [
      "WARNING:tensorflow:Skipping full serialization of Keras layer <keras.layers.core.activation.Activation object at 0x000001F54945FE80>, because it is not built.\n",
      "WARNING:absl:Found untraced functions such as _jit_compiled_convolution_op, _jit_compiled_convolution_op, _jit_compiled_convolution_op, lstm_cell_18_layer_call_fn, lstm_cell_18_layer_call_and_return_conditional_losses while saving (showing 5 of 15). These functions will not be directly callable after loading.\n"
     ]
    },
    {
     "name": "stdout",
     "output_type": "stream",
     "text": [
      "INFO:tensorflow:Assets written to: 0920_seq2seq_tensorflow\\assets\n"
     ]
    },
    {
     "name": "stderr",
     "output_type": "stream",
     "text": [
      "INFO:tensorflow:Assets written to: 0920_seq2seq_tensorflow\\assets\n"
     ]
    },
    {
     "name": "stdout",
     "output_type": "stream",
     "text": [
      "3/3 [==============================] - 9s 5s/step - loss: 0.2216 - mae: 0.2216\n",
      "Epoch 52/1000\n",
      "3/3 [==============================] - ETA: 0s - loss: 0.2214 - mae: 0.2214WARNING:tensorflow:Skipping full serialization of Keras layer <keras.layers.core.activation.Activation object at 0x000001F54945FE80>, because it is not built.\n"
     ]
    },
    {
     "name": "stderr",
     "output_type": "stream",
     "text": [
      "WARNING:tensorflow:Skipping full serialization of Keras layer <keras.layers.core.activation.Activation object at 0x000001F54945FE80>, because it is not built.\n",
      "WARNING:absl:Found untraced functions such as _jit_compiled_convolution_op, _jit_compiled_convolution_op, _jit_compiled_convolution_op, lstm_cell_18_layer_call_fn, lstm_cell_18_layer_call_and_return_conditional_losses while saving (showing 5 of 15). These functions will not be directly callable after loading.\n"
     ]
    },
    {
     "name": "stdout",
     "output_type": "stream",
     "text": [
      "INFO:tensorflow:Assets written to: 0920_seq2seq_tensorflow\\assets\n"
     ]
    },
    {
     "name": "stderr",
     "output_type": "stream",
     "text": [
      "INFO:tensorflow:Assets written to: 0920_seq2seq_tensorflow\\assets\n"
     ]
    },
    {
     "name": "stdout",
     "output_type": "stream",
     "text": [
      "3/3 [==============================] - 12s 6s/step - loss: 0.2214 - mae: 0.2214\n",
      "Epoch 53/1000\n",
      "3/3 [==============================] - ETA: 0s - loss: 0.2213 - mae: 0.2213WARNING:tensorflow:Skipping full serialization of Keras layer <keras.layers.core.activation.Activation object at 0x000001F54945FE80>, because it is not built.\n"
     ]
    },
    {
     "name": "stderr",
     "output_type": "stream",
     "text": [
      "WARNING:tensorflow:Skipping full serialization of Keras layer <keras.layers.core.activation.Activation object at 0x000001F54945FE80>, because it is not built.\n",
      "WARNING:absl:Found untraced functions such as _jit_compiled_convolution_op, _jit_compiled_convolution_op, _jit_compiled_convolution_op, lstm_cell_18_layer_call_fn, lstm_cell_18_layer_call_and_return_conditional_losses while saving (showing 5 of 15). These functions will not be directly callable after loading.\n"
     ]
    },
    {
     "name": "stdout",
     "output_type": "stream",
     "text": [
      "INFO:tensorflow:Assets written to: 0920_seq2seq_tensorflow\\assets\n"
     ]
    },
    {
     "name": "stderr",
     "output_type": "stream",
     "text": [
      "INFO:tensorflow:Assets written to: 0920_seq2seq_tensorflow\\assets\n"
     ]
    },
    {
     "name": "stdout",
     "output_type": "stream",
     "text": [
      "3/3 [==============================] - 8s 4s/step - loss: 0.2213 - mae: 0.2213\n",
      "Epoch 54/1000\n",
      "3/3 [==============================] - ETA: 0s - loss: 0.2211 - mae: 0.2211WARNING:tensorflow:Skipping full serialization of Keras layer <keras.layers.core.activation.Activation object at 0x000001F54945FE80>, because it is not built.\n"
     ]
    },
    {
     "name": "stderr",
     "output_type": "stream",
     "text": [
      "WARNING:tensorflow:Skipping full serialization of Keras layer <keras.layers.core.activation.Activation object at 0x000001F54945FE80>, because it is not built.\n",
      "WARNING:absl:Found untraced functions such as _jit_compiled_convolution_op, _jit_compiled_convolution_op, _jit_compiled_convolution_op, lstm_cell_18_layer_call_fn, lstm_cell_18_layer_call_and_return_conditional_losses while saving (showing 5 of 15). These functions will not be directly callable after loading.\n"
     ]
    },
    {
     "name": "stdout",
     "output_type": "stream",
     "text": [
      "INFO:tensorflow:Assets written to: 0920_seq2seq_tensorflow\\assets\n"
     ]
    },
    {
     "name": "stderr",
     "output_type": "stream",
     "text": [
      "INFO:tensorflow:Assets written to: 0920_seq2seq_tensorflow\\assets\n"
     ]
    },
    {
     "name": "stdout",
     "output_type": "stream",
     "text": [
      "3/3 [==============================] - 8s 4s/step - loss: 0.2211 - mae: 0.2211\n",
      "Epoch 55/1000\n",
      "3/3 [==============================] - ETA: 0s - loss: 0.2209 - mae: 0.2209WARNING:tensorflow:Skipping full serialization of Keras layer <keras.layers.core.activation.Activation object at 0x000001F54945FE80>, because it is not built.\n"
     ]
    },
    {
     "name": "stderr",
     "output_type": "stream",
     "text": [
      "WARNING:tensorflow:Skipping full serialization of Keras layer <keras.layers.core.activation.Activation object at 0x000001F54945FE80>, because it is not built.\n",
      "WARNING:absl:Found untraced functions such as _jit_compiled_convolution_op, _jit_compiled_convolution_op, _jit_compiled_convolution_op, lstm_cell_18_layer_call_fn, lstm_cell_18_layer_call_and_return_conditional_losses while saving (showing 5 of 15). These functions will not be directly callable after loading.\n"
     ]
    },
    {
     "name": "stdout",
     "output_type": "stream",
     "text": [
      "INFO:tensorflow:Assets written to: 0920_seq2seq_tensorflow\\assets\n"
     ]
    },
    {
     "name": "stderr",
     "output_type": "stream",
     "text": [
      "INFO:tensorflow:Assets written to: 0920_seq2seq_tensorflow\\assets\n"
     ]
    },
    {
     "name": "stdout",
     "output_type": "stream",
     "text": [
      "3/3 [==============================] - 9s 4s/step - loss: 0.2209 - mae: 0.2209\n",
      "Epoch 56/1000\n",
      "3/3 [==============================] - ETA: 0s - loss: 0.2207 - mae: 0.2207WARNING:tensorflow:Skipping full serialization of Keras layer <keras.layers.core.activation.Activation object at 0x000001F54945FE80>, because it is not built.\n"
     ]
    },
    {
     "name": "stderr",
     "output_type": "stream",
     "text": [
      "WARNING:tensorflow:Skipping full serialization of Keras layer <keras.layers.core.activation.Activation object at 0x000001F54945FE80>, because it is not built.\n",
      "WARNING:absl:Found untraced functions such as _jit_compiled_convolution_op, _jit_compiled_convolution_op, _jit_compiled_convolution_op, lstm_cell_18_layer_call_fn, lstm_cell_18_layer_call_and_return_conditional_losses while saving (showing 5 of 15). These functions will not be directly callable after loading.\n"
     ]
    },
    {
     "name": "stdout",
     "output_type": "stream",
     "text": [
      "INFO:tensorflow:Assets written to: 0920_seq2seq_tensorflow\\assets\n"
     ]
    },
    {
     "name": "stderr",
     "output_type": "stream",
     "text": [
      "INFO:tensorflow:Assets written to: 0920_seq2seq_tensorflow\\assets\n"
     ]
    },
    {
     "name": "stdout",
     "output_type": "stream",
     "text": [
      "3/3 [==============================] - 10s 5s/step - loss: 0.2207 - mae: 0.2207\n",
      "Epoch 57/1000\n",
      "3/3 [==============================] - ETA: 0s - loss: 0.2205 - mae: 0.2205WARNING:tensorflow:Skipping full serialization of Keras layer <keras.layers.core.activation.Activation object at 0x000001F54945FE80>, because it is not built.\n"
     ]
    },
    {
     "name": "stderr",
     "output_type": "stream",
     "text": [
      "WARNING:tensorflow:Skipping full serialization of Keras layer <keras.layers.core.activation.Activation object at 0x000001F54945FE80>, because it is not built.\n",
      "WARNING:absl:Found untraced functions such as _jit_compiled_convolution_op, _jit_compiled_convolution_op, _jit_compiled_convolution_op, lstm_cell_18_layer_call_fn, lstm_cell_18_layer_call_and_return_conditional_losses while saving (showing 5 of 15). These functions will not be directly callable after loading.\n"
     ]
    },
    {
     "name": "stdout",
     "output_type": "stream",
     "text": [
      "INFO:tensorflow:Assets written to: 0920_seq2seq_tensorflow\\assets\n"
     ]
    },
    {
     "name": "stderr",
     "output_type": "stream",
     "text": [
      "INFO:tensorflow:Assets written to: 0920_seq2seq_tensorflow\\assets\n"
     ]
    },
    {
     "name": "stdout",
     "output_type": "stream",
     "text": [
      "3/3 [==============================] - 8s 4s/step - loss: 0.2205 - mae: 0.2205\n",
      "Epoch 58/1000\n",
      "3/3 [==============================] - ETA: 0s - loss: 0.2204 - mae: 0.2204WARNING:tensorflow:Skipping full serialization of Keras layer <keras.layers.core.activation.Activation object at 0x000001F54945FE80>, because it is not built.\n"
     ]
    },
    {
     "name": "stderr",
     "output_type": "stream",
     "text": [
      "WARNING:tensorflow:Skipping full serialization of Keras layer <keras.layers.core.activation.Activation object at 0x000001F54945FE80>, because it is not built.\n",
      "WARNING:absl:Found untraced functions such as _jit_compiled_convolution_op, _jit_compiled_convolution_op, _jit_compiled_convolution_op, lstm_cell_18_layer_call_fn, lstm_cell_18_layer_call_and_return_conditional_losses while saving (showing 5 of 15). These functions will not be directly callable after loading.\n"
     ]
    },
    {
     "name": "stdout",
     "output_type": "stream",
     "text": [
      "INFO:tensorflow:Assets written to: 0920_seq2seq_tensorflow\\assets\n"
     ]
    },
    {
     "name": "stderr",
     "output_type": "stream",
     "text": [
      "INFO:tensorflow:Assets written to: 0920_seq2seq_tensorflow\\assets\n"
     ]
    },
    {
     "name": "stdout",
     "output_type": "stream",
     "text": [
      "3/3 [==============================] - 8s 4s/step - loss: 0.2204 - mae: 0.2204\n",
      "Epoch 59/1000\n",
      "3/3 [==============================] - 0s 57ms/step - loss: 0.2206 - mae: 0.2206\n",
      "Epoch 60/1000\n",
      "3/3 [==============================] - ETA: 0s - loss: 0.2202 - mae: 0.2202WARNING:tensorflow:Skipping full serialization of Keras layer <keras.layers.core.activation.Activation object at 0x000001F54945FE80>, because it is not built.\n"
     ]
    },
    {
     "name": "stderr",
     "output_type": "stream",
     "text": [
      "WARNING:tensorflow:Skipping full serialization of Keras layer <keras.layers.core.activation.Activation object at 0x000001F54945FE80>, because it is not built.\n",
      "WARNING:absl:Found untraced functions such as _jit_compiled_convolution_op, _jit_compiled_convolution_op, _jit_compiled_convolution_op, lstm_cell_18_layer_call_fn, lstm_cell_18_layer_call_and_return_conditional_losses while saving (showing 5 of 15). These functions will not be directly callable after loading.\n"
     ]
    },
    {
     "name": "stdout",
     "output_type": "stream",
     "text": [
      "INFO:tensorflow:Assets written to: 0920_seq2seq_tensorflow\\assets\n"
     ]
    },
    {
     "name": "stderr",
     "output_type": "stream",
     "text": [
      "INFO:tensorflow:Assets written to: 0920_seq2seq_tensorflow\\assets\n"
     ]
    },
    {
     "name": "stdout",
     "output_type": "stream",
     "text": [
      "3/3 [==============================] - 10s 5s/step - loss: 0.2202 - mae: 0.2202\n",
      "Epoch 61/1000\n",
      "3/3 [==============================] - ETA: 0s - loss: 0.2200 - mae: 0.2200WARNING:tensorflow:Skipping full serialization of Keras layer <keras.layers.core.activation.Activation object at 0x000001F54945FE80>, because it is not built.\n"
     ]
    },
    {
     "name": "stderr",
     "output_type": "stream",
     "text": [
      "WARNING:tensorflow:Skipping full serialization of Keras layer <keras.layers.core.activation.Activation object at 0x000001F54945FE80>, because it is not built.\n",
      "WARNING:absl:Found untraced functions such as _jit_compiled_convolution_op, _jit_compiled_convolution_op, _jit_compiled_convolution_op, lstm_cell_18_layer_call_fn, lstm_cell_18_layer_call_and_return_conditional_losses while saving (showing 5 of 15). These functions will not be directly callable after loading.\n"
     ]
    },
    {
     "name": "stdout",
     "output_type": "stream",
     "text": [
      "INFO:tensorflow:Assets written to: 0920_seq2seq_tensorflow\\assets\n"
     ]
    },
    {
     "name": "stderr",
     "output_type": "stream",
     "text": [
      "INFO:tensorflow:Assets written to: 0920_seq2seq_tensorflow\\assets\n"
     ]
    },
    {
     "name": "stdout",
     "output_type": "stream",
     "text": [
      "3/3 [==============================] - 8s 4s/step - loss: 0.2200 - mae: 0.2200\n",
      "Epoch 62/1000\n",
      "3/3 [==============================] - ETA: 0s - loss: 0.2198 - mae: 0.2198WARNING:tensorflow:Skipping full serialization of Keras layer <keras.layers.core.activation.Activation object at 0x000001F54945FE80>, because it is not built.\n"
     ]
    },
    {
     "name": "stderr",
     "output_type": "stream",
     "text": [
      "WARNING:tensorflow:Skipping full serialization of Keras layer <keras.layers.core.activation.Activation object at 0x000001F54945FE80>, because it is not built.\n",
      "WARNING:absl:Found untraced functions such as _jit_compiled_convolution_op, _jit_compiled_convolution_op, _jit_compiled_convolution_op, lstm_cell_18_layer_call_fn, lstm_cell_18_layer_call_and_return_conditional_losses while saving (showing 5 of 15). These functions will not be directly callable after loading.\n"
     ]
    },
    {
     "name": "stdout",
     "output_type": "stream",
     "text": [
      "INFO:tensorflow:Assets written to: 0920_seq2seq_tensorflow\\assets\n"
     ]
    },
    {
     "name": "stderr",
     "output_type": "stream",
     "text": [
      "INFO:tensorflow:Assets written to: 0920_seq2seq_tensorflow\\assets\n"
     ]
    },
    {
     "name": "stdout",
     "output_type": "stream",
     "text": [
      "3/3 [==============================] - 9s 4s/step - loss: 0.2198 - mae: 0.2198\n",
      "Epoch 63/1000\n",
      "3/3 [==============================] - ETA: 0s - loss: 0.2196 - mae: 0.2196WARNING:tensorflow:Skipping full serialization of Keras layer <keras.layers.core.activation.Activation object at 0x000001F54945FE80>, because it is not built.\n"
     ]
    },
    {
     "name": "stderr",
     "output_type": "stream",
     "text": [
      "WARNING:tensorflow:Skipping full serialization of Keras layer <keras.layers.core.activation.Activation object at 0x000001F54945FE80>, because it is not built.\n",
      "WARNING:absl:Found untraced functions such as _jit_compiled_convolution_op, _jit_compiled_convolution_op, _jit_compiled_convolution_op, lstm_cell_18_layer_call_fn, lstm_cell_18_layer_call_and_return_conditional_losses while saving (showing 5 of 15). These functions will not be directly callable after loading.\n"
     ]
    },
    {
     "name": "stdout",
     "output_type": "stream",
     "text": [
      "INFO:tensorflow:Assets written to: 0920_seq2seq_tensorflow\\assets\n"
     ]
    },
    {
     "name": "stderr",
     "output_type": "stream",
     "text": [
      "INFO:tensorflow:Assets written to: 0920_seq2seq_tensorflow\\assets\n"
     ]
    },
    {
     "name": "stdout",
     "output_type": "stream",
     "text": [
      "3/3 [==============================] - 12s 6s/step - loss: 0.2196 - mae: 0.2196\n",
      "Epoch 64/1000\n",
      "3/3 [==============================] - ETA: 0s - loss: 0.2195 - mae: 0.2195WARNING:tensorflow:Skipping full serialization of Keras layer <keras.layers.core.activation.Activation object at 0x000001F54945FE80>, because it is not built.\n"
     ]
    },
    {
     "name": "stderr",
     "output_type": "stream",
     "text": [
      "WARNING:tensorflow:Skipping full serialization of Keras layer <keras.layers.core.activation.Activation object at 0x000001F54945FE80>, because it is not built.\n",
      "WARNING:absl:Found untraced functions such as _jit_compiled_convolution_op, _jit_compiled_convolution_op, _jit_compiled_convolution_op, lstm_cell_18_layer_call_fn, lstm_cell_18_layer_call_and_return_conditional_losses while saving (showing 5 of 15). These functions will not be directly callable after loading.\n"
     ]
    },
    {
     "name": "stdout",
     "output_type": "stream",
     "text": [
      "INFO:tensorflow:Assets written to: 0920_seq2seq_tensorflow\\assets\n"
     ]
    },
    {
     "name": "stderr",
     "output_type": "stream",
     "text": [
      "INFO:tensorflow:Assets written to: 0920_seq2seq_tensorflow\\assets\n"
     ]
    },
    {
     "name": "stdout",
     "output_type": "stream",
     "text": [
      "3/3 [==============================] - 8s 4s/step - loss: 0.2195 - mae: 0.2195\n",
      "Epoch 65/1000\n",
      "3/3 [==============================] - ETA: 0s - loss: 0.2193 - mae: 0.2193WARNING:tensorflow:Skipping full serialization of Keras layer <keras.layers.core.activation.Activation object at 0x000001F54945FE80>, because it is not built.\n"
     ]
    },
    {
     "name": "stderr",
     "output_type": "stream",
     "text": [
      "WARNING:tensorflow:Skipping full serialization of Keras layer <keras.layers.core.activation.Activation object at 0x000001F54945FE80>, because it is not built.\n",
      "WARNING:absl:Found untraced functions such as _jit_compiled_convolution_op, _jit_compiled_convolution_op, _jit_compiled_convolution_op, lstm_cell_18_layer_call_fn, lstm_cell_18_layer_call_and_return_conditional_losses while saving (showing 5 of 15). These functions will not be directly callable after loading.\n"
     ]
    },
    {
     "name": "stdout",
     "output_type": "stream",
     "text": [
      "INFO:tensorflow:Assets written to: 0920_seq2seq_tensorflow\\assets\n"
     ]
    },
    {
     "name": "stderr",
     "output_type": "stream",
     "text": [
      "INFO:tensorflow:Assets written to: 0920_seq2seq_tensorflow\\assets\n"
     ]
    },
    {
     "name": "stdout",
     "output_type": "stream",
     "text": [
      "3/3 [==============================] - 8s 4s/step - loss: 0.2193 - mae: 0.2193\n",
      "Epoch 66/1000\n",
      "3/3 [==============================] - ETA: 0s - loss: 0.2192 - mae: 0.2192WARNING:tensorflow:Skipping full serialization of Keras layer <keras.layers.core.activation.Activation object at 0x000001F54945FE80>, because it is not built.\n"
     ]
    },
    {
     "name": "stderr",
     "output_type": "stream",
     "text": [
      "WARNING:tensorflow:Skipping full serialization of Keras layer <keras.layers.core.activation.Activation object at 0x000001F54945FE80>, because it is not built.\n",
      "WARNING:absl:Found untraced functions such as _jit_compiled_convolution_op, _jit_compiled_convolution_op, _jit_compiled_convolution_op, lstm_cell_18_layer_call_fn, lstm_cell_18_layer_call_and_return_conditional_losses while saving (showing 5 of 15). These functions will not be directly callable after loading.\n"
     ]
    },
    {
     "name": "stdout",
     "output_type": "stream",
     "text": [
      "INFO:tensorflow:Assets written to: 0920_seq2seq_tensorflow\\assets\n"
     ]
    },
    {
     "name": "stderr",
     "output_type": "stream",
     "text": [
      "INFO:tensorflow:Assets written to: 0920_seq2seq_tensorflow\\assets\n"
     ]
    },
    {
     "name": "stdout",
     "output_type": "stream",
     "text": [
      "3/3 [==============================] - 9s 4s/step - loss: 0.2192 - mae: 0.2192\n",
      "Epoch 67/1000\n",
      "3/3 [==============================] - ETA: 0s - loss: 0.2191 - mae: 0.2191WARNING:tensorflow:Skipping full serialization of Keras layer <keras.layers.core.activation.Activation object at 0x000001F54945FE80>, because it is not built.\n"
     ]
    },
    {
     "name": "stderr",
     "output_type": "stream",
     "text": [
      "WARNING:tensorflow:Skipping full serialization of Keras layer <keras.layers.core.activation.Activation object at 0x000001F54945FE80>, because it is not built.\n",
      "WARNING:absl:Found untraced functions such as _jit_compiled_convolution_op, _jit_compiled_convolution_op, _jit_compiled_convolution_op, lstm_cell_18_layer_call_fn, lstm_cell_18_layer_call_and_return_conditional_losses while saving (showing 5 of 15). These functions will not be directly callable after loading.\n"
     ]
    },
    {
     "name": "stdout",
     "output_type": "stream",
     "text": [
      "INFO:tensorflow:Assets written to: 0920_seq2seq_tensorflow\\assets\n"
     ]
    },
    {
     "name": "stderr",
     "output_type": "stream",
     "text": [
      "INFO:tensorflow:Assets written to: 0920_seq2seq_tensorflow\\assets\n"
     ]
    },
    {
     "name": "stdout",
     "output_type": "stream",
     "text": [
      "3/3 [==============================] - 12s 6s/step - loss: 0.2191 - mae: 0.2191\n",
      "Epoch 68/1000\n",
      "3/3 [==============================] - ETA: 0s - loss: 0.2190 - mae: 0.2190WARNING:tensorflow:Skipping full serialization of Keras layer <keras.layers.core.activation.Activation object at 0x000001F54945FE80>, because it is not built.\n"
     ]
    },
    {
     "name": "stderr",
     "output_type": "stream",
     "text": [
      "WARNING:tensorflow:Skipping full serialization of Keras layer <keras.layers.core.activation.Activation object at 0x000001F54945FE80>, because it is not built.\n",
      "WARNING:absl:Found untraced functions such as _jit_compiled_convolution_op, _jit_compiled_convolution_op, _jit_compiled_convolution_op, lstm_cell_18_layer_call_fn, lstm_cell_18_layer_call_and_return_conditional_losses while saving (showing 5 of 15). These functions will not be directly callable after loading.\n"
     ]
    },
    {
     "name": "stdout",
     "output_type": "stream",
     "text": [
      "INFO:tensorflow:Assets written to: 0920_seq2seq_tensorflow\\assets\n"
     ]
    },
    {
     "name": "stderr",
     "output_type": "stream",
     "text": [
      "INFO:tensorflow:Assets written to: 0920_seq2seq_tensorflow\\assets\n"
     ]
    },
    {
     "name": "stdout",
     "output_type": "stream",
     "text": [
      "3/3 [==============================] - 8s 4s/step - loss: 0.2190 - mae: 0.2190\n",
      "Epoch 69/1000\n",
      "3/3 [==============================] - ETA: 0s - loss: 0.2188 - mae: 0.2188WARNING:tensorflow:Skipping full serialization of Keras layer <keras.layers.core.activation.Activation object at 0x000001F54945FE80>, because it is not built.\n"
     ]
    },
    {
     "name": "stderr",
     "output_type": "stream",
     "text": [
      "WARNING:tensorflow:Skipping full serialization of Keras layer <keras.layers.core.activation.Activation object at 0x000001F54945FE80>, because it is not built.\n",
      "WARNING:absl:Found untraced functions such as _jit_compiled_convolution_op, _jit_compiled_convolution_op, _jit_compiled_convolution_op, lstm_cell_18_layer_call_fn, lstm_cell_18_layer_call_and_return_conditional_losses while saving (showing 5 of 15). These functions will not be directly callable after loading.\n"
     ]
    },
    {
     "name": "stdout",
     "output_type": "stream",
     "text": [
      "INFO:tensorflow:Assets written to: 0920_seq2seq_tensorflow\\assets\n"
     ]
    },
    {
     "name": "stderr",
     "output_type": "stream",
     "text": [
      "INFO:tensorflow:Assets written to: 0920_seq2seq_tensorflow\\assets\n"
     ]
    },
    {
     "name": "stdout",
     "output_type": "stream",
     "text": [
      "3/3 [==============================] - 8s 4s/step - loss: 0.2188 - mae: 0.2188\n",
      "Epoch 70/1000\n",
      "3/3 [==============================] - ETA: 0s - loss: 0.2187 - mae: 0.2187WARNING:tensorflow:Skipping full serialization of Keras layer <keras.layers.core.activation.Activation object at 0x000001F54945FE80>, because it is not built.\n"
     ]
    },
    {
     "name": "stderr",
     "output_type": "stream",
     "text": [
      "WARNING:tensorflow:Skipping full serialization of Keras layer <keras.layers.core.activation.Activation object at 0x000001F54945FE80>, because it is not built.\n",
      "WARNING:absl:Found untraced functions such as _jit_compiled_convolution_op, _jit_compiled_convolution_op, _jit_compiled_convolution_op, lstm_cell_18_layer_call_fn, lstm_cell_18_layer_call_and_return_conditional_losses while saving (showing 5 of 15). These functions will not be directly callable after loading.\n"
     ]
    },
    {
     "name": "stdout",
     "output_type": "stream",
     "text": [
      "INFO:tensorflow:Assets written to: 0920_seq2seq_tensorflow\\assets\n"
     ]
    },
    {
     "name": "stderr",
     "output_type": "stream",
     "text": [
      "INFO:tensorflow:Assets written to: 0920_seq2seq_tensorflow\\assets\n"
     ]
    },
    {
     "name": "stdout",
     "output_type": "stream",
     "text": [
      "3/3 [==============================] - 9s 4s/step - loss: 0.2187 - mae: 0.2187\n",
      "Epoch 71/1000\n",
      "3/3 [==============================] - ETA: 0s - loss: 0.2185 - mae: 0.2185WARNING:tensorflow:Skipping full serialization of Keras layer <keras.layers.core.activation.Activation object at 0x000001F54945FE80>, because it is not built.\n"
     ]
    },
    {
     "name": "stderr",
     "output_type": "stream",
     "text": [
      "WARNING:tensorflow:Skipping full serialization of Keras layer <keras.layers.core.activation.Activation object at 0x000001F54945FE80>, because it is not built.\n",
      "WARNING:absl:Found untraced functions such as _jit_compiled_convolution_op, _jit_compiled_convolution_op, _jit_compiled_convolution_op, lstm_cell_18_layer_call_fn, lstm_cell_18_layer_call_and_return_conditional_losses while saving (showing 5 of 15). These functions will not be directly callable after loading.\n"
     ]
    },
    {
     "name": "stdout",
     "output_type": "stream",
     "text": [
      "INFO:tensorflow:Assets written to: 0920_seq2seq_tensorflow\\assets\n"
     ]
    },
    {
     "name": "stderr",
     "output_type": "stream",
     "text": [
      "INFO:tensorflow:Assets written to: 0920_seq2seq_tensorflow\\assets\n"
     ]
    },
    {
     "name": "stdout",
     "output_type": "stream",
     "text": [
      "3/3 [==============================] - 12s 6s/step - loss: 0.2185 - mae: 0.2185\n",
      "Epoch 72/1000\n",
      "3/3 [==============================] - ETA: 0s - loss: 0.2184 - mae: 0.2184WARNING:tensorflow:Skipping full serialization of Keras layer <keras.layers.core.activation.Activation object at 0x000001F54945FE80>, because it is not built.\n"
     ]
    },
    {
     "name": "stderr",
     "output_type": "stream",
     "text": [
      "WARNING:tensorflow:Skipping full serialization of Keras layer <keras.layers.core.activation.Activation object at 0x000001F54945FE80>, because it is not built.\n",
      "WARNING:absl:Found untraced functions such as _jit_compiled_convolution_op, _jit_compiled_convolution_op, _jit_compiled_convolution_op, lstm_cell_18_layer_call_fn, lstm_cell_18_layer_call_and_return_conditional_losses while saving (showing 5 of 15). These functions will not be directly callable after loading.\n"
     ]
    },
    {
     "name": "stdout",
     "output_type": "stream",
     "text": [
      "INFO:tensorflow:Assets written to: 0920_seq2seq_tensorflow\\assets\n"
     ]
    },
    {
     "name": "stderr",
     "output_type": "stream",
     "text": [
      "INFO:tensorflow:Assets written to: 0920_seq2seq_tensorflow\\assets\n"
     ]
    },
    {
     "name": "stdout",
     "output_type": "stream",
     "text": [
      "3/3 [==============================] - 8s 4s/step - loss: 0.2184 - mae: 0.2184\n",
      "Epoch 73/1000\n",
      "3/3 [==============================] - ETA: 0s - loss: 0.2183 - mae: 0.2183WARNING:tensorflow:Skipping full serialization of Keras layer <keras.layers.core.activation.Activation object at 0x000001F54945FE80>, because it is not built.\n"
     ]
    },
    {
     "name": "stderr",
     "output_type": "stream",
     "text": [
      "WARNING:tensorflow:Skipping full serialization of Keras layer <keras.layers.core.activation.Activation object at 0x000001F54945FE80>, because it is not built.\n",
      "WARNING:absl:Found untraced functions such as _jit_compiled_convolution_op, _jit_compiled_convolution_op, _jit_compiled_convolution_op, lstm_cell_18_layer_call_fn, lstm_cell_18_layer_call_and_return_conditional_losses while saving (showing 5 of 15). These functions will not be directly callable after loading.\n"
     ]
    },
    {
     "name": "stdout",
     "output_type": "stream",
     "text": [
      "INFO:tensorflow:Assets written to: 0920_seq2seq_tensorflow\\assets\n"
     ]
    },
    {
     "name": "stderr",
     "output_type": "stream",
     "text": [
      "INFO:tensorflow:Assets written to: 0920_seq2seq_tensorflow\\assets\n"
     ]
    },
    {
     "name": "stdout",
     "output_type": "stream",
     "text": [
      "3/3 [==============================] - 8s 4s/step - loss: 0.2183 - mae: 0.2183\n",
      "Epoch 74/1000\n",
      "3/3 [==============================] - ETA: 0s - loss: 0.2181 - mae: 0.2181WARNING:tensorflow:Skipping full serialization of Keras layer <keras.layers.core.activation.Activation object at 0x000001F54945FE80>, because it is not built.\n"
     ]
    },
    {
     "name": "stderr",
     "output_type": "stream",
     "text": [
      "WARNING:tensorflow:Skipping full serialization of Keras layer <keras.layers.core.activation.Activation object at 0x000001F54945FE80>, because it is not built.\n",
      "WARNING:absl:Found untraced functions such as _jit_compiled_convolution_op, _jit_compiled_convolution_op, _jit_compiled_convolution_op, lstm_cell_18_layer_call_fn, lstm_cell_18_layer_call_and_return_conditional_losses while saving (showing 5 of 15). These functions will not be directly callable after loading.\n"
     ]
    },
    {
     "name": "stdout",
     "output_type": "stream",
     "text": [
      "INFO:tensorflow:Assets written to: 0920_seq2seq_tensorflow\\assets\n"
     ]
    },
    {
     "name": "stderr",
     "output_type": "stream",
     "text": [
      "INFO:tensorflow:Assets written to: 0920_seq2seq_tensorflow\\assets\n"
     ]
    },
    {
     "name": "stdout",
     "output_type": "stream",
     "text": [
      "3/3 [==============================] - 8s 4s/step - loss: 0.2181 - mae: 0.2181\n",
      "Epoch 75/1000\n",
      "3/3 [==============================] - ETA: 0s - loss: 0.2179 - mae: 0.2179WARNING:tensorflow:Skipping full serialization of Keras layer <keras.layers.core.activation.Activation object at 0x000001F54945FE80>, because it is not built.\n"
     ]
    },
    {
     "name": "stderr",
     "output_type": "stream",
     "text": [
      "WARNING:tensorflow:Skipping full serialization of Keras layer <keras.layers.core.activation.Activation object at 0x000001F54945FE80>, because it is not built.\n",
      "WARNING:absl:Found untraced functions such as _jit_compiled_convolution_op, _jit_compiled_convolution_op, _jit_compiled_convolution_op, lstm_cell_18_layer_call_fn, lstm_cell_18_layer_call_and_return_conditional_losses while saving (showing 5 of 15). These functions will not be directly callable after loading.\n"
     ]
    },
    {
     "name": "stdout",
     "output_type": "stream",
     "text": [
      "INFO:tensorflow:Assets written to: 0920_seq2seq_tensorflow\\assets\n"
     ]
    },
    {
     "name": "stderr",
     "output_type": "stream",
     "text": [
      "INFO:tensorflow:Assets written to: 0920_seq2seq_tensorflow\\assets\n"
     ]
    },
    {
     "name": "stdout",
     "output_type": "stream",
     "text": [
      "3/3 [==============================] - 12s 6s/step - loss: 0.2179 - mae: 0.2179\n",
      "Epoch 76/1000\n",
      "3/3 [==============================] - 0s 60ms/step - loss: 0.2181 - mae: 0.2181\n",
      "Epoch 77/1000\n",
      "3/3 [==============================] - ETA: 0s - loss: 0.2175 - mae: 0.2175WARNING:tensorflow:Skipping full serialization of Keras layer <keras.layers.core.activation.Activation object at 0x000001F54945FE80>, because it is not built.\n"
     ]
    },
    {
     "name": "stderr",
     "output_type": "stream",
     "text": [
      "WARNING:tensorflow:Skipping full serialization of Keras layer <keras.layers.core.activation.Activation object at 0x000001F54945FE80>, because it is not built.\n",
      "WARNING:absl:Found untraced functions such as _jit_compiled_convolution_op, _jit_compiled_convolution_op, _jit_compiled_convolution_op, lstm_cell_18_layer_call_fn, lstm_cell_18_layer_call_and_return_conditional_losses while saving (showing 5 of 15). These functions will not be directly callable after loading.\n"
     ]
    },
    {
     "name": "stdout",
     "output_type": "stream",
     "text": [
      "INFO:tensorflow:Assets written to: 0920_seq2seq_tensorflow\\assets\n"
     ]
    },
    {
     "name": "stderr",
     "output_type": "stream",
     "text": [
      "INFO:tensorflow:Assets written to: 0920_seq2seq_tensorflow\\assets\n"
     ]
    },
    {
     "name": "stdout",
     "output_type": "stream",
     "text": [
      "3/3 [==============================] - 8s 4s/step - loss: 0.2175 - mae: 0.2175\n",
      "Epoch 78/1000\n",
      "3/3 [==============================] - ETA: 0s - loss: 0.2175 - mae: 0.2175WARNING:tensorflow:Skipping full serialization of Keras layer <keras.layers.core.activation.Activation object at 0x000001F54945FE80>, because it is not built.\n"
     ]
    },
    {
     "name": "stderr",
     "output_type": "stream",
     "text": [
      "WARNING:tensorflow:Skipping full serialization of Keras layer <keras.layers.core.activation.Activation object at 0x000001F54945FE80>, because it is not built.\n",
      "WARNING:absl:Found untraced functions such as _jit_compiled_convolution_op, _jit_compiled_convolution_op, _jit_compiled_convolution_op, lstm_cell_18_layer_call_fn, lstm_cell_18_layer_call_and_return_conditional_losses while saving (showing 5 of 15). These functions will not be directly callable after loading.\n"
     ]
    },
    {
     "name": "stdout",
     "output_type": "stream",
     "text": [
      "INFO:tensorflow:Assets written to: 0920_seq2seq_tensorflow\\assets\n"
     ]
    },
    {
     "name": "stderr",
     "output_type": "stream",
     "text": [
      "INFO:tensorflow:Assets written to: 0920_seq2seq_tensorflow\\assets\n"
     ]
    },
    {
     "name": "stdout",
     "output_type": "stream",
     "text": [
      "3/3 [==============================] - 8s 4s/step - loss: 0.2175 - mae: 0.2175\n",
      "Epoch 79/1000\n",
      "3/3 [==============================] - ETA: 0s - loss: 0.2173 - mae: 0.2173WARNING:tensorflow:Skipping full serialization of Keras layer <keras.layers.core.activation.Activation object at 0x000001F54945FE80>, because it is not built.\n"
     ]
    },
    {
     "name": "stderr",
     "output_type": "stream",
     "text": [
      "WARNING:tensorflow:Skipping full serialization of Keras layer <keras.layers.core.activation.Activation object at 0x000001F54945FE80>, because it is not built.\n",
      "WARNING:absl:Found untraced functions such as _jit_compiled_convolution_op, _jit_compiled_convolution_op, _jit_compiled_convolution_op, lstm_cell_18_layer_call_fn, lstm_cell_18_layer_call_and_return_conditional_losses while saving (showing 5 of 15). These functions will not be directly callable after loading.\n"
     ]
    },
    {
     "name": "stdout",
     "output_type": "stream",
     "text": [
      "INFO:tensorflow:Assets written to: 0920_seq2seq_tensorflow\\assets\n"
     ]
    },
    {
     "name": "stderr",
     "output_type": "stream",
     "text": [
      "INFO:tensorflow:Assets written to: 0920_seq2seq_tensorflow\\assets\n"
     ]
    },
    {
     "name": "stdout",
     "output_type": "stream",
     "text": [
      "3/3 [==============================] - 8s 4s/step - loss: 0.2173 - mae: 0.2173\n",
      "Epoch 80/1000\n",
      "3/3 [==============================] - ETA: 0s - loss: 0.2171 - mae: 0.2171WARNING:tensorflow:Skipping full serialization of Keras layer <keras.layers.core.activation.Activation object at 0x000001F54945FE80>, because it is not built.\n"
     ]
    },
    {
     "name": "stderr",
     "output_type": "stream",
     "text": [
      "WARNING:tensorflow:Skipping full serialization of Keras layer <keras.layers.core.activation.Activation object at 0x000001F54945FE80>, because it is not built.\n",
      "WARNING:absl:Found untraced functions such as _jit_compiled_convolution_op, _jit_compiled_convolution_op, _jit_compiled_convolution_op, lstm_cell_18_layer_call_fn, lstm_cell_18_layer_call_and_return_conditional_losses while saving (showing 5 of 15). These functions will not be directly callable after loading.\n"
     ]
    },
    {
     "name": "stdout",
     "output_type": "stream",
     "text": [
      "INFO:tensorflow:Assets written to: 0920_seq2seq_tensorflow\\assets\n"
     ]
    },
    {
     "name": "stderr",
     "output_type": "stream",
     "text": [
      "INFO:tensorflow:Assets written to: 0920_seq2seq_tensorflow\\assets\n"
     ]
    },
    {
     "name": "stdout",
     "output_type": "stream",
     "text": [
      "3/3 [==============================] - 8s 4s/step - loss: 0.2171 - mae: 0.2171\n",
      "Epoch 81/1000\n",
      "3/3 [==============================] - ETA: 0s - loss: 0.2170 - mae: 0.2170WARNING:tensorflow:Skipping full serialization of Keras layer <keras.layers.core.activation.Activation object at 0x000001F54945FE80>, because it is not built.\n"
     ]
    },
    {
     "name": "stderr",
     "output_type": "stream",
     "text": [
      "WARNING:tensorflow:Skipping full serialization of Keras layer <keras.layers.core.activation.Activation object at 0x000001F54945FE80>, because it is not built.\n",
      "WARNING:absl:Found untraced functions such as _jit_compiled_convolution_op, _jit_compiled_convolution_op, _jit_compiled_convolution_op, lstm_cell_18_layer_call_fn, lstm_cell_18_layer_call_and_return_conditional_losses while saving (showing 5 of 15). These functions will not be directly callable after loading.\n"
     ]
    },
    {
     "name": "stdout",
     "output_type": "stream",
     "text": [
      "INFO:tensorflow:Assets written to: 0920_seq2seq_tensorflow\\assets\n"
     ]
    },
    {
     "name": "stderr",
     "output_type": "stream",
     "text": [
      "INFO:tensorflow:Assets written to: 0920_seq2seq_tensorflow\\assets\n"
     ]
    },
    {
     "name": "stdout",
     "output_type": "stream",
     "text": [
      "3/3 [==============================] - 11s 6s/step - loss: 0.2170 - mae: 0.2170\n",
      "Epoch 82/1000\n",
      "3/3 [==============================] - ETA: 0s - loss: 0.2167 - mae: 0.2167WARNING:tensorflow:Skipping full serialization of Keras layer <keras.layers.core.activation.Activation object at 0x000001F54945FE80>, because it is not built.\n"
     ]
    },
    {
     "name": "stderr",
     "output_type": "stream",
     "text": [
      "WARNING:tensorflow:Skipping full serialization of Keras layer <keras.layers.core.activation.Activation object at 0x000001F54945FE80>, because it is not built.\n",
      "WARNING:absl:Found untraced functions such as _jit_compiled_convolution_op, _jit_compiled_convolution_op, _jit_compiled_convolution_op, lstm_cell_18_layer_call_fn, lstm_cell_18_layer_call_and_return_conditional_losses while saving (showing 5 of 15). These functions will not be directly callable after loading.\n"
     ]
    },
    {
     "name": "stdout",
     "output_type": "stream",
     "text": [
      "INFO:tensorflow:Assets written to: 0920_seq2seq_tensorflow\\assets\n"
     ]
    },
    {
     "name": "stderr",
     "output_type": "stream",
     "text": [
      "INFO:tensorflow:Assets written to: 0920_seq2seq_tensorflow\\assets\n"
     ]
    },
    {
     "name": "stdout",
     "output_type": "stream",
     "text": [
      "3/3 [==============================] - 8s 4s/step - loss: 0.2167 - mae: 0.2167\n",
      "Epoch 83/1000\n",
      "3/3 [==============================] - ETA: 0s - loss: 0.2165 - mae: 0.2165WARNING:tensorflow:Skipping full serialization of Keras layer <keras.layers.core.activation.Activation object at 0x000001F54945FE80>, because it is not built.\n"
     ]
    },
    {
     "name": "stderr",
     "output_type": "stream",
     "text": [
      "WARNING:tensorflow:Skipping full serialization of Keras layer <keras.layers.core.activation.Activation object at 0x000001F54945FE80>, because it is not built.\n",
      "WARNING:absl:Found untraced functions such as _jit_compiled_convolution_op, _jit_compiled_convolution_op, _jit_compiled_convolution_op, lstm_cell_18_layer_call_fn, lstm_cell_18_layer_call_and_return_conditional_losses while saving (showing 5 of 15). These functions will not be directly callable after loading.\n"
     ]
    },
    {
     "name": "stdout",
     "output_type": "stream",
     "text": [
      "INFO:tensorflow:Assets written to: 0920_seq2seq_tensorflow\\assets\n"
     ]
    },
    {
     "name": "stderr",
     "output_type": "stream",
     "text": [
      "INFO:tensorflow:Assets written to: 0920_seq2seq_tensorflow\\assets\n"
     ]
    },
    {
     "name": "stdout",
     "output_type": "stream",
     "text": [
      "3/3 [==============================] - 8s 4s/step - loss: 0.2165 - mae: 0.2165\n",
      "Epoch 84/1000\n",
      "3/3 [==============================] - ETA: 0s - loss: 0.2163 - mae: 0.2163WARNING:tensorflow:Skipping full serialization of Keras layer <keras.layers.core.activation.Activation object at 0x000001F54945FE80>, because it is not built.\n"
     ]
    },
    {
     "name": "stderr",
     "output_type": "stream",
     "text": [
      "WARNING:tensorflow:Skipping full serialization of Keras layer <keras.layers.core.activation.Activation object at 0x000001F54945FE80>, because it is not built.\n",
      "WARNING:absl:Found untraced functions such as _jit_compiled_convolution_op, _jit_compiled_convolution_op, _jit_compiled_convolution_op, lstm_cell_18_layer_call_fn, lstm_cell_18_layer_call_and_return_conditional_losses while saving (showing 5 of 15). These functions will not be directly callable after loading.\n"
     ]
    },
    {
     "name": "stdout",
     "output_type": "stream",
     "text": [
      "INFO:tensorflow:Assets written to: 0920_seq2seq_tensorflow\\assets\n"
     ]
    },
    {
     "name": "stderr",
     "output_type": "stream",
     "text": [
      "INFO:tensorflow:Assets written to: 0920_seq2seq_tensorflow\\assets\n"
     ]
    },
    {
     "name": "stdout",
     "output_type": "stream",
     "text": [
      "3/3 [==============================] - 8s 4s/step - loss: 0.2163 - mae: 0.2163\n",
      "Epoch 85/1000\n",
      "3/3 [==============================] - 0s 61ms/step - loss: 0.2165 - mae: 0.2165\n",
      "Epoch 86/1000\n",
      "3/3 [==============================] - 0s 68ms/step - loss: 0.2166 - mae: 0.2166\n",
      "Epoch 87/1000\n",
      "3/3 [==============================] - ETA: 0s - loss: 0.2157 - mae: 0.2157WARNING:tensorflow:Skipping full serialization of Keras layer <keras.layers.core.activation.Activation object at 0x000001F54945FE80>, because it is not built.\n"
     ]
    },
    {
     "name": "stderr",
     "output_type": "stream",
     "text": [
      "WARNING:tensorflow:Skipping full serialization of Keras layer <keras.layers.core.activation.Activation object at 0x000001F54945FE80>, because it is not built.\n",
      "WARNING:absl:Found untraced functions such as _jit_compiled_convolution_op, _jit_compiled_convolution_op, _jit_compiled_convolution_op, lstm_cell_18_layer_call_fn, lstm_cell_18_layer_call_and_return_conditional_losses while saving (showing 5 of 15). These functions will not be directly callable after loading.\n"
     ]
    },
    {
     "name": "stdout",
     "output_type": "stream",
     "text": [
      "INFO:tensorflow:Assets written to: 0920_seq2seq_tensorflow\\assets\n"
     ]
    },
    {
     "name": "stderr",
     "output_type": "stream",
     "text": [
      "INFO:tensorflow:Assets written to: 0920_seq2seq_tensorflow\\assets\n"
     ]
    },
    {
     "name": "stdout",
     "output_type": "stream",
     "text": [
      "3/3 [==============================] - 12s 6s/step - loss: 0.2157 - mae: 0.2157\n",
      "Epoch 88/1000\n",
      "3/3 [==============================] - 0s 60ms/step - loss: 0.2160 - mae: 0.2160\n",
      "Epoch 89/1000\n",
      "3/3 [==============================] - ETA: 0s - loss: 0.2153 - mae: 0.2153WARNING:tensorflow:Skipping full serialization of Keras layer <keras.layers.core.activation.Activation object at 0x000001F54945FE80>, because it is not built.\n"
     ]
    },
    {
     "name": "stderr",
     "output_type": "stream",
     "text": [
      "WARNING:tensorflow:Skipping full serialization of Keras layer <keras.layers.core.activation.Activation object at 0x000001F54945FE80>, because it is not built.\n",
      "WARNING:absl:Found untraced functions such as _jit_compiled_convolution_op, _jit_compiled_convolution_op, _jit_compiled_convolution_op, lstm_cell_18_layer_call_fn, lstm_cell_18_layer_call_and_return_conditional_losses while saving (showing 5 of 15). These functions will not be directly callable after loading.\n"
     ]
    },
    {
     "name": "stdout",
     "output_type": "stream",
     "text": [
      "INFO:tensorflow:Assets written to: 0920_seq2seq_tensorflow\\assets\n"
     ]
    },
    {
     "name": "stderr",
     "output_type": "stream",
     "text": [
      "INFO:tensorflow:Assets written to: 0920_seq2seq_tensorflow\\assets\n"
     ]
    },
    {
     "name": "stdout",
     "output_type": "stream",
     "text": [
      "3/3 [==============================] - 8s 4s/step - loss: 0.2153 - mae: 0.2153\n",
      "Epoch 90/1000\n",
      "3/3 [==============================] - 0s 57ms/step - loss: 0.2154 - mae: 0.2154\n",
      "Epoch 91/1000\n",
      "3/3 [==============================] - ETA: 0s - loss: 0.2152 - mae: 0.2152WARNING:tensorflow:Skipping full serialization of Keras layer <keras.layers.core.activation.Activation object at 0x000001F54945FE80>, because it is not built.\n"
     ]
    },
    {
     "name": "stderr",
     "output_type": "stream",
     "text": [
      "WARNING:tensorflow:Skipping full serialization of Keras layer <keras.layers.core.activation.Activation object at 0x000001F54945FE80>, because it is not built.\n",
      "WARNING:absl:Found untraced functions such as _jit_compiled_convolution_op, _jit_compiled_convolution_op, _jit_compiled_convolution_op, lstm_cell_18_layer_call_fn, lstm_cell_18_layer_call_and_return_conditional_losses while saving (showing 5 of 15). These functions will not be directly callable after loading.\n"
     ]
    },
    {
     "name": "stdout",
     "output_type": "stream",
     "text": [
      "INFO:tensorflow:Assets written to: 0920_seq2seq_tensorflow\\assets\n"
     ]
    },
    {
     "name": "stderr",
     "output_type": "stream",
     "text": [
      "INFO:tensorflow:Assets written to: 0920_seq2seq_tensorflow\\assets\n"
     ]
    },
    {
     "name": "stdout",
     "output_type": "stream",
     "text": [
      "3/3 [==============================] - 8s 4s/step - loss: 0.2152 - mae: 0.2152\n",
      "Epoch 92/1000\n",
      "3/3 [==============================] - ETA: 0s - loss: 0.2149 - mae: 0.2149WARNING:tensorflow:Skipping full serialization of Keras layer <keras.layers.core.activation.Activation object at 0x000001F54945FE80>, because it is not built.\n"
     ]
    },
    {
     "name": "stderr",
     "output_type": "stream",
     "text": [
      "WARNING:tensorflow:Skipping full serialization of Keras layer <keras.layers.core.activation.Activation object at 0x000001F54945FE80>, because it is not built.\n",
      "WARNING:absl:Found untraced functions such as _jit_compiled_convolution_op, _jit_compiled_convolution_op, _jit_compiled_convolution_op, lstm_cell_18_layer_call_fn, lstm_cell_18_layer_call_and_return_conditional_losses while saving (showing 5 of 15). These functions will not be directly callable after loading.\n"
     ]
    },
    {
     "name": "stdout",
     "output_type": "stream",
     "text": [
      "INFO:tensorflow:Assets written to: 0920_seq2seq_tensorflow\\assets\n"
     ]
    },
    {
     "name": "stderr",
     "output_type": "stream",
     "text": [
      "INFO:tensorflow:Assets written to: 0920_seq2seq_tensorflow\\assets\n"
     ]
    },
    {
     "name": "stdout",
     "output_type": "stream",
     "text": [
      "3/3 [==============================] - 8s 4s/step - loss: 0.2149 - mae: 0.2149\n",
      "Epoch 93/1000\n",
      "3/3 [==============================] - ETA: 0s - loss: 0.2147 - mae: 0.2147WARNING:tensorflow:Skipping full serialization of Keras layer <keras.layers.core.activation.Activation object at 0x000001F54945FE80>, because it is not built.\n"
     ]
    },
    {
     "name": "stderr",
     "output_type": "stream",
     "text": [
      "WARNING:tensorflow:Skipping full serialization of Keras layer <keras.layers.core.activation.Activation object at 0x000001F54945FE80>, because it is not built.\n",
      "WARNING:absl:Found untraced functions such as _jit_compiled_convolution_op, _jit_compiled_convolution_op, _jit_compiled_convolution_op, lstm_cell_18_layer_call_fn, lstm_cell_18_layer_call_and_return_conditional_losses while saving (showing 5 of 15). These functions will not be directly callable after loading.\n"
     ]
    },
    {
     "name": "stdout",
     "output_type": "stream",
     "text": [
      "INFO:tensorflow:Assets written to: 0920_seq2seq_tensorflow\\assets\n"
     ]
    },
    {
     "name": "stderr",
     "output_type": "stream",
     "text": [
      "INFO:tensorflow:Assets written to: 0920_seq2seq_tensorflow\\assets\n"
     ]
    },
    {
     "name": "stdout",
     "output_type": "stream",
     "text": [
      "3/3 [==============================] - 8s 4s/step - loss: 0.2147 - mae: 0.2147\n",
      "Epoch 94/1000\n",
      "3/3 [==============================] - ETA: 0s - loss: 0.2145 - mae: 0.2145WARNING:tensorflow:Skipping full serialization of Keras layer <keras.layers.core.activation.Activation object at 0x000001F54945FE80>, because it is not built.\n"
     ]
    },
    {
     "name": "stderr",
     "output_type": "stream",
     "text": [
      "WARNING:tensorflow:Skipping full serialization of Keras layer <keras.layers.core.activation.Activation object at 0x000001F54945FE80>, because it is not built.\n",
      "WARNING:absl:Found untraced functions such as _jit_compiled_convolution_op, _jit_compiled_convolution_op, _jit_compiled_convolution_op, lstm_cell_18_layer_call_fn, lstm_cell_18_layer_call_and_return_conditional_losses while saving (showing 5 of 15). These functions will not be directly callable after loading.\n"
     ]
    },
    {
     "name": "stdout",
     "output_type": "stream",
     "text": [
      "INFO:tensorflow:Assets written to: 0920_seq2seq_tensorflow\\assets\n"
     ]
    },
    {
     "name": "stderr",
     "output_type": "stream",
     "text": [
      "INFO:tensorflow:Assets written to: 0920_seq2seq_tensorflow\\assets\n"
     ]
    },
    {
     "name": "stdout",
     "output_type": "stream",
     "text": [
      "3/3 [==============================] - 12s 6s/step - loss: 0.2145 - mae: 0.2145\n",
      "Epoch 95/1000\n",
      "3/3 [==============================] - ETA: 0s - loss: 0.2142 - mae: 0.2142WARNING:tensorflow:Skipping full serialization of Keras layer <keras.layers.core.activation.Activation object at 0x000001F54945FE80>, because it is not built.\n"
     ]
    },
    {
     "name": "stderr",
     "output_type": "stream",
     "text": [
      "WARNING:tensorflow:Skipping full serialization of Keras layer <keras.layers.core.activation.Activation object at 0x000001F54945FE80>, because it is not built.\n",
      "WARNING:absl:Found untraced functions such as _jit_compiled_convolution_op, _jit_compiled_convolution_op, _jit_compiled_convolution_op, lstm_cell_18_layer_call_fn, lstm_cell_18_layer_call_and_return_conditional_losses while saving (showing 5 of 15). These functions will not be directly callable after loading.\n"
     ]
    },
    {
     "name": "stdout",
     "output_type": "stream",
     "text": [
      "INFO:tensorflow:Assets written to: 0920_seq2seq_tensorflow\\assets\n"
     ]
    },
    {
     "name": "stderr",
     "output_type": "stream",
     "text": [
      "INFO:tensorflow:Assets written to: 0920_seq2seq_tensorflow\\assets\n"
     ]
    },
    {
     "name": "stdout",
     "output_type": "stream",
     "text": [
      "3/3 [==============================] - 8s 4s/step - loss: 0.2142 - mae: 0.2142\n",
      "Epoch 96/1000\n",
      "3/3 [==============================] - ETA: 0s - loss: 0.2139 - mae: 0.2139WARNING:tensorflow:Skipping full serialization of Keras layer <keras.layers.core.activation.Activation object at 0x000001F54945FE80>, because it is not built.\n"
     ]
    },
    {
     "name": "stderr",
     "output_type": "stream",
     "text": [
      "WARNING:tensorflow:Skipping full serialization of Keras layer <keras.layers.core.activation.Activation object at 0x000001F54945FE80>, because it is not built.\n",
      "WARNING:absl:Found untraced functions such as _jit_compiled_convolution_op, _jit_compiled_convolution_op, _jit_compiled_convolution_op, lstm_cell_18_layer_call_fn, lstm_cell_18_layer_call_and_return_conditional_losses while saving (showing 5 of 15). These functions will not be directly callable after loading.\n"
     ]
    },
    {
     "name": "stdout",
     "output_type": "stream",
     "text": [
      "INFO:tensorflow:Assets written to: 0920_seq2seq_tensorflow\\assets\n"
     ]
    },
    {
     "name": "stderr",
     "output_type": "stream",
     "text": [
      "INFO:tensorflow:Assets written to: 0920_seq2seq_tensorflow\\assets\n"
     ]
    },
    {
     "name": "stdout",
     "output_type": "stream",
     "text": [
      "3/3 [==============================] - 8s 4s/step - loss: 0.2139 - mae: 0.2139\n",
      "Epoch 97/1000\n",
      "3/3 [==============================] - ETA: 0s - loss: 0.2137 - mae: 0.2137WARNING:tensorflow:Skipping full serialization of Keras layer <keras.layers.core.activation.Activation object at 0x000001F54945FE80>, because it is not built.\n"
     ]
    },
    {
     "name": "stderr",
     "output_type": "stream",
     "text": [
      "WARNING:tensorflow:Skipping full serialization of Keras layer <keras.layers.core.activation.Activation object at 0x000001F54945FE80>, because it is not built.\n",
      "WARNING:absl:Found untraced functions such as _jit_compiled_convolution_op, _jit_compiled_convolution_op, _jit_compiled_convolution_op, lstm_cell_18_layer_call_fn, lstm_cell_18_layer_call_and_return_conditional_losses while saving (showing 5 of 15). These functions will not be directly callable after loading.\n"
     ]
    },
    {
     "name": "stdout",
     "output_type": "stream",
     "text": [
      "INFO:tensorflow:Assets written to: 0920_seq2seq_tensorflow\\assets\n"
     ]
    },
    {
     "name": "stderr",
     "output_type": "stream",
     "text": [
      "INFO:tensorflow:Assets written to: 0920_seq2seq_tensorflow\\assets\n"
     ]
    },
    {
     "name": "stdout",
     "output_type": "stream",
     "text": [
      "3/3 [==============================] - 8s 4s/step - loss: 0.2137 - mae: 0.2137\n",
      "Epoch 98/1000\n",
      "3/3 [==============================] - ETA: 0s - loss: 0.2135 - mae: 0.2135WARNING:tensorflow:Skipping full serialization of Keras layer <keras.layers.core.activation.Activation object at 0x000001F54945FE80>, because it is not built.\n"
     ]
    },
    {
     "name": "stderr",
     "output_type": "stream",
     "text": [
      "WARNING:tensorflow:Skipping full serialization of Keras layer <keras.layers.core.activation.Activation object at 0x000001F54945FE80>, because it is not built.\n",
      "WARNING:absl:Found untraced functions such as _jit_compiled_convolution_op, _jit_compiled_convolution_op, _jit_compiled_convolution_op, lstm_cell_18_layer_call_fn, lstm_cell_18_layer_call_and_return_conditional_losses while saving (showing 5 of 15). These functions will not be directly callable after loading.\n"
     ]
    },
    {
     "name": "stdout",
     "output_type": "stream",
     "text": [
      "INFO:tensorflow:Assets written to: 0920_seq2seq_tensorflow\\assets\n"
     ]
    },
    {
     "name": "stderr",
     "output_type": "stream",
     "text": [
      "INFO:tensorflow:Assets written to: 0920_seq2seq_tensorflow\\assets\n"
     ]
    },
    {
     "name": "stdout",
     "output_type": "stream",
     "text": [
      "3/3 [==============================] - 8s 4s/step - loss: 0.2135 - mae: 0.2135\n",
      "Epoch 99/1000\n",
      "3/3 [==============================] - ETA: 0s - loss: 0.2132 - mae: 0.2132WARNING:tensorflow:Skipping full serialization of Keras layer <keras.layers.core.activation.Activation object at 0x000001F54945FE80>, because it is not built.\n"
     ]
    },
    {
     "name": "stderr",
     "output_type": "stream",
     "text": [
      "WARNING:tensorflow:Skipping full serialization of Keras layer <keras.layers.core.activation.Activation object at 0x000001F54945FE80>, because it is not built.\n",
      "WARNING:absl:Found untraced functions such as _jit_compiled_convolution_op, _jit_compiled_convolution_op, _jit_compiled_convolution_op, lstm_cell_18_layer_call_fn, lstm_cell_18_layer_call_and_return_conditional_losses while saving (showing 5 of 15). These functions will not be directly callable after loading.\n"
     ]
    },
    {
     "name": "stdout",
     "output_type": "stream",
     "text": [
      "INFO:tensorflow:Assets written to: 0920_seq2seq_tensorflow\\assets\n"
     ]
    },
    {
     "name": "stderr",
     "output_type": "stream",
     "text": [
      "INFO:tensorflow:Assets written to: 0920_seq2seq_tensorflow\\assets\n"
     ]
    },
    {
     "name": "stdout",
     "output_type": "stream",
     "text": [
      "3/3 [==============================] - 12s 6s/step - loss: 0.2132 - mae: 0.2132\n",
      "Epoch 100/1000\n",
      "3/3 [==============================] - ETA: 0s - loss: 0.2130 - mae: 0.2130WARNING:tensorflow:Skipping full serialization of Keras layer <keras.layers.core.activation.Activation object at 0x000001F54945FE80>, because it is not built.\n"
     ]
    },
    {
     "name": "stderr",
     "output_type": "stream",
     "text": [
      "WARNING:tensorflow:Skipping full serialization of Keras layer <keras.layers.core.activation.Activation object at 0x000001F54945FE80>, because it is not built.\n",
      "WARNING:absl:Found untraced functions such as _jit_compiled_convolution_op, _jit_compiled_convolution_op, _jit_compiled_convolution_op, lstm_cell_18_layer_call_fn, lstm_cell_18_layer_call_and_return_conditional_losses while saving (showing 5 of 15). These functions will not be directly callable after loading.\n"
     ]
    },
    {
     "name": "stdout",
     "output_type": "stream",
     "text": [
      "INFO:tensorflow:Assets written to: 0920_seq2seq_tensorflow\\assets\n"
     ]
    },
    {
     "name": "stderr",
     "output_type": "stream",
     "text": [
      "INFO:tensorflow:Assets written to: 0920_seq2seq_tensorflow\\assets\n"
     ]
    },
    {
     "name": "stdout",
     "output_type": "stream",
     "text": [
      "3/3 [==============================] - 8s 4s/step - loss: 0.2130 - mae: 0.2130\n",
      "Epoch 101/1000\n",
      "3/3 [==============================] - 0s 62ms/step - loss: 0.2131 - mae: 0.2131\n",
      "Epoch 102/1000\n",
      "3/3 [==============================] - ETA: 0s - loss: 0.2130 - mae: 0.2130WARNING:tensorflow:Skipping full serialization of Keras layer <keras.layers.core.activation.Activation object at 0x000001F54945FE80>, because it is not built.\n"
     ]
    },
    {
     "name": "stderr",
     "output_type": "stream",
     "text": [
      "WARNING:tensorflow:Skipping full serialization of Keras layer <keras.layers.core.activation.Activation object at 0x000001F54945FE80>, because it is not built.\n",
      "WARNING:absl:Found untraced functions such as _jit_compiled_convolution_op, _jit_compiled_convolution_op, _jit_compiled_convolution_op, lstm_cell_18_layer_call_fn, lstm_cell_18_layer_call_and_return_conditional_losses while saving (showing 5 of 15). These functions will not be directly callable after loading.\n"
     ]
    },
    {
     "name": "stdout",
     "output_type": "stream",
     "text": [
      "INFO:tensorflow:Assets written to: 0920_seq2seq_tensorflow\\assets\n"
     ]
    },
    {
     "name": "stderr",
     "output_type": "stream",
     "text": [
      "INFO:tensorflow:Assets written to: 0920_seq2seq_tensorflow\\assets\n"
     ]
    },
    {
     "name": "stdout",
     "output_type": "stream",
     "text": [
      "3/3 [==============================] - 8s 4s/step - loss: 0.2130 - mae: 0.2130\n",
      "Epoch 103/1000\n",
      "3/3 [==============================] - ETA: 0s - loss: 0.2128 - mae: 0.2128WARNING:tensorflow:Skipping full serialization of Keras layer <keras.layers.core.activation.Activation object at 0x000001F54945FE80>, because it is not built.\n"
     ]
    },
    {
     "name": "stderr",
     "output_type": "stream",
     "text": [
      "WARNING:tensorflow:Skipping full serialization of Keras layer <keras.layers.core.activation.Activation object at 0x000001F54945FE80>, because it is not built.\n",
      "WARNING:absl:Found untraced functions such as _jit_compiled_convolution_op, _jit_compiled_convolution_op, _jit_compiled_convolution_op, lstm_cell_18_layer_call_fn, lstm_cell_18_layer_call_and_return_conditional_losses while saving (showing 5 of 15). These functions will not be directly callable after loading.\n"
     ]
    },
    {
     "name": "stdout",
     "output_type": "stream",
     "text": [
      "INFO:tensorflow:Assets written to: 0920_seq2seq_tensorflow\\assets\n"
     ]
    },
    {
     "name": "stderr",
     "output_type": "stream",
     "text": [
      "INFO:tensorflow:Assets written to: 0920_seq2seq_tensorflow\\assets\n"
     ]
    },
    {
     "name": "stdout",
     "output_type": "stream",
     "text": [
      "3/3 [==============================] - 8s 4s/step - loss: 0.2128 - mae: 0.2128\n",
      "Epoch 104/1000\n",
      "3/3 [==============================] - ETA: 0s - loss: 0.2126 - mae: 0.2126WARNING:tensorflow:Skipping full serialization of Keras layer <keras.layers.core.activation.Activation object at 0x000001F54945FE80>, because it is not built.\n"
     ]
    },
    {
     "name": "stderr",
     "output_type": "stream",
     "text": [
      "WARNING:tensorflow:Skipping full serialization of Keras layer <keras.layers.core.activation.Activation object at 0x000001F54945FE80>, because it is not built.\n",
      "WARNING:absl:Found untraced functions such as _jit_compiled_convolution_op, _jit_compiled_convolution_op, _jit_compiled_convolution_op, lstm_cell_18_layer_call_fn, lstm_cell_18_layer_call_and_return_conditional_losses while saving (showing 5 of 15). These functions will not be directly callable after loading.\n"
     ]
    },
    {
     "name": "stdout",
     "output_type": "stream",
     "text": [
      "INFO:tensorflow:Assets written to: 0920_seq2seq_tensorflow\\assets\n"
     ]
    },
    {
     "name": "stderr",
     "output_type": "stream",
     "text": [
      "INFO:tensorflow:Assets written to: 0920_seq2seq_tensorflow\\assets\n"
     ]
    },
    {
     "name": "stdout",
     "output_type": "stream",
     "text": [
      "3/3 [==============================] - 8s 4s/step - loss: 0.2126 - mae: 0.2126\n",
      "Epoch 105/1000\n",
      "3/3 [==============================] - ETA: 0s - loss: 0.2119 - mae: 0.2119WARNING:tensorflow:Skipping full serialization of Keras layer <keras.layers.core.activation.Activation object at 0x000001F54945FE80>, because it is not built.\n"
     ]
    },
    {
     "name": "stderr",
     "output_type": "stream",
     "text": [
      "WARNING:tensorflow:Skipping full serialization of Keras layer <keras.layers.core.activation.Activation object at 0x000001F54945FE80>, because it is not built.\n",
      "WARNING:absl:Found untraced functions such as _jit_compiled_convolution_op, _jit_compiled_convolution_op, _jit_compiled_convolution_op, lstm_cell_18_layer_call_fn, lstm_cell_18_layer_call_and_return_conditional_losses while saving (showing 5 of 15). These functions will not be directly callable after loading.\n"
     ]
    },
    {
     "name": "stdout",
     "output_type": "stream",
     "text": [
      "INFO:tensorflow:Assets written to: 0920_seq2seq_tensorflow\\assets\n"
     ]
    },
    {
     "name": "stderr",
     "output_type": "stream",
     "text": [
      "INFO:tensorflow:Assets written to: 0920_seq2seq_tensorflow\\assets\n"
     ]
    },
    {
     "name": "stdout",
     "output_type": "stream",
     "text": [
      "3/3 [==============================] - 8s 4s/step - loss: 0.2119 - mae: 0.2119\n",
      "Epoch 106/1000\n",
      "3/3 [==============================] - ETA: 0s - loss: 0.2117 - mae: 0.2117WARNING:tensorflow:Skipping full serialization of Keras layer <keras.layers.core.activation.Activation object at 0x000001F54945FE80>, because it is not built.\n"
     ]
    },
    {
     "name": "stderr",
     "output_type": "stream",
     "text": [
      "WARNING:tensorflow:Skipping full serialization of Keras layer <keras.layers.core.activation.Activation object at 0x000001F54945FE80>, because it is not built.\n",
      "WARNING:absl:Found untraced functions such as _jit_compiled_convolution_op, _jit_compiled_convolution_op, _jit_compiled_convolution_op, lstm_cell_18_layer_call_fn, lstm_cell_18_layer_call_and_return_conditional_losses while saving (showing 5 of 15). These functions will not be directly callable after loading.\n"
     ]
    },
    {
     "name": "stdout",
     "output_type": "stream",
     "text": [
      "INFO:tensorflow:Assets written to: 0920_seq2seq_tensorflow\\assets\n"
     ]
    },
    {
     "name": "stderr",
     "output_type": "stream",
     "text": [
      "INFO:tensorflow:Assets written to: 0920_seq2seq_tensorflow\\assets\n"
     ]
    },
    {
     "name": "stdout",
     "output_type": "stream",
     "text": [
      "3/3 [==============================] - 12s 6s/step - loss: 0.2117 - mae: 0.2117\n",
      "Epoch 107/1000\n",
      "3/3 [==============================] - ETA: 0s - loss: 0.2113 - mae: 0.2113WARNING:tensorflow:Skipping full serialization of Keras layer <keras.layers.core.activation.Activation object at 0x000001F54945FE80>, because it is not built.\n"
     ]
    },
    {
     "name": "stderr",
     "output_type": "stream",
     "text": [
      "WARNING:tensorflow:Skipping full serialization of Keras layer <keras.layers.core.activation.Activation object at 0x000001F54945FE80>, because it is not built.\n",
      "WARNING:absl:Found untraced functions such as _jit_compiled_convolution_op, _jit_compiled_convolution_op, _jit_compiled_convolution_op, lstm_cell_18_layer_call_fn, lstm_cell_18_layer_call_and_return_conditional_losses while saving (showing 5 of 15). These functions will not be directly callable after loading.\n"
     ]
    },
    {
     "name": "stdout",
     "output_type": "stream",
     "text": [
      "INFO:tensorflow:Assets written to: 0920_seq2seq_tensorflow\\assets\n"
     ]
    },
    {
     "name": "stderr",
     "output_type": "stream",
     "text": [
      "INFO:tensorflow:Assets written to: 0920_seq2seq_tensorflow\\assets\n"
     ]
    },
    {
     "name": "stdout",
     "output_type": "stream",
     "text": [
      "3/3 [==============================] - 8s 4s/step - loss: 0.2113 - mae: 0.2113\n",
      "Epoch 108/1000\n",
      "3/3 [==============================] - 0s 56ms/step - loss: 0.2114 - mae: 0.2114\n",
      "Epoch 109/1000\n",
      "3/3 [==============================] - ETA: 0s - loss: 0.2108 - mae: 0.2108WARNING:tensorflow:Skipping full serialization of Keras layer <keras.layers.core.activation.Activation object at 0x000001F54945FE80>, because it is not built.\n"
     ]
    },
    {
     "name": "stderr",
     "output_type": "stream",
     "text": [
      "WARNING:tensorflow:Skipping full serialization of Keras layer <keras.layers.core.activation.Activation object at 0x000001F54945FE80>, because it is not built.\n",
      "WARNING:absl:Found untraced functions such as _jit_compiled_convolution_op, _jit_compiled_convolution_op, _jit_compiled_convolution_op, lstm_cell_18_layer_call_fn, lstm_cell_18_layer_call_and_return_conditional_losses while saving (showing 5 of 15). These functions will not be directly callable after loading.\n"
     ]
    },
    {
     "name": "stdout",
     "output_type": "stream",
     "text": [
      "INFO:tensorflow:Assets written to: 0920_seq2seq_tensorflow\\assets\n"
     ]
    },
    {
     "name": "stderr",
     "output_type": "stream",
     "text": [
      "INFO:tensorflow:Assets written to: 0920_seq2seq_tensorflow\\assets\n"
     ]
    },
    {
     "name": "stdout",
     "output_type": "stream",
     "text": [
      "3/3 [==============================] - 8s 4s/step - loss: 0.2108 - mae: 0.2108\n",
      "Epoch 110/1000\n",
      "3/3 [==============================] - ETA: 0s - loss: 0.2106 - mae: 0.2106WARNING:tensorflow:Skipping full serialization of Keras layer <keras.layers.core.activation.Activation object at 0x000001F54945FE80>, because it is not built.\n"
     ]
    },
    {
     "name": "stderr",
     "output_type": "stream",
     "text": [
      "WARNING:tensorflow:Skipping full serialization of Keras layer <keras.layers.core.activation.Activation object at 0x000001F54945FE80>, because it is not built.\n",
      "WARNING:absl:Found untraced functions such as _jit_compiled_convolution_op, _jit_compiled_convolution_op, _jit_compiled_convolution_op, lstm_cell_18_layer_call_fn, lstm_cell_18_layer_call_and_return_conditional_losses while saving (showing 5 of 15). These functions will not be directly callable after loading.\n"
     ]
    },
    {
     "name": "stdout",
     "output_type": "stream",
     "text": [
      "INFO:tensorflow:Assets written to: 0920_seq2seq_tensorflow\\assets\n"
     ]
    },
    {
     "name": "stderr",
     "output_type": "stream",
     "text": [
      "INFO:tensorflow:Assets written to: 0920_seq2seq_tensorflow\\assets\n"
     ]
    },
    {
     "name": "stdout",
     "output_type": "stream",
     "text": [
      "3/3 [==============================] - 8s 4s/step - loss: 0.2106 - mae: 0.2106\n",
      "Epoch 111/1000\n",
      "3/3 [==============================] - ETA: 0s - loss: 0.2105 - mae: 0.2105WARNING:tensorflow:Skipping full serialization of Keras layer <keras.layers.core.activation.Activation object at 0x000001F54945FE80>, because it is not built.\n"
     ]
    },
    {
     "name": "stderr",
     "output_type": "stream",
     "text": [
      "WARNING:tensorflow:Skipping full serialization of Keras layer <keras.layers.core.activation.Activation object at 0x000001F54945FE80>, because it is not built.\n",
      "WARNING:absl:Found untraced functions such as _jit_compiled_convolution_op, _jit_compiled_convolution_op, _jit_compiled_convolution_op, lstm_cell_18_layer_call_fn, lstm_cell_18_layer_call_and_return_conditional_losses while saving (showing 5 of 15). These functions will not be directly callable after loading.\n"
     ]
    },
    {
     "name": "stdout",
     "output_type": "stream",
     "text": [
      "INFO:tensorflow:Assets written to: 0920_seq2seq_tensorflow\\assets\n"
     ]
    },
    {
     "name": "stderr",
     "output_type": "stream",
     "text": [
      "INFO:tensorflow:Assets written to: 0920_seq2seq_tensorflow\\assets\n"
     ]
    },
    {
     "name": "stdout",
     "output_type": "stream",
     "text": [
      "3/3 [==============================] - 8s 4s/step - loss: 0.2105 - mae: 0.2105\n",
      "Epoch 112/1000\n",
      "3/3 [==============================] - ETA: 0s - loss: 0.2101 - mae: 0.2101WARNING:tensorflow:Skipping full serialization of Keras layer <keras.layers.core.activation.Activation object at 0x000001F54945FE80>, because it is not built.\n"
     ]
    },
    {
     "name": "stderr",
     "output_type": "stream",
     "text": [
      "WARNING:tensorflow:Skipping full serialization of Keras layer <keras.layers.core.activation.Activation object at 0x000001F54945FE80>, because it is not built.\n",
      "WARNING:absl:Found untraced functions such as _jit_compiled_convolution_op, _jit_compiled_convolution_op, _jit_compiled_convolution_op, lstm_cell_18_layer_call_fn, lstm_cell_18_layer_call_and_return_conditional_losses while saving (showing 5 of 15). These functions will not be directly callable after loading.\n"
     ]
    },
    {
     "name": "stdout",
     "output_type": "stream",
     "text": [
      "INFO:tensorflow:Assets written to: 0920_seq2seq_tensorflow\\assets\n"
     ]
    },
    {
     "name": "stderr",
     "output_type": "stream",
     "text": [
      "INFO:tensorflow:Assets written to: 0920_seq2seq_tensorflow\\assets\n"
     ]
    },
    {
     "name": "stdout",
     "output_type": "stream",
     "text": [
      "3/3 [==============================] - 8s 4s/step - loss: 0.2101 - mae: 0.2101\n",
      "Epoch 113/1000\n",
      "3/3 [==============================] - ETA: 0s - loss: 0.2097 - mae: 0.2097WARNING:tensorflow:Skipping full serialization of Keras layer <keras.layers.core.activation.Activation object at 0x000001F54945FE80>, because it is not built.\n"
     ]
    },
    {
     "name": "stderr",
     "output_type": "stream",
     "text": [
      "WARNING:tensorflow:Skipping full serialization of Keras layer <keras.layers.core.activation.Activation object at 0x000001F54945FE80>, because it is not built.\n",
      "WARNING:absl:Found untraced functions such as _jit_compiled_convolution_op, _jit_compiled_convolution_op, _jit_compiled_convolution_op, lstm_cell_18_layer_call_fn, lstm_cell_18_layer_call_and_return_conditional_losses while saving (showing 5 of 15). These functions will not be directly callable after loading.\n"
     ]
    },
    {
     "name": "stdout",
     "output_type": "stream",
     "text": [
      "INFO:tensorflow:Assets written to: 0920_seq2seq_tensorflow\\assets\n"
     ]
    },
    {
     "name": "stderr",
     "output_type": "stream",
     "text": [
      "INFO:tensorflow:Assets written to: 0920_seq2seq_tensorflow\\assets\n"
     ]
    },
    {
     "name": "stdout",
     "output_type": "stream",
     "text": [
      "3/3 [==============================] - 12s 6s/step - loss: 0.2097 - mae: 0.2097\n",
      "Epoch 114/1000\n",
      "3/3 [==============================] - 0s 62ms/step - loss: 0.2098 - mae: 0.2098\n",
      "Epoch 115/1000\n",
      "3/3 [==============================] - ETA: 0s - loss: 0.2093 - mae: 0.2093WARNING:tensorflow:Skipping full serialization of Keras layer <keras.layers.core.activation.Activation object at 0x000001F54945FE80>, because it is not built.\n"
     ]
    },
    {
     "name": "stderr",
     "output_type": "stream",
     "text": [
      "WARNING:tensorflow:Skipping full serialization of Keras layer <keras.layers.core.activation.Activation object at 0x000001F54945FE80>, because it is not built.\n",
      "WARNING:absl:Found untraced functions such as _jit_compiled_convolution_op, _jit_compiled_convolution_op, _jit_compiled_convolution_op, lstm_cell_18_layer_call_fn, lstm_cell_18_layer_call_and_return_conditional_losses while saving (showing 5 of 15). These functions will not be directly callable after loading.\n"
     ]
    },
    {
     "name": "stdout",
     "output_type": "stream",
     "text": [
      "INFO:tensorflow:Assets written to: 0920_seq2seq_tensorflow\\assets\n"
     ]
    },
    {
     "name": "stderr",
     "output_type": "stream",
     "text": [
      "INFO:tensorflow:Assets written to: 0920_seq2seq_tensorflow\\assets\n"
     ]
    },
    {
     "name": "stdout",
     "output_type": "stream",
     "text": [
      "3/3 [==============================] - 8s 4s/step - loss: 0.2093 - mae: 0.2093\n",
      "Epoch 116/1000\n",
      "3/3 [==============================] - ETA: 0s - loss: 0.2091 - mae: 0.2091WARNING:tensorflow:Skipping full serialization of Keras layer <keras.layers.core.activation.Activation object at 0x000001F54945FE80>, because it is not built.\n"
     ]
    },
    {
     "name": "stderr",
     "output_type": "stream",
     "text": [
      "WARNING:tensorflow:Skipping full serialization of Keras layer <keras.layers.core.activation.Activation object at 0x000001F54945FE80>, because it is not built.\n",
      "WARNING:absl:Found untraced functions such as _jit_compiled_convolution_op, _jit_compiled_convolution_op, _jit_compiled_convolution_op, lstm_cell_18_layer_call_fn, lstm_cell_18_layer_call_and_return_conditional_losses while saving (showing 5 of 15). These functions will not be directly callable after loading.\n"
     ]
    },
    {
     "name": "stdout",
     "output_type": "stream",
     "text": [
      "INFO:tensorflow:Assets written to: 0920_seq2seq_tensorflow\\assets\n"
     ]
    },
    {
     "name": "stderr",
     "output_type": "stream",
     "text": [
      "INFO:tensorflow:Assets written to: 0920_seq2seq_tensorflow\\assets\n"
     ]
    },
    {
     "name": "stdout",
     "output_type": "stream",
     "text": [
      "3/3 [==============================] - 8s 4s/step - loss: 0.2091 - mae: 0.2091\n",
      "Epoch 117/1000\n",
      "3/3 [==============================] - ETA: 0s - loss: 0.2086 - mae: 0.2086WARNING:tensorflow:Skipping full serialization of Keras layer <keras.layers.core.activation.Activation object at 0x000001F54945FE80>, because it is not built.\n"
     ]
    },
    {
     "name": "stderr",
     "output_type": "stream",
     "text": [
      "WARNING:tensorflow:Skipping full serialization of Keras layer <keras.layers.core.activation.Activation object at 0x000001F54945FE80>, because it is not built.\n",
      "WARNING:absl:Found untraced functions such as _jit_compiled_convolution_op, _jit_compiled_convolution_op, _jit_compiled_convolution_op, lstm_cell_18_layer_call_fn, lstm_cell_18_layer_call_and_return_conditional_losses while saving (showing 5 of 15). These functions will not be directly callable after loading.\n"
     ]
    },
    {
     "name": "stdout",
     "output_type": "stream",
     "text": [
      "INFO:tensorflow:Assets written to: 0920_seq2seq_tensorflow\\assets\n"
     ]
    },
    {
     "name": "stderr",
     "output_type": "stream",
     "text": [
      "INFO:tensorflow:Assets written to: 0920_seq2seq_tensorflow\\assets\n"
     ]
    },
    {
     "name": "stdout",
     "output_type": "stream",
     "text": [
      "3/3 [==============================] - 8s 4s/step - loss: 0.2086 - mae: 0.2086\n",
      "Epoch 118/1000\n",
      "3/3 [==============================] - ETA: 0s - loss: 0.2084 - mae: 0.2084WARNING:tensorflow:Skipping full serialization of Keras layer <keras.layers.core.activation.Activation object at 0x000001F54945FE80>, because it is not built.\n"
     ]
    },
    {
     "name": "stderr",
     "output_type": "stream",
     "text": [
      "WARNING:tensorflow:Skipping full serialization of Keras layer <keras.layers.core.activation.Activation object at 0x000001F54945FE80>, because it is not built.\n",
      "WARNING:absl:Found untraced functions such as _jit_compiled_convolution_op, _jit_compiled_convolution_op, _jit_compiled_convolution_op, lstm_cell_18_layer_call_fn, lstm_cell_18_layer_call_and_return_conditional_losses while saving (showing 5 of 15). These functions will not be directly callable after loading.\n"
     ]
    },
    {
     "name": "stdout",
     "output_type": "stream",
     "text": [
      "INFO:tensorflow:Assets written to: 0920_seq2seq_tensorflow\\assets\n"
     ]
    },
    {
     "name": "stderr",
     "output_type": "stream",
     "text": [
      "INFO:tensorflow:Assets written to: 0920_seq2seq_tensorflow\\assets\n"
     ]
    },
    {
     "name": "stdout",
     "output_type": "stream",
     "text": [
      "3/3 [==============================] - 8s 4s/step - loss: 0.2084 - mae: 0.2084\n",
      "Epoch 119/1000\n",
      "3/3 [==============================] - ETA: 0s - loss: 0.2080 - mae: 0.2080WARNING:tensorflow:Skipping full serialization of Keras layer <keras.layers.core.activation.Activation object at 0x000001F54945FE80>, because it is not built.\n"
     ]
    },
    {
     "name": "stderr",
     "output_type": "stream",
     "text": [
      "WARNING:tensorflow:Skipping full serialization of Keras layer <keras.layers.core.activation.Activation object at 0x000001F54945FE80>, because it is not built.\n",
      "WARNING:absl:Found untraced functions such as _jit_compiled_convolution_op, _jit_compiled_convolution_op, _jit_compiled_convolution_op, lstm_cell_18_layer_call_fn, lstm_cell_18_layer_call_and_return_conditional_losses while saving (showing 5 of 15). These functions will not be directly callable after loading.\n"
     ]
    },
    {
     "name": "stdout",
     "output_type": "stream",
     "text": [
      "INFO:tensorflow:Assets written to: 0920_seq2seq_tensorflow\\assets\n"
     ]
    },
    {
     "name": "stderr",
     "output_type": "stream",
     "text": [
      "INFO:tensorflow:Assets written to: 0920_seq2seq_tensorflow\\assets\n"
     ]
    },
    {
     "name": "stdout",
     "output_type": "stream",
     "text": [
      "3/3 [==============================] - 9s 4s/step - loss: 0.2080 - mae: 0.2080\n",
      "Epoch 120/1000\n",
      "3/3 [==============================] - ETA: 0s - loss: 0.2078 - mae: 0.2078WARNING:tensorflow:Skipping full serialization of Keras layer <keras.layers.core.activation.Activation object at 0x000001F54945FE80>, because it is not built.\n"
     ]
    },
    {
     "name": "stderr",
     "output_type": "stream",
     "text": [
      "WARNING:tensorflow:Skipping full serialization of Keras layer <keras.layers.core.activation.Activation object at 0x000001F54945FE80>, because it is not built.\n",
      "WARNING:absl:Found untraced functions such as _jit_compiled_convolution_op, _jit_compiled_convolution_op, _jit_compiled_convolution_op, lstm_cell_18_layer_call_fn, lstm_cell_18_layer_call_and_return_conditional_losses while saving (showing 5 of 15). These functions will not be directly callable after loading.\n"
     ]
    },
    {
     "name": "stdout",
     "output_type": "stream",
     "text": [
      "INFO:tensorflow:Assets written to: 0920_seq2seq_tensorflow\\assets\n"
     ]
    },
    {
     "name": "stderr",
     "output_type": "stream",
     "text": [
      "INFO:tensorflow:Assets written to: 0920_seq2seq_tensorflow\\assets\n"
     ]
    },
    {
     "name": "stdout",
     "output_type": "stream",
     "text": [
      "3/3 [==============================] - 13s 6s/step - loss: 0.2078 - mae: 0.2078\n",
      "Epoch 121/1000\n",
      "3/3 [==============================] - ETA: 0s - loss: 0.2077 - mae: 0.2077WARNING:tensorflow:Skipping full serialization of Keras layer <keras.layers.core.activation.Activation object at 0x000001F54945FE80>, because it is not built.\n"
     ]
    },
    {
     "name": "stderr",
     "output_type": "stream",
     "text": [
      "WARNING:tensorflow:Skipping full serialization of Keras layer <keras.layers.core.activation.Activation object at 0x000001F54945FE80>, because it is not built.\n",
      "WARNING:absl:Found untraced functions such as _jit_compiled_convolution_op, _jit_compiled_convolution_op, _jit_compiled_convolution_op, lstm_cell_18_layer_call_fn, lstm_cell_18_layer_call_and_return_conditional_losses while saving (showing 5 of 15). These functions will not be directly callable after loading.\n"
     ]
    },
    {
     "name": "stdout",
     "output_type": "stream",
     "text": [
      "INFO:tensorflow:Assets written to: 0920_seq2seq_tensorflow\\assets\n"
     ]
    },
    {
     "name": "stderr",
     "output_type": "stream",
     "text": [
      "INFO:tensorflow:Assets written to: 0920_seq2seq_tensorflow\\assets\n"
     ]
    },
    {
     "name": "stdout",
     "output_type": "stream",
     "text": [
      "3/3 [==============================] - 8s 4s/step - loss: 0.2077 - mae: 0.2077\n",
      "Epoch 122/1000\n",
      "3/3 [==============================] - ETA: 0s - loss: 0.2074 - mae: 0.2074WARNING:tensorflow:Skipping full serialization of Keras layer <keras.layers.core.activation.Activation object at 0x000001F54945FE80>, because it is not built.\n"
     ]
    },
    {
     "name": "stderr",
     "output_type": "stream",
     "text": [
      "WARNING:tensorflow:Skipping full serialization of Keras layer <keras.layers.core.activation.Activation object at 0x000001F54945FE80>, because it is not built.\n",
      "WARNING:absl:Found untraced functions such as _jit_compiled_convolution_op, _jit_compiled_convolution_op, _jit_compiled_convolution_op, lstm_cell_18_layer_call_fn, lstm_cell_18_layer_call_and_return_conditional_losses while saving (showing 5 of 15). These functions will not be directly callable after loading.\n"
     ]
    },
    {
     "name": "stdout",
     "output_type": "stream",
     "text": [
      "INFO:tensorflow:Assets written to: 0920_seq2seq_tensorflow\\assets\n"
     ]
    },
    {
     "name": "stderr",
     "output_type": "stream",
     "text": [
      "INFO:tensorflow:Assets written to: 0920_seq2seq_tensorflow\\assets\n"
     ]
    },
    {
     "name": "stdout",
     "output_type": "stream",
     "text": [
      "3/3 [==============================] - 8s 4s/step - loss: 0.2074 - mae: 0.2074\n",
      "Epoch 123/1000\n",
      "3/3 [==============================] - 0s 56ms/step - loss: 0.2074 - mae: 0.2074\n",
      "Epoch 124/1000\n",
      "3/3 [==============================] - 0s 60ms/step - loss: 0.2086 - mae: 0.2086\n",
      "Epoch 125/1000\n",
      "3/3 [==============================] - 0s 61ms/step - loss: 0.2093 - mae: 0.2093\n",
      "Epoch 126/1000\n",
      "3/3 [==============================] - 0s 57ms/step - loss: 0.2077 - mae: 0.2077\n",
      "Epoch 127/1000\n",
      "3/3 [==============================] - ETA: 0s - loss: 0.2065 - mae: 0.2065WARNING:tensorflow:Skipping full serialization of Keras layer <keras.layers.core.activation.Activation object at 0x000001F54945FE80>, because it is not built.\n"
     ]
    },
    {
     "name": "stderr",
     "output_type": "stream",
     "text": [
      "WARNING:tensorflow:Skipping full serialization of Keras layer <keras.layers.core.activation.Activation object at 0x000001F54945FE80>, because it is not built.\n",
      "WARNING:absl:Found untraced functions such as _jit_compiled_convolution_op, _jit_compiled_convolution_op, _jit_compiled_convolution_op, lstm_cell_18_layer_call_fn, lstm_cell_18_layer_call_and_return_conditional_losses while saving (showing 5 of 15). These functions will not be directly callable after loading.\n"
     ]
    },
    {
     "name": "stdout",
     "output_type": "stream",
     "text": [
      "INFO:tensorflow:Assets written to: 0920_seq2seq_tensorflow\\assets\n"
     ]
    },
    {
     "name": "stderr",
     "output_type": "stream",
     "text": [
      "INFO:tensorflow:Assets written to: 0920_seq2seq_tensorflow\\assets\n"
     ]
    },
    {
     "name": "stdout",
     "output_type": "stream",
     "text": [
      "3/3 [==============================] - 8s 4s/step - loss: 0.2065 - mae: 0.2065\n",
      "Epoch 128/1000\n",
      "3/3 [==============================] - 0s 60ms/step - loss: 0.2072 - mae: 0.2072\n",
      "Epoch 129/1000\n",
      "3/3 [==============================] - ETA: 0s - loss: 0.2062 - mae: 0.2062WARNING:tensorflow:Skipping full serialization of Keras layer <keras.layers.core.activation.Activation object at 0x000001F54945FE80>, because it is not built.\n"
     ]
    },
    {
     "name": "stderr",
     "output_type": "stream",
     "text": [
      "WARNING:tensorflow:Skipping full serialization of Keras layer <keras.layers.core.activation.Activation object at 0x000001F54945FE80>, because it is not built.\n",
      "WARNING:absl:Found untraced functions such as _jit_compiled_convolution_op, _jit_compiled_convolution_op, _jit_compiled_convolution_op, lstm_cell_18_layer_call_fn, lstm_cell_18_layer_call_and_return_conditional_losses while saving (showing 5 of 15). These functions will not be directly callable after loading.\n"
     ]
    },
    {
     "name": "stdout",
     "output_type": "stream",
     "text": [
      "INFO:tensorflow:Assets written to: 0920_seq2seq_tensorflow\\assets\n"
     ]
    },
    {
     "name": "stderr",
     "output_type": "stream",
     "text": [
      "INFO:tensorflow:Assets written to: 0920_seq2seq_tensorflow\\assets\n"
     ]
    },
    {
     "name": "stdout",
     "output_type": "stream",
     "text": [
      "3/3 [==============================] - 8s 4s/step - loss: 0.2062 - mae: 0.2062\n",
      "Epoch 130/1000\n",
      "3/3 [==============================] - ETA: 0s - loss: 0.2060 - mae: 0.2060WARNING:tensorflow:Skipping full serialization of Keras layer <keras.layers.core.activation.Activation object at 0x000001F54945FE80>, because it is not built.\n"
     ]
    },
    {
     "name": "stderr",
     "output_type": "stream",
     "text": [
      "WARNING:tensorflow:Skipping full serialization of Keras layer <keras.layers.core.activation.Activation object at 0x000001F54945FE80>, because it is not built.\n",
      "WARNING:absl:Found untraced functions such as _jit_compiled_convolution_op, _jit_compiled_convolution_op, _jit_compiled_convolution_op, lstm_cell_18_layer_call_fn, lstm_cell_18_layer_call_and_return_conditional_losses while saving (showing 5 of 15). These functions will not be directly callable after loading.\n"
     ]
    },
    {
     "name": "stdout",
     "output_type": "stream",
     "text": [
      "INFO:tensorflow:Assets written to: 0920_seq2seq_tensorflow\\assets\n"
     ]
    },
    {
     "name": "stderr",
     "output_type": "stream",
     "text": [
      "INFO:tensorflow:Assets written to: 0920_seq2seq_tensorflow\\assets\n"
     ]
    },
    {
     "name": "stdout",
     "output_type": "stream",
     "text": [
      "3/3 [==============================] - 8s 4s/step - loss: 0.2060 - mae: 0.2060\n",
      "Epoch 131/1000\n",
      "3/3 [==============================] - ETA: 0s - loss: 0.2052 - mae: 0.2052WARNING:tensorflow:Skipping full serialization of Keras layer <keras.layers.core.activation.Activation object at 0x000001F54945FE80>, because it is not built.\n"
     ]
    },
    {
     "name": "stderr",
     "output_type": "stream",
     "text": [
      "WARNING:tensorflow:Skipping full serialization of Keras layer <keras.layers.core.activation.Activation object at 0x000001F54945FE80>, because it is not built.\n",
      "WARNING:absl:Found untraced functions such as _jit_compiled_convolution_op, _jit_compiled_convolution_op, _jit_compiled_convolution_op, lstm_cell_18_layer_call_fn, lstm_cell_18_layer_call_and_return_conditional_losses while saving (showing 5 of 15). These functions will not be directly callable after loading.\n"
     ]
    },
    {
     "name": "stdout",
     "output_type": "stream",
     "text": [
      "INFO:tensorflow:Assets written to: 0920_seq2seq_tensorflow\\assets\n"
     ]
    },
    {
     "name": "stderr",
     "output_type": "stream",
     "text": [
      "INFO:tensorflow:Assets written to: 0920_seq2seq_tensorflow\\assets\n"
     ]
    },
    {
     "name": "stdout",
     "output_type": "stream",
     "text": [
      "3/3 [==============================] - 13s 6s/step - loss: 0.2052 - mae: 0.2052\n",
      "Epoch 132/1000\n",
      "3/3 [==============================] - 0s 58ms/step - loss: 0.2052 - mae: 0.2052\n",
      "Epoch 133/1000\n",
      "3/3 [==============================] - ETA: 0s - loss: 0.2052 - mae: 0.2052WARNING:tensorflow:Skipping full serialization of Keras layer <keras.layers.core.activation.Activation object at 0x000001F54945FE80>, because it is not built.\n"
     ]
    },
    {
     "name": "stderr",
     "output_type": "stream",
     "text": [
      "WARNING:tensorflow:Skipping full serialization of Keras layer <keras.layers.core.activation.Activation object at 0x000001F54945FE80>, because it is not built.\n",
      "WARNING:absl:Found untraced functions such as _jit_compiled_convolution_op, _jit_compiled_convolution_op, _jit_compiled_convolution_op, lstm_cell_18_layer_call_fn, lstm_cell_18_layer_call_and_return_conditional_losses while saving (showing 5 of 15). These functions will not be directly callable after loading.\n"
     ]
    },
    {
     "name": "stdout",
     "output_type": "stream",
     "text": [
      "INFO:tensorflow:Assets written to: 0920_seq2seq_tensorflow\\assets\n"
     ]
    },
    {
     "name": "stderr",
     "output_type": "stream",
     "text": [
      "INFO:tensorflow:Assets written to: 0920_seq2seq_tensorflow\\assets\n"
     ]
    },
    {
     "name": "stdout",
     "output_type": "stream",
     "text": [
      "3/3 [==============================] - 8s 4s/step - loss: 0.2052 - mae: 0.2052\n",
      "Epoch 134/1000\n",
      "3/3 [==============================] - ETA: 0s - loss: 0.2047 - mae: 0.2047WARNING:tensorflow:Skipping full serialization of Keras layer <keras.layers.core.activation.Activation object at 0x000001F54945FE80>, because it is not built.\n"
     ]
    },
    {
     "name": "stderr",
     "output_type": "stream",
     "text": [
      "WARNING:tensorflow:Skipping full serialization of Keras layer <keras.layers.core.activation.Activation object at 0x000001F54945FE80>, because it is not built.\n",
      "WARNING:absl:Found untraced functions such as _jit_compiled_convolution_op, _jit_compiled_convolution_op, _jit_compiled_convolution_op, lstm_cell_18_layer_call_fn, lstm_cell_18_layer_call_and_return_conditional_losses while saving (showing 5 of 15). These functions will not be directly callable after loading.\n"
     ]
    },
    {
     "name": "stdout",
     "output_type": "stream",
     "text": [
      "INFO:tensorflow:Assets written to: 0920_seq2seq_tensorflow\\assets\n"
     ]
    },
    {
     "name": "stderr",
     "output_type": "stream",
     "text": [
      "INFO:tensorflow:Assets written to: 0920_seq2seq_tensorflow\\assets\n"
     ]
    },
    {
     "name": "stdout",
     "output_type": "stream",
     "text": [
      "3/3 [==============================] - 8s 4s/step - loss: 0.2047 - mae: 0.2047\n",
      "Epoch 135/1000\n",
      "3/3 [==============================] - ETA: 0s - loss: 0.2043 - mae: 0.2043WARNING:tensorflow:Skipping full serialization of Keras layer <keras.layers.core.activation.Activation object at 0x000001F54945FE80>, because it is not built.\n"
     ]
    },
    {
     "name": "stderr",
     "output_type": "stream",
     "text": [
      "WARNING:tensorflow:Skipping full serialization of Keras layer <keras.layers.core.activation.Activation object at 0x000001F54945FE80>, because it is not built.\n",
      "WARNING:absl:Found untraced functions such as _jit_compiled_convolution_op, _jit_compiled_convolution_op, _jit_compiled_convolution_op, lstm_cell_18_layer_call_fn, lstm_cell_18_layer_call_and_return_conditional_losses while saving (showing 5 of 15). These functions will not be directly callable after loading.\n"
     ]
    },
    {
     "name": "stdout",
     "output_type": "stream",
     "text": [
      "INFO:tensorflow:Assets written to: 0920_seq2seq_tensorflow\\assets\n"
     ]
    },
    {
     "name": "stderr",
     "output_type": "stream",
     "text": [
      "INFO:tensorflow:Assets written to: 0920_seq2seq_tensorflow\\assets\n"
     ]
    },
    {
     "name": "stdout",
     "output_type": "stream",
     "text": [
      "3/3 [==============================] - 8s 4s/step - loss: 0.2043 - mae: 0.2043\n",
      "Epoch 136/1000\n",
      "3/3 [==============================] - ETA: 0s - loss: 0.2042 - mae: 0.2042WARNING:tensorflow:Skipping full serialization of Keras layer <keras.layers.core.activation.Activation object at 0x000001F54945FE80>, because it is not built.\n"
     ]
    },
    {
     "name": "stderr",
     "output_type": "stream",
     "text": [
      "WARNING:tensorflow:Skipping full serialization of Keras layer <keras.layers.core.activation.Activation object at 0x000001F54945FE80>, because it is not built.\n",
      "WARNING:absl:Found untraced functions such as _jit_compiled_convolution_op, _jit_compiled_convolution_op, _jit_compiled_convolution_op, lstm_cell_18_layer_call_fn, lstm_cell_18_layer_call_and_return_conditional_losses while saving (showing 5 of 15). These functions will not be directly callable after loading.\n"
     ]
    },
    {
     "name": "stdout",
     "output_type": "stream",
     "text": [
      "INFO:tensorflow:Assets written to: 0920_seq2seq_tensorflow\\assets\n"
     ]
    },
    {
     "name": "stderr",
     "output_type": "stream",
     "text": [
      "INFO:tensorflow:Assets written to: 0920_seq2seq_tensorflow\\assets\n"
     ]
    },
    {
     "name": "stdout",
     "output_type": "stream",
     "text": [
      "3/3 [==============================] - 8s 4s/step - loss: 0.2042 - mae: 0.2042\n",
      "Epoch 137/1000\n",
      "3/3 [==============================] - ETA: 0s - loss: 0.2040 - mae: 0.2040WARNING:tensorflow:Skipping full serialization of Keras layer <keras.layers.core.activation.Activation object at 0x000001F54945FE80>, because it is not built.\n"
     ]
    },
    {
     "name": "stderr",
     "output_type": "stream",
     "text": [
      "WARNING:tensorflow:Skipping full serialization of Keras layer <keras.layers.core.activation.Activation object at 0x000001F54945FE80>, because it is not built.\n",
      "WARNING:absl:Found untraced functions such as _jit_compiled_convolution_op, _jit_compiled_convolution_op, _jit_compiled_convolution_op, lstm_cell_18_layer_call_fn, lstm_cell_18_layer_call_and_return_conditional_losses while saving (showing 5 of 15). These functions will not be directly callable after loading.\n"
     ]
    },
    {
     "name": "stdout",
     "output_type": "stream",
     "text": [
      "INFO:tensorflow:Assets written to: 0920_seq2seq_tensorflow\\assets\n"
     ]
    },
    {
     "name": "stderr",
     "output_type": "stream",
     "text": [
      "INFO:tensorflow:Assets written to: 0920_seq2seq_tensorflow\\assets\n"
     ]
    },
    {
     "name": "stdout",
     "output_type": "stream",
     "text": [
      "3/3 [==============================] - 9s 5s/step - loss: 0.2040 - mae: 0.2040\n",
      "Epoch 138/1000\n",
      "3/3 [==============================] - ETA: 0s - loss: 0.2036 - mae: 0.2036WARNING:tensorflow:Skipping full serialization of Keras layer <keras.layers.core.activation.Activation object at 0x000001F54945FE80>, because it is not built.\n"
     ]
    },
    {
     "name": "stderr",
     "output_type": "stream",
     "text": [
      "WARNING:tensorflow:Skipping full serialization of Keras layer <keras.layers.core.activation.Activation object at 0x000001F54945FE80>, because it is not built.\n",
      "WARNING:absl:Found untraced functions such as _jit_compiled_convolution_op, _jit_compiled_convolution_op, _jit_compiled_convolution_op, lstm_cell_18_layer_call_fn, lstm_cell_18_layer_call_and_return_conditional_losses while saving (showing 5 of 15). These functions will not be directly callable after loading.\n"
     ]
    },
    {
     "name": "stdout",
     "output_type": "stream",
     "text": [
      "INFO:tensorflow:Assets written to: 0920_seq2seq_tensorflow\\assets\n"
     ]
    },
    {
     "name": "stderr",
     "output_type": "stream",
     "text": [
      "INFO:tensorflow:Assets written to: 0920_seq2seq_tensorflow\\assets\n"
     ]
    },
    {
     "name": "stdout",
     "output_type": "stream",
     "text": [
      "3/3 [==============================] - 13s 7s/step - loss: 0.2036 - mae: 0.2036\n",
      "Epoch 139/1000\n",
      "3/3 [==============================] - ETA: 0s - loss: 0.2036 - mae: 0.2036WARNING:tensorflow:Skipping full serialization of Keras layer <keras.layers.core.activation.Activation object at 0x000001F54945FE80>, because it is not built.\n"
     ]
    },
    {
     "name": "stderr",
     "output_type": "stream",
     "text": [
      "WARNING:tensorflow:Skipping full serialization of Keras layer <keras.layers.core.activation.Activation object at 0x000001F54945FE80>, because it is not built.\n",
      "WARNING:absl:Found untraced functions such as _jit_compiled_convolution_op, _jit_compiled_convolution_op, _jit_compiled_convolution_op, lstm_cell_18_layer_call_fn, lstm_cell_18_layer_call_and_return_conditional_losses while saving (showing 5 of 15). These functions will not be directly callable after loading.\n"
     ]
    },
    {
     "name": "stdout",
     "output_type": "stream",
     "text": [
      "INFO:tensorflow:Assets written to: 0920_seq2seq_tensorflow\\assets\n"
     ]
    },
    {
     "name": "stderr",
     "output_type": "stream",
     "text": [
      "INFO:tensorflow:Assets written to: 0920_seq2seq_tensorflow\\assets\n"
     ]
    },
    {
     "name": "stdout",
     "output_type": "stream",
     "text": [
      "3/3 [==============================] - 8s 4s/step - loss: 0.2036 - mae: 0.2036\n",
      "Epoch 140/1000\n",
      "3/3 [==============================] - ETA: 0s - loss: 0.2034 - mae: 0.2034WARNING:tensorflow:Skipping full serialization of Keras layer <keras.layers.core.activation.Activation object at 0x000001F54945FE80>, because it is not built.\n"
     ]
    },
    {
     "name": "stderr",
     "output_type": "stream",
     "text": [
      "WARNING:tensorflow:Skipping full serialization of Keras layer <keras.layers.core.activation.Activation object at 0x000001F54945FE80>, because it is not built.\n",
      "WARNING:absl:Found untraced functions such as _jit_compiled_convolution_op, _jit_compiled_convolution_op, _jit_compiled_convolution_op, lstm_cell_18_layer_call_fn, lstm_cell_18_layer_call_and_return_conditional_losses while saving (showing 5 of 15). These functions will not be directly callable after loading.\n"
     ]
    },
    {
     "name": "stdout",
     "output_type": "stream",
     "text": [
      "INFO:tensorflow:Assets written to: 0920_seq2seq_tensorflow\\assets\n"
     ]
    },
    {
     "name": "stderr",
     "output_type": "stream",
     "text": [
      "INFO:tensorflow:Assets written to: 0920_seq2seq_tensorflow\\assets\n"
     ]
    },
    {
     "name": "stdout",
     "output_type": "stream",
     "text": [
      "3/3 [==============================] - 8s 4s/step - loss: 0.2034 - mae: 0.2034\n",
      "Epoch 141/1000\n",
      "3/3 [==============================] - ETA: 0s - loss: 0.2028 - mae: 0.2028WARNING:tensorflow:Skipping full serialization of Keras layer <keras.layers.core.activation.Activation object at 0x000001F54945FE80>, because it is not built.\n"
     ]
    },
    {
     "name": "stderr",
     "output_type": "stream",
     "text": [
      "WARNING:tensorflow:Skipping full serialization of Keras layer <keras.layers.core.activation.Activation object at 0x000001F54945FE80>, because it is not built.\n",
      "WARNING:absl:Found untraced functions such as _jit_compiled_convolution_op, _jit_compiled_convolution_op, _jit_compiled_convolution_op, lstm_cell_18_layer_call_fn, lstm_cell_18_layer_call_and_return_conditional_losses while saving (showing 5 of 15). These functions will not be directly callable after loading.\n"
     ]
    },
    {
     "name": "stdout",
     "output_type": "stream",
     "text": [
      "INFO:tensorflow:Assets written to: 0920_seq2seq_tensorflow\\assets\n"
     ]
    },
    {
     "name": "stderr",
     "output_type": "stream",
     "text": [
      "INFO:tensorflow:Assets written to: 0920_seq2seq_tensorflow\\assets\n"
     ]
    },
    {
     "name": "stdout",
     "output_type": "stream",
     "text": [
      "3/3 [==============================] - 8s 4s/step - loss: 0.2028 - mae: 0.2028\n",
      "Epoch 142/1000\n",
      "3/3 [==============================] - ETA: 0s - loss: 0.2024 - mae: 0.2024WARNING:tensorflow:Skipping full serialization of Keras layer <keras.layers.core.activation.Activation object at 0x000001F54945FE80>, because it is not built.\n"
     ]
    },
    {
     "name": "stderr",
     "output_type": "stream",
     "text": [
      "WARNING:tensorflow:Skipping full serialization of Keras layer <keras.layers.core.activation.Activation object at 0x000001F54945FE80>, because it is not built.\n",
      "WARNING:absl:Found untraced functions such as _jit_compiled_convolution_op, _jit_compiled_convolution_op, _jit_compiled_convolution_op, lstm_cell_18_layer_call_fn, lstm_cell_18_layer_call_and_return_conditional_losses while saving (showing 5 of 15). These functions will not be directly callable after loading.\n"
     ]
    },
    {
     "name": "stdout",
     "output_type": "stream",
     "text": [
      "INFO:tensorflow:Assets written to: 0920_seq2seq_tensorflow\\assets\n"
     ]
    },
    {
     "name": "stderr",
     "output_type": "stream",
     "text": [
      "INFO:tensorflow:Assets written to: 0920_seq2seq_tensorflow\\assets\n"
     ]
    },
    {
     "name": "stdout",
     "output_type": "stream",
     "text": [
      "3/3 [==============================] - 8s 4s/step - loss: 0.2024 - mae: 0.2024\n",
      "Epoch 143/1000\n",
      "3/3 [==============================] - ETA: 0s - loss: 0.2024 - mae: 0.2024WARNING:tensorflow:Skipping full serialization of Keras layer <keras.layers.core.activation.Activation object at 0x000001F54945FE80>, because it is not built.\n"
     ]
    },
    {
     "name": "stderr",
     "output_type": "stream",
     "text": [
      "WARNING:tensorflow:Skipping full serialization of Keras layer <keras.layers.core.activation.Activation object at 0x000001F54945FE80>, because it is not built.\n",
      "WARNING:absl:Found untraced functions such as _jit_compiled_convolution_op, _jit_compiled_convolution_op, _jit_compiled_convolution_op, lstm_cell_18_layer_call_fn, lstm_cell_18_layer_call_and_return_conditional_losses while saving (showing 5 of 15). These functions will not be directly callable after loading.\n"
     ]
    },
    {
     "name": "stdout",
     "output_type": "stream",
     "text": [
      "INFO:tensorflow:Assets written to: 0920_seq2seq_tensorflow\\assets\n"
     ]
    },
    {
     "name": "stderr",
     "output_type": "stream",
     "text": [
      "INFO:tensorflow:Assets written to: 0920_seq2seq_tensorflow\\assets\n"
     ]
    },
    {
     "name": "stdout",
     "output_type": "stream",
     "text": [
      "3/3 [==============================] - 8s 4s/step - loss: 0.2024 - mae: 0.2024\n",
      "Epoch 144/1000\n",
      "3/3 [==============================] - ETA: 0s - loss: 0.2021 - mae: 0.2021WARNING:tensorflow:Skipping full serialization of Keras layer <keras.layers.core.activation.Activation object at 0x000001F54945FE80>, because it is not built.\n"
     ]
    },
    {
     "name": "stderr",
     "output_type": "stream",
     "text": [
      "WARNING:tensorflow:Skipping full serialization of Keras layer <keras.layers.core.activation.Activation object at 0x000001F54945FE80>, because it is not built.\n",
      "WARNING:absl:Found untraced functions such as _jit_compiled_convolution_op, _jit_compiled_convolution_op, _jit_compiled_convolution_op, lstm_cell_18_layer_call_fn, lstm_cell_18_layer_call_and_return_conditional_losses while saving (showing 5 of 15). These functions will not be directly callable after loading.\n"
     ]
    },
    {
     "name": "stdout",
     "output_type": "stream",
     "text": [
      "INFO:tensorflow:Assets written to: 0920_seq2seq_tensorflow\\assets\n"
     ]
    },
    {
     "name": "stderr",
     "output_type": "stream",
     "text": [
      "INFO:tensorflow:Assets written to: 0920_seq2seq_tensorflow\\assets\n"
     ]
    },
    {
     "name": "stdout",
     "output_type": "stream",
     "text": [
      "3/3 [==============================] - 8s 4s/step - loss: 0.2021 - mae: 0.2021\n",
      "Epoch 145/1000\n",
      "3/3 [==============================] - ETA: 0s - loss: 0.2020 - mae: 0.2020WARNING:tensorflow:Skipping full serialization of Keras layer <keras.layers.core.activation.Activation object at 0x000001F54945FE80>, because it is not built.\n"
     ]
    },
    {
     "name": "stderr",
     "output_type": "stream",
     "text": [
      "WARNING:tensorflow:Skipping full serialization of Keras layer <keras.layers.core.activation.Activation object at 0x000001F54945FE80>, because it is not built.\n",
      "WARNING:absl:Found untraced functions such as _jit_compiled_convolution_op, _jit_compiled_convolution_op, _jit_compiled_convolution_op, lstm_cell_18_layer_call_fn, lstm_cell_18_layer_call_and_return_conditional_losses while saving (showing 5 of 15). These functions will not be directly callable after loading.\n"
     ]
    },
    {
     "name": "stdout",
     "output_type": "stream",
     "text": [
      "INFO:tensorflow:Assets written to: 0920_seq2seq_tensorflow\\assets\n"
     ]
    },
    {
     "name": "stderr",
     "output_type": "stream",
     "text": [
      "INFO:tensorflow:Assets written to: 0920_seq2seq_tensorflow\\assets\n"
     ]
    },
    {
     "name": "stdout",
     "output_type": "stream",
     "text": [
      "3/3 [==============================] - 8s 4s/step - loss: 0.2020 - mae: 0.2020\n",
      "Epoch 146/1000\n",
      "3/3 [==============================] - 0s 59ms/step - loss: 0.2022 - mae: 0.2022\n",
      "Epoch 147/1000\n",
      "3/3 [==============================] - ETA: 0s - loss: 0.2016 - mae: 0.2016WARNING:tensorflow:Skipping full serialization of Keras layer <keras.layers.core.activation.Activation object at 0x000001F54945FE80>, because it is not built.\n"
     ]
    },
    {
     "name": "stderr",
     "output_type": "stream",
     "text": [
      "WARNING:tensorflow:Skipping full serialization of Keras layer <keras.layers.core.activation.Activation object at 0x000001F54945FE80>, because it is not built.\n",
      "WARNING:absl:Found untraced functions such as _jit_compiled_convolution_op, _jit_compiled_convolution_op, _jit_compiled_convolution_op, lstm_cell_18_layer_call_fn, lstm_cell_18_layer_call_and_return_conditional_losses while saving (showing 5 of 15). These functions will not be directly callable after loading.\n"
     ]
    },
    {
     "name": "stdout",
     "output_type": "stream",
     "text": [
      "INFO:tensorflow:Assets written to: 0920_seq2seq_tensorflow\\assets\n"
     ]
    },
    {
     "name": "stderr",
     "output_type": "stream",
     "text": [
      "INFO:tensorflow:Assets written to: 0920_seq2seq_tensorflow\\assets\n"
     ]
    },
    {
     "name": "stdout",
     "output_type": "stream",
     "text": [
      "3/3 [==============================] - 14s 7s/step - loss: 0.2016 - mae: 0.2016\n",
      "Epoch 148/1000\n",
      "3/3 [==============================] - ETA: 0s - loss: 0.2013 - mae: 0.2013WARNING:tensorflow:Skipping full serialization of Keras layer <keras.layers.core.activation.Activation object at 0x000001F54945FE80>, because it is not built.\n"
     ]
    },
    {
     "name": "stderr",
     "output_type": "stream",
     "text": [
      "WARNING:tensorflow:Skipping full serialization of Keras layer <keras.layers.core.activation.Activation object at 0x000001F54945FE80>, because it is not built.\n",
      "WARNING:absl:Found untraced functions such as _jit_compiled_convolution_op, _jit_compiled_convolution_op, _jit_compiled_convolution_op, lstm_cell_18_layer_call_fn, lstm_cell_18_layer_call_and_return_conditional_losses while saving (showing 5 of 15). These functions will not be directly callable after loading.\n"
     ]
    },
    {
     "name": "stdout",
     "output_type": "stream",
     "text": [
      "INFO:tensorflow:Assets written to: 0920_seq2seq_tensorflow\\assets\n"
     ]
    },
    {
     "name": "stderr",
     "output_type": "stream",
     "text": [
      "INFO:tensorflow:Assets written to: 0920_seq2seq_tensorflow\\assets\n"
     ]
    },
    {
     "name": "stdout",
     "output_type": "stream",
     "text": [
      "3/3 [==============================] - 8s 4s/step - loss: 0.2013 - mae: 0.2013\n",
      "Epoch 149/1000\n",
      "3/3 [==============================] - ETA: 0s - loss: 0.2010 - mae: 0.2010WARNING:tensorflow:Skipping full serialization of Keras layer <keras.layers.core.activation.Activation object at 0x000001F54945FE80>, because it is not built.\n"
     ]
    },
    {
     "name": "stderr",
     "output_type": "stream",
     "text": [
      "WARNING:tensorflow:Skipping full serialization of Keras layer <keras.layers.core.activation.Activation object at 0x000001F54945FE80>, because it is not built.\n",
      "WARNING:absl:Found untraced functions such as _jit_compiled_convolution_op, _jit_compiled_convolution_op, _jit_compiled_convolution_op, lstm_cell_18_layer_call_fn, lstm_cell_18_layer_call_and_return_conditional_losses while saving (showing 5 of 15). These functions will not be directly callable after loading.\n"
     ]
    },
    {
     "name": "stdout",
     "output_type": "stream",
     "text": [
      "INFO:tensorflow:Assets written to: 0920_seq2seq_tensorflow\\assets\n"
     ]
    },
    {
     "name": "stderr",
     "output_type": "stream",
     "text": [
      "INFO:tensorflow:Assets written to: 0920_seq2seq_tensorflow\\assets\n"
     ]
    },
    {
     "name": "stdout",
     "output_type": "stream",
     "text": [
      "3/3 [==============================] - 8s 4s/step - loss: 0.2010 - mae: 0.2010\n",
      "Epoch 150/1000\n",
      "3/3 [==============================] - ETA: 0s - loss: 0.2006 - mae: 0.2006WARNING:tensorflow:Skipping full serialization of Keras layer <keras.layers.core.activation.Activation object at 0x000001F54945FE80>, because it is not built.\n"
     ]
    },
    {
     "name": "stderr",
     "output_type": "stream",
     "text": [
      "WARNING:tensorflow:Skipping full serialization of Keras layer <keras.layers.core.activation.Activation object at 0x000001F54945FE80>, because it is not built.\n",
      "WARNING:absl:Found untraced functions such as _jit_compiled_convolution_op, _jit_compiled_convolution_op, _jit_compiled_convolution_op, lstm_cell_18_layer_call_fn, lstm_cell_18_layer_call_and_return_conditional_losses while saving (showing 5 of 15). These functions will not be directly callable after loading.\n"
     ]
    },
    {
     "name": "stdout",
     "output_type": "stream",
     "text": [
      "INFO:tensorflow:Assets written to: 0920_seq2seq_tensorflow\\assets\n"
     ]
    },
    {
     "name": "stderr",
     "output_type": "stream",
     "text": [
      "INFO:tensorflow:Assets written to: 0920_seq2seq_tensorflow\\assets\n"
     ]
    },
    {
     "name": "stdout",
     "output_type": "stream",
     "text": [
      "3/3 [==============================] - 8s 4s/step - loss: 0.2006 - mae: 0.2006\n",
      "Epoch 151/1000\n",
      "3/3 [==============================] - ETA: 0s - loss: 0.2005 - mae: 0.2005WARNING:tensorflow:Skipping full serialization of Keras layer <keras.layers.core.activation.Activation object at 0x000001F54945FE80>, because it is not built.\n"
     ]
    },
    {
     "name": "stderr",
     "output_type": "stream",
     "text": [
      "WARNING:tensorflow:Skipping full serialization of Keras layer <keras.layers.core.activation.Activation object at 0x000001F54945FE80>, because it is not built.\n",
      "WARNING:absl:Found untraced functions such as _jit_compiled_convolution_op, _jit_compiled_convolution_op, _jit_compiled_convolution_op, lstm_cell_18_layer_call_fn, lstm_cell_18_layer_call_and_return_conditional_losses while saving (showing 5 of 15). These functions will not be directly callable after loading.\n"
     ]
    },
    {
     "name": "stdout",
     "output_type": "stream",
     "text": [
      "INFO:tensorflow:Assets written to: 0920_seq2seq_tensorflow\\assets\n"
     ]
    },
    {
     "name": "stderr",
     "output_type": "stream",
     "text": [
      "INFO:tensorflow:Assets written to: 0920_seq2seq_tensorflow\\assets\n"
     ]
    },
    {
     "name": "stdout",
     "output_type": "stream",
     "text": [
      "3/3 [==============================] - 8s 4s/step - loss: 0.2005 - mae: 0.2005\n",
      "Epoch 152/1000\n",
      "3/3 [==============================] - 0s 59ms/step - loss: 0.2009 - mae: 0.2009\n",
      "Epoch 153/1000\n",
      "3/3 [==============================] - 0s 59ms/step - loss: 0.2005 - mae: 0.2005\n",
      "Epoch 154/1000\n",
      "3/3 [==============================] - ETA: 0s - loss: 0.2003 - mae: 0.2003WARNING:tensorflow:Skipping full serialization of Keras layer <keras.layers.core.activation.Activation object at 0x000001F54945FE80>, because it is not built.\n"
     ]
    },
    {
     "name": "stderr",
     "output_type": "stream",
     "text": [
      "WARNING:tensorflow:Skipping full serialization of Keras layer <keras.layers.core.activation.Activation object at 0x000001F54945FE80>, because it is not built.\n",
      "WARNING:absl:Found untraced functions such as _jit_compiled_convolution_op, _jit_compiled_convolution_op, _jit_compiled_convolution_op, lstm_cell_18_layer_call_fn, lstm_cell_18_layer_call_and_return_conditional_losses while saving (showing 5 of 15). These functions will not be directly callable after loading.\n"
     ]
    },
    {
     "name": "stdout",
     "output_type": "stream",
     "text": [
      "INFO:tensorflow:Assets written to: 0920_seq2seq_tensorflow\\assets\n"
     ]
    },
    {
     "name": "stderr",
     "output_type": "stream",
     "text": [
      "INFO:tensorflow:Assets written to: 0920_seq2seq_tensorflow\\assets\n"
     ]
    },
    {
     "name": "stdout",
     "output_type": "stream",
     "text": [
      "3/3 [==============================] - 8s 4s/step - loss: 0.2003 - mae: 0.2003\n",
      "Epoch 155/1000\n",
      "3/3 [==============================] - ETA: 0s - loss: 0.1996 - mae: 0.1996WARNING:tensorflow:Skipping full serialization of Keras layer <keras.layers.core.activation.Activation object at 0x000001F54945FE80>, because it is not built.\n"
     ]
    },
    {
     "name": "stderr",
     "output_type": "stream",
     "text": [
      "WARNING:tensorflow:Skipping full serialization of Keras layer <keras.layers.core.activation.Activation object at 0x000001F54945FE80>, because it is not built.\n",
      "WARNING:absl:Found untraced functions such as _jit_compiled_convolution_op, _jit_compiled_convolution_op, _jit_compiled_convolution_op, lstm_cell_18_layer_call_fn, lstm_cell_18_layer_call_and_return_conditional_losses while saving (showing 5 of 15). These functions will not be directly callable after loading.\n"
     ]
    },
    {
     "name": "stdout",
     "output_type": "stream",
     "text": [
      "INFO:tensorflow:Assets written to: 0920_seq2seq_tensorflow\\assets\n"
     ]
    },
    {
     "name": "stderr",
     "output_type": "stream",
     "text": [
      "INFO:tensorflow:Assets written to: 0920_seq2seq_tensorflow\\assets\n"
     ]
    },
    {
     "name": "stdout",
     "output_type": "stream",
     "text": [
      "3/3 [==============================] - 8s 4s/step - loss: 0.1996 - mae: 0.1996\n",
      "Epoch 156/1000\n",
      "3/3 [==============================] - ETA: 0s - loss: 0.1995 - mae: 0.1995WARNING:tensorflow:Skipping full serialization of Keras layer <keras.layers.core.activation.Activation object at 0x000001F54945FE80>, because it is not built.\n"
     ]
    },
    {
     "name": "stderr",
     "output_type": "stream",
     "text": [
      "WARNING:tensorflow:Skipping full serialization of Keras layer <keras.layers.core.activation.Activation object at 0x000001F54945FE80>, because it is not built.\n",
      "WARNING:absl:Found untraced functions such as _jit_compiled_convolution_op, _jit_compiled_convolution_op, _jit_compiled_convolution_op, lstm_cell_18_layer_call_fn, lstm_cell_18_layer_call_and_return_conditional_losses while saving (showing 5 of 15). These functions will not be directly callable after loading.\n"
     ]
    },
    {
     "name": "stdout",
     "output_type": "stream",
     "text": [
      "INFO:tensorflow:Assets written to: 0920_seq2seq_tensorflow\\assets\n"
     ]
    },
    {
     "name": "stderr",
     "output_type": "stream",
     "text": [
      "INFO:tensorflow:Assets written to: 0920_seq2seq_tensorflow\\assets\n"
     ]
    },
    {
     "name": "stdout",
     "output_type": "stream",
     "text": [
      "3/3 [==============================] - 14s 7s/step - loss: 0.1995 - mae: 0.1995\n",
      "Epoch 157/1000\n",
      "3/3 [==============================] - 0s 57ms/step - loss: 0.2007 - mae: 0.2007\n",
      "Epoch 158/1000\n",
      "3/3 [==============================] - ETA: 0s - loss: 0.1992 - mae: 0.1992WARNING:tensorflow:Skipping full serialization of Keras layer <keras.layers.core.activation.Activation object at 0x000001F54945FE80>, because it is not built.\n"
     ]
    },
    {
     "name": "stderr",
     "output_type": "stream",
     "text": [
      "WARNING:tensorflow:Skipping full serialization of Keras layer <keras.layers.core.activation.Activation object at 0x000001F54945FE80>, because it is not built.\n",
      "WARNING:absl:Found untraced functions such as _jit_compiled_convolution_op, _jit_compiled_convolution_op, _jit_compiled_convolution_op, lstm_cell_18_layer_call_fn, lstm_cell_18_layer_call_and_return_conditional_losses while saving (showing 5 of 15). These functions will not be directly callable after loading.\n"
     ]
    },
    {
     "name": "stdout",
     "output_type": "stream",
     "text": [
      "INFO:tensorflow:Assets written to: 0920_seq2seq_tensorflow\\assets\n"
     ]
    },
    {
     "name": "stderr",
     "output_type": "stream",
     "text": [
      "INFO:tensorflow:Assets written to: 0920_seq2seq_tensorflow\\assets\n"
     ]
    },
    {
     "name": "stdout",
     "output_type": "stream",
     "text": [
      "3/3 [==============================] - 8s 4s/step - loss: 0.1992 - mae: 0.1992\n",
      "Epoch 159/1000\n",
      "3/3 [==============================] - 0s 55ms/step - loss: 0.1995 - mae: 0.1995\n",
      "Epoch 160/1000\n",
      "3/3 [==============================] - 0s 56ms/step - loss: 0.1993 - mae: 0.1993\n",
      "Epoch 161/1000\n",
      "3/3 [==============================] - 0s 60ms/step - loss: 0.1993 - mae: 0.1993\n",
      "Epoch 162/1000\n",
      "3/3 [==============================] - ETA: 0s - loss: 0.1991 - mae: 0.1991WARNING:tensorflow:Skipping full serialization of Keras layer <keras.layers.core.activation.Activation object at 0x000001F54945FE80>, because it is not built.\n"
     ]
    },
    {
     "name": "stderr",
     "output_type": "stream",
     "text": [
      "WARNING:tensorflow:Skipping full serialization of Keras layer <keras.layers.core.activation.Activation object at 0x000001F54945FE80>, because it is not built.\n",
      "WARNING:absl:Found untraced functions such as _jit_compiled_convolution_op, _jit_compiled_convolution_op, _jit_compiled_convolution_op, lstm_cell_18_layer_call_fn, lstm_cell_18_layer_call_and_return_conditional_losses while saving (showing 5 of 15). These functions will not be directly callable after loading.\n"
     ]
    },
    {
     "name": "stdout",
     "output_type": "stream",
     "text": [
      "INFO:tensorflow:Assets written to: 0920_seq2seq_tensorflow\\assets\n"
     ]
    },
    {
     "name": "stderr",
     "output_type": "stream",
     "text": [
      "INFO:tensorflow:Assets written to: 0920_seq2seq_tensorflow\\assets\n"
     ]
    },
    {
     "name": "stdout",
     "output_type": "stream",
     "text": [
      "3/3 [==============================] - 8s 4s/step - loss: 0.1991 - mae: 0.1991\n",
      "Epoch 163/1000\n",
      "3/3 [==============================] - ETA: 0s - loss: 0.1983 - mae: 0.1983WARNING:tensorflow:Skipping full serialization of Keras layer <keras.layers.core.activation.Activation object at 0x000001F54945FE80>, because it is not built.\n"
     ]
    },
    {
     "name": "stderr",
     "output_type": "stream",
     "text": [
      "WARNING:tensorflow:Skipping full serialization of Keras layer <keras.layers.core.activation.Activation object at 0x000001F54945FE80>, because it is not built.\n",
      "WARNING:absl:Found untraced functions such as _jit_compiled_convolution_op, _jit_compiled_convolution_op, _jit_compiled_convolution_op, lstm_cell_18_layer_call_fn, lstm_cell_18_layer_call_and_return_conditional_losses while saving (showing 5 of 15). These functions will not be directly callable after loading.\n"
     ]
    },
    {
     "name": "stdout",
     "output_type": "stream",
     "text": [
      "INFO:tensorflow:Assets written to: 0920_seq2seq_tensorflow\\assets\n"
     ]
    },
    {
     "name": "stderr",
     "output_type": "stream",
     "text": [
      "INFO:tensorflow:Assets written to: 0920_seq2seq_tensorflow\\assets\n"
     ]
    },
    {
     "name": "stdout",
     "output_type": "stream",
     "text": [
      "3/3 [==============================] - 8s 4s/step - loss: 0.1983 - mae: 0.1983\n",
      "Epoch 164/1000\n",
      "3/3 [==============================] - 0s 57ms/step - loss: 0.1988 - mae: 0.1988\n",
      "Epoch 165/1000\n",
      "3/3 [==============================] - 0s 56ms/step - loss: 0.1995 - mae: 0.1995\n",
      "Epoch 166/1000\n",
      "3/3 [==============================] - 0s 61ms/step - loss: 0.1985 - mae: 0.1985\n",
      "Epoch 167/1000\n",
      "3/3 [==============================] - ETA: 0s - loss: 0.1972 - mae: 0.1972WARNING:tensorflow:Skipping full serialization of Keras layer <keras.layers.core.activation.Activation object at 0x000001F54945FE80>, because it is not built.\n"
     ]
    },
    {
     "name": "stderr",
     "output_type": "stream",
     "text": [
      "WARNING:tensorflow:Skipping full serialization of Keras layer <keras.layers.core.activation.Activation object at 0x000001F54945FE80>, because it is not built.\n",
      "WARNING:absl:Found untraced functions such as _jit_compiled_convolution_op, _jit_compiled_convolution_op, _jit_compiled_convolution_op, lstm_cell_18_layer_call_fn, lstm_cell_18_layer_call_and_return_conditional_losses while saving (showing 5 of 15). These functions will not be directly callable after loading.\n"
     ]
    },
    {
     "name": "stdout",
     "output_type": "stream",
     "text": [
      "INFO:tensorflow:Assets written to: 0920_seq2seq_tensorflow\\assets\n"
     ]
    },
    {
     "name": "stderr",
     "output_type": "stream",
     "text": [
      "INFO:tensorflow:Assets written to: 0920_seq2seq_tensorflow\\assets\n"
     ]
    },
    {
     "name": "stdout",
     "output_type": "stream",
     "text": [
      "3/3 [==============================] - 8s 4s/step - loss: 0.1972 - mae: 0.1972\n",
      "Epoch 168/1000\n",
      "3/3 [==============================] - 0s 56ms/step - loss: 0.1988 - mae: 0.1988\n",
      "Epoch 169/1000\n",
      "3/3 [==============================] - ETA: 0s - loss: 0.1969 - mae: 0.1969WARNING:tensorflow:Skipping full serialization of Keras layer <keras.layers.core.activation.Activation object at 0x000001F54945FE80>, because it is not built.\n"
     ]
    },
    {
     "name": "stderr",
     "output_type": "stream",
     "text": [
      "WARNING:tensorflow:Skipping full serialization of Keras layer <keras.layers.core.activation.Activation object at 0x000001F54945FE80>, because it is not built.\n",
      "WARNING:absl:Found untraced functions such as _jit_compiled_convolution_op, _jit_compiled_convolution_op, _jit_compiled_convolution_op, lstm_cell_18_layer_call_fn, lstm_cell_18_layer_call_and_return_conditional_losses while saving (showing 5 of 15). These functions will not be directly callable after loading.\n"
     ]
    },
    {
     "name": "stdout",
     "output_type": "stream",
     "text": [
      "INFO:tensorflow:Assets written to: 0920_seq2seq_tensorflow\\assets\n"
     ]
    },
    {
     "name": "stderr",
     "output_type": "stream",
     "text": [
      "INFO:tensorflow:Assets written to: 0920_seq2seq_tensorflow\\assets\n"
     ]
    },
    {
     "name": "stdout",
     "output_type": "stream",
     "text": [
      "3/3 [==============================] - 8s 4s/step - loss: 0.1969 - mae: 0.1969\n",
      "Epoch 170/1000\n",
      "3/3 [==============================] - ETA: 0s - loss: 0.1968 - mae: 0.1968WARNING:tensorflow:Skipping full serialization of Keras layer <keras.layers.core.activation.Activation object at 0x000001F54945FE80>, because it is not built.\n"
     ]
    },
    {
     "name": "stderr",
     "output_type": "stream",
     "text": [
      "WARNING:tensorflow:Skipping full serialization of Keras layer <keras.layers.core.activation.Activation object at 0x000001F54945FE80>, because it is not built.\n",
      "WARNING:absl:Found untraced functions such as _jit_compiled_convolution_op, _jit_compiled_convolution_op, _jit_compiled_convolution_op, lstm_cell_18_layer_call_fn, lstm_cell_18_layer_call_and_return_conditional_losses while saving (showing 5 of 15). These functions will not be directly callable after loading.\n"
     ]
    },
    {
     "name": "stdout",
     "output_type": "stream",
     "text": [
      "INFO:tensorflow:Assets written to: 0920_seq2seq_tensorflow\\assets\n"
     ]
    },
    {
     "name": "stderr",
     "output_type": "stream",
     "text": [
      "INFO:tensorflow:Assets written to: 0920_seq2seq_tensorflow\\assets\n"
     ]
    },
    {
     "name": "stdout",
     "output_type": "stream",
     "text": [
      "3/3 [==============================] - 8s 4s/step - loss: 0.1968 - mae: 0.1968\n",
      "Epoch 171/1000\n",
      "3/3 [==============================] - 0s 60ms/step - loss: 0.1969 - mae: 0.1969\n",
      "Epoch 172/1000\n",
      "3/3 [==============================] - 0s 58ms/step - loss: 0.1968 - mae: 0.1968\n",
      "Epoch 173/1000\n",
      "3/3 [==============================] - ETA: 0s - loss: 0.1968 - mae: 0.1968WARNING:tensorflow:Skipping full serialization of Keras layer <keras.layers.core.activation.Activation object at 0x000001F54945FE80>, because it is not built.\n"
     ]
    },
    {
     "name": "stderr",
     "output_type": "stream",
     "text": [
      "WARNING:tensorflow:Skipping full serialization of Keras layer <keras.layers.core.activation.Activation object at 0x000001F54945FE80>, because it is not built.\n",
      "WARNING:absl:Found untraced functions such as _jit_compiled_convolution_op, _jit_compiled_convolution_op, _jit_compiled_convolution_op, lstm_cell_18_layer_call_fn, lstm_cell_18_layer_call_and_return_conditional_losses while saving (showing 5 of 15). These functions will not be directly callable after loading.\n"
     ]
    },
    {
     "name": "stdout",
     "output_type": "stream",
     "text": [
      "INFO:tensorflow:Assets written to: 0920_seq2seq_tensorflow\\assets\n"
     ]
    },
    {
     "name": "stderr",
     "output_type": "stream",
     "text": [
      "INFO:tensorflow:Assets written to: 0920_seq2seq_tensorflow\\assets\n"
     ]
    },
    {
     "name": "stdout",
     "output_type": "stream",
     "text": [
      "3/3 [==============================] - 8s 4s/step - loss: 0.1968 - mae: 0.1968\n",
      "Epoch 174/1000\n",
      "3/3 [==============================] - 0s 58ms/step - loss: 0.1969 - mae: 0.1969\n",
      "Epoch 175/1000\n",
      "3/3 [==============================] - 0s 58ms/step - loss: 0.1972 - mae: 0.1972\n",
      "Epoch 176/1000\n",
      "3/3 [==============================] - 0s 56ms/step - loss: 0.1985 - mae: 0.1985\n",
      "Epoch 177/1000\n",
      "3/3 [==============================] - 0s 58ms/step - loss: 0.1979 - mae: 0.1979\n",
      "Epoch 178/1000\n",
      "3/3 [==============================] - ETA: 0s - loss: 0.1963 - mae: 0.1963WARNING:tensorflow:Skipping full serialization of Keras layer <keras.layers.core.activation.Activation object at 0x000001F54945FE80>, because it is not built.\n"
     ]
    },
    {
     "name": "stderr",
     "output_type": "stream",
     "text": [
      "WARNING:tensorflow:Skipping full serialization of Keras layer <keras.layers.core.activation.Activation object at 0x000001F54945FE80>, because it is not built.\n",
      "WARNING:absl:Found untraced functions such as _jit_compiled_convolution_op, _jit_compiled_convolution_op, _jit_compiled_convolution_op, lstm_cell_18_layer_call_fn, lstm_cell_18_layer_call_and_return_conditional_losses while saving (showing 5 of 15). These functions will not be directly callable after loading.\n"
     ]
    },
    {
     "name": "stdout",
     "output_type": "stream",
     "text": [
      "INFO:tensorflow:Assets written to: 0920_seq2seq_tensorflow\\assets\n"
     ]
    },
    {
     "name": "stderr",
     "output_type": "stream",
     "text": [
      "INFO:tensorflow:Assets written to: 0920_seq2seq_tensorflow\\assets\n"
     ]
    },
    {
     "name": "stdout",
     "output_type": "stream",
     "text": [
      "3/3 [==============================] - 14s 7s/step - loss: 0.1963 - mae: 0.1963\n",
      "Epoch 179/1000\n",
      "3/3 [==============================] - 0s 57ms/step - loss: 0.1966 - mae: 0.1966\n",
      "Epoch 180/1000\n",
      "3/3 [==============================] - 0s 58ms/step - loss: 0.1964 - mae: 0.1964\n",
      "Epoch 181/1000\n",
      "3/3 [==============================] - ETA: 0s - loss: 0.1953 - mae: 0.1953WARNING:tensorflow:Skipping full serialization of Keras layer <keras.layers.core.activation.Activation object at 0x000001F54945FE80>, because it is not built.\n"
     ]
    },
    {
     "name": "stderr",
     "output_type": "stream",
     "text": [
      "WARNING:tensorflow:Skipping full serialization of Keras layer <keras.layers.core.activation.Activation object at 0x000001F54945FE80>, because it is not built.\n",
      "WARNING:absl:Found untraced functions such as _jit_compiled_convolution_op, _jit_compiled_convolution_op, _jit_compiled_convolution_op, lstm_cell_18_layer_call_fn, lstm_cell_18_layer_call_and_return_conditional_losses while saving (showing 5 of 15). These functions will not be directly callable after loading.\n"
     ]
    },
    {
     "name": "stdout",
     "output_type": "stream",
     "text": [
      "INFO:tensorflow:Assets written to: 0920_seq2seq_tensorflow\\assets\n"
     ]
    },
    {
     "name": "stderr",
     "output_type": "stream",
     "text": [
      "INFO:tensorflow:Assets written to: 0920_seq2seq_tensorflow\\assets\n"
     ]
    },
    {
     "name": "stdout",
     "output_type": "stream",
     "text": [
      "3/3 [==============================] - 8s 4s/step - loss: 0.1953 - mae: 0.1953\n",
      "Epoch 182/1000\n",
      "3/3 [==============================] - ETA: 0s - loss: 0.1949 - mae: 0.1949WARNING:tensorflow:Skipping full serialization of Keras layer <keras.layers.core.activation.Activation object at 0x000001F54945FE80>, because it is not built.\n"
     ]
    },
    {
     "name": "stderr",
     "output_type": "stream",
     "text": [
      "WARNING:tensorflow:Skipping full serialization of Keras layer <keras.layers.core.activation.Activation object at 0x000001F54945FE80>, because it is not built.\n",
      "WARNING:absl:Found untraced functions such as _jit_compiled_convolution_op, _jit_compiled_convolution_op, _jit_compiled_convolution_op, lstm_cell_18_layer_call_fn, lstm_cell_18_layer_call_and_return_conditional_losses while saving (showing 5 of 15). These functions will not be directly callable after loading.\n"
     ]
    },
    {
     "name": "stdout",
     "output_type": "stream",
     "text": [
      "INFO:tensorflow:Assets written to: 0920_seq2seq_tensorflow\\assets\n"
     ]
    },
    {
     "name": "stderr",
     "output_type": "stream",
     "text": [
      "INFO:tensorflow:Assets written to: 0920_seq2seq_tensorflow\\assets\n"
     ]
    },
    {
     "name": "stdout",
     "output_type": "stream",
     "text": [
      "3/3 [==============================] - 8s 4s/step - loss: 0.1949 - mae: 0.1949\n",
      "Epoch 183/1000\n",
      "3/3 [==============================] - 0s 58ms/step - loss: 0.1949 - mae: 0.1949\n",
      "Epoch 184/1000\n",
      "3/3 [==============================] - 0s 57ms/step - loss: 0.1951 - mae: 0.1951\n",
      "Epoch 185/1000\n",
      "3/3 [==============================] - ETA: 0s - loss: 0.1945 - mae: 0.1945WARNING:tensorflow:Skipping full serialization of Keras layer <keras.layers.core.activation.Activation object at 0x000001F54945FE80>, because it is not built.\n"
     ]
    },
    {
     "name": "stderr",
     "output_type": "stream",
     "text": [
      "WARNING:tensorflow:Skipping full serialization of Keras layer <keras.layers.core.activation.Activation object at 0x000001F54945FE80>, because it is not built.\n",
      "WARNING:absl:Found untraced functions such as _jit_compiled_convolution_op, _jit_compiled_convolution_op, _jit_compiled_convolution_op, lstm_cell_18_layer_call_fn, lstm_cell_18_layer_call_and_return_conditional_losses while saving (showing 5 of 15). These functions will not be directly callable after loading.\n"
     ]
    },
    {
     "name": "stdout",
     "output_type": "stream",
     "text": [
      "INFO:tensorflow:Assets written to: 0920_seq2seq_tensorflow\\assets\n"
     ]
    },
    {
     "name": "stderr",
     "output_type": "stream",
     "text": [
      "INFO:tensorflow:Assets written to: 0920_seq2seq_tensorflow\\assets\n"
     ]
    },
    {
     "name": "stdout",
     "output_type": "stream",
     "text": [
      "3/3 [==============================] - 8s 4s/step - loss: 0.1945 - mae: 0.1945\n",
      "Epoch 186/1000\n",
      "3/3 [==============================] - ETA: 0s - loss: 0.1944 - mae: 0.1944WARNING:tensorflow:Skipping full serialization of Keras layer <keras.layers.core.activation.Activation object at 0x000001F54945FE80>, because it is not built.\n"
     ]
    },
    {
     "name": "stderr",
     "output_type": "stream",
     "text": [
      "WARNING:tensorflow:Skipping full serialization of Keras layer <keras.layers.core.activation.Activation object at 0x000001F54945FE80>, because it is not built.\n",
      "WARNING:absl:Found untraced functions such as _jit_compiled_convolution_op, _jit_compiled_convolution_op, _jit_compiled_convolution_op, lstm_cell_18_layer_call_fn, lstm_cell_18_layer_call_and_return_conditional_losses while saving (showing 5 of 15). These functions will not be directly callable after loading.\n"
     ]
    },
    {
     "name": "stdout",
     "output_type": "stream",
     "text": [
      "INFO:tensorflow:Assets written to: 0920_seq2seq_tensorflow\\assets\n"
     ]
    },
    {
     "name": "stderr",
     "output_type": "stream",
     "text": [
      "INFO:tensorflow:Assets written to: 0920_seq2seq_tensorflow\\assets\n"
     ]
    },
    {
     "name": "stdout",
     "output_type": "stream",
     "text": [
      "3/3 [==============================] - 8s 4s/step - loss: 0.1944 - mae: 0.1944\n",
      "Epoch 187/1000\n",
      "3/3 [==============================] - 0s 60ms/step - loss: 0.1944 - mae: 0.1944\n",
      "Epoch 188/1000\n",
      "3/3 [==============================] - ETA: 0s - loss: 0.1941 - mae: 0.1941WARNING:tensorflow:Skipping full serialization of Keras layer <keras.layers.core.activation.Activation object at 0x000001F54945FE80>, because it is not built.\n"
     ]
    },
    {
     "name": "stderr",
     "output_type": "stream",
     "text": [
      "WARNING:tensorflow:Skipping full serialization of Keras layer <keras.layers.core.activation.Activation object at 0x000001F54945FE80>, because it is not built.\n",
      "WARNING:absl:Found untraced functions such as _jit_compiled_convolution_op, _jit_compiled_convolution_op, _jit_compiled_convolution_op, lstm_cell_18_layer_call_fn, lstm_cell_18_layer_call_and_return_conditional_losses while saving (showing 5 of 15). These functions will not be directly callable after loading.\n"
     ]
    },
    {
     "name": "stdout",
     "output_type": "stream",
     "text": [
      "INFO:tensorflow:Assets written to: 0920_seq2seq_tensorflow\\assets\n"
     ]
    },
    {
     "name": "stderr",
     "output_type": "stream",
     "text": [
      "INFO:tensorflow:Assets written to: 0920_seq2seq_tensorflow\\assets\n"
     ]
    },
    {
     "name": "stdout",
     "output_type": "stream",
     "text": [
      "3/3 [==============================] - 8s 4s/step - loss: 0.1941 - mae: 0.1941\n",
      "Epoch 189/1000\n",
      "3/3 [==============================] - ETA: 0s - loss: 0.1940 - mae: 0.1940WARNING:tensorflow:Skipping full serialization of Keras layer <keras.layers.core.activation.Activation object at 0x000001F54945FE80>, because it is not built.\n"
     ]
    },
    {
     "name": "stderr",
     "output_type": "stream",
     "text": [
      "WARNING:tensorflow:Skipping full serialization of Keras layer <keras.layers.core.activation.Activation object at 0x000001F54945FE80>, because it is not built.\n",
      "WARNING:absl:Found untraced functions such as _jit_compiled_convolution_op, _jit_compiled_convolution_op, _jit_compiled_convolution_op, lstm_cell_18_layer_call_fn, lstm_cell_18_layer_call_and_return_conditional_losses while saving (showing 5 of 15). These functions will not be directly callable after loading.\n"
     ]
    },
    {
     "name": "stdout",
     "output_type": "stream",
     "text": [
      "INFO:tensorflow:Assets written to: 0920_seq2seq_tensorflow\\assets\n"
     ]
    },
    {
     "name": "stderr",
     "output_type": "stream",
     "text": [
      "INFO:tensorflow:Assets written to: 0920_seq2seq_tensorflow\\assets\n"
     ]
    },
    {
     "name": "stdout",
     "output_type": "stream",
     "text": [
      "3/3 [==============================] - 8s 4s/step - loss: 0.1940 - mae: 0.1940\n",
      "Epoch 190/1000\n",
      "3/3 [==============================] - ETA: 0s - loss: 0.1938 - mae: 0.1938WARNING:tensorflow:Skipping full serialization of Keras layer <keras.layers.core.activation.Activation object at 0x000001F54945FE80>, because it is not built.\n"
     ]
    },
    {
     "name": "stderr",
     "output_type": "stream",
     "text": [
      "WARNING:tensorflow:Skipping full serialization of Keras layer <keras.layers.core.activation.Activation object at 0x000001F54945FE80>, because it is not built.\n",
      "WARNING:absl:Found untraced functions such as _jit_compiled_convolution_op, _jit_compiled_convolution_op, _jit_compiled_convolution_op, lstm_cell_18_layer_call_fn, lstm_cell_18_layer_call_and_return_conditional_losses while saving (showing 5 of 15). These functions will not be directly callable after loading.\n"
     ]
    },
    {
     "name": "stdout",
     "output_type": "stream",
     "text": [
      "INFO:tensorflow:Assets written to: 0920_seq2seq_tensorflow\\assets\n"
     ]
    },
    {
     "name": "stderr",
     "output_type": "stream",
     "text": [
      "INFO:tensorflow:Assets written to: 0920_seq2seq_tensorflow\\assets\n"
     ]
    },
    {
     "name": "stdout",
     "output_type": "stream",
     "text": [
      "3/3 [==============================] - 8s 4s/step - loss: 0.1938 - mae: 0.1938\n",
      "Epoch 191/1000\n",
      "3/3 [==============================] - 0s 63ms/step - loss: 0.1939 - mae: 0.1939\n",
      "Epoch 192/1000\n",
      "3/3 [==============================] - 0s 57ms/step - loss: 0.1942 - mae: 0.1942\n",
      "Epoch 193/1000\n",
      "3/3 [==============================] - 0s 57ms/step - loss: 0.1940 - mae: 0.1940\n",
      "Epoch 194/1000\n",
      "3/3 [==============================] - 0s 57ms/step - loss: 0.1943 - mae: 0.1943\n",
      "Epoch 195/1000\n",
      "3/3 [==============================] - ETA: 0s - loss: 0.1936 - mae: 0.1936WARNING:tensorflow:Skipping full serialization of Keras layer <keras.layers.core.activation.Activation object at 0x000001F54945FE80>, because it is not built.\n"
     ]
    },
    {
     "name": "stderr",
     "output_type": "stream",
     "text": [
      "WARNING:tensorflow:Skipping full serialization of Keras layer <keras.layers.core.activation.Activation object at 0x000001F54945FE80>, because it is not built.\n",
      "WARNING:absl:Found untraced functions such as _jit_compiled_convolution_op, _jit_compiled_convolution_op, _jit_compiled_convolution_op, lstm_cell_18_layer_call_fn, lstm_cell_18_layer_call_and_return_conditional_losses while saving (showing 5 of 15). These functions will not be directly callable after loading.\n"
     ]
    },
    {
     "name": "stdout",
     "output_type": "stream",
     "text": [
      "INFO:tensorflow:Assets written to: 0920_seq2seq_tensorflow\\assets\n"
     ]
    },
    {
     "name": "stderr",
     "output_type": "stream",
     "text": [
      "INFO:tensorflow:Assets written to: 0920_seq2seq_tensorflow\\assets\n"
     ]
    },
    {
     "name": "stdout",
     "output_type": "stream",
     "text": [
      "3/3 [==============================] - 14s 7s/step - loss: 0.1936 - mae: 0.1936\n",
      "Epoch 196/1000\n",
      "3/3 [==============================] - ETA: 0s - loss: 0.1930 - mae: 0.1930WARNING:tensorflow:Skipping full serialization of Keras layer <keras.layers.core.activation.Activation object at 0x000001F54945FE80>, because it is not built.\n"
     ]
    },
    {
     "name": "stderr",
     "output_type": "stream",
     "text": [
      "WARNING:tensorflow:Skipping full serialization of Keras layer <keras.layers.core.activation.Activation object at 0x000001F54945FE80>, because it is not built.\n",
      "WARNING:absl:Found untraced functions such as _jit_compiled_convolution_op, _jit_compiled_convolution_op, _jit_compiled_convolution_op, lstm_cell_18_layer_call_fn, lstm_cell_18_layer_call_and_return_conditional_losses while saving (showing 5 of 15). These functions will not be directly callable after loading.\n"
     ]
    },
    {
     "name": "stdout",
     "output_type": "stream",
     "text": [
      "INFO:tensorflow:Assets written to: 0920_seq2seq_tensorflow\\assets\n"
     ]
    },
    {
     "name": "stderr",
     "output_type": "stream",
     "text": [
      "INFO:tensorflow:Assets written to: 0920_seq2seq_tensorflow\\assets\n"
     ]
    },
    {
     "name": "stdout",
     "output_type": "stream",
     "text": [
      "3/3 [==============================] - 8s 4s/step - loss: 0.1930 - mae: 0.1930\n",
      "Epoch 197/1000\n",
      "3/3 [==============================] - ETA: 0s - loss: 0.1930 - mae: 0.1930WARNING:tensorflow:Skipping full serialization of Keras layer <keras.layers.core.activation.Activation object at 0x000001F54945FE80>, because it is not built.\n"
     ]
    },
    {
     "name": "stderr",
     "output_type": "stream",
     "text": [
      "WARNING:tensorflow:Skipping full serialization of Keras layer <keras.layers.core.activation.Activation object at 0x000001F54945FE80>, because it is not built.\n",
      "WARNING:absl:Found untraced functions such as _jit_compiled_convolution_op, _jit_compiled_convolution_op, _jit_compiled_convolution_op, lstm_cell_18_layer_call_fn, lstm_cell_18_layer_call_and_return_conditional_losses while saving (showing 5 of 15). These functions will not be directly callable after loading.\n"
     ]
    },
    {
     "name": "stdout",
     "output_type": "stream",
     "text": [
      "INFO:tensorflow:Assets written to: 0920_seq2seq_tensorflow\\assets\n"
     ]
    },
    {
     "name": "stderr",
     "output_type": "stream",
     "text": [
      "INFO:tensorflow:Assets written to: 0920_seq2seq_tensorflow\\assets\n"
     ]
    },
    {
     "name": "stdout",
     "output_type": "stream",
     "text": [
      "3/3 [==============================] - 8s 4s/step - loss: 0.1930 - mae: 0.1930\n",
      "Epoch 198/1000\n",
      "3/3 [==============================] - ETA: 0s - loss: 0.1926 - mae: 0.1926WARNING:tensorflow:Skipping full serialization of Keras layer <keras.layers.core.activation.Activation object at 0x000001F54945FE80>, because it is not built.\n"
     ]
    },
    {
     "name": "stderr",
     "output_type": "stream",
     "text": [
      "WARNING:tensorflow:Skipping full serialization of Keras layer <keras.layers.core.activation.Activation object at 0x000001F54945FE80>, because it is not built.\n",
      "WARNING:absl:Found untraced functions such as _jit_compiled_convolution_op, _jit_compiled_convolution_op, _jit_compiled_convolution_op, lstm_cell_18_layer_call_fn, lstm_cell_18_layer_call_and_return_conditional_losses while saving (showing 5 of 15). These functions will not be directly callable after loading.\n"
     ]
    },
    {
     "name": "stdout",
     "output_type": "stream",
     "text": [
      "INFO:tensorflow:Assets written to: 0920_seq2seq_tensorflow\\assets\n"
     ]
    },
    {
     "name": "stderr",
     "output_type": "stream",
     "text": [
      "INFO:tensorflow:Assets written to: 0920_seq2seq_tensorflow\\assets\n"
     ]
    },
    {
     "name": "stdout",
     "output_type": "stream",
     "text": [
      "3/3 [==============================] - 8s 4s/step - loss: 0.1926 - mae: 0.1926\n",
      "Epoch 199/1000\n",
      "3/3 [==============================] - 0s 59ms/step - loss: 0.1932 - mae: 0.1932\n",
      "Epoch 200/1000\n",
      "3/3 [==============================] - ETA: 0s - loss: 0.1925 - mae: 0.1925WARNING:tensorflow:Skipping full serialization of Keras layer <keras.layers.core.activation.Activation object at 0x000001F54945FE80>, because it is not built.\n"
     ]
    },
    {
     "name": "stderr",
     "output_type": "stream",
     "text": [
      "WARNING:tensorflow:Skipping full serialization of Keras layer <keras.layers.core.activation.Activation object at 0x000001F54945FE80>, because it is not built.\n",
      "WARNING:absl:Found untraced functions such as _jit_compiled_convolution_op, _jit_compiled_convolution_op, _jit_compiled_convolution_op, lstm_cell_18_layer_call_fn, lstm_cell_18_layer_call_and_return_conditional_losses while saving (showing 5 of 15). These functions will not be directly callable after loading.\n"
     ]
    },
    {
     "name": "stdout",
     "output_type": "stream",
     "text": [
      "INFO:tensorflow:Assets written to: 0920_seq2seq_tensorflow\\assets\n"
     ]
    },
    {
     "name": "stderr",
     "output_type": "stream",
     "text": [
      "INFO:tensorflow:Assets written to: 0920_seq2seq_tensorflow\\assets\n"
     ]
    },
    {
     "name": "stdout",
     "output_type": "stream",
     "text": [
      "3/3 [==============================] - 8s 4s/step - loss: 0.1925 - mae: 0.1925\n",
      "Epoch 201/1000\n",
      "3/3 [==============================] - ETA: 0s - loss: 0.1924 - mae: 0.1924WARNING:tensorflow:Skipping full serialization of Keras layer <keras.layers.core.activation.Activation object at 0x000001F54945FE80>, because it is not built.\n"
     ]
    },
    {
     "name": "stderr",
     "output_type": "stream",
     "text": [
      "WARNING:tensorflow:Skipping full serialization of Keras layer <keras.layers.core.activation.Activation object at 0x000001F54945FE80>, because it is not built.\n",
      "WARNING:absl:Found untraced functions such as _jit_compiled_convolution_op, _jit_compiled_convolution_op, _jit_compiled_convolution_op, lstm_cell_18_layer_call_fn, lstm_cell_18_layer_call_and_return_conditional_losses while saving (showing 5 of 15). These functions will not be directly callable after loading.\n"
     ]
    },
    {
     "name": "stdout",
     "output_type": "stream",
     "text": [
      "INFO:tensorflow:Assets written to: 0920_seq2seq_tensorflow\\assets\n"
     ]
    },
    {
     "name": "stderr",
     "output_type": "stream",
     "text": [
      "INFO:tensorflow:Assets written to: 0920_seq2seq_tensorflow\\assets\n"
     ]
    },
    {
     "name": "stdout",
     "output_type": "stream",
     "text": [
      "3/3 [==============================] - 8s 4s/step - loss: 0.1924 - mae: 0.1924\n",
      "Epoch 202/1000\n",
      "3/3 [==============================] - 0s 58ms/step - loss: 0.1927 - mae: 0.1927\n",
      "Epoch 203/1000\n",
      "3/3 [==============================] - ETA: 0s - loss: 0.1922 - mae: 0.1922WARNING:tensorflow:Skipping full serialization of Keras layer <keras.layers.core.activation.Activation object at 0x000001F54945FE80>, because it is not built.\n"
     ]
    },
    {
     "name": "stderr",
     "output_type": "stream",
     "text": [
      "WARNING:tensorflow:Skipping full serialization of Keras layer <keras.layers.core.activation.Activation object at 0x000001F54945FE80>, because it is not built.\n",
      "WARNING:absl:Found untraced functions such as _jit_compiled_convolution_op, _jit_compiled_convolution_op, _jit_compiled_convolution_op, lstm_cell_18_layer_call_fn, lstm_cell_18_layer_call_and_return_conditional_losses while saving (showing 5 of 15). These functions will not be directly callable after loading.\n"
     ]
    },
    {
     "name": "stdout",
     "output_type": "stream",
     "text": [
      "INFO:tensorflow:Assets written to: 0920_seq2seq_tensorflow\\assets\n"
     ]
    },
    {
     "name": "stderr",
     "output_type": "stream",
     "text": [
      "INFO:tensorflow:Assets written to: 0920_seq2seq_tensorflow\\assets\n"
     ]
    },
    {
     "name": "stdout",
     "output_type": "stream",
     "text": [
      "3/3 [==============================] - 8s 4s/step - loss: 0.1922 - mae: 0.1922\n",
      "Epoch 204/1000\n",
      "3/3 [==============================] - 0s 56ms/step - loss: 0.1930 - mae: 0.1930\n",
      "Epoch 205/1000\n",
      "3/3 [==============================] - 0s 60ms/step - loss: 0.1937 - mae: 0.1937\n",
      "Epoch 206/1000\n",
      "3/3 [==============================] - 0s 59ms/step - loss: 0.1926 - mae: 0.1926\n",
      "Epoch 207/1000\n",
      "3/3 [==============================] - ETA: 0s - loss: 0.1915 - mae: 0.1915WARNING:tensorflow:Skipping full serialization of Keras layer <keras.layers.core.activation.Activation object at 0x000001F54945FE80>, because it is not built.\n"
     ]
    },
    {
     "name": "stderr",
     "output_type": "stream",
     "text": [
      "WARNING:tensorflow:Skipping full serialization of Keras layer <keras.layers.core.activation.Activation object at 0x000001F54945FE80>, because it is not built.\n",
      "WARNING:absl:Found untraced functions such as _jit_compiled_convolution_op, _jit_compiled_convolution_op, _jit_compiled_convolution_op, lstm_cell_18_layer_call_fn, lstm_cell_18_layer_call_and_return_conditional_losses while saving (showing 5 of 15). These functions will not be directly callable after loading.\n"
     ]
    },
    {
     "name": "stdout",
     "output_type": "stream",
     "text": [
      "INFO:tensorflow:Assets written to: 0920_seq2seq_tensorflow\\assets\n"
     ]
    },
    {
     "name": "stderr",
     "output_type": "stream",
     "text": [
      "INFO:tensorflow:Assets written to: 0920_seq2seq_tensorflow\\assets\n"
     ]
    },
    {
     "name": "stdout",
     "output_type": "stream",
     "text": [
      "3/3 [==============================] - 8s 4s/step - loss: 0.1915 - mae: 0.1915\n",
      "Epoch 208/1000\n",
      "3/3 [==============================] - ETA: 0s - loss: 0.1914 - mae: 0.1914WARNING:tensorflow:Skipping full serialization of Keras layer <keras.layers.core.activation.Activation object at 0x000001F54945FE80>, because it is not built.\n"
     ]
    },
    {
     "name": "stderr",
     "output_type": "stream",
     "text": [
      "WARNING:tensorflow:Skipping full serialization of Keras layer <keras.layers.core.activation.Activation object at 0x000001F54945FE80>, because it is not built.\n",
      "WARNING:absl:Found untraced functions such as _jit_compiled_convolution_op, _jit_compiled_convolution_op, _jit_compiled_convolution_op, lstm_cell_18_layer_call_fn, lstm_cell_18_layer_call_and_return_conditional_losses while saving (showing 5 of 15). These functions will not be directly callable after loading.\n"
     ]
    },
    {
     "name": "stdout",
     "output_type": "stream",
     "text": [
      "INFO:tensorflow:Assets written to: 0920_seq2seq_tensorflow\\assets\n"
     ]
    },
    {
     "name": "stderr",
     "output_type": "stream",
     "text": [
      "INFO:tensorflow:Assets written to: 0920_seq2seq_tensorflow\\assets\n"
     ]
    },
    {
     "name": "stdout",
     "output_type": "stream",
     "text": [
      "3/3 [==============================] - 15s 7s/step - loss: 0.1914 - mae: 0.1914\n",
      "Epoch 209/1000\n",
      "3/3 [==============================] - ETA: 0s - loss: 0.1912 - mae: 0.1912WARNING:tensorflow:Skipping full serialization of Keras layer <keras.layers.core.activation.Activation object at 0x000001F54945FE80>, because it is not built.\n"
     ]
    },
    {
     "name": "stderr",
     "output_type": "stream",
     "text": [
      "WARNING:tensorflow:Skipping full serialization of Keras layer <keras.layers.core.activation.Activation object at 0x000001F54945FE80>, because it is not built.\n",
      "WARNING:absl:Found untraced functions such as _jit_compiled_convolution_op, _jit_compiled_convolution_op, _jit_compiled_convolution_op, lstm_cell_18_layer_call_fn, lstm_cell_18_layer_call_and_return_conditional_losses while saving (showing 5 of 15). These functions will not be directly callable after loading.\n"
     ]
    },
    {
     "name": "stdout",
     "output_type": "stream",
     "text": [
      "INFO:tensorflow:Assets written to: 0920_seq2seq_tensorflow\\assets\n"
     ]
    },
    {
     "name": "stderr",
     "output_type": "stream",
     "text": [
      "INFO:tensorflow:Assets written to: 0920_seq2seq_tensorflow\\assets\n"
     ]
    },
    {
     "name": "stdout",
     "output_type": "stream",
     "text": [
      "3/3 [==============================] - 8s 4s/step - loss: 0.1912 - mae: 0.1912\n",
      "Epoch 210/1000\n",
      "3/3 [==============================] - 0s 59ms/step - loss: 0.1912 - mae: 0.1912\n",
      "Epoch 211/1000\n",
      "3/3 [==============================] - 0s 58ms/step - loss: 0.1912 - mae: 0.1912\n",
      "Epoch 212/1000\n",
      "3/3 [==============================] - 0s 58ms/step - loss: 0.1912 - mae: 0.1912\n",
      "Epoch 213/1000\n",
      "3/3 [==============================] - 0s 57ms/step - loss: 0.1912 - mae: 0.1912\n",
      "Epoch 214/1000\n",
      "3/3 [==============================] - ETA: 0s - loss: 0.1909 - mae: 0.1909WARNING:tensorflow:Skipping full serialization of Keras layer <keras.layers.core.activation.Activation object at 0x000001F54945FE80>, because it is not built.\n"
     ]
    },
    {
     "name": "stderr",
     "output_type": "stream",
     "text": [
      "WARNING:tensorflow:Skipping full serialization of Keras layer <keras.layers.core.activation.Activation object at 0x000001F54945FE80>, because it is not built.\n",
      "WARNING:absl:Found untraced functions such as _jit_compiled_convolution_op, _jit_compiled_convolution_op, _jit_compiled_convolution_op, lstm_cell_18_layer_call_fn, lstm_cell_18_layer_call_and_return_conditional_losses while saving (showing 5 of 15). These functions will not be directly callable after loading.\n"
     ]
    },
    {
     "name": "stdout",
     "output_type": "stream",
     "text": [
      "INFO:tensorflow:Assets written to: 0920_seq2seq_tensorflow\\assets\n"
     ]
    },
    {
     "name": "stderr",
     "output_type": "stream",
     "text": [
      "INFO:tensorflow:Assets written to: 0920_seq2seq_tensorflow\\assets\n"
     ]
    },
    {
     "name": "stdout",
     "output_type": "stream",
     "text": [
      "3/3 [==============================] - 8s 4s/step - loss: 0.1909 - mae: 0.1909\n",
      "Epoch 215/1000\n",
      "3/3 [==============================] - ETA: 0s - loss: 0.1905 - mae: 0.1905WARNING:tensorflow:Skipping full serialization of Keras layer <keras.layers.core.activation.Activation object at 0x000001F54945FE80>, because it is not built.\n"
     ]
    },
    {
     "name": "stderr",
     "output_type": "stream",
     "text": [
      "WARNING:tensorflow:Skipping full serialization of Keras layer <keras.layers.core.activation.Activation object at 0x000001F54945FE80>, because it is not built.\n",
      "WARNING:absl:Found untraced functions such as _jit_compiled_convolution_op, _jit_compiled_convolution_op, _jit_compiled_convolution_op, lstm_cell_18_layer_call_fn, lstm_cell_18_layer_call_and_return_conditional_losses while saving (showing 5 of 15). These functions will not be directly callable after loading.\n"
     ]
    },
    {
     "name": "stdout",
     "output_type": "stream",
     "text": [
      "INFO:tensorflow:Assets written to: 0920_seq2seq_tensorflow\\assets\n"
     ]
    },
    {
     "name": "stderr",
     "output_type": "stream",
     "text": [
      "INFO:tensorflow:Assets written to: 0920_seq2seq_tensorflow\\assets\n"
     ]
    },
    {
     "name": "stdout",
     "output_type": "stream",
     "text": [
      "3/3 [==============================] - 8s 4s/step - loss: 0.1905 - mae: 0.1905\n",
      "Epoch 216/1000\n",
      "3/3 [==============================] - ETA: 0s - loss: 0.1902 - mae: 0.1902WARNING:tensorflow:Skipping full serialization of Keras layer <keras.layers.core.activation.Activation object at 0x000001F54945FE80>, because it is not built.\n"
     ]
    },
    {
     "name": "stderr",
     "output_type": "stream",
     "text": [
      "WARNING:tensorflow:Skipping full serialization of Keras layer <keras.layers.core.activation.Activation object at 0x000001F54945FE80>, because it is not built.\n",
      "WARNING:absl:Found untraced functions such as _jit_compiled_convolution_op, _jit_compiled_convolution_op, _jit_compiled_convolution_op, lstm_cell_18_layer_call_fn, lstm_cell_18_layer_call_and_return_conditional_losses while saving (showing 5 of 15). These functions will not be directly callable after loading.\n"
     ]
    },
    {
     "name": "stdout",
     "output_type": "stream",
     "text": [
      "INFO:tensorflow:Assets written to: 0920_seq2seq_tensorflow\\assets\n"
     ]
    },
    {
     "name": "stderr",
     "output_type": "stream",
     "text": [
      "INFO:tensorflow:Assets written to: 0920_seq2seq_tensorflow\\assets\n"
     ]
    },
    {
     "name": "stdout",
     "output_type": "stream",
     "text": [
      "3/3 [==============================] - 8s 4s/step - loss: 0.1902 - mae: 0.1902\n",
      "Epoch 217/1000\n",
      "3/3 [==============================] - ETA: 0s - loss: 0.1902 - mae: 0.1902WARNING:tensorflow:Skipping full serialization of Keras layer <keras.layers.core.activation.Activation object at 0x000001F54945FE80>, because it is not built.\n"
     ]
    },
    {
     "name": "stderr",
     "output_type": "stream",
     "text": [
      "WARNING:tensorflow:Skipping full serialization of Keras layer <keras.layers.core.activation.Activation object at 0x000001F54945FE80>, because it is not built.\n",
      "WARNING:absl:Found untraced functions such as _jit_compiled_convolution_op, _jit_compiled_convolution_op, _jit_compiled_convolution_op, lstm_cell_18_layer_call_fn, lstm_cell_18_layer_call_and_return_conditional_losses while saving (showing 5 of 15). These functions will not be directly callable after loading.\n"
     ]
    },
    {
     "name": "stdout",
     "output_type": "stream",
     "text": [
      "INFO:tensorflow:Assets written to: 0920_seq2seq_tensorflow\\assets\n"
     ]
    },
    {
     "name": "stderr",
     "output_type": "stream",
     "text": [
      "INFO:tensorflow:Assets written to: 0920_seq2seq_tensorflow\\assets\n"
     ]
    },
    {
     "name": "stdout",
     "output_type": "stream",
     "text": [
      "3/3 [==============================] - 8s 4s/step - loss: 0.1902 - mae: 0.1902\n",
      "Epoch 218/1000\n",
      "3/3 [==============================] - ETA: 0s - loss: 0.1900 - mae: 0.1900WARNING:tensorflow:Skipping full serialization of Keras layer <keras.layers.core.activation.Activation object at 0x000001F54945FE80>, because it is not built.\n"
     ]
    },
    {
     "name": "stderr",
     "output_type": "stream",
     "text": [
      "WARNING:tensorflow:Skipping full serialization of Keras layer <keras.layers.core.activation.Activation object at 0x000001F54945FE80>, because it is not built.\n",
      "WARNING:absl:Found untraced functions such as _jit_compiled_convolution_op, _jit_compiled_convolution_op, _jit_compiled_convolution_op, lstm_cell_18_layer_call_fn, lstm_cell_18_layer_call_and_return_conditional_losses while saving (showing 5 of 15). These functions will not be directly callable after loading.\n"
     ]
    },
    {
     "name": "stdout",
     "output_type": "stream",
     "text": [
      "INFO:tensorflow:Assets written to: 0920_seq2seq_tensorflow\\assets\n"
     ]
    },
    {
     "name": "stderr",
     "output_type": "stream",
     "text": [
      "INFO:tensorflow:Assets written to: 0920_seq2seq_tensorflow\\assets\n"
     ]
    },
    {
     "name": "stdout",
     "output_type": "stream",
     "text": [
      "3/3 [==============================] - 8s 4s/step - loss: 0.1900 - mae: 0.1900\n",
      "Epoch 219/1000\n",
      "3/3 [==============================] - 0s 59ms/step - loss: 0.1901 - mae: 0.1901\n",
      "Epoch 220/1000\n",
      "3/3 [==============================] - 0s 59ms/step - loss: 0.1902 - mae: 0.1902\n",
      "Epoch 221/1000\n",
      "3/3 [==============================] - 0s 62ms/step - loss: 0.1914 - mae: 0.1914\n",
      "Epoch 222/1000\n",
      "3/3 [==============================] - 0s 56ms/step - loss: 0.1903 - mae: 0.1903\n",
      "Epoch 223/1000\n",
      "3/3 [==============================] - 0s 57ms/step - loss: 0.1912 - mae: 0.1912\n",
      "Epoch 224/1000\n",
      "3/3 [==============================] - 0s 58ms/step - loss: 0.1909 - mae: 0.1909\n",
      "Epoch 225/1000\n",
      "3/3 [==============================] - ETA: 0s - loss: 0.1893 - mae: 0.1893WARNING:tensorflow:Skipping full serialization of Keras layer <keras.layers.core.activation.Activation object at 0x000001F54945FE80>, because it is not built.\n"
     ]
    },
    {
     "name": "stderr",
     "output_type": "stream",
     "text": [
      "WARNING:tensorflow:Skipping full serialization of Keras layer <keras.layers.core.activation.Activation object at 0x000001F54945FE80>, because it is not built.\n",
      "WARNING:absl:Found untraced functions such as _jit_compiled_convolution_op, _jit_compiled_convolution_op, _jit_compiled_convolution_op, lstm_cell_18_layer_call_fn, lstm_cell_18_layer_call_and_return_conditional_losses while saving (showing 5 of 15). These functions will not be directly callable after loading.\n"
     ]
    },
    {
     "name": "stdout",
     "output_type": "stream",
     "text": [
      "INFO:tensorflow:Assets written to: 0920_seq2seq_tensorflow\\assets\n"
     ]
    },
    {
     "name": "stderr",
     "output_type": "stream",
     "text": [
      "INFO:tensorflow:Assets written to: 0920_seq2seq_tensorflow\\assets\n"
     ]
    },
    {
     "name": "stdout",
     "output_type": "stream",
     "text": [
      "3/3 [==============================] - 8s 4s/step - loss: 0.1893 - mae: 0.1893\n",
      "Epoch 226/1000\n",
      "3/3 [==============================] - 0s 58ms/step - loss: 0.1904 - mae: 0.1904\n",
      "Epoch 227/1000\n",
      "3/3 [==============================] - 0s 57ms/step - loss: 0.1899 - mae: 0.1899\n",
      "Epoch 228/1000\n",
      "3/3 [==============================] - 0s 58ms/step - loss: 0.1895 - mae: 0.1895\n",
      "Epoch 229/1000\n",
      "3/3 [==============================] - ETA: 0s - loss: 0.1888 - mae: 0.1888WARNING:tensorflow:Skipping full serialization of Keras layer <keras.layers.core.activation.Activation object at 0x000001F54945FE80>, because it is not built.\n"
     ]
    },
    {
     "name": "stderr",
     "output_type": "stream",
     "text": [
      "WARNING:tensorflow:Skipping full serialization of Keras layer <keras.layers.core.activation.Activation object at 0x000001F54945FE80>, because it is not built.\n",
      "WARNING:absl:Found untraced functions such as _jit_compiled_convolution_op, _jit_compiled_convolution_op, _jit_compiled_convolution_op, lstm_cell_18_layer_call_fn, lstm_cell_18_layer_call_and_return_conditional_losses while saving (showing 5 of 15). These functions will not be directly callable after loading.\n"
     ]
    },
    {
     "name": "stdout",
     "output_type": "stream",
     "text": [
      "INFO:tensorflow:Assets written to: 0920_seq2seq_tensorflow\\assets\n"
     ]
    },
    {
     "name": "stderr",
     "output_type": "stream",
     "text": [
      "INFO:tensorflow:Assets written to: 0920_seq2seq_tensorflow\\assets\n"
     ]
    },
    {
     "name": "stdout",
     "output_type": "stream",
     "text": [
      "3/3 [==============================] - 8s 4s/step - loss: 0.1888 - mae: 0.1888\n",
      "Epoch 230/1000\n",
      "3/3 [==============================] - 0s 58ms/step - loss: 0.1888 - mae: 0.1888\n",
      "Epoch 231/1000\n",
      "3/3 [==============================] - 0s 57ms/step - loss: 0.1891 - mae: 0.1891\n",
      "Epoch 232/1000\n",
      "3/3 [==============================] - 0s 60ms/step - loss: 0.1899 - mae: 0.1899\n",
      "Epoch 233/1000\n",
      "3/3 [==============================] - 0s 58ms/step - loss: 0.1913 - mae: 0.1913\n",
      "Epoch 234/1000\n",
      "3/3 [==============================] - 0s 57ms/step - loss: 0.1898 - mae: 0.1898\n",
      "Epoch 235/1000\n",
      "3/3 [==============================] - 0s 57ms/step - loss: 0.1889 - mae: 0.1889\n",
      "Epoch 236/1000\n",
      "3/3 [==============================] - 0s 57ms/step - loss: 0.1889 - mae: 0.1889\n",
      "Epoch 237/1000\n",
      "3/3 [==============================] - ETA: 0s - loss: 0.1882 - mae: 0.1882WARNING:tensorflow:Skipping full serialization of Keras layer <keras.layers.core.activation.Activation object at 0x000001F54945FE80>, because it is not built.\n"
     ]
    },
    {
     "name": "stderr",
     "output_type": "stream",
     "text": [
      "WARNING:tensorflow:Skipping full serialization of Keras layer <keras.layers.core.activation.Activation object at 0x000001F54945FE80>, because it is not built.\n",
      "WARNING:absl:Found untraced functions such as _jit_compiled_convolution_op, _jit_compiled_convolution_op, _jit_compiled_convolution_op, lstm_cell_18_layer_call_fn, lstm_cell_18_layer_call_and_return_conditional_losses while saving (showing 5 of 15). These functions will not be directly callable after loading.\n"
     ]
    },
    {
     "name": "stdout",
     "output_type": "stream",
     "text": [
      "INFO:tensorflow:Assets written to: 0920_seq2seq_tensorflow\\assets\n"
     ]
    },
    {
     "name": "stderr",
     "output_type": "stream",
     "text": [
      "INFO:tensorflow:Assets written to: 0920_seq2seq_tensorflow\\assets\n"
     ]
    },
    {
     "name": "stdout",
     "output_type": "stream",
     "text": [
      "3/3 [==============================] - 8s 4s/step - loss: 0.1882 - mae: 0.1882\n",
      "Epoch 238/1000\n",
      "3/3 [==============================] - 0s 57ms/step - loss: 0.1884 - mae: 0.1884\n",
      "Epoch 239/1000\n",
      "3/3 [==============================] - ETA: 0s - loss: 0.1881 - mae: 0.1881WARNING:tensorflow:Skipping full serialization of Keras layer <keras.layers.core.activation.Activation object at 0x000001F54945FE80>, because it is not built.\n"
     ]
    },
    {
     "name": "stderr",
     "output_type": "stream",
     "text": [
      "WARNING:tensorflow:Skipping full serialization of Keras layer <keras.layers.core.activation.Activation object at 0x000001F54945FE80>, because it is not built.\n",
      "WARNING:absl:Found untraced functions such as _jit_compiled_convolution_op, _jit_compiled_convolution_op, _jit_compiled_convolution_op, lstm_cell_18_layer_call_fn, lstm_cell_18_layer_call_and_return_conditional_losses while saving (showing 5 of 15). These functions will not be directly callable after loading.\n"
     ]
    },
    {
     "name": "stdout",
     "output_type": "stream",
     "text": [
      "INFO:tensorflow:Assets written to: 0920_seq2seq_tensorflow\\assets\n"
     ]
    },
    {
     "name": "stderr",
     "output_type": "stream",
     "text": [
      "INFO:tensorflow:Assets written to: 0920_seq2seq_tensorflow\\assets\n"
     ]
    },
    {
     "name": "stdout",
     "output_type": "stream",
     "text": [
      "3/3 [==============================] - 15s 8s/step - loss: 0.1881 - mae: 0.1881\n",
      "Epoch 240/1000\n",
      "3/3 [==============================] - 0s 56ms/step - loss: 0.1883 - mae: 0.1883\n",
      "Epoch 241/1000\n",
      "3/3 [==============================] - 0s 60ms/step - loss: 0.1892 - mae: 0.1892\n",
      "Epoch 242/1000\n",
      "3/3 [==============================] - 0s 58ms/step - loss: 0.1882 - mae: 0.1882\n",
      "Epoch 243/1000\n",
      "3/3 [==============================] - 0s 59ms/step - loss: 0.1889 - mae: 0.1889\n",
      "Epoch 244/1000\n",
      "3/3 [==============================] - 0s 62ms/step - loss: 0.1893 - mae: 0.1893\n",
      "Epoch 245/1000\n",
      "3/3 [==============================] - 0s 59ms/step - loss: 0.1892 - mae: 0.1892\n",
      "Epoch 246/1000\n",
      "3/3 [==============================] - 0s 56ms/step - loss: 0.1892 - mae: 0.1892\n",
      "Epoch 247/1000\n",
      "3/3 [==============================] - ETA: 0s - loss: 0.1879 - mae: 0.1879WARNING:tensorflow:Skipping full serialization of Keras layer <keras.layers.core.activation.Activation object at 0x000001F54945FE80>, because it is not built.\n"
     ]
    },
    {
     "name": "stderr",
     "output_type": "stream",
     "text": [
      "WARNING:tensorflow:Skipping full serialization of Keras layer <keras.layers.core.activation.Activation object at 0x000001F54945FE80>, because it is not built.\n",
      "WARNING:absl:Found untraced functions such as _jit_compiled_convolution_op, _jit_compiled_convolution_op, _jit_compiled_convolution_op, lstm_cell_18_layer_call_fn, lstm_cell_18_layer_call_and_return_conditional_losses while saving (showing 5 of 15). These functions will not be directly callable after loading.\n"
     ]
    },
    {
     "name": "stdout",
     "output_type": "stream",
     "text": [
      "INFO:tensorflow:Assets written to: 0920_seq2seq_tensorflow\\assets\n"
     ]
    },
    {
     "name": "stderr",
     "output_type": "stream",
     "text": [
      "INFO:tensorflow:Assets written to: 0920_seq2seq_tensorflow\\assets\n"
     ]
    },
    {
     "name": "stdout",
     "output_type": "stream",
     "text": [
      "3/3 [==============================] - 8s 4s/step - loss: 0.1879 - mae: 0.1879\n",
      "Epoch 248/1000\n",
      "3/3 [==============================] - ETA: 0s - loss: 0.1875 - mae: 0.1875WARNING:tensorflow:Skipping full serialization of Keras layer <keras.layers.core.activation.Activation object at 0x000001F54945FE80>, because it is not built.\n"
     ]
    },
    {
     "name": "stderr",
     "output_type": "stream",
     "text": [
      "WARNING:tensorflow:Skipping full serialization of Keras layer <keras.layers.core.activation.Activation object at 0x000001F54945FE80>, because it is not built.\n",
      "WARNING:absl:Found untraced functions such as _jit_compiled_convolution_op, _jit_compiled_convolution_op, _jit_compiled_convolution_op, lstm_cell_18_layer_call_fn, lstm_cell_18_layer_call_and_return_conditional_losses while saving (showing 5 of 15). These functions will not be directly callable after loading.\n"
     ]
    },
    {
     "name": "stdout",
     "output_type": "stream",
     "text": [
      "INFO:tensorflow:Assets written to: 0920_seq2seq_tensorflow\\assets\n"
     ]
    },
    {
     "name": "stderr",
     "output_type": "stream",
     "text": [
      "INFO:tensorflow:Assets written to: 0920_seq2seq_tensorflow\\assets\n"
     ]
    },
    {
     "name": "stdout",
     "output_type": "stream",
     "text": [
      "3/3 [==============================] - 8s 4s/step - loss: 0.1875 - mae: 0.1875\n",
      "Epoch 249/1000\n",
      "3/3 [==============================] - 0s 58ms/step - loss: 0.1886 - mae: 0.1886\n",
      "Epoch 250/1000\n",
      "3/3 [==============================] - 0s 58ms/step - loss: 0.1885 - mae: 0.1885\n",
      "Epoch 251/1000\n",
      "3/3 [==============================] - 0s 59ms/step - loss: 0.1885 - mae: 0.1885\n",
      "Epoch 252/1000\n",
      "3/3 [==============================] - 0s 59ms/step - loss: 0.1890 - mae: 0.1890\n",
      "Epoch 253/1000\n",
      "3/3 [==============================] - 0s 58ms/step - loss: 0.1896 - mae: 0.1896\n",
      "Epoch 254/1000\n",
      "3/3 [==============================] - ETA: 0s - loss: 0.1874 - mae: 0.1874WARNING:tensorflow:Skipping full serialization of Keras layer <keras.layers.core.activation.Activation object at 0x000001F54945FE80>, because it is not built.\n"
     ]
    },
    {
     "name": "stderr",
     "output_type": "stream",
     "text": [
      "WARNING:tensorflow:Skipping full serialization of Keras layer <keras.layers.core.activation.Activation object at 0x000001F54945FE80>, because it is not built.\n",
      "WARNING:absl:Found untraced functions such as _jit_compiled_convolution_op, _jit_compiled_convolution_op, _jit_compiled_convolution_op, lstm_cell_18_layer_call_fn, lstm_cell_18_layer_call_and_return_conditional_losses while saving (showing 5 of 15). These functions will not be directly callable after loading.\n"
     ]
    },
    {
     "name": "stdout",
     "output_type": "stream",
     "text": [
      "INFO:tensorflow:Assets written to: 0920_seq2seq_tensorflow\\assets\n"
     ]
    },
    {
     "name": "stderr",
     "output_type": "stream",
     "text": [
      "INFO:tensorflow:Assets written to: 0920_seq2seq_tensorflow\\assets\n"
     ]
    },
    {
     "name": "stdout",
     "output_type": "stream",
     "text": [
      "3/3 [==============================] - 8s 4s/step - loss: 0.1874 - mae: 0.1874\n",
      "Epoch 255/1000\n",
      "3/3 [==============================] - ETA: 0s - loss: 0.1866 - mae: 0.1866WARNING:tensorflow:Skipping full serialization of Keras layer <keras.layers.core.activation.Activation object at 0x000001F54945FE80>, because it is not built.\n"
     ]
    },
    {
     "name": "stderr",
     "output_type": "stream",
     "text": [
      "WARNING:tensorflow:Skipping full serialization of Keras layer <keras.layers.core.activation.Activation object at 0x000001F54945FE80>, because it is not built.\n",
      "WARNING:absl:Found untraced functions such as _jit_compiled_convolution_op, _jit_compiled_convolution_op, _jit_compiled_convolution_op, lstm_cell_18_layer_call_fn, lstm_cell_18_layer_call_and_return_conditional_losses while saving (showing 5 of 15). These functions will not be directly callable after loading.\n"
     ]
    },
    {
     "name": "stdout",
     "output_type": "stream",
     "text": [
      "INFO:tensorflow:Assets written to: 0920_seq2seq_tensorflow\\assets\n"
     ]
    },
    {
     "name": "stderr",
     "output_type": "stream",
     "text": [
      "INFO:tensorflow:Assets written to: 0920_seq2seq_tensorflow\\assets\n"
     ]
    },
    {
     "name": "stdout",
     "output_type": "stream",
     "text": [
      "3/3 [==============================] - 8s 4s/step - loss: 0.1866 - mae: 0.1866\n",
      "Epoch 256/1000\n",
      "3/3 [==============================] - 0s 57ms/step - loss: 0.1874 - mae: 0.1874\n",
      "Epoch 257/1000\n",
      "3/3 [==============================] - 0s 57ms/step - loss: 0.1881 - mae: 0.1881\n",
      "Epoch 258/1000\n",
      "3/3 [==============================] - 0s 57ms/step - loss: 0.1893 - mae: 0.1893\n",
      "Epoch 259/1000\n",
      "3/3 [==============================] - 0s 61ms/step - loss: 0.1872 - mae: 0.1872\n",
      "Epoch 260/1000\n",
      "3/3 [==============================] - 0s 60ms/step - loss: 0.1868 - mae: 0.1868\n",
      "Epoch 261/1000\n",
      "3/3 [==============================] - 0s 58ms/step - loss: 0.1869 - mae: 0.1869\n",
      "Epoch 262/1000\n",
      "3/3 [==============================] - 0s 59ms/step - loss: 0.1883 - mae: 0.1883\n",
      "Epoch 263/1000\n",
      "3/3 [==============================] - 0s 58ms/step - loss: 0.1879 - mae: 0.1879\n",
      "Epoch 264/1000\n",
      "3/3 [==============================] - 0s 58ms/step - loss: 0.1874 - mae: 0.1874\n",
      "Epoch 265/1000\n",
      "3/3 [==============================] - ETA: 0s - loss: 0.1864 - mae: 0.1864WARNING:tensorflow:Skipping full serialization of Keras layer <keras.layers.core.activation.Activation object at 0x000001F54945FE80>, because it is not built.\n"
     ]
    },
    {
     "name": "stderr",
     "output_type": "stream",
     "text": [
      "WARNING:tensorflow:Skipping full serialization of Keras layer <keras.layers.core.activation.Activation object at 0x000001F54945FE80>, because it is not built.\n",
      "WARNING:absl:Found untraced functions such as _jit_compiled_convolution_op, _jit_compiled_convolution_op, _jit_compiled_convolution_op, lstm_cell_18_layer_call_fn, lstm_cell_18_layer_call_and_return_conditional_losses while saving (showing 5 of 15). These functions will not be directly callable after loading.\n"
     ]
    },
    {
     "name": "stdout",
     "output_type": "stream",
     "text": [
      "INFO:tensorflow:Assets written to: 0920_seq2seq_tensorflow\\assets\n"
     ]
    },
    {
     "name": "stderr",
     "output_type": "stream",
     "text": [
      "INFO:tensorflow:Assets written to: 0920_seq2seq_tensorflow\\assets\n"
     ]
    },
    {
     "name": "stdout",
     "output_type": "stream",
     "text": [
      "3/3 [==============================] - 8s 4s/step - loss: 0.1864 - mae: 0.1864\n",
      "Epoch 266/1000\n",
      "3/3 [==============================] - ETA: 0s - loss: 0.1857 - mae: 0.1857WARNING:tensorflow:Skipping full serialization of Keras layer <keras.layers.core.activation.Activation object at 0x000001F54945FE80>, because it is not built.\n"
     ]
    },
    {
     "name": "stderr",
     "output_type": "stream",
     "text": [
      "WARNING:tensorflow:Skipping full serialization of Keras layer <keras.layers.core.activation.Activation object at 0x000001F54945FE80>, because it is not built.\n",
      "WARNING:absl:Found untraced functions such as _jit_compiled_convolution_op, _jit_compiled_convolution_op, _jit_compiled_convolution_op, lstm_cell_18_layer_call_fn, lstm_cell_18_layer_call_and_return_conditional_losses while saving (showing 5 of 15). These functions will not be directly callable after loading.\n"
     ]
    },
    {
     "name": "stdout",
     "output_type": "stream",
     "text": [
      "INFO:tensorflow:Assets written to: 0920_seq2seq_tensorflow\\assets\n"
     ]
    },
    {
     "name": "stderr",
     "output_type": "stream",
     "text": [
      "INFO:tensorflow:Assets written to: 0920_seq2seq_tensorflow\\assets\n"
     ]
    },
    {
     "name": "stdout",
     "output_type": "stream",
     "text": [
      "3/3 [==============================] - 8s 4s/step - loss: 0.1857 - mae: 0.1857\n",
      "Epoch 267/1000\n",
      "3/3 [==============================] - ETA: 0s - loss: 0.1851 - mae: 0.1851WARNING:tensorflow:Skipping full serialization of Keras layer <keras.layers.core.activation.Activation object at 0x000001F54945FE80>, because it is not built.\n"
     ]
    },
    {
     "name": "stderr",
     "output_type": "stream",
     "text": [
      "WARNING:tensorflow:Skipping full serialization of Keras layer <keras.layers.core.activation.Activation object at 0x000001F54945FE80>, because it is not built.\n",
      "WARNING:absl:Found untraced functions such as _jit_compiled_convolution_op, _jit_compiled_convolution_op, _jit_compiled_convolution_op, lstm_cell_18_layer_call_fn, lstm_cell_18_layer_call_and_return_conditional_losses while saving (showing 5 of 15). These functions will not be directly callable after loading.\n"
     ]
    },
    {
     "name": "stdout",
     "output_type": "stream",
     "text": [
      "INFO:tensorflow:Assets written to: 0920_seq2seq_tensorflow\\assets\n"
     ]
    },
    {
     "name": "stderr",
     "output_type": "stream",
     "text": [
      "INFO:tensorflow:Assets written to: 0920_seq2seq_tensorflow\\assets\n"
     ]
    },
    {
     "name": "stdout",
     "output_type": "stream",
     "text": [
      "3/3 [==============================] - 9s 4s/step - loss: 0.1851 - mae: 0.1851\n",
      "Epoch 268/1000\n",
      "3/3 [==============================] - 0s 58ms/step - loss: 0.1854 - mae: 0.1854\n",
      "Epoch 269/1000\n",
      "3/3 [==============================] - 0s 58ms/step - loss: 0.1852 - mae: 0.1852\n",
      "Epoch 270/1000\n",
      "3/3 [==============================] - ETA: 0s - loss: 0.1847 - mae: 0.1847WARNING:tensorflow:Skipping full serialization of Keras layer <keras.layers.core.activation.Activation object at 0x000001F54945FE80>, because it is not built.\n"
     ]
    },
    {
     "name": "stderr",
     "output_type": "stream",
     "text": [
      "WARNING:tensorflow:Skipping full serialization of Keras layer <keras.layers.core.activation.Activation object at 0x000001F54945FE80>, because it is not built.\n",
      "WARNING:absl:Found untraced functions such as _jit_compiled_convolution_op, _jit_compiled_convolution_op, _jit_compiled_convolution_op, lstm_cell_18_layer_call_fn, lstm_cell_18_layer_call_and_return_conditional_losses while saving (showing 5 of 15). These functions will not be directly callable after loading.\n"
     ]
    },
    {
     "name": "stdout",
     "output_type": "stream",
     "text": [
      "INFO:tensorflow:Assets written to: 0920_seq2seq_tensorflow\\assets\n"
     ]
    },
    {
     "name": "stderr",
     "output_type": "stream",
     "text": [
      "INFO:tensorflow:Assets written to: 0920_seq2seq_tensorflow\\assets\n"
     ]
    },
    {
     "name": "stdout",
     "output_type": "stream",
     "text": [
      "3/3 [==============================] - 8s 4s/step - loss: 0.1847 - mae: 0.1847\n",
      "Epoch 271/1000\n",
      "3/3 [==============================] - 0s 63ms/step - loss: 0.1847 - mae: 0.1847\n",
      "Epoch 272/1000\n",
      "3/3 [==============================] - 0s 56ms/step - loss: 0.1851 - mae: 0.1851\n",
      "Epoch 273/1000\n",
      "3/3 [==============================] - 0s 60ms/step - loss: 0.1854 - mae: 0.1854\n",
      "Epoch 274/1000\n",
      "3/3 [==============================] - 0s 57ms/step - loss: 0.1849 - mae: 0.1849\n",
      "Epoch 275/1000\n",
      "3/3 [==============================] - ETA: 0s - loss: 0.1843 - mae: 0.1843WARNING:tensorflow:Skipping full serialization of Keras layer <keras.layers.core.activation.Activation object at 0x000001F54945FE80>, because it is not built.\n"
     ]
    },
    {
     "name": "stderr",
     "output_type": "stream",
     "text": [
      "WARNING:tensorflow:Skipping full serialization of Keras layer <keras.layers.core.activation.Activation object at 0x000001F54945FE80>, because it is not built.\n",
      "WARNING:absl:Found untraced functions such as _jit_compiled_convolution_op, _jit_compiled_convolution_op, _jit_compiled_convolution_op, lstm_cell_18_layer_call_fn, lstm_cell_18_layer_call_and_return_conditional_losses while saving (showing 5 of 15). These functions will not be directly callable after loading.\n"
     ]
    },
    {
     "name": "stdout",
     "output_type": "stream",
     "text": [
      "INFO:tensorflow:Assets written to: 0920_seq2seq_tensorflow\\assets\n"
     ]
    },
    {
     "name": "stderr",
     "output_type": "stream",
     "text": [
      "INFO:tensorflow:Assets written to: 0920_seq2seq_tensorflow\\assets\n"
     ]
    },
    {
     "name": "stdout",
     "output_type": "stream",
     "text": [
      "3/3 [==============================] - 16s 8s/step - loss: 0.1843 - mae: 0.1843\n",
      "Epoch 276/1000\n",
      "3/3 [==============================] - ETA: 0s - loss: 0.1842 - mae: 0.1842WARNING:tensorflow:Skipping full serialization of Keras layer <keras.layers.core.activation.Activation object at 0x000001F54945FE80>, because it is not built.\n"
     ]
    },
    {
     "name": "stderr",
     "output_type": "stream",
     "text": [
      "WARNING:tensorflow:Skipping full serialization of Keras layer <keras.layers.core.activation.Activation object at 0x000001F54945FE80>, because it is not built.\n",
      "WARNING:absl:Found untraced functions such as _jit_compiled_convolution_op, _jit_compiled_convolution_op, _jit_compiled_convolution_op, lstm_cell_18_layer_call_fn, lstm_cell_18_layer_call_and_return_conditional_losses while saving (showing 5 of 15). These functions will not be directly callable after loading.\n"
     ]
    },
    {
     "name": "stdout",
     "output_type": "stream",
     "text": [
      "INFO:tensorflow:Assets written to: 0920_seq2seq_tensorflow\\assets\n"
     ]
    },
    {
     "name": "stderr",
     "output_type": "stream",
     "text": [
      "INFO:tensorflow:Assets written to: 0920_seq2seq_tensorflow\\assets\n"
     ]
    },
    {
     "name": "stdout",
     "output_type": "stream",
     "text": [
      "3/3 [==============================] - 8s 4s/step - loss: 0.1842 - mae: 0.1842\n",
      "Epoch 277/1000\n",
      "3/3 [==============================] - 0s 57ms/step - loss: 0.1854 - mae: 0.1854\n",
      "Epoch 278/1000\n",
      "3/3 [==============================] - 0s 57ms/step - loss: 0.1863 - mae: 0.1863\n",
      "Epoch 279/1000\n",
      "3/3 [==============================] - 0s 56ms/step - loss: 0.1866 - mae: 0.1866\n",
      "Epoch 280/1000\n",
      "3/3 [==============================] - 0s 59ms/step - loss: 0.1844 - mae: 0.1844\n",
      "Epoch 281/1000\n",
      "3/3 [==============================] - 0s 59ms/step - loss: 0.1849 - mae: 0.1849\n",
      "Epoch 282/1000\n",
      "3/3 [==============================] - ETA: 0s - loss: 0.1840 - mae: 0.1840WARNING:tensorflow:Skipping full serialization of Keras layer <keras.layers.core.activation.Activation object at 0x000001F54945FE80>, because it is not built.\n"
     ]
    },
    {
     "name": "stderr",
     "output_type": "stream",
     "text": [
      "WARNING:tensorflow:Skipping full serialization of Keras layer <keras.layers.core.activation.Activation object at 0x000001F54945FE80>, because it is not built.\n",
      "WARNING:absl:Found untraced functions such as _jit_compiled_convolution_op, _jit_compiled_convolution_op, _jit_compiled_convolution_op, lstm_cell_18_layer_call_fn, lstm_cell_18_layer_call_and_return_conditional_losses while saving (showing 5 of 15). These functions will not be directly callable after loading.\n"
     ]
    },
    {
     "name": "stdout",
     "output_type": "stream",
     "text": [
      "INFO:tensorflow:Assets written to: 0920_seq2seq_tensorflow\\assets\n"
     ]
    },
    {
     "name": "stderr",
     "output_type": "stream",
     "text": [
      "INFO:tensorflow:Assets written to: 0920_seq2seq_tensorflow\\assets\n"
     ]
    },
    {
     "name": "stdout",
     "output_type": "stream",
     "text": [
      "3/3 [==============================] - 8s 4s/step - loss: 0.1840 - mae: 0.1840\n",
      "Epoch 283/1000\n",
      "3/3 [==============================] - ETA: 0s - loss: 0.1836 - mae: 0.1836WARNING:tensorflow:Skipping full serialization of Keras layer <keras.layers.core.activation.Activation object at 0x000001F54945FE80>, because it is not built.\n"
     ]
    },
    {
     "name": "stderr",
     "output_type": "stream",
     "text": [
      "WARNING:tensorflow:Skipping full serialization of Keras layer <keras.layers.core.activation.Activation object at 0x000001F54945FE80>, because it is not built.\n",
      "WARNING:absl:Found untraced functions such as _jit_compiled_convolution_op, _jit_compiled_convolution_op, _jit_compiled_convolution_op, lstm_cell_18_layer_call_fn, lstm_cell_18_layer_call_and_return_conditional_losses while saving (showing 5 of 15). These functions will not be directly callable after loading.\n"
     ]
    },
    {
     "name": "stdout",
     "output_type": "stream",
     "text": [
      "INFO:tensorflow:Assets written to: 0920_seq2seq_tensorflow\\assets\n"
     ]
    },
    {
     "name": "stderr",
     "output_type": "stream",
     "text": [
      "INFO:tensorflow:Assets written to: 0920_seq2seq_tensorflow\\assets\n"
     ]
    },
    {
     "name": "stdout",
     "output_type": "stream",
     "text": [
      "3/3 [==============================] - 8s 4s/step - loss: 0.1836 - mae: 0.1836\n",
      "Epoch 284/1000\n",
      "3/3 [==============================] - 0s 62ms/step - loss: 0.1838 - mae: 0.1838\n",
      "Epoch 285/1000\n",
      "3/3 [==============================] - 0s 55ms/step - loss: 0.1849 - mae: 0.1849\n",
      "Epoch 286/1000\n",
      "3/3 [==============================] - 0s 56ms/step - loss: 0.1851 - mae: 0.1851\n",
      "Epoch 287/1000\n",
      "3/3 [==============================] - 0s 57ms/step - loss: 0.1837 - mae: 0.1837\n",
      "Epoch 288/1000\n",
      "3/3 [==============================] - 0s 56ms/step - loss: 0.1845 - mae: 0.1845\n",
      "Epoch 289/1000\n",
      "3/3 [==============================] - ETA: 0s - loss: 0.1832 - mae: 0.1832WARNING:tensorflow:Skipping full serialization of Keras layer <keras.layers.core.activation.Activation object at 0x000001F54945FE80>, because it is not built.\n"
     ]
    },
    {
     "name": "stderr",
     "output_type": "stream",
     "text": [
      "WARNING:tensorflow:Skipping full serialization of Keras layer <keras.layers.core.activation.Activation object at 0x000001F54945FE80>, because it is not built.\n",
      "WARNING:absl:Found untraced functions such as _jit_compiled_convolution_op, _jit_compiled_convolution_op, _jit_compiled_convolution_op, lstm_cell_18_layer_call_fn, lstm_cell_18_layer_call_and_return_conditional_losses while saving (showing 5 of 15). These functions will not be directly callable after loading.\n"
     ]
    },
    {
     "name": "stdout",
     "output_type": "stream",
     "text": [
      "INFO:tensorflow:Assets written to: 0920_seq2seq_tensorflow\\assets\n"
     ]
    },
    {
     "name": "stderr",
     "output_type": "stream",
     "text": [
      "INFO:tensorflow:Assets written to: 0920_seq2seq_tensorflow\\assets\n"
     ]
    },
    {
     "name": "stdout",
     "output_type": "stream",
     "text": [
      "3/3 [==============================] - 8s 4s/step - loss: 0.1832 - mae: 0.1832\n",
      "Epoch 290/1000\n",
      "3/3 [==============================] - ETA: 0s - loss: 0.1828 - mae: 0.1828WARNING:tensorflow:Skipping full serialization of Keras layer <keras.layers.core.activation.Activation object at 0x000001F54945FE80>, because it is not built.\n"
     ]
    },
    {
     "name": "stderr",
     "output_type": "stream",
     "text": [
      "WARNING:tensorflow:Skipping full serialization of Keras layer <keras.layers.core.activation.Activation object at 0x000001F54945FE80>, because it is not built.\n",
      "WARNING:absl:Found untraced functions such as _jit_compiled_convolution_op, _jit_compiled_convolution_op, _jit_compiled_convolution_op, lstm_cell_18_layer_call_fn, lstm_cell_18_layer_call_and_return_conditional_losses while saving (showing 5 of 15). These functions will not be directly callable after loading.\n"
     ]
    },
    {
     "name": "stdout",
     "output_type": "stream",
     "text": [
      "INFO:tensorflow:Assets written to: 0920_seq2seq_tensorflow\\assets\n"
     ]
    },
    {
     "name": "stderr",
     "output_type": "stream",
     "text": [
      "INFO:tensorflow:Assets written to: 0920_seq2seq_tensorflow\\assets\n"
     ]
    },
    {
     "name": "stdout",
     "output_type": "stream",
     "text": [
      "3/3 [==============================] - 8s 4s/step - loss: 0.1828 - mae: 0.1828\n",
      "Epoch 291/1000\n",
      "3/3 [==============================] - ETA: 0s - loss: 0.1824 - mae: 0.1824WARNING:tensorflow:Skipping full serialization of Keras layer <keras.layers.core.activation.Activation object at 0x000001F54945FE80>, because it is not built.\n"
     ]
    },
    {
     "name": "stderr",
     "output_type": "stream",
     "text": [
      "WARNING:tensorflow:Skipping full serialization of Keras layer <keras.layers.core.activation.Activation object at 0x000001F54945FE80>, because it is not built.\n",
      "WARNING:absl:Found untraced functions such as _jit_compiled_convolution_op, _jit_compiled_convolution_op, _jit_compiled_convolution_op, lstm_cell_18_layer_call_fn, lstm_cell_18_layer_call_and_return_conditional_losses while saving (showing 5 of 15). These functions will not be directly callable after loading.\n"
     ]
    },
    {
     "name": "stdout",
     "output_type": "stream",
     "text": [
      "INFO:tensorflow:Assets written to: 0920_seq2seq_tensorflow\\assets\n"
     ]
    },
    {
     "name": "stderr",
     "output_type": "stream",
     "text": [
      "INFO:tensorflow:Assets written to: 0920_seq2seq_tensorflow\\assets\n"
     ]
    },
    {
     "name": "stdout",
     "output_type": "stream",
     "text": [
      "3/3 [==============================] - 8s 4s/step - loss: 0.1824 - mae: 0.1824\n",
      "Epoch 292/1000\n",
      "3/3 [==============================] - 0s 56ms/step - loss: 0.1828 - mae: 0.1828\n",
      "Epoch 293/1000\n",
      "3/3 [==============================] - 0s 55ms/step - loss: 0.1835 - mae: 0.1835\n",
      "Epoch 294/1000\n",
      "3/3 [==============================] - 0s 57ms/step - loss: 0.1825 - mae: 0.1825\n",
      "Epoch 295/1000\n",
      "3/3 [==============================] - 0s 60ms/step - loss: 0.1830 - mae: 0.1830\n",
      "Epoch 296/1000\n",
      "3/3 [==============================] - ETA: 0s - loss: 0.1821 - mae: 0.1821WARNING:tensorflow:Skipping full serialization of Keras layer <keras.layers.core.activation.Activation object at 0x000001F54945FE80>, because it is not built.\n"
     ]
    },
    {
     "name": "stderr",
     "output_type": "stream",
     "text": [
      "WARNING:tensorflow:Skipping full serialization of Keras layer <keras.layers.core.activation.Activation object at 0x000001F54945FE80>, because it is not built.\n",
      "WARNING:absl:Found untraced functions such as _jit_compiled_convolution_op, _jit_compiled_convolution_op, _jit_compiled_convolution_op, lstm_cell_18_layer_call_fn, lstm_cell_18_layer_call_and_return_conditional_losses while saving (showing 5 of 15). These functions will not be directly callable after loading.\n"
     ]
    },
    {
     "name": "stdout",
     "output_type": "stream",
     "text": [
      "INFO:tensorflow:Assets written to: 0920_seq2seq_tensorflow\\assets\n"
     ]
    },
    {
     "name": "stderr",
     "output_type": "stream",
     "text": [
      "INFO:tensorflow:Assets written to: 0920_seq2seq_tensorflow\\assets\n"
     ]
    },
    {
     "name": "stdout",
     "output_type": "stream",
     "text": [
      "3/3 [==============================] - 8s 4s/step - loss: 0.1821 - mae: 0.1821\n",
      "Epoch 297/1000\n",
      "3/3 [==============================] - ETA: 0s - loss: 0.1816 - mae: 0.1816WARNING:tensorflow:Skipping full serialization of Keras layer <keras.layers.core.activation.Activation object at 0x000001F54945FE80>, because it is not built.\n"
     ]
    },
    {
     "name": "stderr",
     "output_type": "stream",
     "text": [
      "WARNING:tensorflow:Skipping full serialization of Keras layer <keras.layers.core.activation.Activation object at 0x000001F54945FE80>, because it is not built.\n",
      "WARNING:absl:Found untraced functions such as _jit_compiled_convolution_op, _jit_compiled_convolution_op, _jit_compiled_convolution_op, lstm_cell_18_layer_call_fn, lstm_cell_18_layer_call_and_return_conditional_losses while saving (showing 5 of 15). These functions will not be directly callable after loading.\n"
     ]
    },
    {
     "name": "stdout",
     "output_type": "stream",
     "text": [
      "INFO:tensorflow:Assets written to: 0920_seq2seq_tensorflow\\assets\n"
     ]
    },
    {
     "name": "stderr",
     "output_type": "stream",
     "text": [
      "INFO:tensorflow:Assets written to: 0920_seq2seq_tensorflow\\assets\n"
     ]
    },
    {
     "name": "stdout",
     "output_type": "stream",
     "text": [
      "3/3 [==============================] - 8s 4s/step - loss: 0.1816 - mae: 0.1816\n",
      "Epoch 298/1000\n",
      "3/3 [==============================] - ETA: 0s - loss: 0.1810 - mae: 0.1810WARNING:tensorflow:Skipping full serialization of Keras layer <keras.layers.core.activation.Activation object at 0x000001F54945FE80>, because it is not built.\n"
     ]
    },
    {
     "name": "stderr",
     "output_type": "stream",
     "text": [
      "WARNING:tensorflow:Skipping full serialization of Keras layer <keras.layers.core.activation.Activation object at 0x000001F54945FE80>, because it is not built.\n",
      "WARNING:absl:Found untraced functions such as _jit_compiled_convolution_op, _jit_compiled_convolution_op, _jit_compiled_convolution_op, lstm_cell_18_layer_call_fn, lstm_cell_18_layer_call_and_return_conditional_losses while saving (showing 5 of 15). These functions will not be directly callable after loading.\n"
     ]
    },
    {
     "name": "stdout",
     "output_type": "stream",
     "text": [
      "INFO:tensorflow:Assets written to: 0920_seq2seq_tensorflow\\assets\n"
     ]
    },
    {
     "name": "stderr",
     "output_type": "stream",
     "text": [
      "INFO:tensorflow:Assets written to: 0920_seq2seq_tensorflow\\assets\n"
     ]
    },
    {
     "name": "stdout",
     "output_type": "stream",
     "text": [
      "3/3 [==============================] - 8s 4s/step - loss: 0.1810 - mae: 0.1810\n",
      "Epoch 299/1000\n",
      "3/3 [==============================] - 0s 63ms/step - loss: 0.1812 - mae: 0.1812\n",
      "Epoch 300/1000\n",
      "3/3 [==============================] - 0s 56ms/step - loss: 0.1825 - mae: 0.1825\n",
      "Epoch 301/1000\n",
      "3/3 [==============================] - 0s 60ms/step - loss: 0.1828 - mae: 0.1828\n",
      "Epoch 302/1000\n",
      "3/3 [==============================] - 0s 64ms/step - loss: 0.1818 - mae: 0.1818\n",
      "Epoch 303/1000\n",
      "3/3 [==============================] - 0s 58ms/step - loss: 0.1812 - mae: 0.1812\n",
      "Epoch 304/1000\n",
      "3/3 [==============================] - 0s 59ms/step - loss: 0.1812 - mae: 0.1812\n",
      "Epoch 305/1000\n",
      "3/3 [==============================] - ETA: 0s - loss: 0.1806 - mae: 0.1806WARNING:tensorflow:Skipping full serialization of Keras layer <keras.layers.core.activation.Activation object at 0x000001F54945FE80>, because it is not built.\n"
     ]
    },
    {
     "name": "stderr",
     "output_type": "stream",
     "text": [
      "WARNING:tensorflow:Skipping full serialization of Keras layer <keras.layers.core.activation.Activation object at 0x000001F54945FE80>, because it is not built.\n",
      "WARNING:absl:Found untraced functions such as _jit_compiled_convolution_op, _jit_compiled_convolution_op, _jit_compiled_convolution_op, lstm_cell_18_layer_call_fn, lstm_cell_18_layer_call_and_return_conditional_losses while saving (showing 5 of 15). These functions will not be directly callable after loading.\n"
     ]
    },
    {
     "name": "stdout",
     "output_type": "stream",
     "text": [
      "INFO:tensorflow:Assets written to: 0920_seq2seq_tensorflow\\assets\n"
     ]
    },
    {
     "name": "stderr",
     "output_type": "stream",
     "text": [
      "INFO:tensorflow:Assets written to: 0920_seq2seq_tensorflow\\assets\n"
     ]
    },
    {
     "name": "stdout",
     "output_type": "stream",
     "text": [
      "3/3 [==============================] - 16s 8s/step - loss: 0.1806 - mae: 0.1806\n",
      "Epoch 306/1000\n",
      "3/3 [==============================] - 0s 58ms/step - loss: 0.1807 - mae: 0.1807\n",
      "Epoch 307/1000\n",
      "3/3 [==============================] - ETA: 0s - loss: 0.1797 - mae: 0.1797WARNING:tensorflow:Skipping full serialization of Keras layer <keras.layers.core.activation.Activation object at 0x000001F54945FE80>, because it is not built.\n"
     ]
    },
    {
     "name": "stderr",
     "output_type": "stream",
     "text": [
      "WARNING:tensorflow:Skipping full serialization of Keras layer <keras.layers.core.activation.Activation object at 0x000001F54945FE80>, because it is not built.\n",
      "WARNING:absl:Found untraced functions such as _jit_compiled_convolution_op, _jit_compiled_convolution_op, _jit_compiled_convolution_op, lstm_cell_18_layer_call_fn, lstm_cell_18_layer_call_and_return_conditional_losses while saving (showing 5 of 15). These functions will not be directly callable after loading.\n"
     ]
    },
    {
     "name": "stdout",
     "output_type": "stream",
     "text": [
      "INFO:tensorflow:Assets written to: 0920_seq2seq_tensorflow\\assets\n"
     ]
    },
    {
     "name": "stderr",
     "output_type": "stream",
     "text": [
      "INFO:tensorflow:Assets written to: 0920_seq2seq_tensorflow\\assets\n"
     ]
    },
    {
     "name": "stdout",
     "output_type": "stream",
     "text": [
      "3/3 [==============================] - 8s 4s/step - loss: 0.1797 - mae: 0.1797\n",
      "Epoch 308/1000\n",
      "3/3 [==============================] - ETA: 0s - loss: 0.1793 - mae: 0.1793WARNING:tensorflow:Skipping full serialization of Keras layer <keras.layers.core.activation.Activation object at 0x000001F54945FE80>, because it is not built.\n"
     ]
    },
    {
     "name": "stderr",
     "output_type": "stream",
     "text": [
      "WARNING:tensorflow:Skipping full serialization of Keras layer <keras.layers.core.activation.Activation object at 0x000001F54945FE80>, because it is not built.\n",
      "WARNING:absl:Found untraced functions such as _jit_compiled_convolution_op, _jit_compiled_convolution_op, _jit_compiled_convolution_op, lstm_cell_18_layer_call_fn, lstm_cell_18_layer_call_and_return_conditional_losses while saving (showing 5 of 15). These functions will not be directly callable after loading.\n"
     ]
    },
    {
     "name": "stdout",
     "output_type": "stream",
     "text": [
      "INFO:tensorflow:Assets written to: 0920_seq2seq_tensorflow\\assets\n"
     ]
    },
    {
     "name": "stderr",
     "output_type": "stream",
     "text": [
      "INFO:tensorflow:Assets written to: 0920_seq2seq_tensorflow\\assets\n"
     ]
    },
    {
     "name": "stdout",
     "output_type": "stream",
     "text": [
      "3/3 [==============================] - 8s 4s/step - loss: 0.1793 - mae: 0.1793\n",
      "Epoch 309/1000\n",
      "3/3 [==============================] - 0s 56ms/step - loss: 0.1802 - mae: 0.1802\n",
      "Epoch 310/1000\n",
      "3/3 [==============================] - 0s 62ms/step - loss: 0.1848 - mae: 0.1848\n",
      "Epoch 311/1000\n",
      "3/3 [==============================] - 0s 56ms/step - loss: 0.1841 - mae: 0.1841\n",
      "Epoch 312/1000\n",
      "3/3 [==============================] - 0s 59ms/step - loss: 0.1808 - mae: 0.1808\n",
      "Epoch 313/1000\n",
      "3/3 [==============================] - 0s 58ms/step - loss: 0.1798 - mae: 0.1798\n",
      "Epoch 314/1000\n",
      "3/3 [==============================] - ETA: 0s - loss: 0.1790 - mae: 0.1790WARNING:tensorflow:Skipping full serialization of Keras layer <keras.layers.core.activation.Activation object at 0x000001F54945FE80>, because it is not built.\n"
     ]
    },
    {
     "name": "stderr",
     "output_type": "stream",
     "text": [
      "WARNING:tensorflow:Skipping full serialization of Keras layer <keras.layers.core.activation.Activation object at 0x000001F54945FE80>, because it is not built.\n",
      "WARNING:absl:Found untraced functions such as _jit_compiled_convolution_op, _jit_compiled_convolution_op, _jit_compiled_convolution_op, lstm_cell_18_layer_call_fn, lstm_cell_18_layer_call_and_return_conditional_losses while saving (showing 5 of 15). These functions will not be directly callable after loading.\n"
     ]
    },
    {
     "name": "stdout",
     "output_type": "stream",
     "text": [
      "INFO:tensorflow:Assets written to: 0920_seq2seq_tensorflow\\assets\n"
     ]
    },
    {
     "name": "stderr",
     "output_type": "stream",
     "text": [
      "INFO:tensorflow:Assets written to: 0920_seq2seq_tensorflow\\assets\n"
     ]
    },
    {
     "name": "stdout",
     "output_type": "stream",
     "text": [
      "3/3 [==============================] - 8s 4s/step - loss: 0.1790 - mae: 0.1790\n",
      "Epoch 315/1000\n",
      "3/3 [==============================] - ETA: 0s - loss: 0.1787 - mae: 0.1787WARNING:tensorflow:Skipping full serialization of Keras layer <keras.layers.core.activation.Activation object at 0x000001F54945FE80>, because it is not built.\n"
     ]
    },
    {
     "name": "stderr",
     "output_type": "stream",
     "text": [
      "WARNING:tensorflow:Skipping full serialization of Keras layer <keras.layers.core.activation.Activation object at 0x000001F54945FE80>, because it is not built.\n",
      "WARNING:absl:Found untraced functions such as _jit_compiled_convolution_op, _jit_compiled_convolution_op, _jit_compiled_convolution_op, lstm_cell_18_layer_call_fn, lstm_cell_18_layer_call_and_return_conditional_losses while saving (showing 5 of 15). These functions will not be directly callable after loading.\n"
     ]
    },
    {
     "name": "stdout",
     "output_type": "stream",
     "text": [
      "INFO:tensorflow:Assets written to: 0920_seq2seq_tensorflow\\assets\n"
     ]
    },
    {
     "name": "stderr",
     "output_type": "stream",
     "text": [
      "INFO:tensorflow:Assets written to: 0920_seq2seq_tensorflow\\assets\n"
     ]
    },
    {
     "name": "stdout",
     "output_type": "stream",
     "text": [
      "3/3 [==============================] - 8s 4s/step - loss: 0.1787 - mae: 0.1787\n",
      "Epoch 316/1000\n",
      "3/3 [==============================] - ETA: 0s - loss: 0.1781 - mae: 0.1781WARNING:tensorflow:Skipping full serialization of Keras layer <keras.layers.core.activation.Activation object at 0x000001F54945FE80>, because it is not built.\n"
     ]
    },
    {
     "name": "stderr",
     "output_type": "stream",
     "text": [
      "WARNING:tensorflow:Skipping full serialization of Keras layer <keras.layers.core.activation.Activation object at 0x000001F54945FE80>, because it is not built.\n",
      "WARNING:absl:Found untraced functions such as _jit_compiled_convolution_op, _jit_compiled_convolution_op, _jit_compiled_convolution_op, lstm_cell_18_layer_call_fn, lstm_cell_18_layer_call_and_return_conditional_losses while saving (showing 5 of 15). These functions will not be directly callable after loading.\n"
     ]
    },
    {
     "name": "stdout",
     "output_type": "stream",
     "text": [
      "INFO:tensorflow:Assets written to: 0920_seq2seq_tensorflow\\assets\n"
     ]
    },
    {
     "name": "stderr",
     "output_type": "stream",
     "text": [
      "INFO:tensorflow:Assets written to: 0920_seq2seq_tensorflow\\assets\n"
     ]
    },
    {
     "name": "stdout",
     "output_type": "stream",
     "text": [
      "3/3 [==============================] - 8s 4s/step - loss: 0.1781 - mae: 0.1781\n",
      "Epoch 317/1000\n",
      "3/3 [==============================] - 0s 57ms/step - loss: 0.1784 - mae: 0.1784\n",
      "Epoch 318/1000\n",
      "3/3 [==============================] - 0s 57ms/step - loss: 0.1782 - mae: 0.1782\n",
      "Epoch 319/1000\n",
      "3/3 [==============================] - ETA: 0s - loss: 0.1776 - mae: 0.1776WARNING:tensorflow:Skipping full serialization of Keras layer <keras.layers.core.activation.Activation object at 0x000001F54945FE80>, because it is not built.\n"
     ]
    },
    {
     "name": "stderr",
     "output_type": "stream",
     "text": [
      "WARNING:tensorflow:Skipping full serialization of Keras layer <keras.layers.core.activation.Activation object at 0x000001F54945FE80>, because it is not built.\n",
      "WARNING:absl:Found untraced functions such as _jit_compiled_convolution_op, _jit_compiled_convolution_op, _jit_compiled_convolution_op, lstm_cell_18_layer_call_fn, lstm_cell_18_layer_call_and_return_conditional_losses while saving (showing 5 of 15). These functions will not be directly callable after loading.\n"
     ]
    },
    {
     "name": "stdout",
     "output_type": "stream",
     "text": [
      "INFO:tensorflow:Assets written to: 0920_seq2seq_tensorflow\\assets\n"
     ]
    },
    {
     "name": "stderr",
     "output_type": "stream",
     "text": [
      "INFO:tensorflow:Assets written to: 0920_seq2seq_tensorflow\\assets\n"
     ]
    },
    {
     "name": "stdout",
     "output_type": "stream",
     "text": [
      "3/3 [==============================] - 8s 4s/step - loss: 0.1776 - mae: 0.1776\n",
      "Epoch 320/1000\n",
      "3/3 [==============================] - ETA: 0s - loss: 0.1774 - mae: 0.1774WARNING:tensorflow:Skipping full serialization of Keras layer <keras.layers.core.activation.Activation object at 0x000001F54945FE80>, because it is not built.\n"
     ]
    },
    {
     "name": "stderr",
     "output_type": "stream",
     "text": [
      "WARNING:tensorflow:Skipping full serialization of Keras layer <keras.layers.core.activation.Activation object at 0x000001F54945FE80>, because it is not built.\n",
      "WARNING:absl:Found untraced functions such as _jit_compiled_convolution_op, _jit_compiled_convolution_op, _jit_compiled_convolution_op, lstm_cell_18_layer_call_fn, lstm_cell_18_layer_call_and_return_conditional_losses while saving (showing 5 of 15). These functions will not be directly callable after loading.\n"
     ]
    },
    {
     "name": "stdout",
     "output_type": "stream",
     "text": [
      "INFO:tensorflow:Assets written to: 0920_seq2seq_tensorflow\\assets\n"
     ]
    },
    {
     "name": "stderr",
     "output_type": "stream",
     "text": [
      "INFO:tensorflow:Assets written to: 0920_seq2seq_tensorflow\\assets\n"
     ]
    },
    {
     "name": "stdout",
     "output_type": "stream",
     "text": [
      "3/3 [==============================] - 8s 4s/step - loss: 0.1774 - mae: 0.1774\n",
      "Epoch 321/1000\n",
      "3/3 [==============================] - ETA: 0s - loss: 0.1772 - mae: 0.1772WARNING:tensorflow:Skipping full serialization of Keras layer <keras.layers.core.activation.Activation object at 0x000001F54945FE80>, because it is not built.\n"
     ]
    },
    {
     "name": "stderr",
     "output_type": "stream",
     "text": [
      "WARNING:tensorflow:Skipping full serialization of Keras layer <keras.layers.core.activation.Activation object at 0x000001F54945FE80>, because it is not built.\n",
      "WARNING:absl:Found untraced functions such as _jit_compiled_convolution_op, _jit_compiled_convolution_op, _jit_compiled_convolution_op, lstm_cell_18_layer_call_fn, lstm_cell_18_layer_call_and_return_conditional_losses while saving (showing 5 of 15). These functions will not be directly callable after loading.\n"
     ]
    },
    {
     "name": "stdout",
     "output_type": "stream",
     "text": [
      "INFO:tensorflow:Assets written to: 0920_seq2seq_tensorflow\\assets\n"
     ]
    },
    {
     "name": "stderr",
     "output_type": "stream",
     "text": [
      "INFO:tensorflow:Assets written to: 0920_seq2seq_tensorflow\\assets\n"
     ]
    },
    {
     "name": "stdout",
     "output_type": "stream",
     "text": [
      "3/3 [==============================] - 8s 4s/step - loss: 0.1772 - mae: 0.1772\n",
      "Epoch 322/1000\n",
      "3/3 [==============================] - 0s 59ms/step - loss: 0.1777 - mae: 0.1777\n",
      "Epoch 323/1000\n",
      "3/3 [==============================] - 0s 58ms/step - loss: 0.1787 - mae: 0.1787\n",
      "Epoch 324/1000\n",
      "3/3 [==============================] - 0s 56ms/step - loss: 0.1840 - mae: 0.1840\n",
      "Epoch 325/1000\n",
      "3/3 [==============================] - 0s 55ms/step - loss: 0.1796 - mae: 0.1796\n",
      "Epoch 326/1000\n",
      "3/3 [==============================] - 0s 57ms/step - loss: 0.1773 - mae: 0.1773\n",
      "Epoch 327/1000\n",
      "3/3 [==============================] - 0s 57ms/step - loss: 0.1787 - mae: 0.1787\n",
      "Epoch 328/1000\n",
      "3/3 [==============================] - 0s 57ms/step - loss: 0.1776 - mae: 0.1776\n",
      "Epoch 329/1000\n",
      "3/3 [==============================] - ETA: 0s - loss: 0.1768 - mae: 0.1768WARNING:tensorflow:Skipping full serialization of Keras layer <keras.layers.core.activation.Activation object at 0x000001F54945FE80>, because it is not built.\n"
     ]
    },
    {
     "name": "stderr",
     "output_type": "stream",
     "text": [
      "WARNING:tensorflow:Skipping full serialization of Keras layer <keras.layers.core.activation.Activation object at 0x000001F54945FE80>, because it is not built.\n",
      "WARNING:absl:Found untraced functions such as _jit_compiled_convolution_op, _jit_compiled_convolution_op, _jit_compiled_convolution_op, lstm_cell_18_layer_call_fn, lstm_cell_18_layer_call_and_return_conditional_losses while saving (showing 5 of 15). These functions will not be directly callable after loading.\n"
     ]
    },
    {
     "name": "stdout",
     "output_type": "stream",
     "text": [
      "INFO:tensorflow:Assets written to: 0920_seq2seq_tensorflow\\assets\n"
     ]
    },
    {
     "name": "stderr",
     "output_type": "stream",
     "text": [
      "INFO:tensorflow:Assets written to: 0920_seq2seq_tensorflow\\assets\n"
     ]
    },
    {
     "name": "stdout",
     "output_type": "stream",
     "text": [
      "3/3 [==============================] - 8s 4s/step - loss: 0.1768 - mae: 0.1768\n",
      "Epoch 330/1000\n",
      "3/3 [==============================] - ETA: 0s - loss: 0.1764 - mae: 0.1764WARNING:tensorflow:Skipping full serialization of Keras layer <keras.layers.core.activation.Activation object at 0x000001F54945FE80>, because it is not built.\n"
     ]
    },
    {
     "name": "stderr",
     "output_type": "stream",
     "text": [
      "WARNING:tensorflow:Skipping full serialization of Keras layer <keras.layers.core.activation.Activation object at 0x000001F54945FE80>, because it is not built.\n",
      "WARNING:absl:Found untraced functions such as _jit_compiled_convolution_op, _jit_compiled_convolution_op, _jit_compiled_convolution_op, lstm_cell_18_layer_call_fn, lstm_cell_18_layer_call_and_return_conditional_losses while saving (showing 5 of 15). These functions will not be directly callable after loading.\n"
     ]
    },
    {
     "name": "stdout",
     "output_type": "stream",
     "text": [
      "INFO:tensorflow:Assets written to: 0920_seq2seq_tensorflow\\assets\n"
     ]
    },
    {
     "name": "stderr",
     "output_type": "stream",
     "text": [
      "INFO:tensorflow:Assets written to: 0920_seq2seq_tensorflow\\assets\n"
     ]
    },
    {
     "name": "stdout",
     "output_type": "stream",
     "text": [
      "3/3 [==============================] - 8s 4s/step - loss: 0.1764 - mae: 0.1764\n",
      "Epoch 331/1000\n",
      "3/3 [==============================] - ETA: 0s - loss: 0.1763 - mae: 0.1763WARNING:tensorflow:Skipping full serialization of Keras layer <keras.layers.core.activation.Activation object at 0x000001F54945FE80>, because it is not built.\n"
     ]
    },
    {
     "name": "stderr",
     "output_type": "stream",
     "text": [
      "WARNING:tensorflow:Skipping full serialization of Keras layer <keras.layers.core.activation.Activation object at 0x000001F54945FE80>, because it is not built.\n",
      "WARNING:absl:Found untraced functions such as _jit_compiled_convolution_op, _jit_compiled_convolution_op, _jit_compiled_convolution_op, lstm_cell_18_layer_call_fn, lstm_cell_18_layer_call_and_return_conditional_losses while saving (showing 5 of 15). These functions will not be directly callable after loading.\n"
     ]
    },
    {
     "name": "stdout",
     "output_type": "stream",
     "text": [
      "INFO:tensorflow:Assets written to: 0920_seq2seq_tensorflow\\assets\n"
     ]
    },
    {
     "name": "stderr",
     "output_type": "stream",
     "text": [
      "INFO:tensorflow:Assets written to: 0920_seq2seq_tensorflow\\assets\n"
     ]
    },
    {
     "name": "stdout",
     "output_type": "stream",
     "text": [
      "3/3 [==============================] - 17s 9s/step - loss: 0.1763 - mae: 0.1763\n",
      "Epoch 332/1000\n",
      "3/3 [==============================] - 0s 57ms/step - loss: 0.1782 - mae: 0.1782\n",
      "Epoch 333/1000\n",
      "3/3 [==============================] - 0s 56ms/step - loss: 0.1805 - mae: 0.1805\n",
      "Epoch 334/1000\n",
      "3/3 [==============================] - 0s 57ms/step - loss: 0.1771 - mae: 0.1771\n",
      "Epoch 335/1000\n",
      "3/3 [==============================] - 0s 60ms/step - loss: 0.1769 - mae: 0.1769\n",
      "Epoch 336/1000\n",
      "3/3 [==============================] - ETA: 0s - loss: 0.1758 - mae: 0.1758WARNING:tensorflow:Skipping full serialization of Keras layer <keras.layers.core.activation.Activation object at 0x000001F54945FE80>, because it is not built.\n"
     ]
    },
    {
     "name": "stderr",
     "output_type": "stream",
     "text": [
      "WARNING:tensorflow:Skipping full serialization of Keras layer <keras.layers.core.activation.Activation object at 0x000001F54945FE80>, because it is not built.\n",
      "WARNING:absl:Found untraced functions such as _jit_compiled_convolution_op, _jit_compiled_convolution_op, _jit_compiled_convolution_op, lstm_cell_18_layer_call_fn, lstm_cell_18_layer_call_and_return_conditional_losses while saving (showing 5 of 15). These functions will not be directly callable after loading.\n"
     ]
    },
    {
     "name": "stdout",
     "output_type": "stream",
     "text": [
      "INFO:tensorflow:Assets written to: 0920_seq2seq_tensorflow\\assets\n"
     ]
    },
    {
     "name": "stderr",
     "output_type": "stream",
     "text": [
      "INFO:tensorflow:Assets written to: 0920_seq2seq_tensorflow\\assets\n"
     ]
    },
    {
     "name": "stdout",
     "output_type": "stream",
     "text": [
      "3/3 [==============================] - 8s 4s/step - loss: 0.1758 - mae: 0.1758\n",
      "Epoch 337/1000\n",
      "3/3 [==============================] - ETA: 0s - loss: 0.1747 - mae: 0.1747WARNING:tensorflow:Skipping full serialization of Keras layer <keras.layers.core.activation.Activation object at 0x000001F54945FE80>, because it is not built.\n"
     ]
    },
    {
     "name": "stderr",
     "output_type": "stream",
     "text": [
      "WARNING:tensorflow:Skipping full serialization of Keras layer <keras.layers.core.activation.Activation object at 0x000001F54945FE80>, because it is not built.\n",
      "WARNING:absl:Found untraced functions such as _jit_compiled_convolution_op, _jit_compiled_convolution_op, _jit_compiled_convolution_op, lstm_cell_18_layer_call_fn, lstm_cell_18_layer_call_and_return_conditional_losses while saving (showing 5 of 15). These functions will not be directly callable after loading.\n"
     ]
    },
    {
     "name": "stdout",
     "output_type": "stream",
     "text": [
      "INFO:tensorflow:Assets written to: 0920_seq2seq_tensorflow\\assets\n"
     ]
    },
    {
     "name": "stderr",
     "output_type": "stream",
     "text": [
      "INFO:tensorflow:Assets written to: 0920_seq2seq_tensorflow\\assets\n"
     ]
    },
    {
     "name": "stdout",
     "output_type": "stream",
     "text": [
      "3/3 [==============================] - 8s 4s/step - loss: 0.1747 - mae: 0.1747\n",
      "Epoch 338/1000\n",
      "3/3 [==============================] - ETA: 0s - loss: 0.1743 - mae: 0.1743WARNING:tensorflow:Skipping full serialization of Keras layer <keras.layers.core.activation.Activation object at 0x000001F54945FE80>, because it is not built.\n"
     ]
    },
    {
     "name": "stderr",
     "output_type": "stream",
     "text": [
      "WARNING:tensorflow:Skipping full serialization of Keras layer <keras.layers.core.activation.Activation object at 0x000001F54945FE80>, because it is not built.\n",
      "WARNING:absl:Found untraced functions such as _jit_compiled_convolution_op, _jit_compiled_convolution_op, _jit_compiled_convolution_op, lstm_cell_18_layer_call_fn, lstm_cell_18_layer_call_and_return_conditional_losses while saving (showing 5 of 15). These functions will not be directly callable after loading.\n"
     ]
    },
    {
     "name": "stdout",
     "output_type": "stream",
     "text": [
      "INFO:tensorflow:Assets written to: 0920_seq2seq_tensorflow\\assets\n"
     ]
    },
    {
     "name": "stderr",
     "output_type": "stream",
     "text": [
      "INFO:tensorflow:Assets written to: 0920_seq2seq_tensorflow\\assets\n"
     ]
    },
    {
     "name": "stdout",
     "output_type": "stream",
     "text": [
      "3/3 [==============================] - 8s 4s/step - loss: 0.1743 - mae: 0.1743\n",
      "Epoch 339/1000\n",
      "3/3 [==============================] - ETA: 0s - loss: 0.1741 - mae: 0.1741WARNING:tensorflow:Skipping full serialization of Keras layer <keras.layers.core.activation.Activation object at 0x000001F54945FE80>, because it is not built.\n"
     ]
    },
    {
     "name": "stderr",
     "output_type": "stream",
     "text": [
      "WARNING:tensorflow:Skipping full serialization of Keras layer <keras.layers.core.activation.Activation object at 0x000001F54945FE80>, because it is not built.\n",
      "WARNING:absl:Found untraced functions such as _jit_compiled_convolution_op, _jit_compiled_convolution_op, _jit_compiled_convolution_op, lstm_cell_18_layer_call_fn, lstm_cell_18_layer_call_and_return_conditional_losses while saving (showing 5 of 15). These functions will not be directly callable after loading.\n"
     ]
    },
    {
     "name": "stdout",
     "output_type": "stream",
     "text": [
      "INFO:tensorflow:Assets written to: 0920_seq2seq_tensorflow\\assets\n"
     ]
    },
    {
     "name": "stderr",
     "output_type": "stream",
     "text": [
      "INFO:tensorflow:Assets written to: 0920_seq2seq_tensorflow\\assets\n"
     ]
    },
    {
     "name": "stdout",
     "output_type": "stream",
     "text": [
      "3/3 [==============================] - 8s 4s/step - loss: 0.1741 - mae: 0.1741\n",
      "Epoch 340/1000\n",
      "3/3 [==============================] - ETA: 0s - loss: 0.1740 - mae: 0.1740WARNING:tensorflow:Skipping full serialization of Keras layer <keras.layers.core.activation.Activation object at 0x000001F54945FE80>, because it is not built.\n"
     ]
    },
    {
     "name": "stderr",
     "output_type": "stream",
     "text": [
      "WARNING:tensorflow:Skipping full serialization of Keras layer <keras.layers.core.activation.Activation object at 0x000001F54945FE80>, because it is not built.\n",
      "WARNING:absl:Found untraced functions such as _jit_compiled_convolution_op, _jit_compiled_convolution_op, _jit_compiled_convolution_op, lstm_cell_18_layer_call_fn, lstm_cell_18_layer_call_and_return_conditional_losses while saving (showing 5 of 15). These functions will not be directly callable after loading.\n"
     ]
    },
    {
     "name": "stdout",
     "output_type": "stream",
     "text": [
      "INFO:tensorflow:Assets written to: 0920_seq2seq_tensorflow\\assets\n"
     ]
    },
    {
     "name": "stderr",
     "output_type": "stream",
     "text": [
      "INFO:tensorflow:Assets written to: 0920_seq2seq_tensorflow\\assets\n"
     ]
    },
    {
     "name": "stdout",
     "output_type": "stream",
     "text": [
      "3/3 [==============================] - 8s 4s/step - loss: 0.1740 - mae: 0.1740\n",
      "Epoch 341/1000\n",
      "3/3 [==============================] - ETA: 0s - loss: 0.1738 - mae: 0.1738WARNING:tensorflow:Skipping full serialization of Keras layer <keras.layers.core.activation.Activation object at 0x000001F54945FE80>, because it is not built.\n"
     ]
    },
    {
     "name": "stderr",
     "output_type": "stream",
     "text": [
      "WARNING:tensorflow:Skipping full serialization of Keras layer <keras.layers.core.activation.Activation object at 0x000001F54945FE80>, because it is not built.\n",
      "WARNING:absl:Found untraced functions such as _jit_compiled_convolution_op, _jit_compiled_convolution_op, _jit_compiled_convolution_op, lstm_cell_18_layer_call_fn, lstm_cell_18_layer_call_and_return_conditional_losses while saving (showing 5 of 15). These functions will not be directly callable after loading.\n"
     ]
    },
    {
     "name": "stdout",
     "output_type": "stream",
     "text": [
      "INFO:tensorflow:Assets written to: 0920_seq2seq_tensorflow\\assets\n"
     ]
    },
    {
     "name": "stderr",
     "output_type": "stream",
     "text": [
      "INFO:tensorflow:Assets written to: 0920_seq2seq_tensorflow\\assets\n"
     ]
    },
    {
     "name": "stdout",
     "output_type": "stream",
     "text": [
      "3/3 [==============================] - 8s 4s/step - loss: 0.1738 - mae: 0.1738\n",
      "Epoch 342/1000\n",
      "3/3 [==============================] - ETA: 0s - loss: 0.1737 - mae: 0.1737WARNING:tensorflow:Skipping full serialization of Keras layer <keras.layers.core.activation.Activation object at 0x000001F54945FE80>, because it is not built.\n"
     ]
    },
    {
     "name": "stderr",
     "output_type": "stream",
     "text": [
      "WARNING:tensorflow:Skipping full serialization of Keras layer <keras.layers.core.activation.Activation object at 0x000001F54945FE80>, because it is not built.\n",
      "WARNING:absl:Found untraced functions such as _jit_compiled_convolution_op, _jit_compiled_convolution_op, _jit_compiled_convolution_op, lstm_cell_18_layer_call_fn, lstm_cell_18_layer_call_and_return_conditional_losses while saving (showing 5 of 15). These functions will not be directly callable after loading.\n"
     ]
    },
    {
     "name": "stdout",
     "output_type": "stream",
     "text": [
      "INFO:tensorflow:Assets written to: 0920_seq2seq_tensorflow\\assets\n"
     ]
    },
    {
     "name": "stderr",
     "output_type": "stream",
     "text": [
      "INFO:tensorflow:Assets written to: 0920_seq2seq_tensorflow\\assets\n"
     ]
    },
    {
     "name": "stdout",
     "output_type": "stream",
     "text": [
      "3/3 [==============================] - 8s 4s/step - loss: 0.1737 - mae: 0.1737\n",
      "Epoch 343/1000\n",
      "3/3 [==============================] - 0s 60ms/step - loss: 0.1740 - mae: 0.1740\n",
      "Epoch 344/1000\n",
      "3/3 [==============================] - ETA: 0s - loss: 0.1737 - mae: 0.1737WARNING:tensorflow:Skipping full serialization of Keras layer <keras.layers.core.activation.Activation object at 0x000001F54945FE80>, because it is not built.\n"
     ]
    },
    {
     "name": "stderr",
     "output_type": "stream",
     "text": [
      "WARNING:tensorflow:Skipping full serialization of Keras layer <keras.layers.core.activation.Activation object at 0x000001F54945FE80>, because it is not built.\n",
      "WARNING:absl:Found untraced functions such as _jit_compiled_convolution_op, _jit_compiled_convolution_op, _jit_compiled_convolution_op, lstm_cell_18_layer_call_fn, lstm_cell_18_layer_call_and_return_conditional_losses while saving (showing 5 of 15). These functions will not be directly callable after loading.\n"
     ]
    },
    {
     "name": "stdout",
     "output_type": "stream",
     "text": [
      "INFO:tensorflow:Assets written to: 0920_seq2seq_tensorflow\\assets\n"
     ]
    },
    {
     "name": "stderr",
     "output_type": "stream",
     "text": [
      "INFO:tensorflow:Assets written to: 0920_seq2seq_tensorflow\\assets\n"
     ]
    },
    {
     "name": "stdout",
     "output_type": "stream",
     "text": [
      "3/3 [==============================] - 8s 4s/step - loss: 0.1737 - mae: 0.1737\n",
      "Epoch 345/1000\n",
      "3/3 [==============================] - 0s 65ms/step - loss: 0.1764 - mae: 0.1764\n",
      "Epoch 346/1000\n",
      "3/3 [==============================] - 0s 57ms/step - loss: 0.1746 - mae: 0.1746\n",
      "Epoch 347/1000\n",
      "3/3 [==============================] - 0s 60ms/step - loss: 0.1745 - mae: 0.1745\n",
      "Epoch 348/1000\n",
      "3/3 [==============================] - 0s 57ms/step - loss: 0.1750 - mae: 0.1750\n",
      "Epoch 349/1000\n",
      "3/3 [==============================] - ETA: 0s - loss: 0.1729 - mae: 0.1729WARNING:tensorflow:Skipping full serialization of Keras layer <keras.layers.core.activation.Activation object at 0x000001F54945FE80>, because it is not built.\n"
     ]
    },
    {
     "name": "stderr",
     "output_type": "stream",
     "text": [
      "WARNING:tensorflow:Skipping full serialization of Keras layer <keras.layers.core.activation.Activation object at 0x000001F54945FE80>, because it is not built.\n",
      "WARNING:absl:Found untraced functions such as _jit_compiled_convolution_op, _jit_compiled_convolution_op, _jit_compiled_convolution_op, lstm_cell_18_layer_call_fn, lstm_cell_18_layer_call_and_return_conditional_losses while saving (showing 5 of 15). These functions will not be directly callable after loading.\n"
     ]
    },
    {
     "name": "stdout",
     "output_type": "stream",
     "text": [
      "INFO:tensorflow:Assets written to: 0920_seq2seq_tensorflow\\assets\n"
     ]
    },
    {
     "name": "stderr",
     "output_type": "stream",
     "text": [
      "INFO:tensorflow:Assets written to: 0920_seq2seq_tensorflow\\assets\n"
     ]
    },
    {
     "name": "stdout",
     "output_type": "stream",
     "text": [
      "3/3 [==============================] - 8s 4s/step - loss: 0.1729 - mae: 0.1729\n",
      "Epoch 350/1000\n",
      "3/3 [==============================] - 0s 57ms/step - loss: 0.1731 - mae: 0.1731\n",
      "Epoch 351/1000\n",
      "3/3 [==============================] - ETA: 0s - loss: 0.1722 - mae: 0.1722WARNING:tensorflow:Skipping full serialization of Keras layer <keras.layers.core.activation.Activation object at 0x000001F54945FE80>, because it is not built.\n"
     ]
    },
    {
     "name": "stderr",
     "output_type": "stream",
     "text": [
      "WARNING:tensorflow:Skipping full serialization of Keras layer <keras.layers.core.activation.Activation object at 0x000001F54945FE80>, because it is not built.\n",
      "WARNING:absl:Found untraced functions such as _jit_compiled_convolution_op, _jit_compiled_convolution_op, _jit_compiled_convolution_op, lstm_cell_18_layer_call_fn, lstm_cell_18_layer_call_and_return_conditional_losses while saving (showing 5 of 15). These functions will not be directly callable after loading.\n"
     ]
    },
    {
     "name": "stdout",
     "output_type": "stream",
     "text": [
      "INFO:tensorflow:Assets written to: 0920_seq2seq_tensorflow\\assets\n"
     ]
    },
    {
     "name": "stderr",
     "output_type": "stream",
     "text": [
      "INFO:tensorflow:Assets written to: 0920_seq2seq_tensorflow\\assets\n"
     ]
    },
    {
     "name": "stdout",
     "output_type": "stream",
     "text": [
      "3/3 [==============================] - 9s 4s/step - loss: 0.1722 - mae: 0.1722\n",
      "Epoch 352/1000\n",
      "3/3 [==============================] - 0s 56ms/step - loss: 0.1726 - mae: 0.1726\n",
      "Epoch 353/1000\n",
      "3/3 [==============================] - ETA: 0s - loss: 0.1718 - mae: 0.1718WARNING:tensorflow:Skipping full serialization of Keras layer <keras.layers.core.activation.Activation object at 0x000001F54945FE80>, because it is not built.\n"
     ]
    },
    {
     "name": "stderr",
     "output_type": "stream",
     "text": [
      "WARNING:tensorflow:Skipping full serialization of Keras layer <keras.layers.core.activation.Activation object at 0x000001F54945FE80>, because it is not built.\n",
      "WARNING:absl:Found untraced functions such as _jit_compiled_convolution_op, _jit_compiled_convolution_op, _jit_compiled_convolution_op, lstm_cell_18_layer_call_fn, lstm_cell_18_layer_call_and_return_conditional_losses while saving (showing 5 of 15). These functions will not be directly callable after loading.\n"
     ]
    },
    {
     "name": "stdout",
     "output_type": "stream",
     "text": [
      "INFO:tensorflow:Assets written to: 0920_seq2seq_tensorflow\\assets\n"
     ]
    },
    {
     "name": "stderr",
     "output_type": "stream",
     "text": [
      "INFO:tensorflow:Assets written to: 0920_seq2seq_tensorflow\\assets\n"
     ]
    },
    {
     "name": "stdout",
     "output_type": "stream",
     "text": [
      "3/3 [==============================] - 18s 9s/step - loss: 0.1718 - mae: 0.1718\n",
      "Epoch 354/1000\n",
      "3/3 [==============================] - 0s 58ms/step - loss: 0.1730 - mae: 0.1730\n",
      "Epoch 355/1000\n",
      "3/3 [==============================] - ETA: 0s - loss: 0.1712 - mae: 0.1712WARNING:tensorflow:Skipping full serialization of Keras layer <keras.layers.core.activation.Activation object at 0x000001F54945FE80>, because it is not built.\n"
     ]
    },
    {
     "name": "stderr",
     "output_type": "stream",
     "text": [
      "WARNING:tensorflow:Skipping full serialization of Keras layer <keras.layers.core.activation.Activation object at 0x000001F54945FE80>, because it is not built.\n",
      "WARNING:absl:Found untraced functions such as _jit_compiled_convolution_op, _jit_compiled_convolution_op, _jit_compiled_convolution_op, lstm_cell_18_layer_call_fn, lstm_cell_18_layer_call_and_return_conditional_losses while saving (showing 5 of 15). These functions will not be directly callable after loading.\n"
     ]
    },
    {
     "name": "stdout",
     "output_type": "stream",
     "text": [
      "INFO:tensorflow:Assets written to: 0920_seq2seq_tensorflow\\assets\n"
     ]
    },
    {
     "name": "stderr",
     "output_type": "stream",
     "text": [
      "INFO:tensorflow:Assets written to: 0920_seq2seq_tensorflow\\assets\n"
     ]
    },
    {
     "name": "stdout",
     "output_type": "stream",
     "text": [
      "3/3 [==============================] - 8s 4s/step - loss: 0.1712 - mae: 0.1712\n",
      "Epoch 356/1000\n",
      "3/3 [==============================] - 0s 60ms/step - loss: 0.1720 - mae: 0.1720\n",
      "Epoch 357/1000\n",
      "3/3 [==============================] - 0s 63ms/step - loss: 0.1731 - mae: 0.1731\n",
      "Epoch 358/1000\n",
      "3/3 [==============================] - 0s 58ms/step - loss: 0.1729 - mae: 0.1729\n",
      "Epoch 359/1000\n",
      "3/3 [==============================] - 0s 61ms/step - loss: 0.1748 - mae: 0.1748\n",
      "Epoch 360/1000\n",
      "3/3 [==============================] - 0s 59ms/step - loss: 0.1735 - mae: 0.1735\n",
      "Epoch 361/1000\n",
      "3/3 [==============================] - 0s 68ms/step - loss: 0.1735 - mae: 0.1735\n",
      "Epoch 362/1000\n",
      "3/3 [==============================] - 0s 61ms/step - loss: 0.1721 - mae: 0.1721\n",
      "Epoch 363/1000\n",
      "3/3 [==============================] - 0s 57ms/step - loss: 0.1731 - mae: 0.1731\n",
      "Epoch 364/1000\n",
      "3/3 [==============================] - 0s 59ms/step - loss: 0.1746 - mae: 0.1746\n",
      "Epoch 365/1000\n",
      "3/3 [==============================] - 0s 59ms/step - loss: 0.1727 - mae: 0.1727\n",
      "Epoch 366/1000\n",
      "3/3 [==============================] - ETA: 0s - loss: 0.1695 - mae: 0.1695WARNING:tensorflow:Skipping full serialization of Keras layer <keras.layers.core.activation.Activation object at 0x000001F54945FE80>, because it is not built.\n"
     ]
    },
    {
     "name": "stderr",
     "output_type": "stream",
     "text": [
      "WARNING:tensorflow:Skipping full serialization of Keras layer <keras.layers.core.activation.Activation object at 0x000001F54945FE80>, because it is not built.\n",
      "WARNING:absl:Found untraced functions such as _jit_compiled_convolution_op, _jit_compiled_convolution_op, _jit_compiled_convolution_op, lstm_cell_18_layer_call_fn, lstm_cell_18_layer_call_and_return_conditional_losses while saving (showing 5 of 15). These functions will not be directly callable after loading.\n"
     ]
    },
    {
     "name": "stdout",
     "output_type": "stream",
     "text": [
      "INFO:tensorflow:Assets written to: 0920_seq2seq_tensorflow\\assets\n"
     ]
    },
    {
     "name": "stderr",
     "output_type": "stream",
     "text": [
      "INFO:tensorflow:Assets written to: 0920_seq2seq_tensorflow\\assets\n"
     ]
    },
    {
     "name": "stdout",
     "output_type": "stream",
     "text": [
      "3/3 [==============================] - 8s 4s/step - loss: 0.1695 - mae: 0.1695\n",
      "Epoch 367/1000\n",
      "3/3 [==============================] - 0s 58ms/step - loss: 0.1705 - mae: 0.1705\n",
      "Epoch 368/1000\n",
      "3/3 [==============================] - 0s 57ms/step - loss: 0.1695 - mae: 0.1695\n",
      "Epoch 369/1000\n",
      "3/3 [==============================] - ETA: 0s - loss: 0.1688 - mae: 0.1688WARNING:tensorflow:Skipping full serialization of Keras layer <keras.layers.core.activation.Activation object at 0x000001F54945FE80>, because it is not built.\n"
     ]
    },
    {
     "name": "stderr",
     "output_type": "stream",
     "text": [
      "WARNING:tensorflow:Skipping full serialization of Keras layer <keras.layers.core.activation.Activation object at 0x000001F54945FE80>, because it is not built.\n",
      "WARNING:absl:Found untraced functions such as _jit_compiled_convolution_op, _jit_compiled_convolution_op, _jit_compiled_convolution_op, lstm_cell_18_layer_call_fn, lstm_cell_18_layer_call_and_return_conditional_losses while saving (showing 5 of 15). These functions will not be directly callable after loading.\n"
     ]
    },
    {
     "name": "stdout",
     "output_type": "stream",
     "text": [
      "INFO:tensorflow:Assets written to: 0920_seq2seq_tensorflow\\assets\n"
     ]
    },
    {
     "name": "stderr",
     "output_type": "stream",
     "text": [
      "INFO:tensorflow:Assets written to: 0920_seq2seq_tensorflow\\assets\n"
     ]
    },
    {
     "name": "stdout",
     "output_type": "stream",
     "text": [
      "3/3 [==============================] - 8s 4s/step - loss: 0.1688 - mae: 0.1688\n",
      "Epoch 370/1000\n",
      "3/3 [==============================] - 0s 60ms/step - loss: 0.1693 - mae: 0.1693\n",
      "Epoch 371/1000\n",
      "3/3 [==============================] - 0s 60ms/step - loss: 0.1701 - mae: 0.1701\n",
      "Epoch 372/1000\n",
      "3/3 [==============================] - 0s 55ms/step - loss: 0.1690 - mae: 0.1690\n",
      "Epoch 373/1000\n",
      "3/3 [==============================] - ETA: 0s - loss: 0.1683 - mae: 0.1683WARNING:tensorflow:Skipping full serialization of Keras layer <keras.layers.core.activation.Activation object at 0x000001F54945FE80>, because it is not built.\n"
     ]
    },
    {
     "name": "stderr",
     "output_type": "stream",
     "text": [
      "WARNING:tensorflow:Skipping full serialization of Keras layer <keras.layers.core.activation.Activation object at 0x000001F54945FE80>, because it is not built.\n",
      "WARNING:absl:Found untraced functions such as _jit_compiled_convolution_op, _jit_compiled_convolution_op, _jit_compiled_convolution_op, lstm_cell_18_layer_call_fn, lstm_cell_18_layer_call_and_return_conditional_losses while saving (showing 5 of 15). These functions will not be directly callable after loading.\n"
     ]
    },
    {
     "name": "stdout",
     "output_type": "stream",
     "text": [
      "INFO:tensorflow:Assets written to: 0920_seq2seq_tensorflow\\assets\n"
     ]
    },
    {
     "name": "stderr",
     "output_type": "stream",
     "text": [
      "INFO:tensorflow:Assets written to: 0920_seq2seq_tensorflow\\assets\n"
     ]
    },
    {
     "name": "stdout",
     "output_type": "stream",
     "text": [
      "3/3 [==============================] - 8s 4s/step - loss: 0.1683 - mae: 0.1683\n",
      "Epoch 374/1000\n",
      "3/3 [==============================] - 0s 57ms/step - loss: 0.1684 - mae: 0.1684\n",
      "Epoch 375/1000\n",
      "3/3 [==============================] - 0s 59ms/step - loss: 0.1691 - mae: 0.1691\n",
      "Epoch 376/1000\n",
      "3/3 [==============================] - 0s 57ms/step - loss: 0.1698 - mae: 0.1698\n",
      "Epoch 377/1000\n",
      "3/3 [==============================] - ETA: 0s - loss: 0.1680 - mae: 0.1680WARNING:tensorflow:Skipping full serialization of Keras layer <keras.layers.core.activation.Activation object at 0x000001F54945FE80>, because it is not built.\n"
     ]
    },
    {
     "name": "stderr",
     "output_type": "stream",
     "text": [
      "WARNING:tensorflow:Skipping full serialization of Keras layer <keras.layers.core.activation.Activation object at 0x000001F54945FE80>, because it is not built.\n",
      "WARNING:absl:Found untraced functions such as _jit_compiled_convolution_op, _jit_compiled_convolution_op, _jit_compiled_convolution_op, lstm_cell_18_layer_call_fn, lstm_cell_18_layer_call_and_return_conditional_losses while saving (showing 5 of 15). These functions will not be directly callable after loading.\n"
     ]
    },
    {
     "name": "stdout",
     "output_type": "stream",
     "text": [
      "INFO:tensorflow:Assets written to: 0920_seq2seq_tensorflow\\assets\n"
     ]
    },
    {
     "name": "stderr",
     "output_type": "stream",
     "text": [
      "INFO:tensorflow:Assets written to: 0920_seq2seq_tensorflow\\assets\n"
     ]
    },
    {
     "name": "stdout",
     "output_type": "stream",
     "text": [
      "3/3 [==============================] - 8s 4s/step - loss: 0.1680 - mae: 0.1680\n",
      "Epoch 378/1000\n",
      "3/3 [==============================] - 0s 59ms/step - loss: 0.1682 - mae: 0.1682\n",
      "Epoch 379/1000\n",
      "3/3 [==============================] - ETA: 0s - loss: 0.1676 - mae: 0.1676WARNING:tensorflow:Skipping full serialization of Keras layer <keras.layers.core.activation.Activation object at 0x000001F54945FE80>, because it is not built.\n"
     ]
    },
    {
     "name": "stderr",
     "output_type": "stream",
     "text": [
      "WARNING:tensorflow:Skipping full serialization of Keras layer <keras.layers.core.activation.Activation object at 0x000001F54945FE80>, because it is not built.\n",
      "WARNING:absl:Found untraced functions such as _jit_compiled_convolution_op, _jit_compiled_convolution_op, _jit_compiled_convolution_op, lstm_cell_18_layer_call_fn, lstm_cell_18_layer_call_and_return_conditional_losses while saving (showing 5 of 15). These functions will not be directly callable after loading.\n"
     ]
    },
    {
     "name": "stdout",
     "output_type": "stream",
     "text": [
      "INFO:tensorflow:Assets written to: 0920_seq2seq_tensorflow\\assets\n"
     ]
    },
    {
     "name": "stderr",
     "output_type": "stream",
     "text": [
      "INFO:tensorflow:Assets written to: 0920_seq2seq_tensorflow\\assets\n"
     ]
    },
    {
     "name": "stdout",
     "output_type": "stream",
     "text": [
      "3/3 [==============================] - 8s 4s/step - loss: 0.1676 - mae: 0.1676\n",
      "Epoch 380/1000\n",
      "3/3 [==============================] - ETA: 0s - loss: 0.1668 - mae: 0.1668WARNING:tensorflow:Skipping full serialization of Keras layer <keras.layers.core.activation.Activation object at 0x000001F54945FE80>, because it is not built.\n"
     ]
    },
    {
     "name": "stderr",
     "output_type": "stream",
     "text": [
      "WARNING:tensorflow:Skipping full serialization of Keras layer <keras.layers.core.activation.Activation object at 0x000001F54945FE80>, because it is not built.\n",
      "WARNING:absl:Found untraced functions such as _jit_compiled_convolution_op, _jit_compiled_convolution_op, _jit_compiled_convolution_op, lstm_cell_18_layer_call_fn, lstm_cell_18_layer_call_and_return_conditional_losses while saving (showing 5 of 15). These functions will not be directly callable after loading.\n"
     ]
    },
    {
     "name": "stdout",
     "output_type": "stream",
     "text": [
      "INFO:tensorflow:Assets written to: 0920_seq2seq_tensorflow\\assets\n"
     ]
    },
    {
     "name": "stderr",
     "output_type": "stream",
     "text": [
      "INFO:tensorflow:Assets written to: 0920_seq2seq_tensorflow\\assets\n"
     ]
    },
    {
     "name": "stdout",
     "output_type": "stream",
     "text": [
      "3/3 [==============================] - 8s 4s/step - loss: 0.1668 - mae: 0.1668\n",
      "Epoch 381/1000\n",
      "3/3 [==============================] - 0s 58ms/step - loss: 0.1669 - mae: 0.1669\n",
      "Epoch 382/1000\n",
      "3/3 [==============================] - 0s 59ms/step - loss: 0.1694 - mae: 0.1694\n",
      "Epoch 383/1000\n",
      "3/3 [==============================] - 0s 60ms/step - loss: 0.1739 - mae: 0.1739\n",
      "Epoch 384/1000\n",
      "3/3 [==============================] - 0s 58ms/step - loss: 0.1708 - mae: 0.1708\n",
      "Epoch 385/1000\n",
      "3/3 [==============================] - 0s 64ms/step - loss: 0.1731 - mae: 0.1731\n",
      "Epoch 386/1000\n",
      "3/3 [==============================] - 0s 62ms/step - loss: 0.1717 - mae: 0.1717\n",
      "Epoch 387/1000\n",
      "3/3 [==============================] - 0s 58ms/step - loss: 0.1696 - mae: 0.1696\n",
      "Epoch 388/1000\n",
      "3/3 [==============================] - 0s 56ms/step - loss: 0.1695 - mae: 0.1695\n",
      "Epoch 389/1000\n",
      "3/3 [==============================] - 0s 57ms/step - loss: 0.1673 - mae: 0.1673\n",
      "Epoch 390/1000\n",
      "3/3 [==============================] - ETA: 0s - loss: 0.1665 - mae: 0.1665WARNING:tensorflow:Skipping full serialization of Keras layer <keras.layers.core.activation.Activation object at 0x000001F54945FE80>, because it is not built.\n"
     ]
    },
    {
     "name": "stderr",
     "output_type": "stream",
     "text": [
      "WARNING:tensorflow:Skipping full serialization of Keras layer <keras.layers.core.activation.Activation object at 0x000001F54945FE80>, because it is not built.\n",
      "WARNING:absl:Found untraced functions such as _jit_compiled_convolution_op, _jit_compiled_convolution_op, _jit_compiled_convolution_op, lstm_cell_18_layer_call_fn, lstm_cell_18_layer_call_and_return_conditional_losses while saving (showing 5 of 15). These functions will not be directly callable after loading.\n"
     ]
    },
    {
     "name": "stdout",
     "output_type": "stream",
     "text": [
      "INFO:tensorflow:Assets written to: 0920_seq2seq_tensorflow\\assets\n"
     ]
    },
    {
     "name": "stderr",
     "output_type": "stream",
     "text": [
      "INFO:tensorflow:Assets written to: 0920_seq2seq_tensorflow\\assets\n"
     ]
    },
    {
     "name": "stdout",
     "output_type": "stream",
     "text": [
      "3/3 [==============================] - 8s 4s/step - loss: 0.1665 - mae: 0.1665\n",
      "Epoch 391/1000\n",
      "3/3 [==============================] - ETA: 0s - loss: 0.1663 - mae: 0.1663WARNING:tensorflow:Skipping full serialization of Keras layer <keras.layers.core.activation.Activation object at 0x000001F54945FE80>, because it is not built.\n"
     ]
    },
    {
     "name": "stderr",
     "output_type": "stream",
     "text": [
      "WARNING:tensorflow:Skipping full serialization of Keras layer <keras.layers.core.activation.Activation object at 0x000001F54945FE80>, because it is not built.\n",
      "WARNING:absl:Found untraced functions such as _jit_compiled_convolution_op, _jit_compiled_convolution_op, _jit_compiled_convolution_op, lstm_cell_18_layer_call_fn, lstm_cell_18_layer_call_and_return_conditional_losses while saving (showing 5 of 15). These functions will not be directly callable after loading.\n"
     ]
    },
    {
     "name": "stdout",
     "output_type": "stream",
     "text": [
      "INFO:tensorflow:Assets written to: 0920_seq2seq_tensorflow\\assets\n"
     ]
    },
    {
     "name": "stderr",
     "output_type": "stream",
     "text": [
      "INFO:tensorflow:Assets written to: 0920_seq2seq_tensorflow\\assets\n"
     ]
    },
    {
     "name": "stdout",
     "output_type": "stream",
     "text": [
      "3/3 [==============================] - 9s 4s/step - loss: 0.1663 - mae: 0.1663\n",
      "Epoch 392/1000\n",
      "3/3 [==============================] - ETA: 0s - loss: 0.1660 - mae: 0.1660WARNING:tensorflow:Skipping full serialization of Keras layer <keras.layers.core.activation.Activation object at 0x000001F54945FE80>, because it is not built.\n"
     ]
    },
    {
     "name": "stderr",
     "output_type": "stream",
     "text": [
      "WARNING:tensorflow:Skipping full serialization of Keras layer <keras.layers.core.activation.Activation object at 0x000001F54945FE80>, because it is not built.\n",
      "WARNING:absl:Found untraced functions such as _jit_compiled_convolution_op, _jit_compiled_convolution_op, _jit_compiled_convolution_op, lstm_cell_18_layer_call_fn, lstm_cell_18_layer_call_and_return_conditional_losses while saving (showing 5 of 15). These functions will not be directly callable after loading.\n"
     ]
    },
    {
     "name": "stdout",
     "output_type": "stream",
     "text": [
      "INFO:tensorflow:Assets written to: 0920_seq2seq_tensorflow\\assets\n"
     ]
    },
    {
     "name": "stderr",
     "output_type": "stream",
     "text": [
      "INFO:tensorflow:Assets written to: 0920_seq2seq_tensorflow\\assets\n"
     ]
    },
    {
     "name": "stdout",
     "output_type": "stream",
     "text": [
      "3/3 [==============================] - 9s 4s/step - loss: 0.1660 - mae: 0.1660\n",
      "Epoch 393/1000\n",
      "3/3 [==============================] - ETA: 0s - loss: 0.1657 - mae: 0.1657WARNING:tensorflow:Skipping full serialization of Keras layer <keras.layers.core.activation.Activation object at 0x000001F54945FE80>, because it is not built.\n"
     ]
    },
    {
     "name": "stderr",
     "output_type": "stream",
     "text": [
      "WARNING:tensorflow:Skipping full serialization of Keras layer <keras.layers.core.activation.Activation object at 0x000001F54945FE80>, because it is not built.\n",
      "WARNING:absl:Found untraced functions such as _jit_compiled_convolution_op, _jit_compiled_convolution_op, _jit_compiled_convolution_op, lstm_cell_18_layer_call_fn, lstm_cell_18_layer_call_and_return_conditional_losses while saving (showing 5 of 15). These functions will not be directly callable after loading.\n"
     ]
    },
    {
     "name": "stdout",
     "output_type": "stream",
     "text": [
      "INFO:tensorflow:Assets written to: 0920_seq2seq_tensorflow\\assets\n"
     ]
    },
    {
     "name": "stderr",
     "output_type": "stream",
     "text": [
      "INFO:tensorflow:Assets written to: 0920_seq2seq_tensorflow\\assets\n"
     ]
    },
    {
     "name": "stdout",
     "output_type": "stream",
     "text": [
      "3/3 [==============================] - 8s 4s/step - loss: 0.1657 - mae: 0.1657\n",
      "Epoch 394/1000\n",
      "3/3 [==============================] - 0s 57ms/step - loss: 0.1661 - mae: 0.1661\n",
      "Epoch 395/1000\n",
      "3/3 [==============================] - 0s 58ms/step - loss: 0.1661 - mae: 0.1661\n",
      "Epoch 396/1000\n",
      "3/3 [==============================] - ETA: 0s - loss: 0.1649 - mae: 0.1649WARNING:tensorflow:Skipping full serialization of Keras layer <keras.layers.core.activation.Activation object at 0x000001F54945FE80>, because it is not built.\n"
     ]
    },
    {
     "name": "stderr",
     "output_type": "stream",
     "text": [
      "WARNING:tensorflow:Skipping full serialization of Keras layer <keras.layers.core.activation.Activation object at 0x000001F54945FE80>, because it is not built.\n",
      "WARNING:absl:Found untraced functions such as _jit_compiled_convolution_op, _jit_compiled_convolution_op, _jit_compiled_convolution_op, lstm_cell_18_layer_call_fn, lstm_cell_18_layer_call_and_return_conditional_losses while saving (showing 5 of 15). These functions will not be directly callable after loading.\n"
     ]
    },
    {
     "name": "stdout",
     "output_type": "stream",
     "text": [
      "INFO:tensorflow:Assets written to: 0920_seq2seq_tensorflow\\assets\n"
     ]
    },
    {
     "name": "stderr",
     "output_type": "stream",
     "text": [
      "INFO:tensorflow:Assets written to: 0920_seq2seq_tensorflow\\assets\n"
     ]
    },
    {
     "name": "stdout",
     "output_type": "stream",
     "text": [
      "3/3 [==============================] - 18s 9s/step - loss: 0.1649 - mae: 0.1649\n",
      "Epoch 397/1000\n",
      "3/3 [==============================] - 0s 58ms/step - loss: 0.1655 - mae: 0.1655\n",
      "Epoch 398/1000\n",
      "3/3 [==============================] - 0s 60ms/step - loss: 0.1656 - mae: 0.1656\n",
      "Epoch 399/1000\n",
      "3/3 [==============================] - ETA: 0s - loss: 0.1645 - mae: 0.1645WARNING:tensorflow:Skipping full serialization of Keras layer <keras.layers.core.activation.Activation object at 0x000001F54945FE80>, because it is not built.\n"
     ]
    },
    {
     "name": "stderr",
     "output_type": "stream",
     "text": [
      "WARNING:tensorflow:Skipping full serialization of Keras layer <keras.layers.core.activation.Activation object at 0x000001F54945FE80>, because it is not built.\n",
      "WARNING:absl:Found untraced functions such as _jit_compiled_convolution_op, _jit_compiled_convolution_op, _jit_compiled_convolution_op, lstm_cell_18_layer_call_fn, lstm_cell_18_layer_call_and_return_conditional_losses while saving (showing 5 of 15). These functions will not be directly callable after loading.\n"
     ]
    },
    {
     "name": "stdout",
     "output_type": "stream",
     "text": [
      "INFO:tensorflow:Assets written to: 0920_seq2seq_tensorflow\\assets\n"
     ]
    },
    {
     "name": "stderr",
     "output_type": "stream",
     "text": [
      "INFO:tensorflow:Assets written to: 0920_seq2seq_tensorflow\\assets\n"
     ]
    },
    {
     "name": "stdout",
     "output_type": "stream",
     "text": [
      "3/3 [==============================] - 8s 4s/step - loss: 0.1645 - mae: 0.1645\n",
      "Epoch 400/1000\n",
      "3/3 [==============================] - 0s 63ms/step - loss: 0.1653 - mae: 0.1653\n",
      "Epoch 401/1000\n",
      "3/3 [==============================] - 0s 57ms/step - loss: 0.1688 - mae: 0.1688\n",
      "Epoch 402/1000\n",
      "3/3 [==============================] - ETA: 0s - loss: 0.1643 - mae: 0.1643WARNING:tensorflow:Skipping full serialization of Keras layer <keras.layers.core.activation.Activation object at 0x000001F54945FE80>, because it is not built.\n"
     ]
    },
    {
     "name": "stderr",
     "output_type": "stream",
     "text": [
      "WARNING:tensorflow:Skipping full serialization of Keras layer <keras.layers.core.activation.Activation object at 0x000001F54945FE80>, because it is not built.\n",
      "WARNING:absl:Found untraced functions such as _jit_compiled_convolution_op, _jit_compiled_convolution_op, _jit_compiled_convolution_op, lstm_cell_18_layer_call_fn, lstm_cell_18_layer_call_and_return_conditional_losses while saving (showing 5 of 15). These functions will not be directly callable after loading.\n"
     ]
    },
    {
     "name": "stdout",
     "output_type": "stream",
     "text": [
      "INFO:tensorflow:Assets written to: 0920_seq2seq_tensorflow\\assets\n"
     ]
    },
    {
     "name": "stderr",
     "output_type": "stream",
     "text": [
      "INFO:tensorflow:Assets written to: 0920_seq2seq_tensorflow\\assets\n"
     ]
    },
    {
     "name": "stdout",
     "output_type": "stream",
     "text": [
      "3/3 [==============================] - 8s 4s/step - loss: 0.1643 - mae: 0.1643\n",
      "Epoch 403/1000\n",
      "3/3 [==============================] - ETA: 0s - loss: 0.1640 - mae: 0.1640WARNING:tensorflow:Skipping full serialization of Keras layer <keras.layers.core.activation.Activation object at 0x000001F54945FE80>, because it is not built.\n"
     ]
    },
    {
     "name": "stderr",
     "output_type": "stream",
     "text": [
      "WARNING:tensorflow:Skipping full serialization of Keras layer <keras.layers.core.activation.Activation object at 0x000001F54945FE80>, because it is not built.\n",
      "WARNING:absl:Found untraced functions such as _jit_compiled_convolution_op, _jit_compiled_convolution_op, _jit_compiled_convolution_op, lstm_cell_18_layer_call_fn, lstm_cell_18_layer_call_and_return_conditional_losses while saving (showing 5 of 15). These functions will not be directly callable after loading.\n"
     ]
    },
    {
     "name": "stdout",
     "output_type": "stream",
     "text": [
      "INFO:tensorflow:Assets written to: 0920_seq2seq_tensorflow\\assets\n"
     ]
    },
    {
     "name": "stderr",
     "output_type": "stream",
     "text": [
      "INFO:tensorflow:Assets written to: 0920_seq2seq_tensorflow\\assets\n"
     ]
    },
    {
     "name": "stdout",
     "output_type": "stream",
     "text": [
      "3/3 [==============================] - 8s 4s/step - loss: 0.1640 - mae: 0.1640\n",
      "Epoch 404/1000\n",
      "3/3 [==============================] - ETA: 0s - loss: 0.1640 - mae: 0.1640WARNING:tensorflow:Skipping full serialization of Keras layer <keras.layers.core.activation.Activation object at 0x000001F54945FE80>, because it is not built.\n"
     ]
    },
    {
     "name": "stderr",
     "output_type": "stream",
     "text": [
      "WARNING:tensorflow:Skipping full serialization of Keras layer <keras.layers.core.activation.Activation object at 0x000001F54945FE80>, because it is not built.\n",
      "WARNING:absl:Found untraced functions such as _jit_compiled_convolution_op, _jit_compiled_convolution_op, _jit_compiled_convolution_op, lstm_cell_18_layer_call_fn, lstm_cell_18_layer_call_and_return_conditional_losses while saving (showing 5 of 15). These functions will not be directly callable after loading.\n"
     ]
    },
    {
     "name": "stdout",
     "output_type": "stream",
     "text": [
      "INFO:tensorflow:Assets written to: 0920_seq2seq_tensorflow\\assets\n"
     ]
    },
    {
     "name": "stderr",
     "output_type": "stream",
     "text": [
      "INFO:tensorflow:Assets written to: 0920_seq2seq_tensorflow\\assets\n"
     ]
    },
    {
     "name": "stdout",
     "output_type": "stream",
     "text": [
      "3/3 [==============================] - 8s 4s/step - loss: 0.1640 - mae: 0.1640\n",
      "Epoch 405/1000\n",
      "3/3 [==============================] - 0s 60ms/step - loss: 0.1653 - mae: 0.1653\n",
      "Epoch 406/1000\n",
      "3/3 [==============================] - 0s 58ms/step - loss: 0.1648 - mae: 0.1648\n",
      "Epoch 407/1000\n",
      "3/3 [==============================] - 0s 57ms/step - loss: 0.1656 - mae: 0.1656\n",
      "Epoch 408/1000\n",
      "3/3 [==============================] - 0s 58ms/step - loss: 0.1652 - mae: 0.1652\n",
      "Epoch 409/1000\n",
      "3/3 [==============================] - 0s 58ms/step - loss: 0.1660 - mae: 0.1660\n",
      "Epoch 410/1000\n",
      "3/3 [==============================] - 0s 59ms/step - loss: 0.1653 - mae: 0.1653\n",
      "Epoch 411/1000\n",
      "3/3 [==============================] - 0s 56ms/step - loss: 0.1660 - mae: 0.1660\n",
      "Epoch 412/1000\n",
      "3/3 [==============================] - 0s 59ms/step - loss: 0.1654 - mae: 0.1654\n",
      "Epoch 413/1000\n",
      "3/3 [==============================] - 0s 60ms/step - loss: 0.1677 - mae: 0.1677\n",
      "Epoch 414/1000\n",
      "3/3 [==============================] - 0s 56ms/step - loss: 0.1691 - mae: 0.1691\n",
      "Epoch 415/1000\n",
      "3/3 [==============================] - 0s 56ms/step - loss: 0.1693 - mae: 0.1693\n",
      "Epoch 416/1000\n",
      "3/3 [==============================] - 0s 58ms/step - loss: 0.1689 - mae: 0.1689\n",
      "Epoch 417/1000\n",
      "3/3 [==============================] - 0s 59ms/step - loss: 0.1691 - mae: 0.1691\n",
      "Epoch 418/1000\n",
      "3/3 [==============================] - 0s 59ms/step - loss: 0.1656 - mae: 0.1656\n",
      "Epoch 419/1000\n",
      "3/3 [==============================] - 0s 59ms/step - loss: 0.1646 - mae: 0.1646\n",
      "Epoch 420/1000\n",
      "3/3 [==============================] - ETA: 0s - loss: 0.1629 - mae: 0.1629WARNING:tensorflow:Skipping full serialization of Keras layer <keras.layers.core.activation.Activation object at 0x000001F54945FE80>, because it is not built.\n"
     ]
    },
    {
     "name": "stderr",
     "output_type": "stream",
     "text": [
      "WARNING:tensorflow:Skipping full serialization of Keras layer <keras.layers.core.activation.Activation object at 0x000001F54945FE80>, because it is not built.\n",
      "WARNING:absl:Found untraced functions such as _jit_compiled_convolution_op, _jit_compiled_convolution_op, _jit_compiled_convolution_op, lstm_cell_18_layer_call_fn, lstm_cell_18_layer_call_and_return_conditional_losses while saving (showing 5 of 15). These functions will not be directly callable after loading.\n"
     ]
    },
    {
     "name": "stdout",
     "output_type": "stream",
     "text": [
      "INFO:tensorflow:Assets written to: 0920_seq2seq_tensorflow\\assets\n"
     ]
    },
    {
     "name": "stderr",
     "output_type": "stream",
     "text": [
      "INFO:tensorflow:Assets written to: 0920_seq2seq_tensorflow\\assets\n"
     ]
    },
    {
     "name": "stdout",
     "output_type": "stream",
     "text": [
      "3/3 [==============================] - 8s 4s/step - loss: 0.1629 - mae: 0.1629\n",
      "Epoch 421/1000\n",
      "3/3 [==============================] - 0s 58ms/step - loss: 0.1644 - mae: 0.1644\n",
      "Epoch 422/1000\n",
      "3/3 [==============================] - 0s 56ms/step - loss: 0.1633 - mae: 0.1633\n",
      "Epoch 423/1000\n",
      "3/3 [==============================] - ETA: 0s - loss: 0.1629 - mae: 0.1629WARNING:tensorflow:Skipping full serialization of Keras layer <keras.layers.core.activation.Activation object at 0x000001F54945FE80>, because it is not built.\n"
     ]
    },
    {
     "name": "stderr",
     "output_type": "stream",
     "text": [
      "WARNING:tensorflow:Skipping full serialization of Keras layer <keras.layers.core.activation.Activation object at 0x000001F54945FE80>, because it is not built.\n",
      "WARNING:absl:Found untraced functions such as _jit_compiled_convolution_op, _jit_compiled_convolution_op, _jit_compiled_convolution_op, lstm_cell_18_layer_call_fn, lstm_cell_18_layer_call_and_return_conditional_losses while saving (showing 5 of 15). These functions will not be directly callable after loading.\n"
     ]
    },
    {
     "name": "stdout",
     "output_type": "stream",
     "text": [
      "INFO:tensorflow:Assets written to: 0920_seq2seq_tensorflow\\assets\n"
     ]
    },
    {
     "name": "stderr",
     "output_type": "stream",
     "text": [
      "INFO:tensorflow:Assets written to: 0920_seq2seq_tensorflow\\assets\n"
     ]
    },
    {
     "name": "stdout",
     "output_type": "stream",
     "text": [
      "3/3 [==============================] - 8s 4s/step - loss: 0.1629 - mae: 0.1629\n",
      "Epoch 424/1000\n",
      "3/3 [==============================] - 0s 61ms/step - loss: 0.1640 - mae: 0.1640\n",
      "Epoch 425/1000\n",
      "3/3 [==============================] - 0s 58ms/step - loss: 0.1644 - mae: 0.1644\n",
      "Epoch 426/1000\n",
      "3/3 [==============================] - 0s 57ms/step - loss: 0.1633 - mae: 0.1633\n",
      "Epoch 427/1000\n",
      "3/3 [==============================] - 0s 58ms/step - loss: 0.1636 - mae: 0.1636\n",
      "Epoch 428/1000\n",
      "3/3 [==============================] - ETA: 0s - loss: 0.1625 - mae: 0.1625WARNING:tensorflow:Skipping full serialization of Keras layer <keras.layers.core.activation.Activation object at 0x000001F54945FE80>, because it is not built.\n"
     ]
    },
    {
     "name": "stderr",
     "output_type": "stream",
     "text": [
      "WARNING:tensorflow:Skipping full serialization of Keras layer <keras.layers.core.activation.Activation object at 0x000001F54945FE80>, because it is not built.\n",
      "WARNING:absl:Found untraced functions such as _jit_compiled_convolution_op, _jit_compiled_convolution_op, _jit_compiled_convolution_op, lstm_cell_18_layer_call_fn, lstm_cell_18_layer_call_and_return_conditional_losses while saving (showing 5 of 15). These functions will not be directly callable after loading.\n"
     ]
    },
    {
     "name": "stdout",
     "output_type": "stream",
     "text": [
      "INFO:tensorflow:Assets written to: 0920_seq2seq_tensorflow\\assets\n"
     ]
    },
    {
     "name": "stderr",
     "output_type": "stream",
     "text": [
      "INFO:tensorflow:Assets written to: 0920_seq2seq_tensorflow\\assets\n"
     ]
    },
    {
     "name": "stdout",
     "output_type": "stream",
     "text": [
      "3/3 [==============================] - 8s 4s/step - loss: 0.1625 - mae: 0.1625\n",
      "Epoch 429/1000\n",
      "3/3 [==============================] - ETA: 0s - loss: 0.1620 - mae: 0.1620WARNING:tensorflow:Skipping full serialization of Keras layer <keras.layers.core.activation.Activation object at 0x000001F54945FE80>, because it is not built.\n"
     ]
    },
    {
     "name": "stderr",
     "output_type": "stream",
     "text": [
      "WARNING:tensorflow:Skipping full serialization of Keras layer <keras.layers.core.activation.Activation object at 0x000001F54945FE80>, because it is not built.\n",
      "WARNING:absl:Found untraced functions such as _jit_compiled_convolution_op, _jit_compiled_convolution_op, _jit_compiled_convolution_op, lstm_cell_18_layer_call_fn, lstm_cell_18_layer_call_and_return_conditional_losses while saving (showing 5 of 15). These functions will not be directly callable after loading.\n"
     ]
    },
    {
     "name": "stdout",
     "output_type": "stream",
     "text": [
      "INFO:tensorflow:Assets written to: 0920_seq2seq_tensorflow\\assets\n"
     ]
    },
    {
     "name": "stderr",
     "output_type": "stream",
     "text": [
      "INFO:tensorflow:Assets written to: 0920_seq2seq_tensorflow\\assets\n"
     ]
    },
    {
     "name": "stdout",
     "output_type": "stream",
     "text": [
      "3/3 [==============================] - 8s 4s/step - loss: 0.1620 - mae: 0.1620\n",
      "Epoch 430/1000\n",
      "3/3 [==============================] - 0s 60ms/step - loss: 0.1623 - mae: 0.1623\n",
      "Epoch 431/1000\n",
      "3/3 [==============================] - 0s 60ms/step - loss: 0.1626 - mae: 0.1626\n",
      "Epoch 432/1000\n",
      "3/3 [==============================] - ETA: 0s - loss: 0.1616 - mae: 0.1616WARNING:tensorflow:Skipping full serialization of Keras layer <keras.layers.core.activation.Activation object at 0x000001F54945FE80>, because it is not built.\n"
     ]
    },
    {
     "name": "stderr",
     "output_type": "stream",
     "text": [
      "WARNING:tensorflow:Skipping full serialization of Keras layer <keras.layers.core.activation.Activation object at 0x000001F54945FE80>, because it is not built.\n",
      "WARNING:absl:Found untraced functions such as _jit_compiled_convolution_op, _jit_compiled_convolution_op, _jit_compiled_convolution_op, lstm_cell_18_layer_call_fn, lstm_cell_18_layer_call_and_return_conditional_losses while saving (showing 5 of 15). These functions will not be directly callable after loading.\n"
     ]
    },
    {
     "name": "stdout",
     "output_type": "stream",
     "text": [
      "INFO:tensorflow:Assets written to: 0920_seq2seq_tensorflow\\assets\n"
     ]
    },
    {
     "name": "stderr",
     "output_type": "stream",
     "text": [
      "INFO:tensorflow:Assets written to: 0920_seq2seq_tensorflow\\assets\n"
     ]
    },
    {
     "name": "stdout",
     "output_type": "stream",
     "text": [
      "3/3 [==============================] - 8s 4s/step - loss: 0.1616 - mae: 0.1616\n",
      "Epoch 433/1000\n",
      "3/3 [==============================] - 0s 56ms/step - loss: 0.1622 - mae: 0.1622\n",
      "Epoch 434/1000\n",
      "3/3 [==============================] - 0s 58ms/step - loss: 0.1626 - mae: 0.1626\n",
      "Epoch 435/1000\n",
      "3/3 [==============================] - 0s 56ms/step - loss: 0.1636 - mae: 0.1636\n",
      "Epoch 436/1000\n",
      "3/3 [==============================] - ETA: 0s - loss: 0.1615 - mae: 0.1615WARNING:tensorflow:Skipping full serialization of Keras layer <keras.layers.core.activation.Activation object at 0x000001F54945FE80>, because it is not built.\n"
     ]
    },
    {
     "name": "stderr",
     "output_type": "stream",
     "text": [
      "WARNING:tensorflow:Skipping full serialization of Keras layer <keras.layers.core.activation.Activation object at 0x000001F54945FE80>, because it is not built.\n",
      "WARNING:absl:Found untraced functions such as _jit_compiled_convolution_op, _jit_compiled_convolution_op, _jit_compiled_convolution_op, lstm_cell_18_layer_call_fn, lstm_cell_18_layer_call_and_return_conditional_losses while saving (showing 5 of 15). These functions will not be directly callable after loading.\n"
     ]
    },
    {
     "name": "stdout",
     "output_type": "stream",
     "text": [
      "INFO:tensorflow:Assets written to: 0920_seq2seq_tensorflow\\assets\n"
     ]
    },
    {
     "name": "stderr",
     "output_type": "stream",
     "text": [
      "INFO:tensorflow:Assets written to: 0920_seq2seq_tensorflow\\assets\n"
     ]
    },
    {
     "name": "stdout",
     "output_type": "stream",
     "text": [
      "3/3 [==============================] - 9s 4s/step - loss: 0.1615 - mae: 0.1615\n",
      "Epoch 437/1000\n",
      "3/3 [==============================] - 0s 61ms/step - loss: 0.1620 - mae: 0.1620\n",
      "Epoch 438/1000\n",
      "3/3 [==============================] - 0s 59ms/step - loss: 0.1631 - mae: 0.1631\n",
      "Epoch 439/1000\n",
      "3/3 [==============================] - ETA: 0s - loss: 0.1614 - mae: 0.1614WARNING:tensorflow:Skipping full serialization of Keras layer <keras.layers.core.activation.Activation object at 0x000001F54945FE80>, because it is not built.\n"
     ]
    },
    {
     "name": "stderr",
     "output_type": "stream",
     "text": [
      "WARNING:tensorflow:Skipping full serialization of Keras layer <keras.layers.core.activation.Activation object at 0x000001F54945FE80>, because it is not built.\n",
      "WARNING:absl:Found untraced functions such as _jit_compiled_convolution_op, _jit_compiled_convolution_op, _jit_compiled_convolution_op, lstm_cell_18_layer_call_fn, lstm_cell_18_layer_call_and_return_conditional_losses while saving (showing 5 of 15). These functions will not be directly callable after loading.\n"
     ]
    },
    {
     "name": "stdout",
     "output_type": "stream",
     "text": [
      "INFO:tensorflow:Assets written to: 0920_seq2seq_tensorflow\\assets\n"
     ]
    },
    {
     "name": "stderr",
     "output_type": "stream",
     "text": [
      "INFO:tensorflow:Assets written to: 0920_seq2seq_tensorflow\\assets\n"
     ]
    },
    {
     "name": "stdout",
     "output_type": "stream",
     "text": [
      "3/3 [==============================] - 9s 4s/step - loss: 0.1614 - mae: 0.1614\n",
      "Epoch 440/1000\n",
      "3/3 [==============================] - 0s 55ms/step - loss: 0.1650 - mae: 0.1650\n",
      "Epoch 441/1000\n",
      "3/3 [==============================] - 0s 61ms/step - loss: 0.1644 - mae: 0.1644\n",
      "Epoch 442/1000\n",
      "3/3 [==============================] - 0s 56ms/step - loss: 0.1710 - mae: 0.1710\n",
      "Epoch 443/1000\n",
      "3/3 [==============================] - 0s 59ms/step - loss: 0.1665 - mae: 0.1665\n",
      "Epoch 444/1000\n",
      "3/3 [==============================] - 0s 58ms/step - loss: 0.1666 - mae: 0.1666\n",
      "Epoch 445/1000\n",
      "3/3 [==============================] - 0s 59ms/step - loss: 0.1670 - mae: 0.1670\n",
      "Epoch 446/1000\n",
      "3/3 [==============================] - 0s 60ms/step - loss: 0.1656 - mae: 0.1656\n",
      "Epoch 447/1000\n",
      "3/3 [==============================] - 0s 56ms/step - loss: 0.1641 - mae: 0.1641\n",
      "Epoch 448/1000\n",
      "3/3 [==============================] - 0s 57ms/step - loss: 0.1641 - mae: 0.1641\n",
      "Epoch 449/1000\n",
      "3/3 [==============================] - 0s 60ms/step - loss: 0.1621 - mae: 0.1621\n",
      "Epoch 450/1000\n",
      "3/3 [==============================] - 0s 55ms/step - loss: 0.1615 - mae: 0.1615\n",
      "Epoch 451/1000\n",
      "3/3 [==============================] - 0s 58ms/step - loss: 0.1617 - mae: 0.1617\n",
      "Epoch 452/1000\n",
      "3/3 [==============================] - 0s 57ms/step - loss: 0.1627 - mae: 0.1627\n",
      "Epoch 453/1000\n",
      "3/3 [==============================] - 0s 68ms/step - loss: 0.1619 - mae: 0.1619\n",
      "Epoch 454/1000\n",
      "3/3 [==============================] - 0s 58ms/step - loss: 0.1645 - mae: 0.1645\n",
      "Epoch 455/1000\n",
      "3/3 [==============================] - 0s 58ms/step - loss: 0.1643 - mae: 0.1643\n",
      "Epoch 456/1000\n",
      "3/3 [==============================] - 0s 61ms/step - loss: 0.1702 - mae: 0.1702\n",
      "Epoch 457/1000\n",
      "3/3 [==============================] - 0s 56ms/step - loss: 0.1635 - mae: 0.1635\n",
      "Epoch 458/1000\n",
      "3/3 [==============================] - 0s 55ms/step - loss: 0.1622 - mae: 0.1622\n",
      "Epoch 459/1000\n",
      "3/3 [==============================] - 0s 57ms/step - loss: 0.1617 - mae: 0.1617\n",
      "Epoch 460/1000\n",
      "3/3 [==============================] - 0s 61ms/step - loss: 0.1624 - mae: 0.1624\n",
      "Epoch 461/1000\n",
      "3/3 [==============================] - 0s 56ms/step - loss: 0.1637 - mae: 0.1637\n",
      "Epoch 462/1000\n",
      "3/3 [==============================] - 0s 59ms/step - loss: 0.1736 - mae: 0.1736\n",
      "Epoch 463/1000\n",
      "3/3 [==============================] - 0s 60ms/step - loss: 0.1716 - mae: 0.1716\n",
      "Epoch 464/1000\n",
      "3/3 [==============================] - 0s 57ms/step - loss: 0.1662 - mae: 0.1662\n",
      "Epoch 465/1000\n",
      "3/3 [==============================] - 0s 60ms/step - loss: 0.1619 - mae: 0.1619\n",
      "Epoch 466/1000\n",
      "3/3 [==============================] - 0s 56ms/step - loss: 0.1626 - mae: 0.1626\n",
      "Epoch 467/1000\n",
      "3/3 [==============================] - 0s 57ms/step - loss: 0.1620 - mae: 0.1620\n",
      "Epoch 468/1000\n",
      "3/3 [==============================] - 0s 57ms/step - loss: 0.1617 - mae: 0.1617\n",
      "Epoch 469/1000\n",
      "3/3 [==============================] - ETA: 0s - loss: 0.1612 - mae: 0.1612WARNING:tensorflow:Skipping full serialization of Keras layer <keras.layers.core.activation.Activation object at 0x000001F54945FE80>, because it is not built.\n"
     ]
    },
    {
     "name": "stderr",
     "output_type": "stream",
     "text": [
      "WARNING:tensorflow:Skipping full serialization of Keras layer <keras.layers.core.activation.Activation object at 0x000001F54945FE80>, because it is not built.\n",
      "WARNING:absl:Found untraced functions such as _jit_compiled_convolution_op, _jit_compiled_convolution_op, _jit_compiled_convolution_op, lstm_cell_18_layer_call_fn, lstm_cell_18_layer_call_and_return_conditional_losses while saving (showing 5 of 15). These functions will not be directly callable after loading.\n"
     ]
    },
    {
     "name": "stdout",
     "output_type": "stream",
     "text": [
      "INFO:tensorflow:Assets written to: 0920_seq2seq_tensorflow\\assets\n"
     ]
    },
    {
     "name": "stderr",
     "output_type": "stream",
     "text": [
      "INFO:tensorflow:Assets written to: 0920_seq2seq_tensorflow\\assets\n"
     ]
    },
    {
     "name": "stdout",
     "output_type": "stream",
     "text": [
      "3/3 [==============================] - 9s 4s/step - loss: 0.1612 - mae: 0.1612\n",
      "Epoch 470/1000\n",
      "3/3 [==============================] - 0s 60ms/step - loss: 0.1635 - mae: 0.1635\n",
      "Epoch 471/1000\n",
      "3/3 [==============================] - 0s 60ms/step - loss: 0.1638 - mae: 0.1638\n",
      "Epoch 472/1000\n",
      "3/3 [==============================] - 0s 59ms/step - loss: 0.1635 - mae: 0.1635\n",
      "Epoch 473/1000\n",
      "3/3 [==============================] - 0s 56ms/step - loss: 0.1660 - mae: 0.1660\n",
      "Epoch 474/1000\n",
      "3/3 [==============================] - 0s 56ms/step - loss: 0.1636 - mae: 0.1636\n",
      "Epoch 475/1000\n",
      "3/3 [==============================] - 0s 64ms/step - loss: 0.1642 - mae: 0.1642\n",
      "Epoch 476/1000\n",
      "3/3 [==============================] - 0s 58ms/step - loss: 0.1655 - mae: 0.1655\n",
      "Epoch 477/1000\n",
      "3/3 [==============================] - 0s 60ms/step - loss: 0.1634 - mae: 0.1634\n",
      "Epoch 478/1000\n",
      "3/3 [==============================] - 0s 55ms/step - loss: 0.1636 - mae: 0.1636\n",
      "Epoch 479/1000\n",
      "3/3 [==============================] - 0s 56ms/step - loss: 0.1654 - mae: 0.1654\n",
      "Epoch 480/1000\n",
      "3/3 [==============================] - 0s 60ms/step - loss: 0.1639 - mae: 0.1639\n",
      "Epoch 481/1000\n",
      "3/3 [==============================] - 0s 59ms/step - loss: 0.1639 - mae: 0.1639\n",
      "Epoch 482/1000\n",
      "3/3 [==============================] - 0s 57ms/step - loss: 0.1644 - mae: 0.1644\n",
      "Epoch 483/1000\n",
      "3/3 [==============================] - 0s 57ms/step - loss: 0.1648 - mae: 0.1648\n",
      "Epoch 484/1000\n",
      "3/3 [==============================] - 0s 60ms/step - loss: 0.1631 - mae: 0.1631\n",
      "Epoch 485/1000\n",
      "3/3 [==============================] - 0s 58ms/step - loss: 0.1635 - mae: 0.1635\n",
      "Epoch 486/1000\n",
      "3/3 [==============================] - 0s 59ms/step - loss: 0.1628 - mae: 0.1628\n",
      "Epoch 487/1000\n",
      "3/3 [==============================] - 0s 58ms/step - loss: 0.1613 - mae: 0.1613\n",
      "Epoch 488/1000\n",
      "3/3 [==============================] - 0s 60ms/step - loss: 0.1646 - mae: 0.1646\n",
      "Epoch 489/1000\n",
      "3/3 [==============================] - 0s 58ms/step - loss: 0.1660 - mae: 0.1660\n",
      "Epoch 490/1000\n",
      "3/3 [==============================] - 0s 57ms/step - loss: 0.1636 - mae: 0.1636\n",
      "Epoch 491/1000\n",
      "3/3 [==============================] - 0s 62ms/step - loss: 0.1618 - mae: 0.1618\n",
      "Epoch 492/1000\n",
      "3/3 [==============================] - 0s 59ms/step - loss: 0.1613 - mae: 0.1613\n",
      "Epoch 493/1000\n",
      "3/3 [==============================] - 0s 57ms/step - loss: 0.1670 - mae: 0.1670\n",
      "Epoch 494/1000\n",
      "3/3 [==============================] - 0s 61ms/step - loss: 0.1640 - mae: 0.1640\n",
      "Epoch 495/1000\n",
      "3/3 [==============================] - ETA: 0s - loss: 0.1600 - mae: 0.1600WARNING:tensorflow:Skipping full serialization of Keras layer <keras.layers.core.activation.Activation object at 0x000001F54945FE80>, because it is not built.\n"
     ]
    },
    {
     "name": "stderr",
     "output_type": "stream",
     "text": [
      "WARNING:tensorflow:Skipping full serialization of Keras layer <keras.layers.core.activation.Activation object at 0x000001F54945FE80>, because it is not built.\n",
      "WARNING:absl:Found untraced functions such as _jit_compiled_convolution_op, _jit_compiled_convolution_op, _jit_compiled_convolution_op, lstm_cell_18_layer_call_fn, lstm_cell_18_layer_call_and_return_conditional_losses while saving (showing 5 of 15). These functions will not be directly callable after loading.\n"
     ]
    },
    {
     "name": "stdout",
     "output_type": "stream",
     "text": [
      "INFO:tensorflow:Assets written to: 0920_seq2seq_tensorflow\\assets\n"
     ]
    },
    {
     "name": "stderr",
     "output_type": "stream",
     "text": [
      "INFO:tensorflow:Assets written to: 0920_seq2seq_tensorflow\\assets\n"
     ]
    },
    {
     "name": "stdout",
     "output_type": "stream",
     "text": [
      "3/3 [==============================] - 19s 9s/step - loss: 0.1600 - mae: 0.1600\n",
      "Epoch 496/1000\n",
      "3/3 [==============================] - 0s 56ms/step - loss: 0.1615 - mae: 0.1615\n",
      "Epoch 497/1000\n",
      "3/3 [==============================] - 0s 56ms/step - loss: 0.1610 - mae: 0.1610\n",
      "Epoch 498/1000\n",
      "3/3 [==============================] - 0s 57ms/step - loss: 0.1602 - mae: 0.1602\n",
      "Epoch 499/1000\n",
      "3/3 [==============================] - ETA: 0s - loss: 0.1600 - mae: 0.1600WARNING:tensorflow:Skipping full serialization of Keras layer <keras.layers.core.activation.Activation object at 0x000001F54945FE80>, because it is not built.\n"
     ]
    },
    {
     "name": "stderr",
     "output_type": "stream",
     "text": [
      "WARNING:tensorflow:Skipping full serialization of Keras layer <keras.layers.core.activation.Activation object at 0x000001F54945FE80>, because it is not built.\n",
      "WARNING:absl:Found untraced functions such as _jit_compiled_convolution_op, _jit_compiled_convolution_op, _jit_compiled_convolution_op, lstm_cell_18_layer_call_fn, lstm_cell_18_layer_call_and_return_conditional_losses while saving (showing 5 of 15). These functions will not be directly callable after loading.\n"
     ]
    },
    {
     "name": "stdout",
     "output_type": "stream",
     "text": [
      "INFO:tensorflow:Assets written to: 0920_seq2seq_tensorflow\\assets\n"
     ]
    },
    {
     "name": "stderr",
     "output_type": "stream",
     "text": [
      "INFO:tensorflow:Assets written to: 0920_seq2seq_tensorflow\\assets\n"
     ]
    },
    {
     "name": "stdout",
     "output_type": "stream",
     "text": [
      "3/3 [==============================] - 8s 4s/step - loss: 0.1600 - mae: 0.1600\n",
      "Epoch 500/1000\n",
      "3/3 [==============================] - 0s 64ms/step - loss: 0.1614 - mae: 0.1614\n",
      "Epoch 501/1000\n",
      "3/3 [==============================] - 0s 59ms/step - loss: 0.1608 - mae: 0.1608\n",
      "Epoch 502/1000\n",
      "3/3 [==============================] - 0s 57ms/step - loss: 0.1616 - mae: 0.1616\n",
      "Epoch 503/1000\n",
      "3/3 [==============================] - 0s 60ms/step - loss: 0.1601 - mae: 0.1601\n",
      "Epoch 504/1000\n",
      "3/3 [==============================] - 0s 59ms/step - loss: 0.1606 - mae: 0.1606\n",
      "Epoch 505/1000\n",
      "3/3 [==============================] - 0s 62ms/step - loss: 0.1603 - mae: 0.1603\n",
      "Epoch 506/1000\n",
      "3/3 [==============================] - ETA: 0s - loss: 0.1590 - mae: 0.1590WARNING:tensorflow:Skipping full serialization of Keras layer <keras.layers.core.activation.Activation object at 0x000001F54945FE80>, because it is not built.\n"
     ]
    },
    {
     "name": "stderr",
     "output_type": "stream",
     "text": [
      "WARNING:tensorflow:Skipping full serialization of Keras layer <keras.layers.core.activation.Activation object at 0x000001F54945FE80>, because it is not built.\n",
      "WARNING:absl:Found untraced functions such as _jit_compiled_convolution_op, _jit_compiled_convolution_op, _jit_compiled_convolution_op, lstm_cell_18_layer_call_fn, lstm_cell_18_layer_call_and_return_conditional_losses while saving (showing 5 of 15). These functions will not be directly callable after loading.\n"
     ]
    },
    {
     "name": "stdout",
     "output_type": "stream",
     "text": [
      "INFO:tensorflow:Assets written to: 0920_seq2seq_tensorflow\\assets\n"
     ]
    },
    {
     "name": "stderr",
     "output_type": "stream",
     "text": [
      "INFO:tensorflow:Assets written to: 0920_seq2seq_tensorflow\\assets\n"
     ]
    },
    {
     "name": "stdout",
     "output_type": "stream",
     "text": [
      "3/3 [==============================] - 8s 4s/step - loss: 0.1590 - mae: 0.1590\n",
      "Epoch 507/1000\n",
      "3/3 [==============================] - 0s 58ms/step - loss: 0.1592 - mae: 0.1592\n",
      "Epoch 508/1000\n",
      "3/3 [==============================] - 0s 64ms/step - loss: 0.1592 - mae: 0.1592\n",
      "Epoch 509/1000\n",
      "3/3 [==============================] - 0s 57ms/step - loss: 0.1592 - mae: 0.1592\n",
      "Epoch 510/1000\n",
      "3/3 [==============================] - 0s 65ms/step - loss: 0.1596 - mae: 0.1596\n",
      "Epoch 511/1000\n",
      "3/3 [==============================] - 0s 60ms/step - loss: 0.1593 - mae: 0.1593\n",
      "Epoch 512/1000\n",
      "3/3 [==============================] - 0s 59ms/step - loss: 0.1600 - mae: 0.1600\n",
      "Epoch 513/1000\n",
      "3/3 [==============================] - 0s 60ms/step - loss: 0.1598 - mae: 0.1598\n",
      "Epoch 514/1000\n",
      "3/3 [==============================] - 0s 59ms/step - loss: 0.1593 - mae: 0.1593\n",
      "Epoch 515/1000\n",
      "3/3 [==============================] - ETA: 0s - loss: 0.1585 - mae: 0.1585WARNING:tensorflow:Skipping full serialization of Keras layer <keras.layers.core.activation.Activation object at 0x000001F54945FE80>, because it is not built.\n"
     ]
    },
    {
     "name": "stderr",
     "output_type": "stream",
     "text": [
      "WARNING:tensorflow:Skipping full serialization of Keras layer <keras.layers.core.activation.Activation object at 0x000001F54945FE80>, because it is not built.\n",
      "WARNING:absl:Found untraced functions such as _jit_compiled_convolution_op, _jit_compiled_convolution_op, _jit_compiled_convolution_op, lstm_cell_18_layer_call_fn, lstm_cell_18_layer_call_and_return_conditional_losses while saving (showing 5 of 15). These functions will not be directly callable after loading.\n"
     ]
    },
    {
     "name": "stdout",
     "output_type": "stream",
     "text": [
      "INFO:tensorflow:Assets written to: 0920_seq2seq_tensorflow\\assets\n"
     ]
    },
    {
     "name": "stderr",
     "output_type": "stream",
     "text": [
      "INFO:tensorflow:Assets written to: 0920_seq2seq_tensorflow\\assets\n"
     ]
    },
    {
     "name": "stdout",
     "output_type": "stream",
     "text": [
      "3/3 [==============================] - 8s 4s/step - loss: 0.1585 - mae: 0.1585\n",
      "Epoch 516/1000\n",
      "3/3 [==============================] - 0s 58ms/step - loss: 0.1587 - mae: 0.1587\n",
      "Epoch 517/1000\n",
      "3/3 [==============================] - 0s 57ms/step - loss: 0.1590 - mae: 0.1590\n",
      "Epoch 518/1000\n",
      "3/3 [==============================] - 0s 61ms/step - loss: 0.1603 - mae: 0.1603\n",
      "Epoch 519/1000\n",
      "3/3 [==============================] - 0s 56ms/step - loss: 0.1600 - mae: 0.1600\n",
      "Epoch 520/1000\n",
      "3/3 [==============================] - 0s 56ms/step - loss: 0.1674 - mae: 0.1674\n",
      "Epoch 521/1000\n",
      "3/3 [==============================] - 0s 57ms/step - loss: 0.1717 - mae: 0.1717\n",
      "Epoch 522/1000\n",
      "3/3 [==============================] - 0s 55ms/step - loss: 0.1673 - mae: 0.1673\n",
      "Epoch 523/1000\n",
      "3/3 [==============================] - 0s 55ms/step - loss: 0.1604 - mae: 0.1604\n",
      "Epoch 524/1000\n",
      "3/3 [==============================] - 0s 56ms/step - loss: 0.1603 - mae: 0.1603\n",
      "Epoch 525/1000\n",
      "3/3 [==============================] - 0s 58ms/step - loss: 0.1632 - mae: 0.1632\n",
      "Epoch 526/1000\n",
      "3/3 [==============================] - 0s 57ms/step - loss: 0.1661 - mae: 0.1661\n",
      "Epoch 527/1000\n",
      "3/3 [==============================] - 0s 58ms/step - loss: 0.1643 - mae: 0.1643\n",
      "Epoch 528/1000\n",
      "3/3 [==============================] - 0s 56ms/step - loss: 0.1654 - mae: 0.1654\n",
      "Epoch 529/1000\n",
      "3/3 [==============================] - 0s 60ms/step - loss: 0.1668 - mae: 0.1668\n",
      "Epoch 530/1000\n",
      "3/3 [==============================] - 0s 58ms/step - loss: 0.1649 - mae: 0.1649\n",
      "Epoch 531/1000\n",
      "3/3 [==============================] - 0s 57ms/step - loss: 0.1658 - mae: 0.1658\n",
      "Epoch 532/1000\n",
      "3/3 [==============================] - 0s 56ms/step - loss: 0.1635 - mae: 0.1635\n",
      "Epoch 533/1000\n",
      "3/3 [==============================] - 0s 56ms/step - loss: 0.1615 - mae: 0.1615\n",
      "Epoch 534/1000\n",
      "3/3 [==============================] - 0s 60ms/step - loss: 0.1599 - mae: 0.1599\n",
      "Epoch 535/1000\n",
      "3/3 [==============================] - 0s 56ms/step - loss: 0.1595 - mae: 0.1595\n",
      "Epoch 536/1000\n",
      "3/3 [==============================] - 0s 56ms/step - loss: 0.1606 - mae: 0.1606\n",
      "Epoch 537/1000\n",
      "3/3 [==============================] - 0s 63ms/step - loss: 0.1591 - mae: 0.1591\n",
      "Epoch 538/1000\n",
      "3/3 [==============================] - 0s 62ms/step - loss: 0.1588 - mae: 0.1588\n",
      "Epoch 539/1000\n",
      "3/3 [==============================] - 0s 62ms/step - loss: 0.1587 - mae: 0.1587\n",
      "Epoch 540/1000\n",
      "3/3 [==============================] - 0s 58ms/step - loss: 0.1586 - mae: 0.1586\n",
      "Epoch 541/1000\n",
      "3/3 [==============================] - ETA: 0s - loss: 0.1584 - mae: 0.1584WARNING:tensorflow:Skipping full serialization of Keras layer <keras.layers.core.activation.Activation object at 0x000001F54945FE80>, because it is not built.\n"
     ]
    },
    {
     "name": "stderr",
     "output_type": "stream",
     "text": [
      "WARNING:tensorflow:Skipping full serialization of Keras layer <keras.layers.core.activation.Activation object at 0x000001F54945FE80>, because it is not built.\n",
      "WARNING:absl:Found untraced functions such as _jit_compiled_convolution_op, _jit_compiled_convolution_op, _jit_compiled_convolution_op, lstm_cell_18_layer_call_fn, lstm_cell_18_layer_call_and_return_conditional_losses while saving (showing 5 of 15). These functions will not be directly callable after loading.\n"
     ]
    },
    {
     "name": "stdout",
     "output_type": "stream",
     "text": [
      "INFO:tensorflow:Assets written to: 0920_seq2seq_tensorflow\\assets\n"
     ]
    },
    {
     "name": "stderr",
     "output_type": "stream",
     "text": [
      "INFO:tensorflow:Assets written to: 0920_seq2seq_tensorflow\\assets\n"
     ]
    },
    {
     "name": "stdout",
     "output_type": "stream",
     "text": [
      "3/3 [==============================] - 8s 4s/step - loss: 0.1584 - mae: 0.1584\n",
      "Epoch 542/1000\n",
      "3/3 [==============================] - 0s 57ms/step - loss: 0.1587 - mae: 0.1587\n",
      "Epoch 543/1000\n",
      "3/3 [==============================] - 0s 57ms/step - loss: 0.1585 - mae: 0.1585\n",
      "Epoch 544/1000\n",
      "3/3 [==============================] - 0s 57ms/step - loss: 0.1594 - mae: 0.1594\n",
      "Epoch 545/1000\n",
      "3/3 [==============================] - 0s 60ms/step - loss: 0.1597 - mae: 0.1597\n",
      "Epoch 546/1000\n",
      "3/3 [==============================] - 0s 58ms/step - loss: 0.1586 - mae: 0.1586\n",
      "Epoch 547/1000\n",
      "3/3 [==============================] - 0s 59ms/step - loss: 0.1605 - mae: 0.1605\n",
      "Epoch 548/1000\n",
      "3/3 [==============================] - 0s 56ms/step - loss: 0.1591 - mae: 0.1591\n",
      "Epoch 549/1000\n",
      "3/3 [==============================] - 0s 58ms/step - loss: 0.1601 - mae: 0.1601\n",
      "Epoch 550/1000\n",
      "3/3 [==============================] - 0s 61ms/step - loss: 0.1586 - mae: 0.1586\n",
      "Epoch 551/1000\n",
      "3/3 [==============================] - ETA: 0s - loss: 0.1579 - mae: 0.1579WARNING:tensorflow:Skipping full serialization of Keras layer <keras.layers.core.activation.Activation object at 0x000001F54945FE80>, because it is not built.\n"
     ]
    },
    {
     "name": "stderr",
     "output_type": "stream",
     "text": [
      "WARNING:tensorflow:Skipping full serialization of Keras layer <keras.layers.core.activation.Activation object at 0x000001F54945FE80>, because it is not built.\n",
      "WARNING:absl:Found untraced functions such as _jit_compiled_convolution_op, _jit_compiled_convolution_op, _jit_compiled_convolution_op, lstm_cell_18_layer_call_fn, lstm_cell_18_layer_call_and_return_conditional_losses while saving (showing 5 of 15). These functions will not be directly callable after loading.\n"
     ]
    },
    {
     "name": "stdout",
     "output_type": "stream",
     "text": [
      "INFO:tensorflow:Assets written to: 0920_seq2seq_tensorflow\\assets\n"
     ]
    },
    {
     "name": "stderr",
     "output_type": "stream",
     "text": [
      "INFO:tensorflow:Assets written to: 0920_seq2seq_tensorflow\\assets\n"
     ]
    },
    {
     "name": "stdout",
     "output_type": "stream",
     "text": [
      "3/3 [==============================] - 8s 4s/step - loss: 0.1579 - mae: 0.1579\n",
      "Epoch 552/1000\n",
      "3/3 [==============================] - 0s 60ms/step - loss: 0.1596 - mae: 0.1596\n",
      "Epoch 553/1000\n",
      "3/3 [==============================] - 0s 58ms/step - loss: 0.1590 - mae: 0.1590\n",
      "Epoch 554/1000\n",
      "3/3 [==============================] - 0s 56ms/step - loss: 0.1591 - mae: 0.1591\n",
      "Epoch 555/1000\n",
      "3/3 [==============================] - 0s 61ms/step - loss: 0.1598 - mae: 0.1598\n",
      "Epoch 556/1000\n",
      "3/3 [==============================] - 0s 57ms/step - loss: 0.1592 - mae: 0.1592\n",
      "Epoch 557/1000\n",
      "3/3 [==============================] - 0s 63ms/step - loss: 0.1607 - mae: 0.1607\n",
      "Epoch 558/1000\n",
      "3/3 [==============================] - 0s 58ms/step - loss: 0.1648 - mae: 0.1648\n",
      "Epoch 559/1000\n",
      "3/3 [==============================] - 0s 59ms/step - loss: 0.1604 - mae: 0.1604\n",
      "Epoch 560/1000\n",
      "3/3 [==============================] - 0s 57ms/step - loss: 0.1588 - mae: 0.1588\n",
      "Epoch 561/1000\n",
      "3/3 [==============================] - 0s 61ms/step - loss: 0.1581 - mae: 0.1581\n",
      "Epoch 562/1000\n",
      "3/3 [==============================] - ETA: 0s - loss: 0.1578 - mae: 0.1578WARNING:tensorflow:Skipping full serialization of Keras layer <keras.layers.core.activation.Activation object at 0x000001F54945FE80>, because it is not built.\n"
     ]
    },
    {
     "name": "stderr",
     "output_type": "stream",
     "text": [
      "WARNING:tensorflow:Skipping full serialization of Keras layer <keras.layers.core.activation.Activation object at 0x000001F54945FE80>, because it is not built.\n",
      "WARNING:absl:Found untraced functions such as _jit_compiled_convolution_op, _jit_compiled_convolution_op, _jit_compiled_convolution_op, lstm_cell_18_layer_call_fn, lstm_cell_18_layer_call_and_return_conditional_losses while saving (showing 5 of 15). These functions will not be directly callable after loading.\n"
     ]
    },
    {
     "name": "stdout",
     "output_type": "stream",
     "text": [
      "INFO:tensorflow:Assets written to: 0920_seq2seq_tensorflow\\assets\n"
     ]
    },
    {
     "name": "stderr",
     "output_type": "stream",
     "text": [
      "INFO:tensorflow:Assets written to: 0920_seq2seq_tensorflow\\assets\n"
     ]
    },
    {
     "name": "stdout",
     "output_type": "stream",
     "text": [
      "3/3 [==============================] - 8s 4s/step - loss: 0.1578 - mae: 0.1578\n",
      "Epoch 563/1000\n",
      "3/3 [==============================] - ETA: 0s - loss: 0.1576 - mae: 0.1576WARNING:tensorflow:Skipping full serialization of Keras layer <keras.layers.core.activation.Activation object at 0x000001F54945FE80>, because it is not built.\n"
     ]
    },
    {
     "name": "stderr",
     "output_type": "stream",
     "text": [
      "WARNING:tensorflow:Skipping full serialization of Keras layer <keras.layers.core.activation.Activation object at 0x000001F54945FE80>, because it is not built.\n",
      "WARNING:absl:Found untraced functions such as _jit_compiled_convolution_op, _jit_compiled_convolution_op, _jit_compiled_convolution_op, lstm_cell_18_layer_call_fn, lstm_cell_18_layer_call_and_return_conditional_losses while saving (showing 5 of 15). These functions will not be directly callable after loading.\n"
     ]
    },
    {
     "name": "stdout",
     "output_type": "stream",
     "text": [
      "INFO:tensorflow:Assets written to: 0920_seq2seq_tensorflow\\assets\n"
     ]
    },
    {
     "name": "stderr",
     "output_type": "stream",
     "text": [
      "INFO:tensorflow:Assets written to: 0920_seq2seq_tensorflow\\assets\n"
     ]
    },
    {
     "name": "stdout",
     "output_type": "stream",
     "text": [
      "3/3 [==============================] - 8s 4s/step - loss: 0.1576 - mae: 0.1576\n",
      "Epoch 564/1000\n",
      "3/3 [==============================] - ETA: 0s - loss: 0.1576 - mae: 0.1576WARNING:tensorflow:Skipping full serialization of Keras layer <keras.layers.core.activation.Activation object at 0x000001F54945FE80>, because it is not built.\n"
     ]
    },
    {
     "name": "stderr",
     "output_type": "stream",
     "text": [
      "WARNING:tensorflow:Skipping full serialization of Keras layer <keras.layers.core.activation.Activation object at 0x000001F54945FE80>, because it is not built.\n",
      "WARNING:absl:Found untraced functions such as _jit_compiled_convolution_op, _jit_compiled_convolution_op, _jit_compiled_convolution_op, lstm_cell_18_layer_call_fn, lstm_cell_18_layer_call_and_return_conditional_losses while saving (showing 5 of 15). These functions will not be directly callable after loading.\n"
     ]
    },
    {
     "name": "stdout",
     "output_type": "stream",
     "text": [
      "INFO:tensorflow:Assets written to: 0920_seq2seq_tensorflow\\assets\n"
     ]
    },
    {
     "name": "stderr",
     "output_type": "stream",
     "text": [
      "INFO:tensorflow:Assets written to: 0920_seq2seq_tensorflow\\assets\n"
     ]
    },
    {
     "name": "stdout",
     "output_type": "stream",
     "text": [
      "3/3 [==============================] - 8s 4s/step - loss: 0.1576 - mae: 0.1576\n",
      "Epoch 565/1000\n",
      "3/3 [==============================] - ETA: 0s - loss: 0.1575 - mae: 0.1575WARNING:tensorflow:Skipping full serialization of Keras layer <keras.layers.core.activation.Activation object at 0x000001F54945FE80>, because it is not built.\n"
     ]
    },
    {
     "name": "stderr",
     "output_type": "stream",
     "text": [
      "WARNING:tensorflow:Skipping full serialization of Keras layer <keras.layers.core.activation.Activation object at 0x000001F54945FE80>, because it is not built.\n",
      "WARNING:absl:Found untraced functions such as _jit_compiled_convolution_op, _jit_compiled_convolution_op, _jit_compiled_convolution_op, lstm_cell_18_layer_call_fn, lstm_cell_18_layer_call_and_return_conditional_losses while saving (showing 5 of 15). These functions will not be directly callable after loading.\n"
     ]
    },
    {
     "name": "stdout",
     "output_type": "stream",
     "text": [
      "INFO:tensorflow:Assets written to: 0920_seq2seq_tensorflow\\assets\n"
     ]
    },
    {
     "name": "stderr",
     "output_type": "stream",
     "text": [
      "INFO:tensorflow:Assets written to: 0920_seq2seq_tensorflow\\assets\n"
     ]
    },
    {
     "name": "stdout",
     "output_type": "stream",
     "text": [
      "3/3 [==============================] - 8s 4s/step - loss: 0.1575 - mae: 0.1575\n",
      "Epoch 566/1000\n",
      "3/3 [==============================] - 0s 58ms/step - loss: 0.1590 - mae: 0.1590\n",
      "Epoch 567/1000\n",
      "3/3 [==============================] - 0s 57ms/step - loss: 0.1584 - mae: 0.1584\n",
      "Epoch 568/1000\n",
      "3/3 [==============================] - 0s 57ms/step - loss: 0.1597 - mae: 0.1597\n",
      "Epoch 569/1000\n",
      "3/3 [==============================] - 0s 58ms/step - loss: 0.1588 - mae: 0.1588\n",
      "Epoch 570/1000\n",
      "3/3 [==============================] - 0s 69ms/step - loss: 0.1582 - mae: 0.1582\n",
      "Epoch 571/1000\n",
      "3/3 [==============================] - 0s 58ms/step - loss: 0.1576 - mae: 0.1576\n",
      "Epoch 572/1000\n",
      "3/3 [==============================] - ETA: 0s - loss: 0.1574 - mae: 0.1574WARNING:tensorflow:Skipping full serialization of Keras layer <keras.layers.core.activation.Activation object at 0x000001F54945FE80>, because it is not built.\n"
     ]
    },
    {
     "name": "stderr",
     "output_type": "stream",
     "text": [
      "WARNING:tensorflow:Skipping full serialization of Keras layer <keras.layers.core.activation.Activation object at 0x000001F54945FE80>, because it is not built.\n",
      "WARNING:absl:Found untraced functions such as _jit_compiled_convolution_op, _jit_compiled_convolution_op, _jit_compiled_convolution_op, lstm_cell_18_layer_call_fn, lstm_cell_18_layer_call_and_return_conditional_losses while saving (showing 5 of 15). These functions will not be directly callable after loading.\n"
     ]
    },
    {
     "name": "stdout",
     "output_type": "stream",
     "text": [
      "INFO:tensorflow:Assets written to: 0920_seq2seq_tensorflow\\assets\n"
     ]
    },
    {
     "name": "stderr",
     "output_type": "stream",
     "text": [
      "INFO:tensorflow:Assets written to: 0920_seq2seq_tensorflow\\assets\n"
     ]
    },
    {
     "name": "stdout",
     "output_type": "stream",
     "text": [
      "3/3 [==============================] - 9s 4s/step - loss: 0.1574 - mae: 0.1574\n",
      "Epoch 573/1000\n",
      "3/3 [==============================] - 0s 62ms/step - loss: 0.1585 - mae: 0.1585\n",
      "Epoch 574/1000\n",
      "3/3 [==============================] - 0s 64ms/step - loss: 0.1581 - mae: 0.1581\n",
      "Epoch 575/1000\n",
      "3/3 [==============================] - 0s 60ms/step - loss: 0.1580 - mae: 0.1580\n",
      "Epoch 576/1000\n",
      "3/3 [==============================] - 0s 61ms/step - loss: 0.1606 - mae: 0.1606\n",
      "Epoch 577/1000\n",
      "3/3 [==============================] - 0s 58ms/step - loss: 0.1609 - mae: 0.1609\n",
      "Epoch 578/1000\n",
      "3/3 [==============================] - 0s 60ms/step - loss: 0.1585 - mae: 0.1585\n",
      "Epoch 579/1000\n",
      "3/3 [==============================] - 0s 61ms/step - loss: 0.1576 - mae: 0.1576\n",
      "Epoch 580/1000\n",
      "3/3 [==============================] - 0s 58ms/step - loss: 0.1597 - mae: 0.1597\n",
      "Epoch 581/1000\n",
      "3/3 [==============================] - 0s 58ms/step - loss: 0.1597 - mae: 0.1597\n",
      "Epoch 582/1000\n",
      "3/3 [==============================] - 0s 64ms/step - loss: 0.1662 - mae: 0.1662\n",
      "Epoch 583/1000\n",
      "3/3 [==============================] - 0s 59ms/step - loss: 0.1631 - mae: 0.1631\n",
      "Epoch 584/1000\n",
      "3/3 [==============================] - 0s 61ms/step - loss: 0.1627 - mae: 0.1627\n",
      "Epoch 585/1000\n",
      "3/3 [==============================] - 0s 60ms/step - loss: 0.1648 - mae: 0.1648\n",
      "Epoch 586/1000\n",
      "3/3 [==============================] - 0s 57ms/step - loss: 0.1629 - mae: 0.1629\n",
      "Epoch 587/1000\n",
      "3/3 [==============================] - 0s 56ms/step - loss: 0.1595 - mae: 0.1595\n",
      "Epoch 588/1000\n",
      "3/3 [==============================] - 0s 59ms/step - loss: 0.1605 - mae: 0.1605\n",
      "Epoch 589/1000\n",
      "3/3 [==============================] - 0s 59ms/step - loss: 0.1619 - mae: 0.1619\n",
      "Epoch 590/1000\n",
      "3/3 [==============================] - 0s 58ms/step - loss: 0.1589 - mae: 0.1589\n",
      "Epoch 591/1000\n",
      "3/3 [==============================] - 0s 58ms/step - loss: 0.1586 - mae: 0.1586\n",
      "Epoch 592/1000\n",
      "3/3 [==============================] - 0s 56ms/step - loss: 0.1602 - mae: 0.1602\n",
      "Epoch 593/1000\n",
      "3/3 [==============================] - 0s 60ms/step - loss: 0.1595 - mae: 0.1595\n",
      "Epoch 594/1000\n",
      "3/3 [==============================] - 0s 61ms/step - loss: 0.1604 - mae: 0.1604\n",
      "Epoch 595/1000\n",
      "3/3 [==============================] - 0s 59ms/step - loss: 0.1599 - mae: 0.1599\n",
      "Epoch 596/1000\n",
      "3/3 [==============================] - 0s 60ms/step - loss: 0.1586 - mae: 0.1586\n",
      "Epoch 597/1000\n",
      "3/3 [==============================] - 0s 57ms/step - loss: 0.1590 - mae: 0.1590\n",
      "Epoch 598/1000\n",
      "3/3 [==============================] - 0s 55ms/step - loss: 0.1582 - mae: 0.1582\n",
      "Epoch 599/1000\n",
      "3/3 [==============================] - 0s 62ms/step - loss: 0.1585 - mae: 0.1585\n",
      "Epoch 600/1000\n",
      "3/3 [==============================] - 0s 60ms/step - loss: 0.1588 - mae: 0.1588\n",
      "Epoch 601/1000\n",
      "3/3 [==============================] - 0s 58ms/step - loss: 0.1584 - mae: 0.1584\n",
      "Epoch 602/1000\n",
      "3/3 [==============================] - 0s 57ms/step - loss: 0.1602 - mae: 0.1602\n",
      "Epoch 603/1000\n",
      "3/3 [==============================] - 0s 59ms/step - loss: 0.1584 - mae: 0.1584\n",
      "Epoch 604/1000\n",
      "3/3 [==============================] - 0s 57ms/step - loss: 0.1588 - mae: 0.1588\n",
      "Epoch 605/1000\n",
      "3/3 [==============================] - ETA: 0s - loss: 0.1570 - mae: 0.1570WARNING:tensorflow:Skipping full serialization of Keras layer <keras.layers.core.activation.Activation object at 0x000001F54945FE80>, because it is not built.\n"
     ]
    },
    {
     "name": "stderr",
     "output_type": "stream",
     "text": [
      "WARNING:tensorflow:Skipping full serialization of Keras layer <keras.layers.core.activation.Activation object at 0x000001F54945FE80>, because it is not built.\n",
      "WARNING:absl:Found untraced functions such as _jit_compiled_convolution_op, _jit_compiled_convolution_op, _jit_compiled_convolution_op, lstm_cell_18_layer_call_fn, lstm_cell_18_layer_call_and_return_conditional_losses while saving (showing 5 of 15). These functions will not be directly callable after loading.\n"
     ]
    },
    {
     "name": "stdout",
     "output_type": "stream",
     "text": [
      "INFO:tensorflow:Assets written to: 0920_seq2seq_tensorflow\\assets\n"
     ]
    },
    {
     "name": "stderr",
     "output_type": "stream",
     "text": [
      "INFO:tensorflow:Assets written to: 0920_seq2seq_tensorflow\\assets\n"
     ]
    },
    {
     "name": "stdout",
     "output_type": "stream",
     "text": [
      "3/3 [==============================] - 9s 4s/step - loss: 0.1570 - mae: 0.1570\n",
      "Epoch 606/1000\n",
      "3/3 [==============================] - 0s 63ms/step - loss: 0.1571 - mae: 0.1571\n",
      "Epoch 607/1000\n",
      "3/3 [==============================] - 0s 58ms/step - loss: 0.1574 - mae: 0.1574\n",
      "Epoch 608/1000\n",
      "3/3 [==============================] - 0s 62ms/step - loss: 0.1570 - mae: 0.1570\n",
      "Epoch 609/1000\n",
      "3/3 [==============================] - 0s 60ms/step - loss: 0.1571 - mae: 0.1571\n",
      "Epoch 610/1000\n",
      "3/3 [==============================] - 0s 58ms/step - loss: 0.1573 - mae: 0.1573\n",
      "Epoch 611/1000\n",
      "3/3 [==============================] - 0s 58ms/step - loss: 0.1571 - mae: 0.1571\n",
      "Epoch 612/1000\n",
      "3/3 [==============================] - 0s 61ms/step - loss: 0.1570 - mae: 0.1570\n",
      "Epoch 613/1000\n",
      "3/3 [==============================] - 0s 56ms/step - loss: 0.1576 - mae: 0.1576\n",
      "Epoch 614/1000\n",
      "3/3 [==============================] - ETA: 0s - loss: 0.1566 - mae: 0.1566WARNING:tensorflow:Skipping full serialization of Keras layer <keras.layers.core.activation.Activation object at 0x000001F54945FE80>, because it is not built.\n"
     ]
    },
    {
     "name": "stderr",
     "output_type": "stream",
     "text": [
      "WARNING:tensorflow:Skipping full serialization of Keras layer <keras.layers.core.activation.Activation object at 0x000001F54945FE80>, because it is not built.\n",
      "WARNING:absl:Found untraced functions such as _jit_compiled_convolution_op, _jit_compiled_convolution_op, _jit_compiled_convolution_op, lstm_cell_18_layer_call_fn, lstm_cell_18_layer_call_and_return_conditional_losses while saving (showing 5 of 15). These functions will not be directly callable after loading.\n"
     ]
    },
    {
     "name": "stdout",
     "output_type": "stream",
     "text": [
      "INFO:tensorflow:Assets written to: 0920_seq2seq_tensorflow\\assets\n"
     ]
    },
    {
     "name": "stderr",
     "output_type": "stream",
     "text": [
      "INFO:tensorflow:Assets written to: 0920_seq2seq_tensorflow\\assets\n"
     ]
    },
    {
     "name": "stdout",
     "output_type": "stream",
     "text": [
      "3/3 [==============================] - 9s 4s/step - loss: 0.1566 - mae: 0.1566\n",
      "Epoch 615/1000\n",
      "3/3 [==============================] - 0s 60ms/step - loss: 0.1570 - mae: 0.1570\n",
      "Epoch 616/1000\n",
      "3/3 [==============================] - 0s 57ms/step - loss: 0.1577 - mae: 0.1577\n",
      "Epoch 617/1000\n",
      "3/3 [==============================] - 0s 60ms/step - loss: 0.1573 - mae: 0.1573\n",
      "Epoch 618/1000\n",
      "3/3 [==============================] - 0s 58ms/step - loss: 0.1589 - mae: 0.1589\n",
      "Epoch 619/1000\n",
      "3/3 [==============================] - 0s 58ms/step - loss: 0.1595 - mae: 0.1595\n",
      "Epoch 620/1000\n",
      "3/3 [==============================] - 0s 60ms/step - loss: 0.1608 - mae: 0.1608\n",
      "Epoch 621/1000\n",
      "3/3 [==============================] - 0s 59ms/step - loss: 0.1592 - mae: 0.1592\n",
      "Epoch 622/1000\n",
      "3/3 [==============================] - 0s 60ms/step - loss: 0.1575 - mae: 0.1575\n",
      "Epoch 623/1000\n",
      "3/3 [==============================] - 0s 58ms/step - loss: 0.1575 - mae: 0.1575\n",
      "Epoch 624/1000\n",
      "3/3 [==============================] - 0s 56ms/step - loss: 0.1573 - mae: 0.1573\n",
      "Epoch 625/1000\n",
      "3/3 [==============================] - 0s 57ms/step - loss: 0.1588 - mae: 0.1588\n",
      "Epoch 626/1000\n",
      "3/3 [==============================] - 0s 57ms/step - loss: 0.1574 - mae: 0.1574\n",
      "Epoch 627/1000\n",
      "3/3 [==============================] - 0s 58ms/step - loss: 0.1570 - mae: 0.1570\n",
      "Epoch 628/1000\n",
      "3/3 [==============================] - 0s 56ms/step - loss: 0.1575 - mae: 0.1575\n",
      "Epoch 629/1000\n",
      "3/3 [==============================] - 0s 55ms/step - loss: 0.1576 - mae: 0.1576\n",
      "Epoch 630/1000\n",
      "3/3 [==============================] - ETA: 0s - loss: 0.1566 - mae: 0.1566WARNING:tensorflow:Skipping full serialization of Keras layer <keras.layers.core.activation.Activation object at 0x000001F54945FE80>, because it is not built.\n"
     ]
    },
    {
     "name": "stderr",
     "output_type": "stream",
     "text": [
      "WARNING:tensorflow:Skipping full serialization of Keras layer <keras.layers.core.activation.Activation object at 0x000001F54945FE80>, because it is not built.\n",
      "WARNING:absl:Found untraced functions such as _jit_compiled_convolution_op, _jit_compiled_convolution_op, _jit_compiled_convolution_op, lstm_cell_18_layer_call_fn, lstm_cell_18_layer_call_and_return_conditional_losses while saving (showing 5 of 15). These functions will not be directly callable after loading.\n"
     ]
    },
    {
     "name": "stdout",
     "output_type": "stream",
     "text": [
      "INFO:tensorflow:Assets written to: 0920_seq2seq_tensorflow\\assets\n"
     ]
    },
    {
     "name": "stderr",
     "output_type": "stream",
     "text": [
      "INFO:tensorflow:Assets written to: 0920_seq2seq_tensorflow\\assets\n"
     ]
    },
    {
     "name": "stdout",
     "output_type": "stream",
     "text": [
      "3/3 [==============================] - 19s 10s/step - loss: 0.1566 - mae: 0.1566\n",
      "Epoch 631/1000\n",
      "3/3 [==============================] - 0s 55ms/step - loss: 0.1569 - mae: 0.1569\n",
      "Epoch 632/1000\n",
      "3/3 [==============================] - 0s 62ms/step - loss: 0.1572 - mae: 0.1572\n",
      "Epoch 633/1000\n",
      "3/3 [==============================] - 0s 61ms/step - loss: 0.1619 - mae: 0.1619\n",
      "Epoch 634/1000\n",
      "3/3 [==============================] - 0s 58ms/step - loss: 0.1599 - mae: 0.1599\n",
      "Epoch 635/1000\n",
      "3/3 [==============================] - 0s 57ms/step - loss: 0.1576 - mae: 0.1576\n",
      "Epoch 636/1000\n",
      "3/3 [==============================] - 0s 59ms/step - loss: 0.1572 - mae: 0.1572\n",
      "Epoch 637/1000\n",
      "3/3 [==============================] - 0s 57ms/step - loss: 0.1571 - mae: 0.1571\n",
      "Epoch 638/1000\n",
      "3/3 [==============================] - 0s 62ms/step - loss: 0.1570 - mae: 0.1570\n",
      "Epoch 639/1000\n",
      "3/3 [==============================] - 0s 59ms/step - loss: 0.1586 - mae: 0.1586\n",
      "Epoch 640/1000\n",
      "3/3 [==============================] - 0s 57ms/step - loss: 0.1593 - mae: 0.1593\n",
      "Epoch 641/1000\n",
      "3/3 [==============================] - 0s 55ms/step - loss: 0.1599 - mae: 0.1599\n",
      "Epoch 642/1000\n",
      "3/3 [==============================] - 0s 57ms/step - loss: 0.1587 - mae: 0.1587\n",
      "Epoch 643/1000\n",
      "3/3 [==============================] - 0s 57ms/step - loss: 0.1593 - mae: 0.1593\n",
      "Epoch 644/1000\n",
      "3/3 [==============================] - 0s 57ms/step - loss: 0.1616 - mae: 0.1616\n",
      "Epoch 645/1000\n",
      "3/3 [==============================] - 0s 58ms/step - loss: 0.1596 - mae: 0.1596\n",
      "Epoch 646/1000\n",
      "3/3 [==============================] - 0s 57ms/step - loss: 0.1594 - mae: 0.1594\n",
      "Epoch 647/1000\n",
      "3/3 [==============================] - 0s 58ms/step - loss: 0.1590 - mae: 0.1590\n",
      "Epoch 648/1000\n",
      "3/3 [==============================] - 0s 59ms/step - loss: 0.1596 - mae: 0.1596\n",
      "Epoch 649/1000\n",
      "3/3 [==============================] - 0s 63ms/step - loss: 0.1580 - mae: 0.1580\n",
      "Epoch 650/1000\n",
      "3/3 [==============================] - 0s 59ms/step - loss: 0.1575 - mae: 0.1575\n",
      "Epoch 651/1000\n",
      "3/3 [==============================] - 0s 57ms/step - loss: 0.1579 - mae: 0.1579\n",
      "Epoch 652/1000\n",
      "3/3 [==============================] - 0s 57ms/step - loss: 0.1572 - mae: 0.1572\n",
      "Epoch 653/1000\n",
      "3/3 [==============================] - 0s 57ms/step - loss: 0.1571 - mae: 0.1571\n",
      "Epoch 654/1000\n",
      "3/3 [==============================] - ETA: 0s - loss: 0.1560 - mae: 0.1560WARNING:tensorflow:Skipping full serialization of Keras layer <keras.layers.core.activation.Activation object at 0x000001F54945FE80>, because it is not built.\n"
     ]
    },
    {
     "name": "stderr",
     "output_type": "stream",
     "text": [
      "WARNING:tensorflow:Skipping full serialization of Keras layer <keras.layers.core.activation.Activation object at 0x000001F54945FE80>, because it is not built.\n",
      "WARNING:absl:Found untraced functions such as _jit_compiled_convolution_op, _jit_compiled_convolution_op, _jit_compiled_convolution_op, lstm_cell_18_layer_call_fn, lstm_cell_18_layer_call_and_return_conditional_losses while saving (showing 5 of 15). These functions will not be directly callable after loading.\n"
     ]
    },
    {
     "name": "stdout",
     "output_type": "stream",
     "text": [
      "INFO:tensorflow:Assets written to: 0920_seq2seq_tensorflow\\assets\n"
     ]
    },
    {
     "name": "stderr",
     "output_type": "stream",
     "text": [
      "INFO:tensorflow:Assets written to: 0920_seq2seq_tensorflow\\assets\n"
     ]
    },
    {
     "name": "stdout",
     "output_type": "stream",
     "text": [
      "3/3 [==============================] - 8s 4s/step - loss: 0.1560 - mae: 0.1560\n",
      "Epoch 655/1000\n",
      "3/3 [==============================] - 0s 62ms/step - loss: 0.1561 - mae: 0.1561\n",
      "Epoch 656/1000\n",
      "3/3 [==============================] - 0s 58ms/step - loss: 0.1572 - mae: 0.1572\n",
      "Epoch 657/1000\n",
      "3/3 [==============================] - 0s 57ms/step - loss: 0.1574 - mae: 0.1574\n",
      "Epoch 658/1000\n",
      "3/3 [==============================] - 0s 59ms/step - loss: 0.1632 - mae: 0.1632\n",
      "Epoch 659/1000\n",
      "3/3 [==============================] - 0s 58ms/step - loss: 0.1603 - mae: 0.1603\n",
      "Epoch 660/1000\n",
      "3/3 [==============================] - 0s 64ms/step - loss: 0.1593 - mae: 0.1593\n",
      "Epoch 661/1000\n",
      "3/3 [==============================] - 0s 57ms/step - loss: 0.1610 - mae: 0.1610\n",
      "Epoch 662/1000\n",
      "3/3 [==============================] - 0s 59ms/step - loss: 0.1602 - mae: 0.1602\n",
      "Epoch 663/1000\n",
      "3/3 [==============================] - 0s 57ms/step - loss: 0.1594 - mae: 0.1594\n",
      "Epoch 664/1000\n",
      "3/3 [==============================] - 0s 59ms/step - loss: 0.1574 - mae: 0.1574\n",
      "Epoch 665/1000\n",
      "3/3 [==============================] - 0s 57ms/step - loss: 0.1571 - mae: 0.1571\n",
      "Epoch 666/1000\n",
      "3/3 [==============================] - 0s 59ms/step - loss: 0.1566 - mae: 0.1566\n",
      "Epoch 667/1000\n",
      "3/3 [==============================] - 0s 61ms/step - loss: 0.1563 - mae: 0.1563\n",
      "Epoch 668/1000\n",
      "3/3 [==============================] - 0s 57ms/step - loss: 0.1566 - mae: 0.1566\n",
      "Epoch 669/1000\n",
      "3/3 [==============================] - 0s 56ms/step - loss: 0.1561 - mae: 0.1561\n",
      "Epoch 670/1000\n",
      "3/3 [==============================] - 0s 59ms/step - loss: 0.1570 - mae: 0.1570\n",
      "Epoch 671/1000\n",
      "3/3 [==============================] - ETA: 0s - loss: 0.1559 - mae: 0.1559WARNING:tensorflow:Skipping full serialization of Keras layer <keras.layers.core.activation.Activation object at 0x000001F54945FE80>, because it is not built.\n"
     ]
    },
    {
     "name": "stderr",
     "output_type": "stream",
     "text": [
      "WARNING:tensorflow:Skipping full serialization of Keras layer <keras.layers.core.activation.Activation object at 0x000001F54945FE80>, because it is not built.\n",
      "WARNING:absl:Found untraced functions such as _jit_compiled_convolution_op, _jit_compiled_convolution_op, _jit_compiled_convolution_op, lstm_cell_18_layer_call_fn, lstm_cell_18_layer_call_and_return_conditional_losses while saving (showing 5 of 15). These functions will not be directly callable after loading.\n"
     ]
    },
    {
     "name": "stdout",
     "output_type": "stream",
     "text": [
      "INFO:tensorflow:Assets written to: 0920_seq2seq_tensorflow\\assets\n"
     ]
    },
    {
     "name": "stderr",
     "output_type": "stream",
     "text": [
      "INFO:tensorflow:Assets written to: 0920_seq2seq_tensorflow\\assets\n"
     ]
    },
    {
     "name": "stdout",
     "output_type": "stream",
     "text": [
      "3/3 [==============================] - 8s 4s/step - loss: 0.1559 - mae: 0.1559\n",
      "Epoch 672/1000\n",
      "3/3 [==============================] - 0s 58ms/step - loss: 0.1567 - mae: 0.1567\n",
      "Epoch 673/1000\n",
      "3/3 [==============================] - 0s 56ms/step - loss: 0.1561 - mae: 0.1561\n",
      "Epoch 674/1000\n",
      "3/3 [==============================] - 0s 58ms/step - loss: 0.1560 - mae: 0.1560\n",
      "Epoch 675/1000\n",
      "3/3 [==============================] - 0s 58ms/step - loss: 0.1566 - mae: 0.1566\n",
      "Epoch 676/1000\n",
      "3/3 [==============================] - ETA: 0s - loss: 0.1557 - mae: 0.1557WARNING:tensorflow:Skipping full serialization of Keras layer <keras.layers.core.activation.Activation object at 0x000001F54945FE80>, because it is not built.\n"
     ]
    },
    {
     "name": "stderr",
     "output_type": "stream",
     "text": [
      "WARNING:tensorflow:Skipping full serialization of Keras layer <keras.layers.core.activation.Activation object at 0x000001F54945FE80>, because it is not built.\n",
      "WARNING:absl:Found untraced functions such as _jit_compiled_convolution_op, _jit_compiled_convolution_op, _jit_compiled_convolution_op, lstm_cell_18_layer_call_fn, lstm_cell_18_layer_call_and_return_conditional_losses while saving (showing 5 of 15). These functions will not be directly callable after loading.\n"
     ]
    },
    {
     "name": "stdout",
     "output_type": "stream",
     "text": [
      "INFO:tensorflow:Assets written to: 0920_seq2seq_tensorflow\\assets\n"
     ]
    },
    {
     "name": "stderr",
     "output_type": "stream",
     "text": [
      "INFO:tensorflow:Assets written to: 0920_seq2seq_tensorflow\\assets\n"
     ]
    },
    {
     "name": "stdout",
     "output_type": "stream",
     "text": [
      "3/3 [==============================] - 8s 4s/step - loss: 0.1557 - mae: 0.1557\n",
      "Epoch 677/1000\n",
      "3/3 [==============================] - ETA: 0s - loss: 0.1554 - mae: 0.1554WARNING:tensorflow:Skipping full serialization of Keras layer <keras.layers.core.activation.Activation object at 0x000001F54945FE80>, because it is not built.\n"
     ]
    },
    {
     "name": "stderr",
     "output_type": "stream",
     "text": [
      "WARNING:tensorflow:Skipping full serialization of Keras layer <keras.layers.core.activation.Activation object at 0x000001F54945FE80>, because it is not built.\n",
      "WARNING:absl:Found untraced functions such as _jit_compiled_convolution_op, _jit_compiled_convolution_op, _jit_compiled_convolution_op, lstm_cell_18_layer_call_fn, lstm_cell_18_layer_call_and_return_conditional_losses while saving (showing 5 of 15). These functions will not be directly callable after loading.\n"
     ]
    },
    {
     "name": "stdout",
     "output_type": "stream",
     "text": [
      "INFO:tensorflow:Assets written to: 0920_seq2seq_tensorflow\\assets\n"
     ]
    },
    {
     "name": "stderr",
     "output_type": "stream",
     "text": [
      "INFO:tensorflow:Assets written to: 0920_seq2seq_tensorflow\\assets\n"
     ]
    },
    {
     "name": "stdout",
     "output_type": "stream",
     "text": [
      "3/3 [==============================] - 8s 4s/step - loss: 0.1554 - mae: 0.1554\n",
      "Epoch 678/1000\n",
      "3/3 [==============================] - 0s 61ms/step - loss: 0.1554 - mae: 0.1554\n",
      "Epoch 679/1000\n",
      "3/3 [==============================] - 0s 59ms/step - loss: 0.1557 - mae: 0.1557\n",
      "Epoch 680/1000\n",
      "3/3 [==============================] - 0s 59ms/step - loss: 0.1558 - mae: 0.1558\n",
      "Epoch 681/1000\n",
      "3/3 [==============================] - 0s 61ms/step - loss: 0.1561 - mae: 0.1561\n",
      "Epoch 682/1000\n",
      "3/3 [==============================] - 0s 59ms/step - loss: 0.1564 - mae: 0.1564\n",
      "Epoch 683/1000\n",
      "3/3 [==============================] - 0s 61ms/step - loss: 0.1569 - mae: 0.1569\n",
      "Epoch 684/1000\n",
      "3/3 [==============================] - 0s 59ms/step - loss: 0.1570 - mae: 0.1570\n",
      "Epoch 685/1000\n",
      "3/3 [==============================] - 0s 58ms/step - loss: 0.1565 - mae: 0.1565\n",
      "Epoch 686/1000\n",
      "3/3 [==============================] - 0s 60ms/step - loss: 0.1567 - mae: 0.1567\n",
      "Epoch 687/1000\n",
      "3/3 [==============================] - 0s 59ms/step - loss: 0.1577 - mae: 0.1577\n",
      "Epoch 688/1000\n",
      "3/3 [==============================] - 0s 56ms/step - loss: 0.1577 - mae: 0.1577\n",
      "Epoch 689/1000\n",
      "3/3 [==============================] - 0s 63ms/step - loss: 0.1594 - mae: 0.1594\n",
      "Epoch 690/1000\n",
      "3/3 [==============================] - 0s 59ms/step - loss: 0.1582 - mae: 0.1582\n",
      "Epoch 691/1000\n",
      "3/3 [==============================] - 0s 66ms/step - loss: 0.1584 - mae: 0.1584\n",
      "Epoch 692/1000\n",
      "3/3 [==============================] - 0s 60ms/step - loss: 0.1582 - mae: 0.1582\n",
      "Epoch 693/1000\n",
      "3/3 [==============================] - 0s 57ms/step - loss: 0.1586 - mae: 0.1586\n",
      "Epoch 694/1000\n",
      "3/3 [==============================] - 0s 59ms/step - loss: 0.1563 - mae: 0.1563\n",
      "Epoch 695/1000\n",
      "3/3 [==============================] - 0s 62ms/step - loss: 0.1556 - mae: 0.1556\n",
      "Epoch 696/1000\n",
      "3/3 [==============================] - 0s 57ms/step - loss: 0.1585 - mae: 0.1585\n",
      "Epoch 697/1000\n",
      "3/3 [==============================] - 0s 59ms/step - loss: 0.1582 - mae: 0.1582\n",
      "Epoch 698/1000\n",
      "3/3 [==============================] - 0s 60ms/step - loss: 0.1563 - mae: 0.1563\n",
      "Epoch 699/1000\n",
      "3/3 [==============================] - 0s 60ms/step - loss: 0.1560 - mae: 0.1560\n",
      "Epoch 700/1000\n",
      "3/3 [==============================] - 0s 56ms/step - loss: 0.1562 - mae: 0.1562\n",
      "Epoch 701/1000\n",
      "3/3 [==============================] - 0s 57ms/step - loss: 0.1556 - mae: 0.1556\n",
      "Epoch 702/1000\n",
      "3/3 [==============================] - ETA: 0s - loss: 0.1551 - mae: 0.1551WARNING:tensorflow:Skipping full serialization of Keras layer <keras.layers.core.activation.Activation object at 0x000001F54945FE80>, because it is not built.\n"
     ]
    },
    {
     "name": "stderr",
     "output_type": "stream",
     "text": [
      "WARNING:tensorflow:Skipping full serialization of Keras layer <keras.layers.core.activation.Activation object at 0x000001F54945FE80>, because it is not built.\n",
      "WARNING:absl:Found untraced functions such as _jit_compiled_convolution_op, _jit_compiled_convolution_op, _jit_compiled_convolution_op, lstm_cell_18_layer_call_fn, lstm_cell_18_layer_call_and_return_conditional_losses while saving (showing 5 of 15). These functions will not be directly callable after loading.\n"
     ]
    },
    {
     "name": "stdout",
     "output_type": "stream",
     "text": [
      "INFO:tensorflow:Assets written to: 0920_seq2seq_tensorflow\\assets\n"
     ]
    },
    {
     "name": "stderr",
     "output_type": "stream",
     "text": [
      "INFO:tensorflow:Assets written to: 0920_seq2seq_tensorflow\\assets\n"
     ]
    },
    {
     "name": "stdout",
     "output_type": "stream",
     "text": [
      "3/3 [==============================] - 8s 4s/step - loss: 0.1551 - mae: 0.1551\n",
      "Epoch 703/1000\n",
      "3/3 [==============================] - 0s 62ms/step - loss: 0.1560 - mae: 0.1560\n",
      "Epoch 704/1000\n",
      "3/3 [==============================] - ETA: 0s - loss: 0.1549 - mae: 0.1549WARNING:tensorflow:Skipping full serialization of Keras layer <keras.layers.core.activation.Activation object at 0x000001F54945FE80>, because it is not built.\n"
     ]
    },
    {
     "name": "stderr",
     "output_type": "stream",
     "text": [
      "WARNING:tensorflow:Skipping full serialization of Keras layer <keras.layers.core.activation.Activation object at 0x000001F54945FE80>, because it is not built.\n",
      "WARNING:absl:Found untraced functions such as _jit_compiled_convolution_op, _jit_compiled_convolution_op, _jit_compiled_convolution_op, lstm_cell_18_layer_call_fn, lstm_cell_18_layer_call_and_return_conditional_losses while saving (showing 5 of 15). These functions will not be directly callable after loading.\n"
     ]
    },
    {
     "name": "stdout",
     "output_type": "stream",
     "text": [
      "INFO:tensorflow:Assets written to: 0920_seq2seq_tensorflow\\assets\n"
     ]
    },
    {
     "name": "stderr",
     "output_type": "stream",
     "text": [
      "INFO:tensorflow:Assets written to: 0920_seq2seq_tensorflow\\assets\n"
     ]
    },
    {
     "name": "stdout",
     "output_type": "stream",
     "text": [
      "3/3 [==============================] - 8s 4s/step - loss: 0.1549 - mae: 0.1549\n",
      "Epoch 705/1000\n",
      "3/3 [==============================] - 0s 63ms/step - loss: 0.1561 - mae: 0.1561\n",
      "Epoch 706/1000\n",
      "3/3 [==============================] - 0s 60ms/step - loss: 0.1563 - mae: 0.1563\n",
      "Epoch 707/1000\n",
      "3/3 [==============================] - 0s 57ms/step - loss: 0.1551 - mae: 0.1551\n",
      "Epoch 708/1000\n",
      "3/3 [==============================] - 0s 57ms/step - loss: 0.1555 - mae: 0.1555\n",
      "Epoch 709/1000\n",
      "3/3 [==============================] - 0s 59ms/step - loss: 0.1565 - mae: 0.1565\n",
      "Epoch 710/1000\n",
      "3/3 [==============================] - 0s 57ms/step - loss: 0.1550 - mae: 0.1550\n",
      "Epoch 711/1000\n",
      "3/3 [==============================] - 0s 58ms/step - loss: 0.1562 - mae: 0.1562\n",
      "Epoch 712/1000\n",
      "3/3 [==============================] - 0s 68ms/step - loss: 0.1551 - mae: 0.1551\n",
      "Epoch 713/1000\n",
      "3/3 [==============================] - 0s 61ms/step - loss: 0.1569 - mae: 0.1569\n",
      "Epoch 714/1000\n",
      "3/3 [==============================] - 0s 58ms/step - loss: 0.1571 - mae: 0.1571\n",
      "Epoch 715/1000\n",
      "3/3 [==============================] - 0s 63ms/step - loss: 0.1581 - mae: 0.1581\n",
      "Epoch 716/1000\n",
      "3/3 [==============================] - 0s 57ms/step - loss: 0.1564 - mae: 0.1564\n",
      "Epoch 717/1000\n",
      "3/3 [==============================] - 0s 58ms/step - loss: 0.1575 - mae: 0.1575\n",
      "Epoch 718/1000\n",
      "3/3 [==============================] - 0s 56ms/step - loss: 0.1581 - mae: 0.1581\n",
      "Epoch 719/1000\n",
      "3/3 [==============================] - 0s 57ms/step - loss: 0.1577 - mae: 0.1577\n",
      "Epoch 720/1000\n",
      "3/3 [==============================] - 0s 58ms/step - loss: 0.1555 - mae: 0.1555\n",
      "Epoch 721/1000\n",
      "3/3 [==============================] - 0s 58ms/step - loss: 0.1556 - mae: 0.1556\n",
      "Epoch 722/1000\n",
      "3/3 [==============================] - 0s 58ms/step - loss: 0.1563 - mae: 0.1563\n",
      "Epoch 723/1000\n",
      "3/3 [==============================] - 0s 60ms/step - loss: 0.1606 - mae: 0.1606\n",
      "Epoch 724/1000\n",
      "3/3 [==============================] - 0s 58ms/step - loss: 0.1596 - mae: 0.1596\n",
      "Epoch 725/1000\n",
      "3/3 [==============================] - 0s 55ms/step - loss: 0.1591 - mae: 0.1591\n",
      "Epoch 726/1000\n",
      "3/3 [==============================] - 0s 57ms/step - loss: 0.1566 - mae: 0.1566\n",
      "Epoch 727/1000\n",
      "3/3 [==============================] - 0s 57ms/step - loss: 0.1571 - mae: 0.1571\n",
      "Epoch 728/1000\n",
      "3/3 [==============================] - 0s 59ms/step - loss: 0.1561 - mae: 0.1561\n",
      "Epoch 729/1000\n",
      "3/3 [==============================] - 0s 56ms/step - loss: 0.1563 - mae: 0.1563\n",
      "Epoch 730/1000\n",
      "3/3 [==============================] - 0s 59ms/step - loss: 0.1554 - mae: 0.1554\n",
      "Epoch 731/1000\n",
      "3/3 [==============================] - 0s 60ms/step - loss: 0.1550 - mae: 0.1550\n",
      "Epoch 732/1000\n",
      "3/3 [==============================] - 0s 56ms/step - loss: 0.1552 - mae: 0.1552\n",
      "Epoch 733/1000\n",
      "3/3 [==============================] - 0s 65ms/step - loss: 0.1557 - mae: 0.1557\n",
      "Epoch 734/1000\n",
      "3/3 [==============================] - ETA: 0s - loss: 0.1546 - mae: 0.1546WARNING:tensorflow:Skipping full serialization of Keras layer <keras.layers.core.activation.Activation object at 0x000001F54945FE80>, because it is not built.\n"
     ]
    },
    {
     "name": "stderr",
     "output_type": "stream",
     "text": [
      "WARNING:tensorflow:Skipping full serialization of Keras layer <keras.layers.core.activation.Activation object at 0x000001F54945FE80>, because it is not built.\n",
      "WARNING:absl:Found untraced functions such as _jit_compiled_convolution_op, _jit_compiled_convolution_op, _jit_compiled_convolution_op, lstm_cell_18_layer_call_fn, lstm_cell_18_layer_call_and_return_conditional_losses while saving (showing 5 of 15). These functions will not be directly callable after loading.\n"
     ]
    },
    {
     "name": "stdout",
     "output_type": "stream",
     "text": [
      "INFO:tensorflow:Assets written to: 0920_seq2seq_tensorflow\\assets\n"
     ]
    },
    {
     "name": "stderr",
     "output_type": "stream",
     "text": [
      "INFO:tensorflow:Assets written to: 0920_seq2seq_tensorflow\\assets\n"
     ]
    },
    {
     "name": "stdout",
     "output_type": "stream",
     "text": [
      "3/3 [==============================] - 8s 4s/step - loss: 0.1546 - mae: 0.1546\n",
      "Epoch 735/1000\n",
      "3/3 [==============================] - 0s 61ms/step - loss: 0.1553 - mae: 0.1553\n",
      "Epoch 736/1000\n",
      "3/3 [==============================] - 0s 64ms/step - loss: 0.1547 - mae: 0.1547\n",
      "Epoch 737/1000\n",
      "3/3 [==============================] - ETA: 0s - loss: 0.1544 - mae: 0.1544WARNING:tensorflow:Skipping full serialization of Keras layer <keras.layers.core.activation.Activation object at 0x000001F54945FE80>, because it is not built.\n"
     ]
    },
    {
     "name": "stderr",
     "output_type": "stream",
     "text": [
      "WARNING:tensorflow:Skipping full serialization of Keras layer <keras.layers.core.activation.Activation object at 0x000001F54945FE80>, because it is not built.\n",
      "WARNING:absl:Found untraced functions such as _jit_compiled_convolution_op, _jit_compiled_convolution_op, _jit_compiled_convolution_op, lstm_cell_18_layer_call_fn, lstm_cell_18_layer_call_and_return_conditional_losses while saving (showing 5 of 15). These functions will not be directly callable after loading.\n"
     ]
    },
    {
     "name": "stdout",
     "output_type": "stream",
     "text": [
      "INFO:tensorflow:Assets written to: 0920_seq2seq_tensorflow\\assets\n"
     ]
    },
    {
     "name": "stderr",
     "output_type": "stream",
     "text": [
      "INFO:tensorflow:Assets written to: 0920_seq2seq_tensorflow\\assets\n"
     ]
    },
    {
     "name": "stdout",
     "output_type": "stream",
     "text": [
      "3/3 [==============================] - 8s 4s/step - loss: 0.1544 - mae: 0.1544\n",
      "Epoch 738/1000\n",
      "3/3 [==============================] - ETA: 0s - loss: 0.1544 - mae: 0.1544WARNING:tensorflow:Skipping full serialization of Keras layer <keras.layers.core.activation.Activation object at 0x000001F54945FE80>, because it is not built.\n"
     ]
    },
    {
     "name": "stderr",
     "output_type": "stream",
     "text": [
      "WARNING:tensorflow:Skipping full serialization of Keras layer <keras.layers.core.activation.Activation object at 0x000001F54945FE80>, because it is not built.\n",
      "WARNING:absl:Found untraced functions such as _jit_compiled_convolution_op, _jit_compiled_convolution_op, _jit_compiled_convolution_op, lstm_cell_18_layer_call_fn, lstm_cell_18_layer_call_and_return_conditional_losses while saving (showing 5 of 15). These functions will not be directly callable after loading.\n"
     ]
    },
    {
     "name": "stdout",
     "output_type": "stream",
     "text": [
      "INFO:tensorflow:Assets written to: 0920_seq2seq_tensorflow\\assets\n"
     ]
    },
    {
     "name": "stderr",
     "output_type": "stream",
     "text": [
      "INFO:tensorflow:Assets written to: 0920_seq2seq_tensorflow\\assets\n"
     ]
    },
    {
     "name": "stdout",
     "output_type": "stream",
     "text": [
      "3/3 [==============================] - 8s 4s/step - loss: 0.1544 - mae: 0.1544\n",
      "Epoch 739/1000\n",
      "3/3 [==============================] - ETA: 0s - loss: 0.1544 - mae: 0.1544WARNING:tensorflow:Skipping full serialization of Keras layer <keras.layers.core.activation.Activation object at 0x000001F54945FE80>, because it is not built.\n"
     ]
    },
    {
     "name": "stderr",
     "output_type": "stream",
     "text": [
      "WARNING:tensorflow:Skipping full serialization of Keras layer <keras.layers.core.activation.Activation object at 0x000001F54945FE80>, because it is not built.\n",
      "WARNING:absl:Found untraced functions such as _jit_compiled_convolution_op, _jit_compiled_convolution_op, _jit_compiled_convolution_op, lstm_cell_18_layer_call_fn, lstm_cell_18_layer_call_and_return_conditional_losses while saving (showing 5 of 15). These functions will not be directly callable after loading.\n"
     ]
    },
    {
     "name": "stdout",
     "output_type": "stream",
     "text": [
      "INFO:tensorflow:Assets written to: 0920_seq2seq_tensorflow\\assets\n"
     ]
    },
    {
     "name": "stderr",
     "output_type": "stream",
     "text": [
      "INFO:tensorflow:Assets written to: 0920_seq2seq_tensorflow\\assets\n"
     ]
    },
    {
     "name": "stdout",
     "output_type": "stream",
     "text": [
      "3/3 [==============================] - 8s 4s/step - loss: 0.1544 - mae: 0.1544\n",
      "Epoch 740/1000\n",
      "3/3 [==============================] - 0s 57ms/step - loss: 0.1546 - mae: 0.1546\n",
      "Epoch 741/1000\n",
      "3/3 [==============================] - 0s 61ms/step - loss: 0.1550 - mae: 0.1550\n",
      "Epoch 742/1000\n",
      "3/3 [==============================] - 0s 58ms/step - loss: 0.1558 - mae: 0.1558\n",
      "Epoch 743/1000\n",
      "3/3 [==============================] - 0s 57ms/step - loss: 0.1569 - mae: 0.1569\n",
      "Epoch 744/1000\n",
      "3/3 [==============================] - 0s 57ms/step - loss: 0.1582 - mae: 0.1582\n",
      "Epoch 745/1000\n",
      "3/3 [==============================] - 0s 57ms/step - loss: 0.1592 - mae: 0.1592\n",
      "Epoch 746/1000\n",
      "3/3 [==============================] - 0s 59ms/step - loss: 0.1572 - mae: 0.1572\n",
      "Epoch 747/1000\n",
      "3/3 [==============================] - 0s 58ms/step - loss: 0.1629 - mae: 0.1629\n",
      "Epoch 748/1000\n",
      "3/3 [==============================] - 0s 58ms/step - loss: 0.1575 - mae: 0.1575\n",
      "Epoch 749/1000\n",
      "3/3 [==============================] - 0s 59ms/step - loss: 0.1575 - mae: 0.1575\n",
      "Epoch 750/1000\n",
      "3/3 [==============================] - 0s 57ms/step - loss: 0.1567 - mae: 0.1567\n",
      "Epoch 751/1000\n",
      "3/3 [==============================] - 0s 65ms/step - loss: 0.1569 - mae: 0.1569\n",
      "Epoch 752/1000\n",
      "3/3 [==============================] - 0s 55ms/step - loss: 0.1564 - mae: 0.1564\n",
      "Epoch 753/1000\n",
      "3/3 [==============================] - 0s 56ms/step - loss: 0.1553 - mae: 0.1553\n",
      "Epoch 754/1000\n",
      "3/3 [==============================] - 0s 62ms/step - loss: 0.1552 - mae: 0.1552\n",
      "Epoch 755/1000\n",
      "3/3 [==============================] - 0s 64ms/step - loss: 0.1548 - mae: 0.1548\n",
      "Epoch 756/1000\n",
      "3/3 [==============================] - 0s 60ms/step - loss: 0.1547 - mae: 0.1547\n",
      "Epoch 757/1000\n",
      "3/3 [==============================] - ETA: 0s - loss: 0.1543 - mae: 0.1543WARNING:tensorflow:Skipping full serialization of Keras layer <keras.layers.core.activation.Activation object at 0x000001F54945FE80>, because it is not built.\n"
     ]
    },
    {
     "name": "stderr",
     "output_type": "stream",
     "text": [
      "WARNING:tensorflow:Skipping full serialization of Keras layer <keras.layers.core.activation.Activation object at 0x000001F54945FE80>, because it is not built.\n",
      "WARNING:absl:Found untraced functions such as _jit_compiled_convolution_op, _jit_compiled_convolution_op, _jit_compiled_convolution_op, lstm_cell_18_layer_call_fn, lstm_cell_18_layer_call_and_return_conditional_losses while saving (showing 5 of 15). These functions will not be directly callable after loading.\n"
     ]
    },
    {
     "name": "stdout",
     "output_type": "stream",
     "text": [
      "INFO:tensorflow:Assets written to: 0920_seq2seq_tensorflow\\assets\n"
     ]
    },
    {
     "name": "stderr",
     "output_type": "stream",
     "text": [
      "INFO:tensorflow:Assets written to: 0920_seq2seq_tensorflow\\assets\n"
     ]
    },
    {
     "name": "stdout",
     "output_type": "stream",
     "text": [
      "3/3 [==============================] - 9s 4s/step - loss: 0.1543 - mae: 0.1543\n",
      "Epoch 758/1000\n",
      "3/3 [==============================] - 0s 57ms/step - loss: 0.1548 - mae: 0.1548\n",
      "Epoch 759/1000\n",
      "3/3 [==============================] - 0s 60ms/step - loss: 0.1550 - mae: 0.1550\n",
      "Epoch 760/1000\n",
      "3/3 [==============================] - 0s 58ms/step - loss: 0.1550 - mae: 0.1550\n",
      "Epoch 761/1000\n",
      "3/3 [==============================] - 0s 57ms/step - loss: 0.1557 - mae: 0.1557\n",
      "Epoch 762/1000\n",
      "3/3 [==============================] - 0s 58ms/step - loss: 0.1554 - mae: 0.1554\n",
      "Epoch 763/1000\n",
      "3/3 [==============================] - 0s 57ms/step - loss: 0.1548 - mae: 0.1548\n",
      "Epoch 764/1000\n",
      "3/3 [==============================] - ETA: 0s - loss: 0.1542 - mae: 0.1542WARNING:tensorflow:Skipping full serialization of Keras layer <keras.layers.core.activation.Activation object at 0x000001F54945FE80>, because it is not built.\n"
     ]
    },
    {
     "name": "stderr",
     "output_type": "stream",
     "text": [
      "WARNING:tensorflow:Skipping full serialization of Keras layer <keras.layers.core.activation.Activation object at 0x000001F54945FE80>, because it is not built.\n",
      "WARNING:absl:Found untraced functions such as _jit_compiled_convolution_op, _jit_compiled_convolution_op, _jit_compiled_convolution_op, lstm_cell_18_layer_call_fn, lstm_cell_18_layer_call_and_return_conditional_losses while saving (showing 5 of 15). These functions will not be directly callable after loading.\n"
     ]
    },
    {
     "name": "stdout",
     "output_type": "stream",
     "text": [
      "INFO:tensorflow:Assets written to: 0920_seq2seq_tensorflow\\assets\n"
     ]
    },
    {
     "name": "stderr",
     "output_type": "stream",
     "text": [
      "INFO:tensorflow:Assets written to: 0920_seq2seq_tensorflow\\assets\n"
     ]
    },
    {
     "name": "stdout",
     "output_type": "stream",
     "text": [
      "3/3 [==============================] - 9s 4s/step - loss: 0.1542 - mae: 0.1542\n",
      "Epoch 765/1000\n",
      "3/3 [==============================] - ETA: 0s - loss: 0.1541 - mae: 0.1541WARNING:tensorflow:Skipping full serialization of Keras layer <keras.layers.core.activation.Activation object at 0x000001F54945FE80>, because it is not built.\n"
     ]
    },
    {
     "name": "stderr",
     "output_type": "stream",
     "text": [
      "WARNING:tensorflow:Skipping full serialization of Keras layer <keras.layers.core.activation.Activation object at 0x000001F54945FE80>, because it is not built.\n",
      "WARNING:absl:Found untraced functions such as _jit_compiled_convolution_op, _jit_compiled_convolution_op, _jit_compiled_convolution_op, lstm_cell_18_layer_call_fn, lstm_cell_18_layer_call_and_return_conditional_losses while saving (showing 5 of 15). These functions will not be directly callable after loading.\n"
     ]
    },
    {
     "name": "stdout",
     "output_type": "stream",
     "text": [
      "INFO:tensorflow:Assets written to: 0920_seq2seq_tensorflow\\assets\n"
     ]
    },
    {
     "name": "stderr",
     "output_type": "stream",
     "text": [
      "INFO:tensorflow:Assets written to: 0920_seq2seq_tensorflow\\assets\n"
     ]
    },
    {
     "name": "stdout",
     "output_type": "stream",
     "text": [
      "3/3 [==============================] - 9s 4s/step - loss: 0.1541 - mae: 0.1541\n",
      "Epoch 766/1000\n",
      "3/3 [==============================] - 0s 58ms/step - loss: 0.1542 - mae: 0.1542\n",
      "Epoch 767/1000\n",
      "3/3 [==============================] - 0s 61ms/step - loss: 0.1545 - mae: 0.1545\n",
      "Epoch 768/1000\n",
      "3/3 [==============================] - 0s 56ms/step - loss: 0.1548 - mae: 0.1548\n",
      "Epoch 769/1000\n",
      "3/3 [==============================] - 0s 58ms/step - loss: 0.1548 - mae: 0.1548\n",
      "Epoch 770/1000\n",
      "3/3 [==============================] - 0s 62ms/step - loss: 0.1565 - mae: 0.1565\n",
      "Epoch 771/1000\n",
      "3/3 [==============================] - 0s 55ms/step - loss: 0.1550 - mae: 0.1550\n",
      "Epoch 772/1000\n",
      "3/3 [==============================] - 0s 60ms/step - loss: 0.1543 - mae: 0.1543\n",
      "Epoch 773/1000\n",
      "3/3 [==============================] - 0s 58ms/step - loss: 0.1547 - mae: 0.1547\n",
      "Epoch 774/1000\n",
      "3/3 [==============================] - 0s 59ms/step - loss: 0.1547 - mae: 0.1547\n",
      "Epoch 775/1000\n",
      "3/3 [==============================] - 0s 56ms/step - loss: 0.1548 - mae: 0.1548\n",
      "Epoch 776/1000\n",
      "3/3 [==============================] - 0s 59ms/step - loss: 0.1604 - mae: 0.1604\n",
      "Epoch 777/1000\n",
      "3/3 [==============================] - 0s 59ms/step - loss: 0.1605 - mae: 0.1605\n",
      "Epoch 778/1000\n",
      "3/3 [==============================] - 0s 63ms/step - loss: 0.1588 - mae: 0.1588\n",
      "Epoch 779/1000\n",
      "3/3 [==============================] - 0s 57ms/step - loss: 0.1562 - mae: 0.1562\n",
      "Epoch 780/1000\n",
      "3/3 [==============================] - 0s 58ms/step - loss: 0.1573 - mae: 0.1573\n",
      "Epoch 781/1000\n",
      "3/3 [==============================] - 0s 59ms/step - loss: 0.1547 - mae: 0.1547\n",
      "Epoch 782/1000\n",
      "3/3 [==============================] - 0s 57ms/step - loss: 0.1548 - mae: 0.1548\n",
      "Epoch 783/1000\n",
      "3/3 [==============================] - 0s 56ms/step - loss: 0.1552 - mae: 0.1552\n",
      "Epoch 784/1000\n",
      "3/3 [==============================] - 0s 60ms/step - loss: 0.1549 - mae: 0.1549\n",
      "Epoch 785/1000\n",
      "3/3 [==============================] - 0s 59ms/step - loss: 0.1582 - mae: 0.1582\n",
      "Epoch 786/1000\n",
      "3/3 [==============================] - 0s 59ms/step - loss: 0.1597 - mae: 0.1597\n",
      "Epoch 787/1000\n",
      "3/3 [==============================] - 0s 64ms/step - loss: 0.1559 - mae: 0.1559\n",
      "Epoch 788/1000\n",
      "3/3 [==============================] - 0s 57ms/step - loss: 0.1577 - mae: 0.1577\n",
      "Epoch 789/1000\n",
      "3/3 [==============================] - 0s 58ms/step - loss: 0.1563 - mae: 0.1563\n",
      "Epoch 790/1000\n",
      "3/3 [==============================] - 0s 56ms/step - loss: 0.1554 - mae: 0.1554\n",
      "Epoch 791/1000\n",
      "3/3 [==============================] - 0s 57ms/step - loss: 0.1551 - mae: 0.1551\n",
      "Epoch 792/1000\n",
      "3/3 [==============================] - 0s 59ms/step - loss: 0.1548 - mae: 0.1548\n",
      "Epoch 793/1000\n",
      "3/3 [==============================] - 0s 56ms/step - loss: 0.1547 - mae: 0.1547\n",
      "Epoch 794/1000\n",
      "3/3 [==============================] - 0s 56ms/step - loss: 0.1558 - mae: 0.1558\n",
      "Epoch 795/1000\n",
      "3/3 [==============================] - 0s 59ms/step - loss: 0.1548 - mae: 0.1548\n",
      "Epoch 796/1000\n",
      "3/3 [==============================] - 0s 57ms/step - loss: 0.1543 - mae: 0.1543\n",
      "Epoch 797/1000\n",
      "3/3 [==============================] - ETA: 0s - loss: 0.1538 - mae: 0.1538WARNING:tensorflow:Skipping full serialization of Keras layer <keras.layers.core.activation.Activation object at 0x000001F54945FE80>, because it is not built.\n"
     ]
    },
    {
     "name": "stderr",
     "output_type": "stream",
     "text": [
      "WARNING:tensorflow:Skipping full serialization of Keras layer <keras.layers.core.activation.Activation object at 0x000001F54945FE80>, because it is not built.\n",
      "WARNING:absl:Found untraced functions such as _jit_compiled_convolution_op, _jit_compiled_convolution_op, _jit_compiled_convolution_op, lstm_cell_18_layer_call_fn, lstm_cell_18_layer_call_and_return_conditional_losses while saving (showing 5 of 15). These functions will not be directly callable after loading.\n"
     ]
    },
    {
     "name": "stdout",
     "output_type": "stream",
     "text": [
      "INFO:tensorflow:Assets written to: 0920_seq2seq_tensorflow\\assets\n"
     ]
    },
    {
     "name": "stderr",
     "output_type": "stream",
     "text": [
      "INFO:tensorflow:Assets written to: 0920_seq2seq_tensorflow\\assets\n"
     ]
    },
    {
     "name": "stdout",
     "output_type": "stream",
     "text": [
      "3/3 [==============================] - 20s 10s/step - loss: 0.1538 - mae: 0.1538\n",
      "Epoch 798/1000\n",
      "3/3 [==============================] - 0s 58ms/step - loss: 0.1538 - mae: 0.1538\n",
      "Epoch 799/1000\n",
      "3/3 [==============================] - ETA: 0s - loss: 0.1537 - mae: 0.1537WARNING:tensorflow:Skipping full serialization of Keras layer <keras.layers.core.activation.Activation object at 0x000001F54945FE80>, because it is not built.\n"
     ]
    },
    {
     "name": "stderr",
     "output_type": "stream",
     "text": [
      "WARNING:tensorflow:Skipping full serialization of Keras layer <keras.layers.core.activation.Activation object at 0x000001F54945FE80>, because it is not built.\n",
      "WARNING:absl:Found untraced functions such as _jit_compiled_convolution_op, _jit_compiled_convolution_op, _jit_compiled_convolution_op, lstm_cell_18_layer_call_fn, lstm_cell_18_layer_call_and_return_conditional_losses while saving (showing 5 of 15). These functions will not be directly callable after loading.\n"
     ]
    },
    {
     "name": "stdout",
     "output_type": "stream",
     "text": [
      "INFO:tensorflow:Assets written to: 0920_seq2seq_tensorflow\\assets\n"
     ]
    },
    {
     "name": "stderr",
     "output_type": "stream",
     "text": [
      "INFO:tensorflow:Assets written to: 0920_seq2seq_tensorflow\\assets\n"
     ]
    },
    {
     "name": "stdout",
     "output_type": "stream",
     "text": [
      "3/3 [==============================] - 8s 4s/step - loss: 0.1537 - mae: 0.1537\n",
      "Epoch 800/1000\n",
      "3/3 [==============================] - 0s 62ms/step - loss: 0.1538 - mae: 0.1538\n",
      "Epoch 801/1000\n",
      "3/3 [==============================] - 0s 61ms/step - loss: 0.1546 - mae: 0.1546\n",
      "Epoch 802/1000\n",
      "3/3 [==============================] - 0s 57ms/step - loss: 0.1550 - mae: 0.1550\n",
      "Epoch 803/1000\n",
      "3/3 [==============================] - 0s 58ms/step - loss: 0.1543 - mae: 0.1543\n",
      "Epoch 804/1000\n",
      "3/3 [==============================] - 0s 61ms/step - loss: 0.1544 - mae: 0.1544\n",
      "Epoch 805/1000\n",
      "3/3 [==============================] - 0s 60ms/step - loss: 0.1543 - mae: 0.1543\n",
      "Epoch 806/1000\n",
      "3/3 [==============================] - 0s 57ms/step - loss: 0.1540 - mae: 0.1540\n",
      "Epoch 807/1000\n",
      "3/3 [==============================] - ETA: 0s - loss: 0.1535 - mae: 0.1535WARNING:tensorflow:Skipping full serialization of Keras layer <keras.layers.core.activation.Activation object at 0x000001F54945FE80>, because it is not built.\n"
     ]
    },
    {
     "name": "stderr",
     "output_type": "stream",
     "text": [
      "WARNING:tensorflow:Skipping full serialization of Keras layer <keras.layers.core.activation.Activation object at 0x000001F54945FE80>, because it is not built.\n",
      "WARNING:absl:Found untraced functions such as _jit_compiled_convolution_op, _jit_compiled_convolution_op, _jit_compiled_convolution_op, lstm_cell_18_layer_call_fn, lstm_cell_18_layer_call_and_return_conditional_losses while saving (showing 5 of 15). These functions will not be directly callable after loading.\n"
     ]
    },
    {
     "name": "stdout",
     "output_type": "stream",
     "text": [
      "INFO:tensorflow:Assets written to: 0920_seq2seq_tensorflow\\assets\n"
     ]
    },
    {
     "name": "stderr",
     "output_type": "stream",
     "text": [
      "INFO:tensorflow:Assets written to: 0920_seq2seq_tensorflow\\assets\n"
     ]
    },
    {
     "name": "stdout",
     "output_type": "stream",
     "text": [
      "3/3 [==============================] - 8s 4s/step - loss: 0.1535 - mae: 0.1535\n",
      "Epoch 808/1000\n",
      "3/3 [==============================] - 0s 58ms/step - loss: 0.1542 - mae: 0.1542\n",
      "Epoch 809/1000\n",
      "3/3 [==============================] - 0s 60ms/step - loss: 0.1542 - mae: 0.1542\n",
      "Epoch 810/1000\n",
      "3/3 [==============================] - 0s 61ms/step - loss: 0.1553 - mae: 0.1553\n",
      "Epoch 811/1000\n",
      "3/3 [==============================] - 0s 56ms/step - loss: 0.1538 - mae: 0.1538\n",
      "Epoch 812/1000\n",
      "3/3 [==============================] - 0s 63ms/step - loss: 0.1536 - mae: 0.1536\n",
      "Epoch 813/1000\n",
      "3/3 [==============================] - ETA: 0s - loss: 0.1535 - mae: 0.1535WARNING:tensorflow:Skipping full serialization of Keras layer <keras.layers.core.activation.Activation object at 0x000001F54945FE80>, because it is not built.\n"
     ]
    },
    {
     "name": "stderr",
     "output_type": "stream",
     "text": [
      "WARNING:tensorflow:Skipping full serialization of Keras layer <keras.layers.core.activation.Activation object at 0x000001F54945FE80>, because it is not built.\n",
      "WARNING:absl:Found untraced functions such as _jit_compiled_convolution_op, _jit_compiled_convolution_op, _jit_compiled_convolution_op, lstm_cell_18_layer_call_fn, lstm_cell_18_layer_call_and_return_conditional_losses while saving (showing 5 of 15). These functions will not be directly callable after loading.\n"
     ]
    },
    {
     "name": "stdout",
     "output_type": "stream",
     "text": [
      "INFO:tensorflow:Assets written to: 0920_seq2seq_tensorflow\\assets\n"
     ]
    },
    {
     "name": "stderr",
     "output_type": "stream",
     "text": [
      "INFO:tensorflow:Assets written to: 0920_seq2seq_tensorflow\\assets\n"
     ]
    },
    {
     "name": "stdout",
     "output_type": "stream",
     "text": [
      "3/3 [==============================] - 8s 4s/step - loss: 0.1535 - mae: 0.1535\n",
      "Epoch 814/1000\n",
      "3/3 [==============================] - 0s 57ms/step - loss: 0.1536 - mae: 0.1536\n",
      "Epoch 815/1000\n",
      "3/3 [==============================] - 0s 58ms/step - loss: 0.1540 - mae: 0.1540\n",
      "Epoch 816/1000\n",
      "3/3 [==============================] - 0s 63ms/step - loss: 0.1542 - mae: 0.1542\n",
      "Epoch 817/1000\n",
      "3/3 [==============================] - 0s 57ms/step - loss: 0.1557 - mae: 0.1557\n",
      "Epoch 818/1000\n",
      "3/3 [==============================] - 0s 58ms/step - loss: 0.1545 - mae: 0.1545\n",
      "Epoch 819/1000\n",
      "3/3 [==============================] - 0s 60ms/step - loss: 0.1546 - mae: 0.1546\n",
      "Epoch 820/1000\n",
      "3/3 [==============================] - ETA: 0s - loss: 0.1534 - mae: 0.1534WARNING:tensorflow:Skipping full serialization of Keras layer <keras.layers.core.activation.Activation object at 0x000001F54945FE80>, because it is not built.\n"
     ]
    },
    {
     "name": "stderr",
     "output_type": "stream",
     "text": [
      "WARNING:tensorflow:Skipping full serialization of Keras layer <keras.layers.core.activation.Activation object at 0x000001F54945FE80>, because it is not built.\n",
      "WARNING:absl:Found untraced functions such as _jit_compiled_convolution_op, _jit_compiled_convolution_op, _jit_compiled_convolution_op, lstm_cell_18_layer_call_fn, lstm_cell_18_layer_call_and_return_conditional_losses while saving (showing 5 of 15). These functions will not be directly callable after loading.\n"
     ]
    },
    {
     "name": "stdout",
     "output_type": "stream",
     "text": [
      "INFO:tensorflow:Assets written to: 0920_seq2seq_tensorflow\\assets\n"
     ]
    },
    {
     "name": "stderr",
     "output_type": "stream",
     "text": [
      "INFO:tensorflow:Assets written to: 0920_seq2seq_tensorflow\\assets\n"
     ]
    },
    {
     "name": "stdout",
     "output_type": "stream",
     "text": [
      "3/3 [==============================] - 8s 4s/step - loss: 0.1534 - mae: 0.1534\n",
      "Epoch 821/1000\n",
      "3/3 [==============================] - ETA: 0s - loss: 0.1533 - mae: 0.1533WARNING:tensorflow:Skipping full serialization of Keras layer <keras.layers.core.activation.Activation object at 0x000001F54945FE80>, because it is not built.\n"
     ]
    },
    {
     "name": "stderr",
     "output_type": "stream",
     "text": [
      "WARNING:tensorflow:Skipping full serialization of Keras layer <keras.layers.core.activation.Activation object at 0x000001F54945FE80>, because it is not built.\n",
      "WARNING:absl:Found untraced functions such as _jit_compiled_convolution_op, _jit_compiled_convolution_op, _jit_compiled_convolution_op, lstm_cell_18_layer_call_fn, lstm_cell_18_layer_call_and_return_conditional_losses while saving (showing 5 of 15). These functions will not be directly callable after loading.\n"
     ]
    },
    {
     "name": "stdout",
     "output_type": "stream",
     "text": [
      "INFO:tensorflow:Assets written to: 0920_seq2seq_tensorflow\\assets\n"
     ]
    },
    {
     "name": "stderr",
     "output_type": "stream",
     "text": [
      "INFO:tensorflow:Assets written to: 0920_seq2seq_tensorflow\\assets\n"
     ]
    },
    {
     "name": "stdout",
     "output_type": "stream",
     "text": [
      "3/3 [==============================] - 8s 4s/step - loss: 0.1533 - mae: 0.1533\n",
      "Epoch 822/1000\n",
      "3/3 [==============================] - ETA: 0s - loss: 0.1533 - mae: 0.1533WARNING:tensorflow:Skipping full serialization of Keras layer <keras.layers.core.activation.Activation object at 0x000001F54945FE80>, because it is not built.\n"
     ]
    },
    {
     "name": "stderr",
     "output_type": "stream",
     "text": [
      "WARNING:tensorflow:Skipping full serialization of Keras layer <keras.layers.core.activation.Activation object at 0x000001F54945FE80>, because it is not built.\n",
      "WARNING:absl:Found untraced functions such as _jit_compiled_convolution_op, _jit_compiled_convolution_op, _jit_compiled_convolution_op, lstm_cell_18_layer_call_fn, lstm_cell_18_layer_call_and_return_conditional_losses while saving (showing 5 of 15). These functions will not be directly callable after loading.\n"
     ]
    },
    {
     "name": "stdout",
     "output_type": "stream",
     "text": [
      "INFO:tensorflow:Assets written to: 0920_seq2seq_tensorflow\\assets\n"
     ]
    },
    {
     "name": "stderr",
     "output_type": "stream",
     "text": [
      "INFO:tensorflow:Assets written to: 0920_seq2seq_tensorflow\\assets\n"
     ]
    },
    {
     "name": "stdout",
     "output_type": "stream",
     "text": [
      "3/3 [==============================] - 8s 4s/step - loss: 0.1533 - mae: 0.1533\n",
      "Epoch 823/1000\n",
      "3/3 [==============================] - 0s 58ms/step - loss: 0.1535 - mae: 0.1535\n",
      "Epoch 824/1000\n",
      "3/3 [==============================] - ETA: 0s - loss: 0.1532 - mae: 0.1532WARNING:tensorflow:Skipping full serialization of Keras layer <keras.layers.core.activation.Activation object at 0x000001F54945FE80>, because it is not built.\n"
     ]
    },
    {
     "name": "stderr",
     "output_type": "stream",
     "text": [
      "WARNING:tensorflow:Skipping full serialization of Keras layer <keras.layers.core.activation.Activation object at 0x000001F54945FE80>, because it is not built.\n",
      "WARNING:absl:Found untraced functions such as _jit_compiled_convolution_op, _jit_compiled_convolution_op, _jit_compiled_convolution_op, lstm_cell_18_layer_call_fn, lstm_cell_18_layer_call_and_return_conditional_losses while saving (showing 5 of 15). These functions will not be directly callable after loading.\n"
     ]
    },
    {
     "name": "stdout",
     "output_type": "stream",
     "text": [
      "INFO:tensorflow:Assets written to: 0920_seq2seq_tensorflow\\assets\n"
     ]
    },
    {
     "name": "stderr",
     "output_type": "stream",
     "text": [
      "INFO:tensorflow:Assets written to: 0920_seq2seq_tensorflow\\assets\n"
     ]
    },
    {
     "name": "stdout",
     "output_type": "stream",
     "text": [
      "3/3 [==============================] - 8s 4s/step - loss: 0.1532 - mae: 0.1532\n",
      "Epoch 825/1000\n",
      "3/3 [==============================] - 0s 58ms/step - loss: 0.1535 - mae: 0.1535\n",
      "Epoch 826/1000\n",
      "3/3 [==============================] - 0s 58ms/step - loss: 0.1533 - mae: 0.1533\n",
      "Epoch 827/1000\n",
      "3/3 [==============================] - 0s 59ms/step - loss: 0.1540 - mae: 0.1540\n",
      "Epoch 828/1000\n",
      "3/3 [==============================] - 0s 59ms/step - loss: 0.1536 - mae: 0.1536\n",
      "Epoch 829/1000\n",
      "3/3 [==============================] - 0s 57ms/step - loss: 0.1537 - mae: 0.1537\n",
      "Epoch 830/1000\n",
      "3/3 [==============================] - 0s 60ms/step - loss: 0.1534 - mae: 0.1534\n",
      "Epoch 831/1000\n",
      "3/3 [==============================] - 0s 60ms/step - loss: 0.1535 - mae: 0.1535\n",
      "Epoch 832/1000\n",
      "3/3 [==============================] - 0s 59ms/step - loss: 0.1539 - mae: 0.1539\n",
      "Epoch 833/1000\n",
      "3/3 [==============================] - 0s 60ms/step - loss: 0.1541 - mae: 0.1541\n",
      "Epoch 834/1000\n",
      "3/3 [==============================] - 0s 58ms/step - loss: 0.1539 - mae: 0.1539\n",
      "Epoch 835/1000\n",
      "3/3 [==============================] - ETA: 0s - loss: 0.1531 - mae: 0.1531WARNING:tensorflow:Skipping full serialization of Keras layer <keras.layers.core.activation.Activation object at 0x000001F54945FE80>, because it is not built.\n"
     ]
    },
    {
     "name": "stderr",
     "output_type": "stream",
     "text": [
      "WARNING:tensorflow:Skipping full serialization of Keras layer <keras.layers.core.activation.Activation object at 0x000001F54945FE80>, because it is not built.\n",
      "WARNING:absl:Found untraced functions such as _jit_compiled_convolution_op, _jit_compiled_convolution_op, _jit_compiled_convolution_op, lstm_cell_18_layer_call_fn, lstm_cell_18_layer_call_and_return_conditional_losses while saving (showing 5 of 15). These functions will not be directly callable after loading.\n"
     ]
    },
    {
     "name": "stdout",
     "output_type": "stream",
     "text": [
      "INFO:tensorflow:Assets written to: 0920_seq2seq_tensorflow\\assets\n"
     ]
    },
    {
     "name": "stderr",
     "output_type": "stream",
     "text": [
      "INFO:tensorflow:Assets written to: 0920_seq2seq_tensorflow\\assets\n"
     ]
    },
    {
     "name": "stdout",
     "output_type": "stream",
     "text": [
      "3/3 [==============================] - 8s 4s/step - loss: 0.1531 - mae: 0.1531\n",
      "Epoch 836/1000\n",
      "3/3 [==============================] - 0s 59ms/step - loss: 0.1534 - mae: 0.1534\n",
      "Epoch 837/1000\n",
      "3/3 [==============================] - 0s 57ms/step - loss: 0.1534 - mae: 0.1534\n",
      "Epoch 838/1000\n",
      "3/3 [==============================] - 0s 60ms/step - loss: 0.1543 - mae: 0.1543\n",
      "Epoch 839/1000\n",
      "3/3 [==============================] - 0s 60ms/step - loss: 0.1537 - mae: 0.1537\n",
      "Epoch 840/1000\n",
      "3/3 [==============================] - 0s 59ms/step - loss: 0.1533 - mae: 0.1533\n",
      "Epoch 841/1000\n",
      "3/3 [==============================] - 0s 56ms/step - loss: 0.1534 - mae: 0.1534\n",
      "Epoch 842/1000\n",
      "3/3 [==============================] - 0s 57ms/step - loss: 0.1541 - mae: 0.1541\n",
      "Epoch 843/1000\n",
      "3/3 [==============================] - 0s 61ms/step - loss: 0.1559 - mae: 0.1559\n",
      "Epoch 844/1000\n",
      "3/3 [==============================] - 0s 61ms/step - loss: 0.1535 - mae: 0.1535\n",
      "Epoch 845/1000\n",
      "3/3 [==============================] - 0s 62ms/step - loss: 0.1546 - mae: 0.1546\n",
      "Epoch 846/1000\n",
      "3/3 [==============================] - 0s 59ms/step - loss: 0.1542 - mae: 0.1542\n",
      "Epoch 847/1000\n",
      "3/3 [==============================] - 0s 57ms/step - loss: 0.1535 - mae: 0.1535\n",
      "Epoch 848/1000\n",
      "3/3 [==============================] - 0s 57ms/step - loss: 0.1537 - mae: 0.1537\n",
      "Epoch 849/1000\n",
      "3/3 [==============================] - 0s 60ms/step - loss: 0.1533 - mae: 0.1533\n",
      "Epoch 850/1000\n",
      "3/3 [==============================] - 0s 56ms/step - loss: 0.1535 - mae: 0.1535\n",
      "Epoch 851/1000\n",
      "3/3 [==============================] - 0s 58ms/step - loss: 0.1533 - mae: 0.1533\n",
      "Epoch 852/1000\n",
      "3/3 [==============================] - ETA: 0s - loss: 0.1530 - mae: 0.1530WARNING:tensorflow:Skipping full serialization of Keras layer <keras.layers.core.activation.Activation object at 0x000001F54945FE80>, because it is not built.\n"
     ]
    },
    {
     "name": "stderr",
     "output_type": "stream",
     "text": [
      "WARNING:tensorflow:Skipping full serialization of Keras layer <keras.layers.core.activation.Activation object at 0x000001F54945FE80>, because it is not built.\n",
      "WARNING:absl:Found untraced functions such as _jit_compiled_convolution_op, _jit_compiled_convolution_op, _jit_compiled_convolution_op, lstm_cell_18_layer_call_fn, lstm_cell_18_layer_call_and_return_conditional_losses while saving (showing 5 of 15). These functions will not be directly callable after loading.\n"
     ]
    },
    {
     "name": "stdout",
     "output_type": "stream",
     "text": [
      "INFO:tensorflow:Assets written to: 0920_seq2seq_tensorflow\\assets\n"
     ]
    },
    {
     "name": "stderr",
     "output_type": "stream",
     "text": [
      "INFO:tensorflow:Assets written to: 0920_seq2seq_tensorflow\\assets\n"
     ]
    },
    {
     "name": "stdout",
     "output_type": "stream",
     "text": [
      "3/3 [==============================] - 8s 4s/step - loss: 0.1530 - mae: 0.1530\n",
      "Epoch 853/1000\n",
      "3/3 [==============================] - 0s 57ms/step - loss: 0.1530 - mae: 0.1530\n",
      "Epoch 854/1000\n",
      "3/3 [==============================] - 0s 59ms/step - loss: 0.1539 - mae: 0.1539\n",
      "Epoch 855/1000\n",
      "3/3 [==============================] - 0s 57ms/step - loss: 0.1557 - mae: 0.1557\n",
      "Epoch 856/1000\n",
      "3/3 [==============================] - 0s 57ms/step - loss: 0.1592 - mae: 0.1592\n",
      "Epoch 857/1000\n",
      "3/3 [==============================] - 0s 56ms/step - loss: 0.1557 - mae: 0.1557\n",
      "Epoch 858/1000\n",
      "3/3 [==============================] - 0s 58ms/step - loss: 0.1534 - mae: 0.1534\n",
      "Epoch 859/1000\n",
      "3/3 [==============================] - 0s 60ms/step - loss: 0.1535 - mae: 0.1535\n",
      "Epoch 860/1000\n",
      "3/3 [==============================] - 0s 58ms/step - loss: 0.1534 - mae: 0.1534\n",
      "Epoch 861/1000\n",
      "3/3 [==============================] - 0s 61ms/step - loss: 0.1539 - mae: 0.1539\n",
      "Epoch 862/1000\n",
      "3/3 [==============================] - 0s 62ms/step - loss: 0.1550 - mae: 0.1550\n",
      "Epoch 863/1000\n",
      "3/3 [==============================] - 0s 57ms/step - loss: 0.1540 - mae: 0.1540\n",
      "Epoch 864/1000\n",
      "3/3 [==============================] - 0s 55ms/step - loss: 0.1542 - mae: 0.1542\n",
      "Epoch 865/1000\n",
      "3/3 [==============================] - 0s 58ms/step - loss: 0.1533 - mae: 0.1533\n",
      "Epoch 866/1000\n",
      "3/3 [==============================] - 0s 56ms/step - loss: 0.1539 - mae: 0.1539\n",
      "Epoch 867/1000\n",
      "3/3 [==============================] - 0s 62ms/step - loss: 0.1532 - mae: 0.1532\n",
      "Epoch 868/1000\n",
      "3/3 [==============================] - ETA: 0s - loss: 0.1527 - mae: 0.1527WARNING:tensorflow:Skipping full serialization of Keras layer <keras.layers.core.activation.Activation object at 0x000001F54945FE80>, because it is not built.\n"
     ]
    },
    {
     "name": "stderr",
     "output_type": "stream",
     "text": [
      "WARNING:tensorflow:Skipping full serialization of Keras layer <keras.layers.core.activation.Activation object at 0x000001F54945FE80>, because it is not built.\n",
      "WARNING:absl:Found untraced functions such as _jit_compiled_convolution_op, _jit_compiled_convolution_op, _jit_compiled_convolution_op, lstm_cell_18_layer_call_fn, lstm_cell_18_layer_call_and_return_conditional_losses while saving (showing 5 of 15). These functions will not be directly callable after loading.\n"
     ]
    },
    {
     "name": "stdout",
     "output_type": "stream",
     "text": [
      "INFO:tensorflow:Assets written to: 0920_seq2seq_tensorflow\\assets\n"
     ]
    },
    {
     "name": "stderr",
     "output_type": "stream",
     "text": [
      "INFO:tensorflow:Assets written to: 0920_seq2seq_tensorflow\\assets\n"
     ]
    },
    {
     "name": "stdout",
     "output_type": "stream",
     "text": [
      "3/3 [==============================] - 8s 4s/step - loss: 0.1527 - mae: 0.1527\n",
      "Epoch 869/1000\n",
      "3/3 [==============================] - 0s 62ms/step - loss: 0.1531 - mae: 0.1531\n",
      "Epoch 870/1000\n",
      "3/3 [==============================] - 0s 58ms/step - loss: 0.1528 - mae: 0.1528\n",
      "Epoch 871/1000\n",
      "3/3 [==============================] - 0s 57ms/step - loss: 0.1528 - mae: 0.1528\n",
      "Epoch 872/1000\n",
      "3/3 [==============================] - 0s 62ms/step - loss: 0.1537 - mae: 0.1537\n",
      "Epoch 873/1000\n",
      "3/3 [==============================] - 0s 59ms/step - loss: 0.1531 - mae: 0.1531\n",
      "Epoch 874/1000\n",
      "3/3 [==============================] - 0s 59ms/step - loss: 0.1542 - mae: 0.1542\n",
      "Epoch 875/1000\n",
      "3/3 [==============================] - 0s 55ms/step - loss: 0.1576 - mae: 0.1576\n",
      "Epoch 876/1000\n",
      "3/3 [==============================] - 0s 59ms/step - loss: 0.1592 - mae: 0.1592\n",
      "Epoch 877/1000\n",
      "3/3 [==============================] - 0s 57ms/step - loss: 0.1557 - mae: 0.1557\n",
      "Epoch 878/1000\n",
      "3/3 [==============================] - 0s 58ms/step - loss: 0.1546 - mae: 0.1546\n",
      "Epoch 879/1000\n",
      "3/3 [==============================] - ETA: 0s - loss: 0.1526 - mae: 0.1526WARNING:tensorflow:Skipping full serialization of Keras layer <keras.layers.core.activation.Activation object at 0x000001F54945FE80>, because it is not built.\n"
     ]
    },
    {
     "name": "stderr",
     "output_type": "stream",
     "text": [
      "WARNING:tensorflow:Skipping full serialization of Keras layer <keras.layers.core.activation.Activation object at 0x000001F54945FE80>, because it is not built.\n",
      "WARNING:absl:Found untraced functions such as _jit_compiled_convolution_op, _jit_compiled_convolution_op, _jit_compiled_convolution_op, lstm_cell_18_layer_call_fn, lstm_cell_18_layer_call_and_return_conditional_losses while saving (showing 5 of 15). These functions will not be directly callable after loading.\n"
     ]
    },
    {
     "name": "stdout",
     "output_type": "stream",
     "text": [
      "INFO:tensorflow:Assets written to: 0920_seq2seq_tensorflow\\assets\n"
     ]
    },
    {
     "name": "stderr",
     "output_type": "stream",
     "text": [
      "INFO:tensorflow:Assets written to: 0920_seq2seq_tensorflow\\assets\n"
     ]
    },
    {
     "name": "stdout",
     "output_type": "stream",
     "text": [
      "3/3 [==============================] - 8s 4s/step - loss: 0.1526 - mae: 0.1526\n",
      "Epoch 880/1000\n",
      "3/3 [==============================] - 0s 61ms/step - loss: 0.1538 - mae: 0.1538\n",
      "Epoch 881/1000\n",
      "3/3 [==============================] - 0s 57ms/step - loss: 0.1536 - mae: 0.1536\n",
      "Epoch 882/1000\n",
      "3/3 [==============================] - 0s 58ms/step - loss: 0.1533 - mae: 0.1533\n",
      "Epoch 883/1000\n",
      "3/3 [==============================] - 0s 56ms/step - loss: 0.1531 - mae: 0.1531\n",
      "Epoch 884/1000\n",
      "3/3 [==============================] - 0s 57ms/step - loss: 0.1527 - mae: 0.1527\n",
      "Epoch 885/1000\n",
      "3/3 [==============================] - 0s 65ms/step - loss: 0.1527 - mae: 0.1527\n",
      "Epoch 886/1000\n",
      "3/3 [==============================] - 0s 58ms/step - loss: 0.1533 - mae: 0.1533\n",
      "Epoch 887/1000\n",
      "3/3 [==============================] - 0s 58ms/step - loss: 0.1531 - mae: 0.1531\n",
      "Epoch 888/1000\n",
      "3/3 [==============================] - 0s 57ms/step - loss: 0.1533 - mae: 0.1533\n",
      "Epoch 889/1000\n",
      "3/3 [==============================] - 0s 57ms/step - loss: 0.1528 - mae: 0.1528\n",
      "Epoch 890/1000\n",
      "3/3 [==============================] - 0s 58ms/step - loss: 0.1540 - mae: 0.1540\n",
      "Epoch 891/1000\n",
      "3/3 [==============================] - 0s 57ms/step - loss: 0.1538 - mae: 0.1538\n",
      "Epoch 892/1000\n",
      "3/3 [==============================] - 0s 58ms/step - loss: 0.1538 - mae: 0.1538\n",
      "Epoch 893/1000\n",
      "3/3 [==============================] - 0s 61ms/step - loss: 0.1530 - mae: 0.1530\n",
      "Epoch 894/1000\n",
      "3/3 [==============================] - ETA: 0s - loss: 0.1526 - mae: 0.1526WARNING:tensorflow:Skipping full serialization of Keras layer <keras.layers.core.activation.Activation object at 0x000001F54945FE80>, because it is not built.\n"
     ]
    },
    {
     "name": "stderr",
     "output_type": "stream",
     "text": [
      "WARNING:tensorflow:Skipping full serialization of Keras layer <keras.layers.core.activation.Activation object at 0x000001F54945FE80>, because it is not built.\n",
      "WARNING:absl:Found untraced functions such as _jit_compiled_convolution_op, _jit_compiled_convolution_op, _jit_compiled_convolution_op, lstm_cell_18_layer_call_fn, lstm_cell_18_layer_call_and_return_conditional_losses while saving (showing 5 of 15). These functions will not be directly callable after loading.\n"
     ]
    },
    {
     "name": "stdout",
     "output_type": "stream",
     "text": [
      "INFO:tensorflow:Assets written to: 0920_seq2seq_tensorflow\\assets\n"
     ]
    },
    {
     "name": "stderr",
     "output_type": "stream",
     "text": [
      "INFO:tensorflow:Assets written to: 0920_seq2seq_tensorflow\\assets\n"
     ]
    },
    {
     "name": "stdout",
     "output_type": "stream",
     "text": [
      "3/3 [==============================] - 9s 4s/step - loss: 0.1526 - mae: 0.1526\n",
      "Epoch 895/1000\n",
      "3/3 [==============================] - 0s 58ms/step - loss: 0.1529 - mae: 0.1529\n",
      "Epoch 896/1000\n",
      "3/3 [==============================] - 0s 59ms/step - loss: 0.1542 - mae: 0.1542\n",
      "Epoch 897/1000\n",
      "3/3 [==============================] - 0s 60ms/step - loss: 0.1533 - mae: 0.1533\n",
      "Epoch 898/1000\n",
      "3/3 [==============================] - 0s 57ms/step - loss: 0.1540 - mae: 0.1540\n",
      "Epoch 899/1000\n",
      "3/3 [==============================] - 0s 59ms/step - loss: 0.1530 - mae: 0.1530\n",
      "Epoch 900/1000\n",
      "3/3 [==============================] - 0s 59ms/step - loss: 0.1538 - mae: 0.1538\n",
      "Epoch 901/1000\n",
      "3/3 [==============================] - 0s 56ms/step - loss: 0.1529 - mae: 0.1529\n",
      "Epoch 902/1000\n",
      "3/3 [==============================] - ETA: 0s - loss: 0.1524 - mae: 0.1524WARNING:tensorflow:Skipping full serialization of Keras layer <keras.layers.core.activation.Activation object at 0x000001F54945FE80>, because it is not built.\n"
     ]
    },
    {
     "name": "stderr",
     "output_type": "stream",
     "text": [
      "WARNING:tensorflow:Skipping full serialization of Keras layer <keras.layers.core.activation.Activation object at 0x000001F54945FE80>, because it is not built.\n",
      "WARNING:absl:Found untraced functions such as _jit_compiled_convolution_op, _jit_compiled_convolution_op, _jit_compiled_convolution_op, lstm_cell_18_layer_call_fn, lstm_cell_18_layer_call_and_return_conditional_losses while saving (showing 5 of 15). These functions will not be directly callable after loading.\n"
     ]
    },
    {
     "name": "stdout",
     "output_type": "stream",
     "text": [
      "INFO:tensorflow:Assets written to: 0920_seq2seq_tensorflow\\assets\n"
     ]
    },
    {
     "name": "stderr",
     "output_type": "stream",
     "text": [
      "INFO:tensorflow:Assets written to: 0920_seq2seq_tensorflow\\assets\n"
     ]
    },
    {
     "name": "stdout",
     "output_type": "stream",
     "text": [
      "3/3 [==============================] - 8s 4s/step - loss: 0.1524 - mae: 0.1524\n",
      "Epoch 903/1000\n",
      "3/3 [==============================] - 0s 58ms/step - loss: 0.1536 - mae: 0.1536\n",
      "Epoch 904/1000\n",
      "3/3 [==============================] - 0s 62ms/step - loss: 0.1529 - mae: 0.1529\n",
      "Epoch 905/1000\n",
      "3/3 [==============================] - 0s 64ms/step - loss: 0.1532 - mae: 0.1532\n",
      "Epoch 906/1000\n",
      "3/3 [==============================] - 0s 61ms/step - loss: 0.1529 - mae: 0.1529\n",
      "Epoch 907/1000\n",
      "3/3 [==============================] - 0s 59ms/step - loss: 0.1543 - mae: 0.1543\n",
      "Epoch 908/1000\n",
      "3/3 [==============================] - 0s 61ms/step - loss: 0.1538 - mae: 0.1538\n",
      "Epoch 909/1000\n",
      "3/3 [==============================] - 0s 58ms/step - loss: 0.1537 - mae: 0.1537\n",
      "Epoch 910/1000\n",
      "3/3 [==============================] - 0s 62ms/step - loss: 0.1550 - mae: 0.1550\n",
      "Epoch 911/1000\n",
      "3/3 [==============================] - 0s 58ms/step - loss: 0.1541 - mae: 0.1541\n",
      "Epoch 912/1000\n",
      "3/3 [==============================] - 0s 59ms/step - loss: 0.1543 - mae: 0.1543\n",
      "Epoch 913/1000\n",
      "3/3 [==============================] - 0s 58ms/step - loss: 0.1542 - mae: 0.1542\n",
      "Epoch 914/1000\n",
      "3/3 [==============================] - 0s 57ms/step - loss: 0.1534 - mae: 0.1534\n",
      "Epoch 915/1000\n",
      "3/3 [==============================] - 0s 65ms/step - loss: 0.1530 - mae: 0.1530\n",
      "Epoch 916/1000\n",
      "3/3 [==============================] - 0s 58ms/step - loss: 0.1526 - mae: 0.1526\n",
      "Epoch 917/1000\n",
      "3/3 [==============================] - 0s 60ms/step - loss: 0.1525 - mae: 0.1525\n",
      "Epoch 918/1000\n",
      "3/3 [==============================] - 0s 61ms/step - loss: 0.1531 - mae: 0.1531\n",
      "Epoch 919/1000\n",
      "3/3 [==============================] - 0s 65ms/step - loss: 0.1526 - mae: 0.1526\n",
      "Epoch 920/1000\n",
      "3/3 [==============================] - ETA: 0s - loss: 0.1522 - mae: 0.1522WARNING:tensorflow:Skipping full serialization of Keras layer <keras.layers.core.activation.Activation object at 0x000001F54945FE80>, because it is not built.\n"
     ]
    },
    {
     "name": "stderr",
     "output_type": "stream",
     "text": [
      "WARNING:tensorflow:Skipping full serialization of Keras layer <keras.layers.core.activation.Activation object at 0x000001F54945FE80>, because it is not built.\n",
      "WARNING:absl:Found untraced functions such as _jit_compiled_convolution_op, _jit_compiled_convolution_op, _jit_compiled_convolution_op, lstm_cell_18_layer_call_fn, lstm_cell_18_layer_call_and_return_conditional_losses while saving (showing 5 of 15). These functions will not be directly callable after loading.\n"
     ]
    },
    {
     "name": "stdout",
     "output_type": "stream",
     "text": [
      "INFO:tensorflow:Assets written to: 0920_seq2seq_tensorflow\\assets\n"
     ]
    },
    {
     "name": "stderr",
     "output_type": "stream",
     "text": [
      "INFO:tensorflow:Assets written to: 0920_seq2seq_tensorflow\\assets\n"
     ]
    },
    {
     "name": "stdout",
     "output_type": "stream",
     "text": [
      "3/3 [==============================] - 8s 4s/step - loss: 0.1522 - mae: 0.1522\n",
      "Epoch 921/1000\n",
      "3/3 [==============================] - 0s 58ms/step - loss: 0.1523 - mae: 0.1523\n",
      "Epoch 922/1000\n",
      "3/3 [==============================] - 0s 62ms/step - loss: 0.1531 - mae: 0.1531\n",
      "Epoch 923/1000\n",
      "3/3 [==============================] - 0s 58ms/step - loss: 0.1534 - mae: 0.1534\n",
      "Epoch 924/1000\n",
      "3/3 [==============================] - 0s 58ms/step - loss: 0.1529 - mae: 0.1529\n",
      "Epoch 925/1000\n",
      "3/3 [==============================] - 0s 61ms/step - loss: 0.1529 - mae: 0.1529\n",
      "Epoch 926/1000\n",
      "3/3 [==============================] - 0s 58ms/step - loss: 0.1525 - mae: 0.1525\n",
      "Epoch 927/1000\n",
      "3/3 [==============================] - 0s 61ms/step - loss: 0.1525 - mae: 0.1525\n",
      "Epoch 928/1000\n",
      "3/3 [==============================] - 0s 61ms/step - loss: 0.1531 - mae: 0.1531\n",
      "Epoch 929/1000\n",
      "3/3 [==============================] - 0s 57ms/step - loss: 0.1525 - mae: 0.1525\n",
      "Epoch 930/1000\n",
      "3/3 [==============================] - 0s 62ms/step - loss: 0.1545 - mae: 0.1545\n",
      "Epoch 931/1000\n",
      "3/3 [==============================] - 0s 61ms/step - loss: 0.1531 - mae: 0.1531\n",
      "Epoch 932/1000\n",
      "3/3 [==============================] - 0s 59ms/step - loss: 0.1530 - mae: 0.1530\n",
      "Epoch 933/1000\n",
      "3/3 [==============================] - 0s 56ms/step - loss: 0.1527 - mae: 0.1527\n",
      "Epoch 934/1000\n",
      "3/3 [==============================] - 0s 63ms/step - loss: 0.1537 - mae: 0.1537\n",
      "Epoch 935/1000\n",
      "3/3 [==============================] - 0s 56ms/step - loss: 0.1527 - mae: 0.1527\n",
      "Epoch 936/1000\n",
      "3/3 [==============================] - 0s 58ms/step - loss: 0.1533 - mae: 0.1533\n",
      "Epoch 937/1000\n",
      "3/3 [==============================] - ETA: 0s - loss: 0.1521 - mae: 0.1521WARNING:tensorflow:Skipping full serialization of Keras layer <keras.layers.core.activation.Activation object at 0x000001F54945FE80>, because it is not built.\n"
     ]
    },
    {
     "name": "stderr",
     "output_type": "stream",
     "text": [
      "WARNING:tensorflow:Skipping full serialization of Keras layer <keras.layers.core.activation.Activation object at 0x000001F54945FE80>, because it is not built.\n",
      "WARNING:absl:Found untraced functions such as _jit_compiled_convolution_op, _jit_compiled_convolution_op, _jit_compiled_convolution_op, lstm_cell_18_layer_call_fn, lstm_cell_18_layer_call_and_return_conditional_losses while saving (showing 5 of 15). These functions will not be directly callable after loading.\n"
     ]
    },
    {
     "name": "stdout",
     "output_type": "stream",
     "text": [
      "INFO:tensorflow:Assets written to: 0920_seq2seq_tensorflow\\assets\n"
     ]
    },
    {
     "name": "stderr",
     "output_type": "stream",
     "text": [
      "INFO:tensorflow:Assets written to: 0920_seq2seq_tensorflow\\assets\n"
     ]
    },
    {
     "name": "stdout",
     "output_type": "stream",
     "text": [
      "3/3 [==============================] - 21s 10s/step - loss: 0.1521 - mae: 0.1521\n",
      "Epoch 938/1000\n",
      "3/3 [==============================] - ETA: 0s - loss: 0.1521 - mae: 0.1521WARNING:tensorflow:Skipping full serialization of Keras layer <keras.layers.core.activation.Activation object at 0x000001F54945FE80>, because it is not built.\n"
     ]
    },
    {
     "name": "stderr",
     "output_type": "stream",
     "text": [
      "WARNING:tensorflow:Skipping full serialization of Keras layer <keras.layers.core.activation.Activation object at 0x000001F54945FE80>, because it is not built.\n",
      "WARNING:absl:Found untraced functions such as _jit_compiled_convolution_op, _jit_compiled_convolution_op, _jit_compiled_convolution_op, lstm_cell_18_layer_call_fn, lstm_cell_18_layer_call_and_return_conditional_losses while saving (showing 5 of 15). These functions will not be directly callable after loading.\n"
     ]
    },
    {
     "name": "stdout",
     "output_type": "stream",
     "text": [
      "INFO:tensorflow:Assets written to: 0920_seq2seq_tensorflow\\assets\n"
     ]
    },
    {
     "name": "stderr",
     "output_type": "stream",
     "text": [
      "INFO:tensorflow:Assets written to: 0920_seq2seq_tensorflow\\assets\n"
     ]
    },
    {
     "name": "stdout",
     "output_type": "stream",
     "text": [
      "3/3 [==============================] - 8s 4s/step - loss: 0.1521 - mae: 0.1521\n",
      "Epoch 939/1000\n",
      "3/3 [==============================] - 0s 56ms/step - loss: 0.1545 - mae: 0.1545\n",
      "Epoch 940/1000\n",
      "3/3 [==============================] - 0s 58ms/step - loss: 0.1532 - mae: 0.1532\n",
      "Epoch 941/1000\n",
      "3/3 [==============================] - 0s 57ms/step - loss: 0.1534 - mae: 0.1534\n",
      "Epoch 942/1000\n",
      "3/3 [==============================] - 0s 59ms/step - loss: 0.1525 - mae: 0.1525\n",
      "Epoch 943/1000\n",
      "3/3 [==============================] - ETA: 0s - loss: 0.1520 - mae: 0.1520WARNING:tensorflow:Skipping full serialization of Keras layer <keras.layers.core.activation.Activation object at 0x000001F54945FE80>, because it is not built.\n"
     ]
    },
    {
     "name": "stderr",
     "output_type": "stream",
     "text": [
      "WARNING:tensorflow:Skipping full serialization of Keras layer <keras.layers.core.activation.Activation object at 0x000001F54945FE80>, because it is not built.\n",
      "WARNING:absl:Found untraced functions such as _jit_compiled_convolution_op, _jit_compiled_convolution_op, _jit_compiled_convolution_op, lstm_cell_18_layer_call_fn, lstm_cell_18_layer_call_and_return_conditional_losses while saving (showing 5 of 15). These functions will not be directly callable after loading.\n"
     ]
    },
    {
     "name": "stdout",
     "output_type": "stream",
     "text": [
      "INFO:tensorflow:Assets written to: 0920_seq2seq_tensorflow\\assets\n"
     ]
    },
    {
     "name": "stderr",
     "output_type": "stream",
     "text": [
      "INFO:tensorflow:Assets written to: 0920_seq2seq_tensorflow\\assets\n"
     ]
    },
    {
     "name": "stdout",
     "output_type": "stream",
     "text": [
      "3/3 [==============================] - 8s 4s/step - loss: 0.1520 - mae: 0.1520\n",
      "Epoch 944/1000\n",
      "3/3 [==============================] - 0s 57ms/step - loss: 0.1521 - mae: 0.1521\n",
      "Epoch 945/1000\n",
      "3/3 [==============================] - 0s 57ms/step - loss: 0.1527 - mae: 0.1527\n",
      "Epoch 946/1000\n",
      "3/3 [==============================] - 0s 59ms/step - loss: 0.1524 - mae: 0.1524\n",
      "Epoch 947/1000\n",
      "3/3 [==============================] - 0s 63ms/step - loss: 0.1530 - mae: 0.1530\n",
      "Epoch 948/1000\n",
      "3/3 [==============================] - 0s 56ms/step - loss: 0.1562 - mae: 0.1562\n",
      "Epoch 949/1000\n",
      "3/3 [==============================] - 0s 56ms/step - loss: 0.1531 - mae: 0.1531\n",
      "Epoch 950/1000\n",
      "3/3 [==============================] - 0s 56ms/step - loss: 0.1527 - mae: 0.1527\n",
      "Epoch 951/1000\n",
      "3/3 [==============================] - 0s 57ms/step - loss: 0.1533 - mae: 0.1533\n",
      "Epoch 952/1000\n",
      "3/3 [==============================] - 0s 58ms/step - loss: 0.1526 - mae: 0.1526\n",
      "Epoch 953/1000\n",
      "3/3 [==============================] - 0s 59ms/step - loss: 0.1525 - mae: 0.1525\n",
      "Epoch 954/1000\n",
      "3/3 [==============================] - 0s 59ms/step - loss: 0.1527 - mae: 0.1527\n",
      "Epoch 955/1000\n",
      "3/3 [==============================] - 0s 60ms/step - loss: 0.1531 - mae: 0.1531\n",
      "Epoch 956/1000\n",
      "3/3 [==============================] - 0s 57ms/step - loss: 0.1533 - mae: 0.1533\n",
      "Epoch 957/1000\n",
      "3/3 [==============================] - 0s 57ms/step - loss: 0.1535 - mae: 0.1535\n",
      "Epoch 958/1000\n",
      "3/3 [==============================] - 0s 62ms/step - loss: 0.1522 - mae: 0.1522\n",
      "Epoch 959/1000\n",
      "3/3 [==============================] - 0s 58ms/step - loss: 0.1520 - mae: 0.1520\n",
      "Epoch 960/1000\n",
      "3/3 [==============================] - 0s 57ms/step - loss: 0.1539 - mae: 0.1539\n",
      "Epoch 961/1000\n",
      "3/3 [==============================] - 0s 57ms/step - loss: 0.1524 - mae: 0.1524\n",
      "Epoch 962/1000\n",
      "3/3 [==============================] - 0s 57ms/step - loss: 0.1527 - mae: 0.1527\n",
      "Epoch 963/1000\n",
      "3/3 [==============================] - 0s 56ms/step - loss: 0.1522 - mae: 0.1522\n",
      "Epoch 964/1000\n",
      "3/3 [==============================] - 0s 59ms/step - loss: 0.1531 - mae: 0.1531\n",
      "Epoch 965/1000\n",
      "3/3 [==============================] - 0s 56ms/step - loss: 0.1537 - mae: 0.1537\n",
      "Epoch 966/1000\n",
      "3/3 [==============================] - 0s 57ms/step - loss: 0.1528 - mae: 0.1528\n",
      "Epoch 967/1000\n",
      "3/3 [==============================] - 0s 57ms/step - loss: 0.1529 - mae: 0.1529\n",
      "Epoch 968/1000\n",
      "3/3 [==============================] - 0s 58ms/step - loss: 0.1521 - mae: 0.1521\n",
      "Epoch 969/1000\n",
      "3/3 [==============================] - 0s 60ms/step - loss: 0.1526 - mae: 0.1526\n",
      "Epoch 970/1000\n",
      "3/3 [==============================] - 0s 59ms/step - loss: 0.1535 - mae: 0.1535\n",
      "Epoch 971/1000\n",
      "3/3 [==============================] - 0s 56ms/step - loss: 0.1530 - mae: 0.1530\n",
      "Epoch 972/1000\n",
      "3/3 [==============================] - 0s 59ms/step - loss: 0.1528 - mae: 0.1528\n",
      "Epoch 973/1000\n",
      "3/3 [==============================] - ETA: 0s - loss: 0.1519 - mae: 0.1519WARNING:tensorflow:Skipping full serialization of Keras layer <keras.layers.core.activation.Activation object at 0x000001F54945FE80>, because it is not built.\n"
     ]
    },
    {
     "name": "stderr",
     "output_type": "stream",
     "text": [
      "WARNING:tensorflow:Skipping full serialization of Keras layer <keras.layers.core.activation.Activation object at 0x000001F54945FE80>, because it is not built.\n",
      "WARNING:absl:Found untraced functions such as _jit_compiled_convolution_op, _jit_compiled_convolution_op, _jit_compiled_convolution_op, lstm_cell_18_layer_call_fn, lstm_cell_18_layer_call_and_return_conditional_losses while saving (showing 5 of 15). These functions will not be directly callable after loading.\n"
     ]
    },
    {
     "name": "stdout",
     "output_type": "stream",
     "text": [
      "INFO:tensorflow:Assets written to: 0920_seq2seq_tensorflow\\assets\n"
     ]
    },
    {
     "name": "stderr",
     "output_type": "stream",
     "text": [
      "INFO:tensorflow:Assets written to: 0920_seq2seq_tensorflow\\assets\n"
     ]
    },
    {
     "name": "stdout",
     "output_type": "stream",
     "text": [
      "3/3 [==============================] - 8s 4s/step - loss: 0.1519 - mae: 0.1519\n",
      "Epoch 974/1000\n",
      "3/3 [==============================] - 0s 60ms/step - loss: 0.1535 - mae: 0.1535\n",
      "Epoch 975/1000\n",
      "3/3 [==============================] - 0s 61ms/step - loss: 0.1522 - mae: 0.1522\n",
      "Epoch 976/1000\n",
      "3/3 [==============================] - 0s 58ms/step - loss: 0.1519 - mae: 0.1519\n",
      "Epoch 977/1000\n",
      "3/3 [==============================] - ETA: 0s - loss: 0.1519 - mae: 0.1519WARNING:tensorflow:Skipping full serialization of Keras layer <keras.layers.core.activation.Activation object at 0x000001F54945FE80>, because it is not built.\n"
     ]
    },
    {
     "name": "stderr",
     "output_type": "stream",
     "text": [
      "WARNING:tensorflow:Skipping full serialization of Keras layer <keras.layers.core.activation.Activation object at 0x000001F54945FE80>, because it is not built.\n",
      "WARNING:absl:Found untraced functions such as _jit_compiled_convolution_op, _jit_compiled_convolution_op, _jit_compiled_convolution_op, lstm_cell_18_layer_call_fn, lstm_cell_18_layer_call_and_return_conditional_losses while saving (showing 5 of 15). These functions will not be directly callable after loading.\n"
     ]
    },
    {
     "name": "stdout",
     "output_type": "stream",
     "text": [
      "INFO:tensorflow:Assets written to: 0920_seq2seq_tensorflow\\assets\n"
     ]
    },
    {
     "name": "stderr",
     "output_type": "stream",
     "text": [
      "INFO:tensorflow:Assets written to: 0920_seq2seq_tensorflow\\assets\n"
     ]
    },
    {
     "name": "stdout",
     "output_type": "stream",
     "text": [
      "3/3 [==============================] - 8s 4s/step - loss: 0.1519 - mae: 0.1519\n",
      "Epoch 978/1000\n",
      "3/3 [==============================] - 0s 57ms/step - loss: 0.1525 - mae: 0.1525\n",
      "Epoch 979/1000\n",
      "3/3 [==============================] - ETA: 0s - loss: 0.1518 - mae: 0.1518WARNING:tensorflow:Skipping full serialization of Keras layer <keras.layers.core.activation.Activation object at 0x000001F54945FE80>, because it is not built.\n"
     ]
    },
    {
     "name": "stderr",
     "output_type": "stream",
     "text": [
      "WARNING:tensorflow:Skipping full serialization of Keras layer <keras.layers.core.activation.Activation object at 0x000001F54945FE80>, because it is not built.\n",
      "WARNING:absl:Found untraced functions such as _jit_compiled_convolution_op, _jit_compiled_convolution_op, _jit_compiled_convolution_op, lstm_cell_18_layer_call_fn, lstm_cell_18_layer_call_and_return_conditional_losses while saving (showing 5 of 15). These functions will not be directly callable after loading.\n"
     ]
    },
    {
     "name": "stdout",
     "output_type": "stream",
     "text": [
      "INFO:tensorflow:Assets written to: 0920_seq2seq_tensorflow\\assets\n"
     ]
    },
    {
     "name": "stderr",
     "output_type": "stream",
     "text": [
      "INFO:tensorflow:Assets written to: 0920_seq2seq_tensorflow\\assets\n"
     ]
    },
    {
     "name": "stdout",
     "output_type": "stream",
     "text": [
      "3/3 [==============================] - 8s 4s/step - loss: 0.1518 - mae: 0.1518\n",
      "Epoch 980/1000\n",
      "3/3 [==============================] - ETA: 0s - loss: 0.1518 - mae: 0.1518WARNING:tensorflow:Skipping full serialization of Keras layer <keras.layers.core.activation.Activation object at 0x000001F54945FE80>, because it is not built.\n"
     ]
    },
    {
     "name": "stderr",
     "output_type": "stream",
     "text": [
      "WARNING:tensorflow:Skipping full serialization of Keras layer <keras.layers.core.activation.Activation object at 0x000001F54945FE80>, because it is not built.\n",
      "WARNING:absl:Found untraced functions such as _jit_compiled_convolution_op, _jit_compiled_convolution_op, _jit_compiled_convolution_op, lstm_cell_18_layer_call_fn, lstm_cell_18_layer_call_and_return_conditional_losses while saving (showing 5 of 15). These functions will not be directly callable after loading.\n"
     ]
    },
    {
     "name": "stdout",
     "output_type": "stream",
     "text": [
      "INFO:tensorflow:Assets written to: 0920_seq2seq_tensorflow\\assets\n"
     ]
    },
    {
     "name": "stderr",
     "output_type": "stream",
     "text": [
      "INFO:tensorflow:Assets written to: 0920_seq2seq_tensorflow\\assets\n"
     ]
    },
    {
     "name": "stdout",
     "output_type": "stream",
     "text": [
      "3/3 [==============================] - 8s 4s/step - loss: 0.1518 - mae: 0.1518\n",
      "Epoch 981/1000\n",
      "3/3 [==============================] - ETA: 0s - loss: 0.1518 - mae: 0.1518WARNING:tensorflow:Skipping full serialization of Keras layer <keras.layers.core.activation.Activation object at 0x000001F54945FE80>, because it is not built.\n"
     ]
    },
    {
     "name": "stderr",
     "output_type": "stream",
     "text": [
      "WARNING:tensorflow:Skipping full serialization of Keras layer <keras.layers.core.activation.Activation object at 0x000001F54945FE80>, because it is not built.\n",
      "WARNING:absl:Found untraced functions such as _jit_compiled_convolution_op, _jit_compiled_convolution_op, _jit_compiled_convolution_op, lstm_cell_18_layer_call_fn, lstm_cell_18_layer_call_and_return_conditional_losses while saving (showing 5 of 15). These functions will not be directly callable after loading.\n"
     ]
    },
    {
     "name": "stdout",
     "output_type": "stream",
     "text": [
      "INFO:tensorflow:Assets written to: 0920_seq2seq_tensorflow\\assets\n"
     ]
    },
    {
     "name": "stderr",
     "output_type": "stream",
     "text": [
      "INFO:tensorflow:Assets written to: 0920_seq2seq_tensorflow\\assets\n"
     ]
    },
    {
     "name": "stdout",
     "output_type": "stream",
     "text": [
      "3/3 [==============================] - 8s 4s/step - loss: 0.1518 - mae: 0.1518\n",
      "Epoch 982/1000\n",
      "3/3 [==============================] - ETA: 0s - loss: 0.1516 - mae: 0.1516WARNING:tensorflow:Skipping full serialization of Keras layer <keras.layers.core.activation.Activation object at 0x000001F54945FE80>, because it is not built.\n"
     ]
    },
    {
     "name": "stderr",
     "output_type": "stream",
     "text": [
      "WARNING:tensorflow:Skipping full serialization of Keras layer <keras.layers.core.activation.Activation object at 0x000001F54945FE80>, because it is not built.\n",
      "WARNING:absl:Found untraced functions such as _jit_compiled_convolution_op, _jit_compiled_convolution_op, _jit_compiled_convolution_op, lstm_cell_18_layer_call_fn, lstm_cell_18_layer_call_and_return_conditional_losses while saving (showing 5 of 15). These functions will not be directly callable after loading.\n"
     ]
    },
    {
     "name": "stdout",
     "output_type": "stream",
     "text": [
      "INFO:tensorflow:Assets written to: 0920_seq2seq_tensorflow\\assets\n"
     ]
    },
    {
     "name": "stderr",
     "output_type": "stream",
     "text": [
      "INFO:tensorflow:Assets written to: 0920_seq2seq_tensorflow\\assets\n"
     ]
    },
    {
     "name": "stdout",
     "output_type": "stream",
     "text": [
      "3/3 [==============================] - 8s 4s/step - loss: 0.1516 - mae: 0.1516\n",
      "Epoch 983/1000\n",
      "3/3 [==============================] - 0s 63ms/step - loss: 0.1520 - mae: 0.1520\n",
      "Epoch 984/1000\n",
      "3/3 [==============================] - 0s 59ms/step - loss: 0.1518 - mae: 0.1518\n",
      "Epoch 985/1000\n",
      "3/3 [==============================] - 0s 59ms/step - loss: 0.1520 - mae: 0.1520\n",
      "Epoch 986/1000\n",
      "3/3 [==============================] - 0s 58ms/step - loss: 0.1518 - mae: 0.1518\n",
      "Epoch 987/1000\n",
      "3/3 [==============================] - ETA: 0s - loss: 0.1515 - mae: 0.1515WARNING:tensorflow:Skipping full serialization of Keras layer <keras.layers.core.activation.Activation object at 0x000001F54945FE80>, because it is not built.\n"
     ]
    },
    {
     "name": "stderr",
     "output_type": "stream",
     "text": [
      "WARNING:tensorflow:Skipping full serialization of Keras layer <keras.layers.core.activation.Activation object at 0x000001F54945FE80>, because it is not built.\n",
      "WARNING:absl:Found untraced functions such as _jit_compiled_convolution_op, _jit_compiled_convolution_op, _jit_compiled_convolution_op, lstm_cell_18_layer_call_fn, lstm_cell_18_layer_call_and_return_conditional_losses while saving (showing 5 of 15). These functions will not be directly callable after loading.\n"
     ]
    },
    {
     "name": "stdout",
     "output_type": "stream",
     "text": [
      "INFO:tensorflow:Assets written to: 0920_seq2seq_tensorflow\\assets\n"
     ]
    },
    {
     "name": "stderr",
     "output_type": "stream",
     "text": [
      "INFO:tensorflow:Assets written to: 0920_seq2seq_tensorflow\\assets\n"
     ]
    },
    {
     "name": "stdout",
     "output_type": "stream",
     "text": [
      "3/3 [==============================] - 8s 4s/step - loss: 0.1515 - mae: 0.1515\n",
      "Epoch 988/1000\n",
      "3/3 [==============================] - 0s 57ms/step - loss: 0.1518 - mae: 0.1518\n",
      "Epoch 989/1000\n",
      "3/3 [==============================] - 0s 57ms/step - loss: 0.1515 - mae: 0.1515\n",
      "Epoch 990/1000\n",
      "3/3 [==============================] - 0s 57ms/step - loss: 0.1523 - mae: 0.1523\n",
      "Epoch 991/1000\n",
      "3/3 [==============================] - 0s 60ms/step - loss: 0.1519 - mae: 0.1519\n",
      "Epoch 992/1000\n",
      "3/3 [==============================] - 0s 57ms/step - loss: 0.1529 - mae: 0.1529\n",
      "Epoch 993/1000\n",
      "3/3 [==============================] - 0s 61ms/step - loss: 0.1527 - mae: 0.1527\n",
      "Epoch 994/1000\n",
      "3/3 [==============================] - 0s 60ms/step - loss: 0.1526 - mae: 0.1526\n",
      "Epoch 995/1000\n",
      "3/3 [==============================] - 0s 58ms/step - loss: 0.1520 - mae: 0.1520\n",
      "Epoch 996/1000\n",
      "3/3 [==============================] - 0s 57ms/step - loss: 0.1533 - mae: 0.1533\n",
      "Epoch 997/1000\n",
      "3/3 [==============================] - 0s 61ms/step - loss: 0.1546 - mae: 0.1546\n",
      "Epoch 998/1000\n",
      "3/3 [==============================] - 0s 59ms/step - loss: 0.1532 - mae: 0.1532\n",
      "Epoch 999/1000\n",
      "3/3 [==============================] - 0s 57ms/step - loss: 0.1531 - mae: 0.1531\n",
      "Epoch 1000/1000\n",
      "3/3 [==============================] - 0s 66ms/step - loss: 0.1527 - mae: 0.1527\n",
      "WARNING:tensorflow:Skipping full serialization of Keras layer <keras.layers.core.activation.Activation object at 0x000001F54945FE80>, because it is not built.\n"
     ]
    },
    {
     "name": "stderr",
     "output_type": "stream",
     "text": [
      "WARNING:tensorflow:Skipping full serialization of Keras layer <keras.layers.core.activation.Activation object at 0x000001F54945FE80>, because it is not built.\n",
      "WARNING:absl:Found untraced functions such as _jit_compiled_convolution_op, _jit_compiled_convolution_op, _jit_compiled_convolution_op, lstm_cell_18_layer_call_fn, lstm_cell_18_layer_call_and_return_conditional_losses while saving (showing 5 of 15). These functions will not be directly callable after loading.\n"
     ]
    },
    {
     "name": "stdout",
     "output_type": "stream",
     "text": [
      "INFO:tensorflow:Assets written to: 0920_seq2seq_tensorflow_savedmodel\\assets\n"
     ]
    },
    {
     "name": "stderr",
     "output_type": "stream",
     "text": [
      "INFO:tensorflow:Assets written to: 0920_seq2seq_tensorflow_savedmodel\\assets\n"
     ]
    }
   ],
   "source": [
    "model.compile(loss='mae', optimizer=tf.keras.optimizers.Adamax(learning_rate=3e-4, clipnorm=1.0), metrics=['mae'])\n",
    "\n",
    "# EarlyStopping과 ModelCheckpoint 콜백 정의\n",
    "earlystopping = EarlyStopping(monitor='loss', patience=50)\n",
    "checkpoint = ModelCheckpoint(filepath='0920_seq2seq_tensorflow', monitor='loss', save_best_only=True)\n",
    "\n",
    "# 모델 학습\n",
    "model.fit(trainx_elec, trainy_elec, epochs=1000, batch_size=1024, callbacks=[earlystopping, checkpoint])\n",
    "\n",
    "# SavedModel 형식으로 모델 저장\n",
    "model.save('0920_seq2seq_tensorflow_savedmodel')"
   ]
  },
  {
   "cell_type": "code",
   "execution_count": 26,
   "metadata": {},
   "outputs": [
    {
     "name": "stdout",
     "output_type": "stream",
     "text": [
      "40/40 [==============================] - 12s 7ms/step\n",
      "[[1.07277  ]\n",
      " [1.0557016]\n",
      " [0.8408053]\n",
      " ...\n",
      " [0.7160986]\n",
      " [0.5967191]\n",
      " [0.6900856]]\n"
     ]
    }
   ],
   "source": [
    "# 모델 불러오기\n",
    "loaded_model = tf.keras.models.load_model('0920_seq2seq_tensorflow_savedmodel')\n",
    "# 입력 데이터 준비 (예시)\n",
    "# 모델을 사용하여 입력 데이터에 대한 예측 수행\n",
    "pred = loaded_model.predict(testx_elec)\n",
    "# 예측 결과 출력\n",
    "#print(pred)"
   ]
  },
  {
   "cell_type": "code",
   "execution_count": 27,
   "metadata": {},
   "outputs": [],
   "source": [
    "real = testy_elec"
   ]
  },
  {
   "cell_type": "code",
   "execution_count": 28,
   "metadata": {},
   "outputs": [
    {
     "name": "stdout",
     "output_type": "stream",
     "text": [
      "MAE :  0.1276\n",
      "MSE :  0.0289\n",
      "R2 :  0.4852\n"
     ]
    }
   ],
   "source": [
    "from sklearn.metrics import mean_absolute_error\n",
    "print('MAE : ', round(mean_absolute_error(real, pred),4)) \n",
    "\n",
    "from sklearn.metrics import mean_squared_error\n",
    "print('MSE : ', round(mean_squared_error(real, pred),4))\n",
    "\n",
    "from sklearn.metrics import r2_score\n",
    "print('R2 : ', round(r2_score(real, pred),4))"
   ]
  },
  {
   "cell_type": "code",
   "execution_count": 29,
   "metadata": {},
   "outputs": [
    {
     "data": {
      "image/png": "[encoded data removed]",
      "text/plain": [
       "<Figure size 3000x500 with 1 Axes>"
      ]
     },
     "metadata": {},
     "output_type": "display_data"
    }
   ],
   "source": [
    "plt.figure(figsize=(30,5))\n",
    "plt.ylabel('ELEC')\n",
    "plt.plot(real, color='red', label='True')\n",
    "plt.plot(pred, color='blue', label='Pred')\n",
    "plt.legend()\n",
    "plt.show()"
   ]
  }
 ],
 "metadata": {
  "kernelspec": {
   "display_name": "base",
   "language": "python",
   "name": "python3"
  },
  "language_info": {
   "codemirror_mode": {
    "name": "ipython",
    "version": 3
   },
   "file_extension": ".py",
   "mimetype": "text/x-python",
   "name": "python",
   "nbconvert_exporter": "python",
   "pygments_lexer": "ipython3",
   "version": "3.10.9"
  },
  "orig_nbformat": 4
 },
 "nbformat": 4,
 "nbformat_minor": 2
}
